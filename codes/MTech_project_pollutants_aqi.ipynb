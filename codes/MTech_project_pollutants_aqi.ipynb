{
  "nbformat": 4,
  "nbformat_minor": 0,
  "metadata": {
    "colab": {
      "name": "MTech_project_pollutants_aqi.ipynb",
      "provenance": [],
      "toc_visible": true
    },
    "kernelspec": {
      "name": "python3",
      "display_name": "Python 3"
    },
    "language_info": {
      "name": "python"
    }
  },
  "cells": [
    {
      "cell_type": "code",
      "execution_count": 3,
      "metadata": {
        "colab": {
          "base_uri": "https://localhost:8080/"
        },
        "id": "n-Y_n44-h0Il",
        "outputId": "13285b83-e5bd-49d5-f268-ef831b2a8bab"
      },
      "outputs": [
        {
          "output_type": "stream",
          "name": "stderr",
          "text": [
            "/usr/local/lib/python3.7/dist-packages/statsmodels/tools/_testing.py:19: FutureWarning: pandas.util.testing is deprecated. Use the functions in the public API at pandas.testing instead.\n",
            "  import pandas.util.testing as tm\n"
          ]
        }
      ],
      "source": [
        "# For data reading\n",
        "import pandas as pd \n",
        "\n",
        "# For reading the array \n",
        "import numpy as np\n",
        "\n",
        "# For visualize the data and plottting parameters :\n",
        "import matplotlib.pyplot as plt\n",
        "plt.rcParams['figure.figsize'] = [15,108]\n",
        "import seaborn as sns\n",
        "import statsmodels.api as sm\n",
        "from statsmodels.api import OLS\n",
        "import matplotlib.pyplot as plt\n",
        "%matplotlib inline\n",
        "import matplotlib.cm as cm\n",
        "\n",
        "from plotly.subplots import make_subplots\n",
        "import plotly.graph_objects as go\n",
        "\n",
        "# For data reading | manipulation :\n",
        "import pandas as pd \n",
        "\n",
        "# For reading the array :\n",
        "import numpy as np\n",
        "\n",
        "# For visualize the data and plottting patameters :\n",
        "import matplotlib.pyplot as plt\n",
        "plt.rcParams['figure.figsize'] = [15,8]\n",
        "import seaborn as sns\n",
        "\n",
        "# To suppress warnings :\n",
        "from warnings import filterwarnings\n",
        "filterwarnings('ignore')\n",
        "\n",
        "# Import train-test split :\n",
        "from sklearn.model_selection import train_test_split\n",
        "\n",
        "# Import 'stats' libraries for modeling :\n",
        "from scipy import stats\n",
        "import statsmodels.api as sm\n",
        "from statsmodels.api import OLS\n",
        "\n",
        "# To scaled the data :\n",
        "from sklearn.preprocessing import StandardScaler\n",
        "\n",
        "\n",
        "from sklearn.neighbors import KNeighborsRegressor \n",
        "from sklearn.svm import SVR\n",
        "from sklearn.model_selection import train_test_split\n",
        "from sklearn import preprocessing\n",
        "from sklearn.preprocessing import StandardScaler # Scaling\n",
        "import math\n",
        "from sklearn.metrics import  r2_score\n",
        "from sklearn.model_selection import GridSearchCV\n",
        "import scipy.stats as stats\n",
        "\n",
        "from sklearn.preprocessing import PowerTransformer\n",
        "from sklearn import metrics\n",
        "\n",
        "from sklearn.linear_model import Lasso\n",
        "from sklearn.feature_selection import SelectFromModel\n",
        "\n",
        "# to visualise al the columns in the dataframe\n",
        "pd.pandas.set_option('display.max_columns', None)\n"
      ]
    },
    {
      "cell_type": "markdown",
      "source": [
        "###Filling missing values"
      ],
      "metadata": {
        "id": "Z41mN4TMA9xT"
      }
    },
    {
      "cell_type": "code",
      "source": [
        "nagpur=pd.read_csv('/content/drive/Othercomputers/My Laptop/MTech/Project/New/pollutants/Daily_data/nagpur/nagpur_pre.csv')\n",
        "nagpur"
      ],
      "metadata": {
        "colab": {
          "base_uri": "https://localhost:8080/",
          "height": 424
        },
        "id": "w7h5WutbA9QA",
        "outputId": "eb716a9e-5738-45ef-9551-5066336eee0d"
      },
      "execution_count": null,
      "outputs": [
        {
          "output_type": "execute_result",
          "data": {
            "text/plain": [
              "          Date     SO2     NO2     PM10    PM2.5    T2M  PRECTOTCORR     PS  \\\n",
              "0     01-01-15  22.510  45.560      NaN   20.444  21.71         3.46  97.81   \n",
              "1     02-01-15   6.030  35.439      NaN   13.296  22.00         6.91  98.04   \n",
              "2     03-01-15   4.019  26.553      NaN   17.192  19.99         6.55  98.23   \n",
              "3     04-01-15   3.706  27.378      NaN   18.025  20.15         0.19  98.35   \n",
              "4     05-01-15   5.927  28.698      NaN   17.093  17.15         0.00  98.35   \n",
              "...        ...     ...     ...      ...      ...    ...          ...    ...   \n",
              "1821  27-12-19  21.132  46.198   54.830   21.313  15.15         0.07  98.29   \n",
              "1822  28-12-19   7.310  33.776   53.858   21.824  11.83         0.00  98.43   \n",
              "1823  29-12-19  10.482  44.908   69.024   39.326  12.38         0.00  98.43   \n",
              "1824  30-12-19   7.460  48.152   74.583   35.001  14.22         0.10  98.35   \n",
              "1825  31-12-19  18.830  75.925  335.230  259.640  14.62         6.46  98.41   \n",
              "\n",
              "       RH2M  WS10M   WD10M  \n",
              "0     73.69   3.99   86.00  \n",
              "1     74.19   2.28  112.00  \n",
              "2     85.88   2.62   29.31  \n",
              "3     70.56   3.95   98.69  \n",
              "4     57.81   3.17   87.94  \n",
              "...     ...    ...     ...  \n",
              "1821  59.81   4.29   21.38  \n",
              "1822  57.94   3.41   68.00  \n",
              "1823  58.62   2.76   64.56  \n",
              "1824  66.81   2.78   75.00  \n",
              "1825  82.44   3.73   83.00  \n",
              "\n",
              "[1826 rows x 11 columns]"
            ],
            "text/html": [
              "\n",
              "  <div id=\"df-ff8e0f4a-0f27-4eab-bf62-95d7ba0c92aa\">\n",
              "    <div class=\"colab-df-container\">\n",
              "      <div>\n",
              "<style scoped>\n",
              "    .dataframe tbody tr th:only-of-type {\n",
              "        vertical-align: middle;\n",
              "    }\n",
              "\n",
              "    .dataframe tbody tr th {\n",
              "        vertical-align: top;\n",
              "    }\n",
              "\n",
              "    .dataframe thead th {\n",
              "        text-align: right;\n",
              "    }\n",
              "</style>\n",
              "<table border=\"1\" class=\"dataframe\">\n",
              "  <thead>\n",
              "    <tr style=\"text-align: right;\">\n",
              "      <th></th>\n",
              "      <th>Date</th>\n",
              "      <th>SO2</th>\n",
              "      <th>NO2</th>\n",
              "      <th>PM10</th>\n",
              "      <th>PM2.5</th>\n",
              "      <th>T2M</th>\n",
              "      <th>PRECTOTCORR</th>\n",
              "      <th>PS</th>\n",
              "      <th>RH2M</th>\n",
              "      <th>WS10M</th>\n",
              "      <th>WD10M</th>\n",
              "    </tr>\n",
              "  </thead>\n",
              "  <tbody>\n",
              "    <tr>\n",
              "      <th>0</th>\n",
              "      <td>01-01-15</td>\n",
              "      <td>22.510</td>\n",
              "      <td>45.560</td>\n",
              "      <td>NaN</td>\n",
              "      <td>20.444</td>\n",
              "      <td>21.71</td>\n",
              "      <td>3.46</td>\n",
              "      <td>97.81</td>\n",
              "      <td>73.69</td>\n",
              "      <td>3.99</td>\n",
              "      <td>86.00</td>\n",
              "    </tr>\n",
              "    <tr>\n",
              "      <th>1</th>\n",
              "      <td>02-01-15</td>\n",
              "      <td>6.030</td>\n",
              "      <td>35.439</td>\n",
              "      <td>NaN</td>\n",
              "      <td>13.296</td>\n",
              "      <td>22.00</td>\n",
              "      <td>6.91</td>\n",
              "      <td>98.04</td>\n",
              "      <td>74.19</td>\n",
              "      <td>2.28</td>\n",
              "      <td>112.00</td>\n",
              "    </tr>\n",
              "    <tr>\n",
              "      <th>2</th>\n",
              "      <td>03-01-15</td>\n",
              "      <td>4.019</td>\n",
              "      <td>26.553</td>\n",
              "      <td>NaN</td>\n",
              "      <td>17.192</td>\n",
              "      <td>19.99</td>\n",
              "      <td>6.55</td>\n",
              "      <td>98.23</td>\n",
              "      <td>85.88</td>\n",
              "      <td>2.62</td>\n",
              "      <td>29.31</td>\n",
              "    </tr>\n",
              "    <tr>\n",
              "      <th>3</th>\n",
              "      <td>04-01-15</td>\n",
              "      <td>3.706</td>\n",
              "      <td>27.378</td>\n",
              "      <td>NaN</td>\n",
              "      <td>18.025</td>\n",
              "      <td>20.15</td>\n",
              "      <td>0.19</td>\n",
              "      <td>98.35</td>\n",
              "      <td>70.56</td>\n",
              "      <td>3.95</td>\n",
              "      <td>98.69</td>\n",
              "    </tr>\n",
              "    <tr>\n",
              "      <th>4</th>\n",
              "      <td>05-01-15</td>\n",
              "      <td>5.927</td>\n",
              "      <td>28.698</td>\n",
              "      <td>NaN</td>\n",
              "      <td>17.093</td>\n",
              "      <td>17.15</td>\n",
              "      <td>0.00</td>\n",
              "      <td>98.35</td>\n",
              "      <td>57.81</td>\n",
              "      <td>3.17</td>\n",
              "      <td>87.94</td>\n",
              "    </tr>\n",
              "    <tr>\n",
              "      <th>...</th>\n",
              "      <td>...</td>\n",
              "      <td>...</td>\n",
              "      <td>...</td>\n",
              "      <td>...</td>\n",
              "      <td>...</td>\n",
              "      <td>...</td>\n",
              "      <td>...</td>\n",
              "      <td>...</td>\n",
              "      <td>...</td>\n",
              "      <td>...</td>\n",
              "      <td>...</td>\n",
              "    </tr>\n",
              "    <tr>\n",
              "      <th>1821</th>\n",
              "      <td>27-12-19</td>\n",
              "      <td>21.132</td>\n",
              "      <td>46.198</td>\n",
              "      <td>54.830</td>\n",
              "      <td>21.313</td>\n",
              "      <td>15.15</td>\n",
              "      <td>0.07</td>\n",
              "      <td>98.29</td>\n",
              "      <td>59.81</td>\n",
              "      <td>4.29</td>\n",
              "      <td>21.38</td>\n",
              "    </tr>\n",
              "    <tr>\n",
              "      <th>1822</th>\n",
              "      <td>28-12-19</td>\n",
              "      <td>7.310</td>\n",
              "      <td>33.776</td>\n",
              "      <td>53.858</td>\n",
              "      <td>21.824</td>\n",
              "      <td>11.83</td>\n",
              "      <td>0.00</td>\n",
              "      <td>98.43</td>\n",
              "      <td>57.94</td>\n",
              "      <td>3.41</td>\n",
              "      <td>68.00</td>\n",
              "    </tr>\n",
              "    <tr>\n",
              "      <th>1823</th>\n",
              "      <td>29-12-19</td>\n",
              "      <td>10.482</td>\n",
              "      <td>44.908</td>\n",
              "      <td>69.024</td>\n",
              "      <td>39.326</td>\n",
              "      <td>12.38</td>\n",
              "      <td>0.00</td>\n",
              "      <td>98.43</td>\n",
              "      <td>58.62</td>\n",
              "      <td>2.76</td>\n",
              "      <td>64.56</td>\n",
              "    </tr>\n",
              "    <tr>\n",
              "      <th>1824</th>\n",
              "      <td>30-12-19</td>\n",
              "      <td>7.460</td>\n",
              "      <td>48.152</td>\n",
              "      <td>74.583</td>\n",
              "      <td>35.001</td>\n",
              "      <td>14.22</td>\n",
              "      <td>0.10</td>\n",
              "      <td>98.35</td>\n",
              "      <td>66.81</td>\n",
              "      <td>2.78</td>\n",
              "      <td>75.00</td>\n",
              "    </tr>\n",
              "    <tr>\n",
              "      <th>1825</th>\n",
              "      <td>31-12-19</td>\n",
              "      <td>18.830</td>\n",
              "      <td>75.925</td>\n",
              "      <td>335.230</td>\n",
              "      <td>259.640</td>\n",
              "      <td>14.62</td>\n",
              "      <td>6.46</td>\n",
              "      <td>98.41</td>\n",
              "      <td>82.44</td>\n",
              "      <td>3.73</td>\n",
              "      <td>83.00</td>\n",
              "    </tr>\n",
              "  </tbody>\n",
              "</table>\n",
              "<p>1826 rows × 11 columns</p>\n",
              "</div>\n",
              "      <button class=\"colab-df-convert\" onclick=\"convertToInteractive('df-ff8e0f4a-0f27-4eab-bf62-95d7ba0c92aa')\"\n",
              "              title=\"Convert this dataframe to an interactive table.\"\n",
              "              style=\"display:none;\">\n",
              "        \n",
              "  <svg xmlns=\"http://www.w3.org/2000/svg\" height=\"24px\"viewBox=\"0 0 24 24\"\n",
              "       width=\"24px\">\n",
              "    <path d=\"M0 0h24v24H0V0z\" fill=\"none\"/>\n",
              "    <path d=\"M18.56 5.44l.94 2.06.94-2.06 2.06-.94-2.06-.94-.94-2.06-.94 2.06-2.06.94zm-11 1L8.5 8.5l.94-2.06 2.06-.94-2.06-.94L8.5 2.5l-.94 2.06-2.06.94zm10 10l.94 2.06.94-2.06 2.06-.94-2.06-.94-.94-2.06-.94 2.06-2.06.94z\"/><path d=\"M17.41 7.96l-1.37-1.37c-.4-.4-.92-.59-1.43-.59-.52 0-1.04.2-1.43.59L10.3 9.45l-7.72 7.72c-.78.78-.78 2.05 0 2.83L4 21.41c.39.39.9.59 1.41.59.51 0 1.02-.2 1.41-.59l7.78-7.78 2.81-2.81c.8-.78.8-2.07 0-2.86zM5.41 20L4 18.59l7.72-7.72 1.47 1.35L5.41 20z\"/>\n",
              "  </svg>\n",
              "      </button>\n",
              "      \n",
              "  <style>\n",
              "    .colab-df-container {\n",
              "      display:flex;\n",
              "      flex-wrap:wrap;\n",
              "      gap: 12px;\n",
              "    }\n",
              "\n",
              "    .colab-df-convert {\n",
              "      background-color: #E8F0FE;\n",
              "      border: none;\n",
              "      border-radius: 50%;\n",
              "      cursor: pointer;\n",
              "      display: none;\n",
              "      fill: #1967D2;\n",
              "      height: 32px;\n",
              "      padding: 0 0 0 0;\n",
              "      width: 32px;\n",
              "    }\n",
              "\n",
              "    .colab-df-convert:hover {\n",
              "      background-color: #E2EBFA;\n",
              "      box-shadow: 0px 1px 2px rgba(60, 64, 67, 0.3), 0px 1px 3px 1px rgba(60, 64, 67, 0.15);\n",
              "      fill: #174EA6;\n",
              "    }\n",
              "\n",
              "    [theme=dark] .colab-df-convert {\n",
              "      background-color: #3B4455;\n",
              "      fill: #D2E3FC;\n",
              "    }\n",
              "\n",
              "    [theme=dark] .colab-df-convert:hover {\n",
              "      background-color: #434B5C;\n",
              "      box-shadow: 0px 1px 3px 1px rgba(0, 0, 0, 0.15);\n",
              "      filter: drop-shadow(0px 1px 2px rgba(0, 0, 0, 0.3));\n",
              "      fill: #FFFFFF;\n",
              "    }\n",
              "  </style>\n",
              "\n",
              "      <script>\n",
              "        const buttonEl =\n",
              "          document.querySelector('#df-ff8e0f4a-0f27-4eab-bf62-95d7ba0c92aa button.colab-df-convert');\n",
              "        buttonEl.style.display =\n",
              "          google.colab.kernel.accessAllowed ? 'block' : 'none';\n",
              "\n",
              "        async function convertToInteractive(key) {\n",
              "          const element = document.querySelector('#df-ff8e0f4a-0f27-4eab-bf62-95d7ba0c92aa');\n",
              "          const dataTable =\n",
              "            await google.colab.kernel.invokeFunction('convertToInteractive',\n",
              "                                                     [key], {});\n",
              "          if (!dataTable) return;\n",
              "\n",
              "          const docLinkHtml = 'Like what you see? Visit the ' +\n",
              "            '<a target=\"_blank\" href=https://colab.research.google.com/notebooks/data_table.ipynb>data table notebook</a>'\n",
              "            + ' to learn more about interactive tables.';\n",
              "          element.innerHTML = '';\n",
              "          dataTable['output_type'] = 'display_data';\n",
              "          await google.colab.output.renderOutput(dataTable, element);\n",
              "          const docLink = document.createElement('div');\n",
              "          docLink.innerHTML = docLinkHtml;\n",
              "          element.appendChild(docLink);\n",
              "        }\n",
              "      </script>\n",
              "    </div>\n",
              "  </div>\n",
              "  "
            ]
          },
          "metadata": {},
          "execution_count": 3
        }
      ]
    },
    {
      "cell_type": "code",
      "source": [
        "nagpur['Date'] = nagpur['Date'].apply(pd.to_datetime)"
      ],
      "metadata": {
        "id": "AGdnwWTNBQi8"
      },
      "execution_count": null,
      "outputs": []
    },
    {
      "cell_type": "code",
      "source": [
        "#finding % of the missing values in each coloumn\n",
        "nullValues = nagpur.isnull().sum()\n",
        "nullValues"
      ],
      "metadata": {
        "colab": {
          "base_uri": "https://localhost:8080/"
        },
        "id": "kb2ikbC7CuYj",
        "outputId": "54f51e66-c5ae-4002-bb71-b2d5eb8ab5e1"
      },
      "execution_count": null,
      "outputs": [
        {
          "output_type": "execute_result",
          "data": {
            "text/plain": [
              "Date             0\n",
              " SO2           706\n",
              " NO2           752\n",
              "PM10           866\n",
              " PM2.5         705\n",
              "T2M              0\n",
              "PRECTOTCORR      0\n",
              "PS               0\n",
              "RH2M             0\n",
              "WS10M            0\n",
              "WD10M            0\n",
              "dtype: int64"
            ]
          },
          "metadata": {},
          "execution_count": 7
        }
      ]
    },
    {
      "cell_type": "code",
      "source": [
        "data_fill = nagpur.iloc[:, :12].fillna(nagpur.iloc[:, :12].groupby([ pd.Grouper(key='Date', freq='5D')]).transform('mean'))"
      ],
      "metadata": {
        "id": "lkqOha0mB3L5"
      },
      "execution_count": null,
      "outputs": []
    },
    {
      "cell_type": "code",
      "source": [
        "#finding % of the missing values in each coloumn\n",
        "nullValues = data_fill.isnull().sum()\n",
        "nullValues"
      ],
      "metadata": {
        "colab": {
          "base_uri": "https://localhost:8080/"
        },
        "id": "w3VUsXh1C1jZ",
        "outputId": "752d92a4-c30c-4d3e-a7a4-6b79e4bffce6"
      },
      "execution_count": null,
      "outputs": [
        {
          "output_type": "execute_result",
          "data": {
            "text/plain": [
              "Date             0\n",
              " SO2           500\n",
              " NO2           515\n",
              "PM10           720\n",
              " PM2.5         500\n",
              "T2M              0\n",
              "PRECTOTCORR      0\n",
              "PS               0\n",
              "RH2M             0\n",
              "WS10M            0\n",
              "WD10M            0\n",
              "dtype: int64"
            ]
          },
          "metadata": {},
          "execution_count": 8
        }
      ]
    },
    {
      "cell_type": "code",
      "source": [
        "data_fill"
      ],
      "metadata": {
        "colab": {
          "base_uri": "https://localhost:8080/",
          "height": 424
        },
        "id": "AwZ18e6GCpHf",
        "outputId": "04d70bc4-e714-4870-f90b-186cca469cc0"
      },
      "execution_count": null,
      "outputs": [
        {
          "output_type": "execute_result",
          "data": {
            "text/plain": [
              "           Date     SO2     NO2     PM10    PM2.5    T2M  PRECTOTCORR     PS  \\\n",
              "0    2015-01-01  22.510  45.560      NaN   20.444  21.71         3.46  97.81   \n",
              "1    2015-02-01   6.030  35.439      NaN   13.296  22.00         6.91  98.04   \n",
              "2    2015-03-01   4.019  26.553      NaN   17.192  19.99         6.55  98.23   \n",
              "3    2015-04-01   3.706  27.378      NaN   18.025  20.15         0.19  98.35   \n",
              "4    2015-05-01   5.927  28.698      NaN   17.093  17.15         0.00  98.35   \n",
              "...         ...     ...     ...      ...      ...    ...          ...    ...   \n",
              "1821 2019-12-27  21.132  46.198   54.830   21.313  15.15         0.07  98.29   \n",
              "1822 2019-12-28   7.310  33.776   53.858   21.824  11.83         0.00  98.43   \n",
              "1823 2019-12-29  10.482  44.908   69.024   39.326  12.38         0.00  98.43   \n",
              "1824 2019-12-30   7.460  48.152   74.583   35.001  14.22         0.10  98.35   \n",
              "1825 2019-12-31  18.830  75.925  335.230  259.640  14.62         6.46  98.41   \n",
              "\n",
              "       RH2M  WS10M   WD10M  \n",
              "0     73.69   3.99   86.00  \n",
              "1     74.19   2.28  112.00  \n",
              "2     85.88   2.62   29.31  \n",
              "3     70.56   3.95   98.69  \n",
              "4     57.81   3.17   87.94  \n",
              "...     ...    ...     ...  \n",
              "1821  59.81   4.29   21.38  \n",
              "1822  57.94   3.41   68.00  \n",
              "1823  58.62   2.76   64.56  \n",
              "1824  66.81   2.78   75.00  \n",
              "1825  82.44   3.73   83.00  \n",
              "\n",
              "[1826 rows x 11 columns]"
            ],
            "text/html": [
              "\n",
              "  <div id=\"df-4e5145fb-50c0-41c3-818d-39a0a631c3a0\">\n",
              "    <div class=\"colab-df-container\">\n",
              "      <div>\n",
              "<style scoped>\n",
              "    .dataframe tbody tr th:only-of-type {\n",
              "        vertical-align: middle;\n",
              "    }\n",
              "\n",
              "    .dataframe tbody tr th {\n",
              "        vertical-align: top;\n",
              "    }\n",
              "\n",
              "    .dataframe thead th {\n",
              "        text-align: right;\n",
              "    }\n",
              "</style>\n",
              "<table border=\"1\" class=\"dataframe\">\n",
              "  <thead>\n",
              "    <tr style=\"text-align: right;\">\n",
              "      <th></th>\n",
              "      <th>Date</th>\n",
              "      <th>SO2</th>\n",
              "      <th>NO2</th>\n",
              "      <th>PM10</th>\n",
              "      <th>PM2.5</th>\n",
              "      <th>T2M</th>\n",
              "      <th>PRECTOTCORR</th>\n",
              "      <th>PS</th>\n",
              "      <th>RH2M</th>\n",
              "      <th>WS10M</th>\n",
              "      <th>WD10M</th>\n",
              "    </tr>\n",
              "  </thead>\n",
              "  <tbody>\n",
              "    <tr>\n",
              "      <th>0</th>\n",
              "      <td>2015-01-01</td>\n",
              "      <td>22.510</td>\n",
              "      <td>45.560</td>\n",
              "      <td>NaN</td>\n",
              "      <td>20.444</td>\n",
              "      <td>21.71</td>\n",
              "      <td>3.46</td>\n",
              "      <td>97.81</td>\n",
              "      <td>73.69</td>\n",
              "      <td>3.99</td>\n",
              "      <td>86.00</td>\n",
              "    </tr>\n",
              "    <tr>\n",
              "      <th>1</th>\n",
              "      <td>2015-02-01</td>\n",
              "      <td>6.030</td>\n",
              "      <td>35.439</td>\n",
              "      <td>NaN</td>\n",
              "      <td>13.296</td>\n",
              "      <td>22.00</td>\n",
              "      <td>6.91</td>\n",
              "      <td>98.04</td>\n",
              "      <td>74.19</td>\n",
              "      <td>2.28</td>\n",
              "      <td>112.00</td>\n",
              "    </tr>\n",
              "    <tr>\n",
              "      <th>2</th>\n",
              "      <td>2015-03-01</td>\n",
              "      <td>4.019</td>\n",
              "      <td>26.553</td>\n",
              "      <td>NaN</td>\n",
              "      <td>17.192</td>\n",
              "      <td>19.99</td>\n",
              "      <td>6.55</td>\n",
              "      <td>98.23</td>\n",
              "      <td>85.88</td>\n",
              "      <td>2.62</td>\n",
              "      <td>29.31</td>\n",
              "    </tr>\n",
              "    <tr>\n",
              "      <th>3</th>\n",
              "      <td>2015-04-01</td>\n",
              "      <td>3.706</td>\n",
              "      <td>27.378</td>\n",
              "      <td>NaN</td>\n",
              "      <td>18.025</td>\n",
              "      <td>20.15</td>\n",
              "      <td>0.19</td>\n",
              "      <td>98.35</td>\n",
              "      <td>70.56</td>\n",
              "      <td>3.95</td>\n",
              "      <td>98.69</td>\n",
              "    </tr>\n",
              "    <tr>\n",
              "      <th>4</th>\n",
              "      <td>2015-05-01</td>\n",
              "      <td>5.927</td>\n",
              "      <td>28.698</td>\n",
              "      <td>NaN</td>\n",
              "      <td>17.093</td>\n",
              "      <td>17.15</td>\n",
              "      <td>0.00</td>\n",
              "      <td>98.35</td>\n",
              "      <td>57.81</td>\n",
              "      <td>3.17</td>\n",
              "      <td>87.94</td>\n",
              "    </tr>\n",
              "    <tr>\n",
              "      <th>...</th>\n",
              "      <td>...</td>\n",
              "      <td>...</td>\n",
              "      <td>...</td>\n",
              "      <td>...</td>\n",
              "      <td>...</td>\n",
              "      <td>...</td>\n",
              "      <td>...</td>\n",
              "      <td>...</td>\n",
              "      <td>...</td>\n",
              "      <td>...</td>\n",
              "      <td>...</td>\n",
              "    </tr>\n",
              "    <tr>\n",
              "      <th>1821</th>\n",
              "      <td>2019-12-27</td>\n",
              "      <td>21.132</td>\n",
              "      <td>46.198</td>\n",
              "      <td>54.830</td>\n",
              "      <td>21.313</td>\n",
              "      <td>15.15</td>\n",
              "      <td>0.07</td>\n",
              "      <td>98.29</td>\n",
              "      <td>59.81</td>\n",
              "      <td>4.29</td>\n",
              "      <td>21.38</td>\n",
              "    </tr>\n",
              "    <tr>\n",
              "      <th>1822</th>\n",
              "      <td>2019-12-28</td>\n",
              "      <td>7.310</td>\n",
              "      <td>33.776</td>\n",
              "      <td>53.858</td>\n",
              "      <td>21.824</td>\n",
              "      <td>11.83</td>\n",
              "      <td>0.00</td>\n",
              "      <td>98.43</td>\n",
              "      <td>57.94</td>\n",
              "      <td>3.41</td>\n",
              "      <td>68.00</td>\n",
              "    </tr>\n",
              "    <tr>\n",
              "      <th>1823</th>\n",
              "      <td>2019-12-29</td>\n",
              "      <td>10.482</td>\n",
              "      <td>44.908</td>\n",
              "      <td>69.024</td>\n",
              "      <td>39.326</td>\n",
              "      <td>12.38</td>\n",
              "      <td>0.00</td>\n",
              "      <td>98.43</td>\n",
              "      <td>58.62</td>\n",
              "      <td>2.76</td>\n",
              "      <td>64.56</td>\n",
              "    </tr>\n",
              "    <tr>\n",
              "      <th>1824</th>\n",
              "      <td>2019-12-30</td>\n",
              "      <td>7.460</td>\n",
              "      <td>48.152</td>\n",
              "      <td>74.583</td>\n",
              "      <td>35.001</td>\n",
              "      <td>14.22</td>\n",
              "      <td>0.10</td>\n",
              "      <td>98.35</td>\n",
              "      <td>66.81</td>\n",
              "      <td>2.78</td>\n",
              "      <td>75.00</td>\n",
              "    </tr>\n",
              "    <tr>\n",
              "      <th>1825</th>\n",
              "      <td>2019-12-31</td>\n",
              "      <td>18.830</td>\n",
              "      <td>75.925</td>\n",
              "      <td>335.230</td>\n",
              "      <td>259.640</td>\n",
              "      <td>14.62</td>\n",
              "      <td>6.46</td>\n",
              "      <td>98.41</td>\n",
              "      <td>82.44</td>\n",
              "      <td>3.73</td>\n",
              "      <td>83.00</td>\n",
              "    </tr>\n",
              "  </tbody>\n",
              "</table>\n",
              "<p>1826 rows × 11 columns</p>\n",
              "</div>\n",
              "      <button class=\"colab-df-convert\" onclick=\"convertToInteractive('df-4e5145fb-50c0-41c3-818d-39a0a631c3a0')\"\n",
              "              title=\"Convert this dataframe to an interactive table.\"\n",
              "              style=\"display:none;\">\n",
              "        \n",
              "  <svg xmlns=\"http://www.w3.org/2000/svg\" height=\"24px\"viewBox=\"0 0 24 24\"\n",
              "       width=\"24px\">\n",
              "    <path d=\"M0 0h24v24H0V0z\" fill=\"none\"/>\n",
              "    <path d=\"M18.56 5.44l.94 2.06.94-2.06 2.06-.94-2.06-.94-.94-2.06-.94 2.06-2.06.94zm-11 1L8.5 8.5l.94-2.06 2.06-.94-2.06-.94L8.5 2.5l-.94 2.06-2.06.94zm10 10l.94 2.06.94-2.06 2.06-.94-2.06-.94-.94-2.06-.94 2.06-2.06.94z\"/><path d=\"M17.41 7.96l-1.37-1.37c-.4-.4-.92-.59-1.43-.59-.52 0-1.04.2-1.43.59L10.3 9.45l-7.72 7.72c-.78.78-.78 2.05 0 2.83L4 21.41c.39.39.9.59 1.41.59.51 0 1.02-.2 1.41-.59l7.78-7.78 2.81-2.81c.8-.78.8-2.07 0-2.86zM5.41 20L4 18.59l7.72-7.72 1.47 1.35L5.41 20z\"/>\n",
              "  </svg>\n",
              "      </button>\n",
              "      \n",
              "  <style>\n",
              "    .colab-df-container {\n",
              "      display:flex;\n",
              "      flex-wrap:wrap;\n",
              "      gap: 12px;\n",
              "    }\n",
              "\n",
              "    .colab-df-convert {\n",
              "      background-color: #E8F0FE;\n",
              "      border: none;\n",
              "      border-radius: 50%;\n",
              "      cursor: pointer;\n",
              "      display: none;\n",
              "      fill: #1967D2;\n",
              "      height: 32px;\n",
              "      padding: 0 0 0 0;\n",
              "      width: 32px;\n",
              "    }\n",
              "\n",
              "    .colab-df-convert:hover {\n",
              "      background-color: #E2EBFA;\n",
              "      box-shadow: 0px 1px 2px rgba(60, 64, 67, 0.3), 0px 1px 3px 1px rgba(60, 64, 67, 0.15);\n",
              "      fill: #174EA6;\n",
              "    }\n",
              "\n",
              "    [theme=dark] .colab-df-convert {\n",
              "      background-color: #3B4455;\n",
              "      fill: #D2E3FC;\n",
              "    }\n",
              "\n",
              "    [theme=dark] .colab-df-convert:hover {\n",
              "      background-color: #434B5C;\n",
              "      box-shadow: 0px 1px 3px 1px rgba(0, 0, 0, 0.15);\n",
              "      filter: drop-shadow(0px 1px 2px rgba(0, 0, 0, 0.3));\n",
              "      fill: #FFFFFF;\n",
              "    }\n",
              "  </style>\n",
              "\n",
              "      <script>\n",
              "        const buttonEl =\n",
              "          document.querySelector('#df-4e5145fb-50c0-41c3-818d-39a0a631c3a0 button.colab-df-convert');\n",
              "        buttonEl.style.display =\n",
              "          google.colab.kernel.accessAllowed ? 'block' : 'none';\n",
              "\n",
              "        async function convertToInteractive(key) {\n",
              "          const element = document.querySelector('#df-4e5145fb-50c0-41c3-818d-39a0a631c3a0');\n",
              "          const dataTable =\n",
              "            await google.colab.kernel.invokeFunction('convertToInteractive',\n",
              "                                                     [key], {});\n",
              "          if (!dataTable) return;\n",
              "\n",
              "          const docLinkHtml = 'Like what you see? Visit the ' +\n",
              "            '<a target=\"_blank\" href=https://colab.research.google.com/notebooks/data_table.ipynb>data table notebook</a>'\n",
              "            + ' to learn more about interactive tables.';\n",
              "          element.innerHTML = '';\n",
              "          dataTable['output_type'] = 'display_data';\n",
              "          await google.colab.output.renderOutput(dataTable, element);\n",
              "          const docLink = document.createElement('div');\n",
              "          docLink.innerHTML = docLinkHtml;\n",
              "          element.appendChild(docLink);\n",
              "        }\n",
              "      </script>\n",
              "    </div>\n",
              "  </div>\n",
              "  "
            ]
          },
          "metadata": {},
          "execution_count": 6
        }
      ]
    },
    {
      "cell_type": "code",
      "source": [
        "data_fill = nagpur.iloc[:, :12].fillna(nagpur.iloc[:, :12].groupby([ pd.Grouper(key='Date', freq='15D')]).transform('mean'))"
      ],
      "metadata": {
        "id": "nUAKV1o8CqpI"
      },
      "execution_count": null,
      "outputs": []
    },
    {
      "cell_type": "code",
      "source": [
        "#finding % of the missing values in each coloumn\n",
        "nullValues = data_fill.isnull().sum()\n",
        "nullValues"
      ],
      "metadata": {
        "colab": {
          "base_uri": "https://localhost:8080/"
        },
        "id": "PYUNoJEtDBIJ",
        "outputId": "92cdb4a6-0c41-4d32-982a-f029f2d97a47"
      },
      "execution_count": null,
      "outputs": [
        {
          "output_type": "execute_result",
          "data": {
            "text/plain": [
              "Date           0\n",
              " SO2           0\n",
              " NO2           0\n",
              "PM10           0\n",
              " PM2.5         0\n",
              "T2M            0\n",
              "PRECTOTCORR    0\n",
              "PS             0\n",
              "RH2M           0\n",
              "WS10M          0\n",
              "WD10M          0\n",
              "dtype: int64"
            ]
          },
          "metadata": {},
          "execution_count": 17
        }
      ]
    },
    {
      "cell_type": "code",
      "source": [
        "\n",
        "\n",
        "# Imputing missing values by beckward fill :\n",
        "\n",
        "data_fill = data_fill.fillna(method = 'bfill',axis=0)\n",
        "\n"
      ],
      "metadata": {
        "id": "mYnJyXSaDDkN"
      },
      "execution_count": null,
      "outputs": []
    },
    {
      "cell_type": "code",
      "source": [
        "\n",
        "\n",
        "# Imputing missing values by beckward fill :\n",
        "\n",
        "data_fill = data_fill.fillna(method = 'ffill',axis=0)\n",
        "\n"
      ],
      "metadata": {
        "id": "-QuEEoBTDQpT"
      },
      "execution_count": null,
      "outputs": []
    },
    {
      "cell_type": "code",
      "source": [
        "data_fill.to_csv('filled.csv', index=False)"
      ],
      "metadata": {
        "id": "hhv6Xu7wDSZy"
      },
      "execution_count": null,
      "outputs": []
    },
    {
      "cell_type": "markdown",
      "source": [
        "###Train test split"
      ],
      "metadata": {
        "id": "gT8R2BiuG5dM"
      }
    },
    {
      "cell_type": "code",
      "source": [
        "nagpur=pd.read_csv('/content/drive/Othercomputers/My Laptop/MTech/Project/New/pollutants/Daily_data/nagpur/nagpur_aqiml.csv')\n",
        "nagpur"
      ],
      "metadata": {
        "colab": {
          "base_uri": "https://localhost:8080/",
          "height": 424
        },
        "id": "zb-6foyVDboA",
        "outputId": "f090928b-3445-4ceb-b9c1-38025981995f"
      },
      "execution_count": 4,
      "outputs": [
        {
          "output_type": "execute_result",
          "data": {
            "text/plain": [
              "          Date     SO2     NO2      PM10    PM2.5    T2M  PRECTOTCORR     PS  \\\n",
              "0     01-01-15  22.510  45.560   70.3938   20.444  21.71         3.46  97.81   \n",
              "1     02-01-15   6.030  35.439   70.3938   13.296  22.00         6.91  98.04   \n",
              "2     03-01-15   4.019  26.553   70.3938   17.192  19.99         6.55  98.23   \n",
              "3     04-01-15   3.706  27.378   70.3938   18.025  20.15         0.19  98.35   \n",
              "4     05-01-15   5.927  28.698   70.3938   17.093  17.15         0.00  98.35   \n",
              "...        ...     ...     ...       ...      ...    ...          ...    ...   \n",
              "1821  27-12-19  21.132  46.198   54.8300   21.313  15.15         0.07  98.29   \n",
              "1822  28-12-19   7.310  33.776   53.8580   21.824  11.83         0.00  98.43   \n",
              "1823  29-12-19  10.482  44.908   69.0240   39.326  12.38         0.00  98.43   \n",
              "1824  30-12-19   7.460  48.152   74.5830   35.001  14.22         0.10  98.35   \n",
              "1825  31-12-19  18.830  75.925  335.2300  259.640  14.62         6.46  98.41   \n",
              "\n",
              "       RH2M  WS10M   WD10M         AQI  \n",
              "0     73.69   3.99   86.00   70.393800  \n",
              "1     74.19   2.28  112.00   70.393800  \n",
              "2     85.88   2.62   29.31   70.393800  \n",
              "3     70.56   3.95   98.69   70.393800  \n",
              "4     57.81   3.17   87.94   70.393800  \n",
              "...     ...    ...     ...         ...  \n",
              "1821  59.81   4.29   21.38   57.747500  \n",
              "1822  57.94   3.41   68.00   53.858000  \n",
              "1823  58.62   2.76   64.56   69.024000  \n",
              "1824  66.81   2.78   75.00   74.583000  \n",
              "1825  82.44   3.73   83.00  407.415385  \n",
              "\n",
              "[1826 rows x 12 columns]"
            ],
            "text/html": [
              "\n",
              "  <div id=\"df-d5b782c4-ccb2-4830-94cf-1107eed9ba67\">\n",
              "    <div class=\"colab-df-container\">\n",
              "      <div>\n",
              "<style scoped>\n",
              "    .dataframe tbody tr th:only-of-type {\n",
              "        vertical-align: middle;\n",
              "    }\n",
              "\n",
              "    .dataframe tbody tr th {\n",
              "        vertical-align: top;\n",
              "    }\n",
              "\n",
              "    .dataframe thead th {\n",
              "        text-align: right;\n",
              "    }\n",
              "</style>\n",
              "<table border=\"1\" class=\"dataframe\">\n",
              "  <thead>\n",
              "    <tr style=\"text-align: right;\">\n",
              "      <th></th>\n",
              "      <th>Date</th>\n",
              "      <th>SO2</th>\n",
              "      <th>NO2</th>\n",
              "      <th>PM10</th>\n",
              "      <th>PM2.5</th>\n",
              "      <th>T2M</th>\n",
              "      <th>PRECTOTCORR</th>\n",
              "      <th>PS</th>\n",
              "      <th>RH2M</th>\n",
              "      <th>WS10M</th>\n",
              "      <th>WD10M</th>\n",
              "      <th>AQI</th>\n",
              "    </tr>\n",
              "  </thead>\n",
              "  <tbody>\n",
              "    <tr>\n",
              "      <th>0</th>\n",
              "      <td>01-01-15</td>\n",
              "      <td>22.510</td>\n",
              "      <td>45.560</td>\n",
              "      <td>70.3938</td>\n",
              "      <td>20.444</td>\n",
              "      <td>21.71</td>\n",
              "      <td>3.46</td>\n",
              "      <td>97.81</td>\n",
              "      <td>73.69</td>\n",
              "      <td>3.99</td>\n",
              "      <td>86.00</td>\n",
              "      <td>70.393800</td>\n",
              "    </tr>\n",
              "    <tr>\n",
              "      <th>1</th>\n",
              "      <td>02-01-15</td>\n",
              "      <td>6.030</td>\n",
              "      <td>35.439</td>\n",
              "      <td>70.3938</td>\n",
              "      <td>13.296</td>\n",
              "      <td>22.00</td>\n",
              "      <td>6.91</td>\n",
              "      <td>98.04</td>\n",
              "      <td>74.19</td>\n",
              "      <td>2.28</td>\n",
              "      <td>112.00</td>\n",
              "      <td>70.393800</td>\n",
              "    </tr>\n",
              "    <tr>\n",
              "      <th>2</th>\n",
              "      <td>03-01-15</td>\n",
              "      <td>4.019</td>\n",
              "      <td>26.553</td>\n",
              "      <td>70.3938</td>\n",
              "      <td>17.192</td>\n",
              "      <td>19.99</td>\n",
              "      <td>6.55</td>\n",
              "      <td>98.23</td>\n",
              "      <td>85.88</td>\n",
              "      <td>2.62</td>\n",
              "      <td>29.31</td>\n",
              "      <td>70.393800</td>\n",
              "    </tr>\n",
              "    <tr>\n",
              "      <th>3</th>\n",
              "      <td>04-01-15</td>\n",
              "      <td>3.706</td>\n",
              "      <td>27.378</td>\n",
              "      <td>70.3938</td>\n",
              "      <td>18.025</td>\n",
              "      <td>20.15</td>\n",
              "      <td>0.19</td>\n",
              "      <td>98.35</td>\n",
              "      <td>70.56</td>\n",
              "      <td>3.95</td>\n",
              "      <td>98.69</td>\n",
              "      <td>70.393800</td>\n",
              "    </tr>\n",
              "    <tr>\n",
              "      <th>4</th>\n",
              "      <td>05-01-15</td>\n",
              "      <td>5.927</td>\n",
              "      <td>28.698</td>\n",
              "      <td>70.3938</td>\n",
              "      <td>17.093</td>\n",
              "      <td>17.15</td>\n",
              "      <td>0.00</td>\n",
              "      <td>98.35</td>\n",
              "      <td>57.81</td>\n",
              "      <td>3.17</td>\n",
              "      <td>87.94</td>\n",
              "      <td>70.393800</td>\n",
              "    </tr>\n",
              "    <tr>\n",
              "      <th>...</th>\n",
              "      <td>...</td>\n",
              "      <td>...</td>\n",
              "      <td>...</td>\n",
              "      <td>...</td>\n",
              "      <td>...</td>\n",
              "      <td>...</td>\n",
              "      <td>...</td>\n",
              "      <td>...</td>\n",
              "      <td>...</td>\n",
              "      <td>...</td>\n",
              "      <td>...</td>\n",
              "      <td>...</td>\n",
              "    </tr>\n",
              "    <tr>\n",
              "      <th>1821</th>\n",
              "      <td>27-12-19</td>\n",
              "      <td>21.132</td>\n",
              "      <td>46.198</td>\n",
              "      <td>54.8300</td>\n",
              "      <td>21.313</td>\n",
              "      <td>15.15</td>\n",
              "      <td>0.07</td>\n",
              "      <td>98.29</td>\n",
              "      <td>59.81</td>\n",
              "      <td>4.29</td>\n",
              "      <td>21.38</td>\n",
              "      <td>57.747500</td>\n",
              "    </tr>\n",
              "    <tr>\n",
              "      <th>1822</th>\n",
              "      <td>28-12-19</td>\n",
              "      <td>7.310</td>\n",
              "      <td>33.776</td>\n",
              "      <td>53.8580</td>\n",
              "      <td>21.824</td>\n",
              "      <td>11.83</td>\n",
              "      <td>0.00</td>\n",
              "      <td>98.43</td>\n",
              "      <td>57.94</td>\n",
              "      <td>3.41</td>\n",
              "      <td>68.00</td>\n",
              "      <td>53.858000</td>\n",
              "    </tr>\n",
              "    <tr>\n",
              "      <th>1823</th>\n",
              "      <td>29-12-19</td>\n",
              "      <td>10.482</td>\n",
              "      <td>44.908</td>\n",
              "      <td>69.0240</td>\n",
              "      <td>39.326</td>\n",
              "      <td>12.38</td>\n",
              "      <td>0.00</td>\n",
              "      <td>98.43</td>\n",
              "      <td>58.62</td>\n",
              "      <td>2.76</td>\n",
              "      <td>64.56</td>\n",
              "      <td>69.024000</td>\n",
              "    </tr>\n",
              "    <tr>\n",
              "      <th>1824</th>\n",
              "      <td>30-12-19</td>\n",
              "      <td>7.460</td>\n",
              "      <td>48.152</td>\n",
              "      <td>74.5830</td>\n",
              "      <td>35.001</td>\n",
              "      <td>14.22</td>\n",
              "      <td>0.10</td>\n",
              "      <td>98.35</td>\n",
              "      <td>66.81</td>\n",
              "      <td>2.78</td>\n",
              "      <td>75.00</td>\n",
              "      <td>74.583000</td>\n",
              "    </tr>\n",
              "    <tr>\n",
              "      <th>1825</th>\n",
              "      <td>31-12-19</td>\n",
              "      <td>18.830</td>\n",
              "      <td>75.925</td>\n",
              "      <td>335.2300</td>\n",
              "      <td>259.640</td>\n",
              "      <td>14.62</td>\n",
              "      <td>6.46</td>\n",
              "      <td>98.41</td>\n",
              "      <td>82.44</td>\n",
              "      <td>3.73</td>\n",
              "      <td>83.00</td>\n",
              "      <td>407.415385</td>\n",
              "    </tr>\n",
              "  </tbody>\n",
              "</table>\n",
              "<p>1826 rows × 12 columns</p>\n",
              "</div>\n",
              "      <button class=\"colab-df-convert\" onclick=\"convertToInteractive('df-d5b782c4-ccb2-4830-94cf-1107eed9ba67')\"\n",
              "              title=\"Convert this dataframe to an interactive table.\"\n",
              "              style=\"display:none;\">\n",
              "        \n",
              "  <svg xmlns=\"http://www.w3.org/2000/svg\" height=\"24px\"viewBox=\"0 0 24 24\"\n",
              "       width=\"24px\">\n",
              "    <path d=\"M0 0h24v24H0V0z\" fill=\"none\"/>\n",
              "    <path d=\"M18.56 5.44l.94 2.06.94-2.06 2.06-.94-2.06-.94-.94-2.06-.94 2.06-2.06.94zm-11 1L8.5 8.5l.94-2.06 2.06-.94-2.06-.94L8.5 2.5l-.94 2.06-2.06.94zm10 10l.94 2.06.94-2.06 2.06-.94-2.06-.94-.94-2.06-.94 2.06-2.06.94z\"/><path d=\"M17.41 7.96l-1.37-1.37c-.4-.4-.92-.59-1.43-.59-.52 0-1.04.2-1.43.59L10.3 9.45l-7.72 7.72c-.78.78-.78 2.05 0 2.83L4 21.41c.39.39.9.59 1.41.59.51 0 1.02-.2 1.41-.59l7.78-7.78 2.81-2.81c.8-.78.8-2.07 0-2.86zM5.41 20L4 18.59l7.72-7.72 1.47 1.35L5.41 20z\"/>\n",
              "  </svg>\n",
              "      </button>\n",
              "      \n",
              "  <style>\n",
              "    .colab-df-container {\n",
              "      display:flex;\n",
              "      flex-wrap:wrap;\n",
              "      gap: 12px;\n",
              "    }\n",
              "\n",
              "    .colab-df-convert {\n",
              "      background-color: #E8F0FE;\n",
              "      border: none;\n",
              "      border-radius: 50%;\n",
              "      cursor: pointer;\n",
              "      display: none;\n",
              "      fill: #1967D2;\n",
              "      height: 32px;\n",
              "      padding: 0 0 0 0;\n",
              "      width: 32px;\n",
              "    }\n",
              "\n",
              "    .colab-df-convert:hover {\n",
              "      background-color: #E2EBFA;\n",
              "      box-shadow: 0px 1px 2px rgba(60, 64, 67, 0.3), 0px 1px 3px 1px rgba(60, 64, 67, 0.15);\n",
              "      fill: #174EA6;\n",
              "    }\n",
              "\n",
              "    [theme=dark] .colab-df-convert {\n",
              "      background-color: #3B4455;\n",
              "      fill: #D2E3FC;\n",
              "    }\n",
              "\n",
              "    [theme=dark] .colab-df-convert:hover {\n",
              "      background-color: #434B5C;\n",
              "      box-shadow: 0px 1px 3px 1px rgba(0, 0, 0, 0.15);\n",
              "      filter: drop-shadow(0px 1px 2px rgba(0, 0, 0, 0.3));\n",
              "      fill: #FFFFFF;\n",
              "    }\n",
              "  </style>\n",
              "\n",
              "      <script>\n",
              "        const buttonEl =\n",
              "          document.querySelector('#df-d5b782c4-ccb2-4830-94cf-1107eed9ba67 button.colab-df-convert');\n",
              "        buttonEl.style.display =\n",
              "          google.colab.kernel.accessAllowed ? 'block' : 'none';\n",
              "\n",
              "        async function convertToInteractive(key) {\n",
              "          const element = document.querySelector('#df-d5b782c4-ccb2-4830-94cf-1107eed9ba67');\n",
              "          const dataTable =\n",
              "            await google.colab.kernel.invokeFunction('convertToInteractive',\n",
              "                                                     [key], {});\n",
              "          if (!dataTable) return;\n",
              "\n",
              "          const docLinkHtml = 'Like what you see? Visit the ' +\n",
              "            '<a target=\"_blank\" href=https://colab.research.google.com/notebooks/data_table.ipynb>data table notebook</a>'\n",
              "            + ' to learn more about interactive tables.';\n",
              "          element.innerHTML = '';\n",
              "          dataTable['output_type'] = 'display_data';\n",
              "          await google.colab.output.renderOutput(dataTable, element);\n",
              "          const docLink = document.createElement('div');\n",
              "          docLink.innerHTML = docLinkHtml;\n",
              "          element.appendChild(docLink);\n",
              "        }\n",
              "      </script>\n",
              "    </div>\n",
              "  </div>\n",
              "  "
            ]
          },
          "metadata": {},
          "execution_count": 4
        }
      ]
    },
    {
      "cell_type": "code",
      "source": [
        "nagpur=nagpur.drop(['Date'],axis=1)"
      ],
      "metadata": {
        "id": "0rUAJOltHI8_"
      },
      "execution_count": 5,
      "outputs": []
    },
    {
      "cell_type": "markdown",
      "source": [
        "###Correlation"
      ],
      "metadata": {
        "id": "YRClqaD1HbG6"
      }
    },
    {
      "cell_type": "code",
      "source": [
        "plt.figure(figsize=(20,10))\n",
        "sns.heatmap(nagpur.corr(), annot=True, cmap='Blues')\n",
        "\n",
        "plt.show()"
      ],
      "metadata": {
        "colab": {
          "base_uri": "https://localhost:8080/",
          "height": 595
        },
        "id": "wdvY5QiPHdJm",
        "outputId": "665e177e-5564-4731-9fc4-f20de7fad897"
      },
      "execution_count": null,
      "outputs": [
        {
          "output_type": "display_data",
          "data": {
            "text/plain": [
              "<Figure size 1440x720 with 2 Axes>"
            ],
            "image/png": "[encoded data removed]"
          },
          "metadata": {
            "needs_background": "light"
          }
        }
      ]
    },
    {
      "cell_type": "code",
      "source": [
        "# Check the effect of all pollutants on AQI :\n",
        "\n",
        "for i in nagpur.iloc[:, :12]:\n",
        "    print('The impact of ', i, 'on AQI')\n",
        "    sns.scatterplot(x = i, y ='AQI', data = nagpur,marker=\"o\",sizes=200,color=\"r\",label=i)\n",
        "    plt.legend()\n",
        "    plt.show()"
      ],
      "metadata": {
        "colab": {
          "base_uri": "https://localhost:8080/",
          "height": 1000
        },
        "id": "DqcPkq8QKzTL",
        "outputId": "280a16cc-8fb7-4d56-ef2e-6bcd8e729065"
      },
      "execution_count": null,
      "outputs": [
        {
          "output_type": "stream",
          "name": "stdout",
          "text": [
            "The impact of   SO2 on AQI\n"
          ]
        },
        {
          "output_type": "display_data",
          "data": {
            "text/plain": [
              "<Figure size 432x288 with 1 Axes>"
            ],
            "image/png": "[encoded data removed]"
          },
          "metadata": {
            "needs_background": "light"
          }
        },
        {
          "output_type": "stream",
          "name": "stdout",
          "text": [
            "The impact of   NO2 on AQI\n"
          ]
        },
        {
          "output_type": "display_data",
          "data": {
            "text/plain": [
              "<Figure size 432x288 with 1 Axes>"
            ],
            "image/png": "[encoded data removed]"
          },
          "metadata": {
            "needs_background": "light"
          }
        },
        {
          "output_type": "stream",
          "name": "stdout",
          "text": [
            "The impact of  PM10 on AQI\n"
          ]
        },
        {
          "output_type": "display_data",
          "data": {
            "text/plain": [
              "<Figure size 432x288 with 1 Axes>"
            ],
            "image/png": "[encoded data removed]"
          },
          "metadata": {
            "needs_background": "light"
          }
        },
        {
          "output_type": "stream",
          "name": "stdout",
          "text": [
            "The impact of   PM2.5 on AQI\n"
          ]
        },
        {
          "output_type": "display_data",
          "data": {
            "text/plain": [
              "<Figure size 432x288 with 1 Axes>"
            ],
            "image/png": "[encoded data removed]"
          },
          "metadata": {
            "needs_background": "light"
          }
        },
        {
          "output_type": "stream",
          "name": "stdout",
          "text": [
            "The impact of  T2M on AQI\n"
          ]
        },
        {
          "output_type": "display_data",
          "data": {
            "text/plain": [
              "<Figure size 432x288 with 1 Axes>"
            ],
            "image/png": "[encoded data removed]"
          },
          "metadata": {
            "needs_background": "light"
          }
        },
        {
          "output_type": "stream",
          "name": "stdout",
          "text": [
            "The impact of  PRECTOTCORR on AQI\n"
          ]
        },
        {
          "output_type": "display_data",
          "data": {
            "text/plain": [
              "<Figure size 432x288 with 1 Axes>"
            ],
            "image/png": "[encoded data removed]"
          },
          "metadata": {
            "needs_background": "light"
          }
        },
        {
          "output_type": "stream",
          "name": "stdout",
          "text": [
            "The impact of  PS on AQI\n"
          ]
        },
        {
          "output_type": "display_data",
          "data": {
            "text/plain": [
              "<Figure size 432x288 with 1 Axes>"
            ],
            "image/png": "[encoded data removed]"
          },
          "metadata": {
            "needs_background": "light"
          }
        },
        {
          "output_type": "stream",
          "name": "stdout",
          "text": [
            "The impact of  RH2M on AQI\n"
          ]
        },
        {
          "output_type": "display_data",
          "data": {
            "text/plain": [
              "<Figure size 432x288 with 1 Axes>"
            ],
            "image/png": "[encoded data removed]"
          },
          "metadata": {
            "needs_background": "light"
          }
        },
        {
          "output_type": "stream",
          "name": "stdout",
          "text": [
            "The impact of  WS10M on AQI\n"
          ]
        },
        {
          "output_type": "display_data",
          "data": {
            "text/plain": [
              "<Figure size 432x288 with 1 Axes>"
            ],
            "image/png": "[encoded data removed]"
          },
          "metadata": {
            "needs_background": "light"
          }
        },
        {
          "output_type": "stream",
          "name": "stdout",
          "text": [
            "The impact of  WD10M on AQI\n"
          ]
        },
        {
          "output_type": "display_data",
          "data": {
            "text/plain": [
              "<Figure size 432x288 with 1 Axes>"
            ],
            "image/png": "[encoded data removed]"
          },
          "metadata": {
            "needs_background": "light"
          }
        },
        {
          "output_type": "stream",
          "name": "stdout",
          "text": [
            "The impact of  AQI on AQI\n"
          ]
        },
        {
          "output_type": "display_data",
          "data": {
            "text/plain": [
              "<Figure size 432x288 with 1 Axes>"
            ],
            "image/png": "[encoded data removed]"
          },
          "metadata": {
            "needs_background": "light"
          }
        }
      ]
    },
    {
      "cell_type": "markdown",
      "source": [
        "###Independent and dependent variables"
      ],
      "metadata": {
        "id": "7g_isaZJHmYl"
      }
    },
    {
      "cell_type": "code",
      "source": [
        " x=nagpur.iloc[:,:-1]\n",
        "y=nagpur.iloc[:,-1]"
      ],
      "metadata": {
        "id": "7yvJdns3Hfgf"
      },
      "execution_count": 6,
      "outputs": []
    },
    {
      "cell_type": "code",
      "source": [
        "x"
      ],
      "metadata": {
        "colab": {
          "base_uri": "https://localhost:8080/",
          "height": 424
        },
        "id": "4CQcEyMhHqat",
        "outputId": "1b2b783e-7971-4f9a-e4c4-c44c0a9d4056"
      },
      "execution_count": 7,
      "outputs": [
        {
          "output_type": "execute_result",
          "data": {
            "text/plain": [
              "         SO2     NO2      PM10    PM2.5    T2M  PRECTOTCORR     PS   RH2M  \\\n",
              "0     22.510  45.560   70.3938   20.444  21.71         3.46  97.81  73.69   \n",
              "1      6.030  35.439   70.3938   13.296  22.00         6.91  98.04  74.19   \n",
              "2      4.019  26.553   70.3938   17.192  19.99         6.55  98.23  85.88   \n",
              "3      3.706  27.378   70.3938   18.025  20.15         0.19  98.35  70.56   \n",
              "4      5.927  28.698   70.3938   17.093  17.15         0.00  98.35  57.81   \n",
              "...      ...     ...       ...      ...    ...          ...    ...    ...   \n",
              "1821  21.132  46.198   54.8300   21.313  15.15         0.07  98.29  59.81   \n",
              "1822   7.310  33.776   53.8580   21.824  11.83         0.00  98.43  57.94   \n",
              "1823  10.482  44.908   69.0240   39.326  12.38         0.00  98.43  58.62   \n",
              "1824   7.460  48.152   74.5830   35.001  14.22         0.10  98.35  66.81   \n",
              "1825  18.830  75.925  335.2300  259.640  14.62         6.46  98.41  82.44   \n",
              "\n",
              "      WS10M   WD10M  \n",
              "0      3.99   86.00  \n",
              "1      2.28  112.00  \n",
              "2      2.62   29.31  \n",
              "3      3.95   98.69  \n",
              "4      3.17   87.94  \n",
              "...     ...     ...  \n",
              "1821   4.29   21.38  \n",
              "1822   3.41   68.00  \n",
              "1823   2.76   64.56  \n",
              "1824   2.78   75.00  \n",
              "1825   3.73   83.00  \n",
              "\n",
              "[1826 rows x 10 columns]"
            ],
            "text/html": [
              "\n",
              "  <div id=\"df-4c3137d5-411b-4a51-bc84-35de0668d29a\">\n",
              "    <div class=\"colab-df-container\">\n",
              "      <div>\n",
              "<style scoped>\n",
              "    .dataframe tbody tr th:only-of-type {\n",
              "        vertical-align: middle;\n",
              "    }\n",
              "\n",
              "    .dataframe tbody tr th {\n",
              "        vertical-align: top;\n",
              "    }\n",
              "\n",
              "    .dataframe thead th {\n",
              "        text-align: right;\n",
              "    }\n",
              "</style>\n",
              "<table border=\"1\" class=\"dataframe\">\n",
              "  <thead>\n",
              "    <tr style=\"text-align: right;\">\n",
              "      <th></th>\n",
              "      <th>SO2</th>\n",
              "      <th>NO2</th>\n",
              "      <th>PM10</th>\n",
              "      <th>PM2.5</th>\n",
              "      <th>T2M</th>\n",
              "      <th>PRECTOTCORR</th>\n",
              "      <th>PS</th>\n",
              "      <th>RH2M</th>\n",
              "      <th>WS10M</th>\n",
              "      <th>WD10M</th>\n",
              "    </tr>\n",
              "  </thead>\n",
              "  <tbody>\n",
              "    <tr>\n",
              "      <th>0</th>\n",
              "      <td>22.510</td>\n",
              "      <td>45.560</td>\n",
              "      <td>70.3938</td>\n",
              "      <td>20.444</td>\n",
              "      <td>21.71</td>\n",
              "      <td>3.46</td>\n",
              "      <td>97.81</td>\n",
              "      <td>73.69</td>\n",
              "      <td>3.99</td>\n",
              "      <td>86.00</td>\n",
              "    </tr>\n",
              "    <tr>\n",
              "      <th>1</th>\n",
              "      <td>6.030</td>\n",
              "      <td>35.439</td>\n",
              "      <td>70.3938</td>\n",
              "      <td>13.296</td>\n",
              "      <td>22.00</td>\n",
              "      <td>6.91</td>\n",
              "      <td>98.04</td>\n",
              "      <td>74.19</td>\n",
              "      <td>2.28</td>\n",
              "      <td>112.00</td>\n",
              "    </tr>\n",
              "    <tr>\n",
              "      <th>2</th>\n",
              "      <td>4.019</td>\n",
              "      <td>26.553</td>\n",
              "      <td>70.3938</td>\n",
              "      <td>17.192</td>\n",
              "      <td>19.99</td>\n",
              "      <td>6.55</td>\n",
              "      <td>98.23</td>\n",
              "      <td>85.88</td>\n",
              "      <td>2.62</td>\n",
              "      <td>29.31</td>\n",
              "    </tr>\n",
              "    <tr>\n",
              "      <th>3</th>\n",
              "      <td>3.706</td>\n",
              "      <td>27.378</td>\n",
              "      <td>70.3938</td>\n",
              "      <td>18.025</td>\n",
              "      <td>20.15</td>\n",
              "      <td>0.19</td>\n",
              "      <td>98.35</td>\n",
              "      <td>70.56</td>\n",
              "      <td>3.95</td>\n",
              "      <td>98.69</td>\n",
              "    </tr>\n",
              "    <tr>\n",
              "      <th>4</th>\n",
              "      <td>5.927</td>\n",
              "      <td>28.698</td>\n",
              "      <td>70.3938</td>\n",
              "      <td>17.093</td>\n",
              "      <td>17.15</td>\n",
              "      <td>0.00</td>\n",
              "      <td>98.35</td>\n",
              "      <td>57.81</td>\n",
              "      <td>3.17</td>\n",
              "      <td>87.94</td>\n",
              "    </tr>\n",
              "    <tr>\n",
              "      <th>...</th>\n",
              "      <td>...</td>\n",
              "      <td>...</td>\n",
              "      <td>...</td>\n",
              "      <td>...</td>\n",
              "      <td>...</td>\n",
              "      <td>...</td>\n",
              "      <td>...</td>\n",
              "      <td>...</td>\n",
              "      <td>...</td>\n",
              "      <td>...</td>\n",
              "    </tr>\n",
              "    <tr>\n",
              "      <th>1821</th>\n",
              "      <td>21.132</td>\n",
              "      <td>46.198</td>\n",
              "      <td>54.8300</td>\n",
              "      <td>21.313</td>\n",
              "      <td>15.15</td>\n",
              "      <td>0.07</td>\n",
              "      <td>98.29</td>\n",
              "      <td>59.81</td>\n",
              "      <td>4.29</td>\n",
              "      <td>21.38</td>\n",
              "    </tr>\n",
              "    <tr>\n",
              "      <th>1822</th>\n",
              "      <td>7.310</td>\n",
              "      <td>33.776</td>\n",
              "      <td>53.8580</td>\n",
              "      <td>21.824</td>\n",
              "      <td>11.83</td>\n",
              "      <td>0.00</td>\n",
              "      <td>98.43</td>\n",
              "      <td>57.94</td>\n",
              "      <td>3.41</td>\n",
              "      <td>68.00</td>\n",
              "    </tr>\n",
              "    <tr>\n",
              "      <th>1823</th>\n",
              "      <td>10.482</td>\n",
              "      <td>44.908</td>\n",
              "      <td>69.0240</td>\n",
              "      <td>39.326</td>\n",
              "      <td>12.38</td>\n",
              "      <td>0.00</td>\n",
              "      <td>98.43</td>\n",
              "      <td>58.62</td>\n",
              "      <td>2.76</td>\n",
              "      <td>64.56</td>\n",
              "    </tr>\n",
              "    <tr>\n",
              "      <th>1824</th>\n",
              "      <td>7.460</td>\n",
              "      <td>48.152</td>\n",
              "      <td>74.5830</td>\n",
              "      <td>35.001</td>\n",
              "      <td>14.22</td>\n",
              "      <td>0.10</td>\n",
              "      <td>98.35</td>\n",
              "      <td>66.81</td>\n",
              "      <td>2.78</td>\n",
              "      <td>75.00</td>\n",
              "    </tr>\n",
              "    <tr>\n",
              "      <th>1825</th>\n",
              "      <td>18.830</td>\n",
              "      <td>75.925</td>\n",
              "      <td>335.2300</td>\n",
              "      <td>259.640</td>\n",
              "      <td>14.62</td>\n",
              "      <td>6.46</td>\n",
              "      <td>98.41</td>\n",
              "      <td>82.44</td>\n",
              "      <td>3.73</td>\n",
              "      <td>83.00</td>\n",
              "    </tr>\n",
              "  </tbody>\n",
              "</table>\n",
              "<p>1826 rows × 10 columns</p>\n",
              "</div>\n",
              "      <button class=\"colab-df-convert\" onclick=\"convertToInteractive('df-4c3137d5-411b-4a51-bc84-35de0668d29a')\"\n",
              "              title=\"Convert this dataframe to an interactive table.\"\n",
              "              style=\"display:none;\">\n",
              "        \n",
              "  <svg xmlns=\"http://www.w3.org/2000/svg\" height=\"24px\"viewBox=\"0 0 24 24\"\n",
              "       width=\"24px\">\n",
              "    <path d=\"M0 0h24v24H0V0z\" fill=\"none\"/>\n",
              "    <path d=\"M18.56 5.44l.94 2.06.94-2.06 2.06-.94-2.06-.94-.94-2.06-.94 2.06-2.06.94zm-11 1L8.5 8.5l.94-2.06 2.06-.94-2.06-.94L8.5 2.5l-.94 2.06-2.06.94zm10 10l.94 2.06.94-2.06 2.06-.94-2.06-.94-.94-2.06-.94 2.06-2.06.94z\"/><path d=\"M17.41 7.96l-1.37-1.37c-.4-.4-.92-.59-1.43-.59-.52 0-1.04.2-1.43.59L10.3 9.45l-7.72 7.72c-.78.78-.78 2.05 0 2.83L4 21.41c.39.39.9.59 1.41.59.51 0 1.02-.2 1.41-.59l7.78-7.78 2.81-2.81c.8-.78.8-2.07 0-2.86zM5.41 20L4 18.59l7.72-7.72 1.47 1.35L5.41 20z\"/>\n",
              "  </svg>\n",
              "      </button>\n",
              "      \n",
              "  <style>\n",
              "    .colab-df-container {\n",
              "      display:flex;\n",
              "      flex-wrap:wrap;\n",
              "      gap: 12px;\n",
              "    }\n",
              "\n",
              "    .colab-df-convert {\n",
              "      background-color: #E8F0FE;\n",
              "      border: none;\n",
              "      border-radius: 50%;\n",
              "      cursor: pointer;\n",
              "      display: none;\n",
              "      fill: #1967D2;\n",
              "      height: 32px;\n",
              "      padding: 0 0 0 0;\n",
              "      width: 32px;\n",
              "    }\n",
              "\n",
              "    .colab-df-convert:hover {\n",
              "      background-color: #E2EBFA;\n",
              "      box-shadow: 0px 1px 2px rgba(60, 64, 67, 0.3), 0px 1px 3px 1px rgba(60, 64, 67, 0.15);\n",
              "      fill: #174EA6;\n",
              "    }\n",
              "\n",
              "    [theme=dark] .colab-df-convert {\n",
              "      background-color: #3B4455;\n",
              "      fill: #D2E3FC;\n",
              "    }\n",
              "\n",
              "    [theme=dark] .colab-df-convert:hover {\n",
              "      background-color: #434B5C;\n",
              "      box-shadow: 0px 1px 3px 1px rgba(0, 0, 0, 0.15);\n",
              "      filter: drop-shadow(0px 1px 2px rgba(0, 0, 0, 0.3));\n",
              "      fill: #FFFFFF;\n",
              "    }\n",
              "  </style>\n",
              "\n",
              "      <script>\n",
              "        const buttonEl =\n",
              "          document.querySelector('#df-4c3137d5-411b-4a51-bc84-35de0668d29a button.colab-df-convert');\n",
              "        buttonEl.style.display =\n",
              "          google.colab.kernel.accessAllowed ? 'block' : 'none';\n",
              "\n",
              "        async function convertToInteractive(key) {\n",
              "          const element = document.querySelector('#df-4c3137d5-411b-4a51-bc84-35de0668d29a');\n",
              "          const dataTable =\n",
              "            await google.colab.kernel.invokeFunction('convertToInteractive',\n",
              "                                                     [key], {});\n",
              "          if (!dataTable) return;\n",
              "\n",
              "          const docLinkHtml = 'Like what you see? Visit the ' +\n",
              "            '<a target=\"_blank\" href=https://colab.research.google.com/notebooks/data_table.ipynb>data table notebook</a>'\n",
              "            + ' to learn more about interactive tables.';\n",
              "          element.innerHTML = '';\n",
              "          dataTable['output_type'] = 'display_data';\n",
              "          await google.colab.output.renderOutput(dataTable, element);\n",
              "          const docLink = document.createElement('div');\n",
              "          docLink.innerHTML = docLinkHtml;\n",
              "          element.appendChild(docLink);\n",
              "        }\n",
              "      </script>\n",
              "    </div>\n",
              "  </div>\n",
              "  "
            ]
          },
          "metadata": {},
          "execution_count": 7
        }
      ]
    },
    {
      "cell_type": "code",
      "source": [
        "y"
      ],
      "metadata": {
        "colab": {
          "base_uri": "https://localhost:8080/"
        },
        "id": "FAoDmdPjHqz-",
        "outputId": "24851f84-7d0e-43ea-cb43-03f452541cea"
      },
      "execution_count": 8,
      "outputs": [
        {
          "output_type": "execute_result",
          "data": {
            "text/plain": [
              "0        70.393800\n",
              "1        70.393800\n",
              "2        70.393800\n",
              "3        70.393800\n",
              "4        70.393800\n",
              "           ...    \n",
              "1821     57.747500\n",
              "1822     53.858000\n",
              "1823     69.024000\n",
              "1824     74.583000\n",
              "1825    407.415385\n",
              "Name: AQI, Length: 1826, dtype: float64"
            ]
          },
          "metadata": {},
          "execution_count": 8
        }
      ]
    },
    {
      "cell_type": "code",
      "source": [
        "#Train-Test Split\n",
        "from sklearn.model_selection import train_test_split\n",
        "x_train,x_test,y_train,y_test=train_test_split(x,y,test_size=0.2,random_state=0)"
      ],
      "metadata": {
        "id": "CQZD4ntPH1uK"
      },
      "execution_count": 9,
      "outputs": []
    },
    {
      "cell_type": "markdown",
      "source": [
        "###Feature transformation"
      ],
      "metadata": {
        "id": "ZihHgw6AHx3k"
      }
    },
    {
      "cell_type": "code",
      "source": [
        "from sklearn.preprocessing import PowerTransformer\n",
        "pt_x = PowerTransformer(method='yeo-johnson')\n",
        "pt_y = PowerTransformer(method='yeo-johnson')\n",
        "x_train = pt_x.fit_transform(x_train)\n",
        "x_test = pt_x.transform(x_test)\n",
        "y_train = pt_y.fit_transform(np.array(y_train).reshape(-1,1))\n",
        "y_test = pt_y.transform(np.array(y_test).reshape(-1,1))\n"
      ],
      "metadata": {
        "id": "vXfsMMctHrA2"
      },
      "execution_count": 10,
      "outputs": []
    },
    {
      "cell_type": "markdown",
      "source": [
        "###SVR"
      ],
      "metadata": {
        "id": "EDs8jUvEH5qX"
      }
    },
    {
      "cell_type": "code",
      "source": [
        "from sklearn.svm import SVR\n",
        "regressor = SVR(kernel = 'rbf')\n",
        "regressor.fit(x_train,y_train)"
      ],
      "metadata": {
        "colab": {
          "base_uri": "https://localhost:8080/"
        },
        "id": "03yujj2PH4NT",
        "outputId": "eb2226f4-d743-431c-c813-b4f76f28adb3"
      },
      "execution_count": null,
      "outputs": [
        {
          "output_type": "execute_result",
          "data": {
            "text/plain": [
              "SVR()"
            ]
          },
          "metadata": {},
          "execution_count": 29
        }
      ]
    },
    {
      "cell_type": "code",
      "source": [
        "y_prediction =  regressor.predict(x_test)\n",
        "y_prediction"
      ],
      "metadata": {
        "colab": {
          "base_uri": "https://localhost:8080/"
        },
        "id": "aQd-NDUDICI0",
        "outputId": "d1ec1e63-515e-44b0-bfe2-e48cdc0b9b1e"
      },
      "execution_count": null,
      "outputs": [
        {
          "output_type": "execute_result",
          "data": {
            "text/plain": [
              "array([ 1.89972917e-01,  1.77630703e-01,  9.16870446e-01,  1.25475599e-02,\n",
              "       -1.55184401e-01,  8.25853375e-01, -5.69035447e-01, -3.04773413e-01,\n",
              "        8.15165574e-01, -7.84719933e-01,  6.57733239e-01, -7.30251830e-01,\n",
              "        9.79365308e-01, -1.75423087e-01,  6.99578329e-01, -2.01360503e+00,\n",
              "        6.67977607e-01, -6.98449587e-01,  1.35417597e+00,  2.46994698e+00,\n",
              "        6.43279748e-01, -1.71762446e-01,  9.21446836e-01, -1.67802337e+00,\n",
              "       -1.15023920e-03, -3.64313947e-01, -1.81223987e-01, -1.05691596e-01,\n",
              "        1.86231558e+00,  2.98745814e-01, -2.43910470e-01,  3.95910489e-01,\n",
              "       -2.81991047e+00,  1.70152335e+00, -1.51643801e+00, -3.49284841e-01,\n",
              "       -1.23502519e+00, -1.49526154e+00,  1.46601371e+00,  6.83276774e-01,\n",
              "        5.16007423e-01,  1.14158872e+00, -2.09340933e-01,  6.35474118e-01,\n",
              "        3.31180575e-01, -2.74864641e-01, -8.48867029e-01, -4.15891082e-01,\n",
              "        6.57006800e-01, -7.56166638e-01, -4.56176668e-02,  1.54283699e+00,\n",
              "       -2.10821330e+00,  7.20237145e-01,  6.26171149e-01, -2.39986827e-02,\n",
              "       -2.33597842e-01, -1.66110236e+00,  8.81738623e-01,  9.37678736e-01,\n",
              "       -1.78098427e-01, -2.59877498e-01,  1.69054399e+00, -3.11847386e-01,\n",
              "       -8.50927308e-01, -1.20585504e+00, -2.27862309e+00, -4.03541500e-01,\n",
              "       -1.22332403e+00, -2.22131610e-01,  7.07071765e-02, -3.44514559e-01,\n",
              "       -1.84175282e-01,  4.21565042e-01,  1.89054262e-01,  1.59467530e-01,\n",
              "       -1.26903496e+00, -2.80853411e-01, -1.11795515e+00,  2.05821104e-02,\n",
              "        5.60022320e-01, -9.59963969e-01,  1.20938233e-01, -6.69834408e-01,\n",
              "       -1.25159504e+00, -6.52050541e-01,  3.31599395e-02, -1.99675846e-01,\n",
              "        1.52539527e+00, -3.01556367e-01,  9.06310935e-01, -2.53776073e-01,\n",
              "       -9.85192359e-02, -4.77778034e-02,  2.55562098e-01, -7.40667010e-01,\n",
              "        1.50635701e-02,  1.48634244e+00, -4.39146327e-01,  4.32609979e-01,\n",
              "        3.94339474e-01,  3.60518199e-01, -5.38805485e-01, -2.05894882e-01,\n",
              "        1.41066722e+00,  3.99545903e-01,  9.67827735e-01,  1.69020831e+00,\n",
              "        1.77759180e+00,  1.20646147e+00, -2.40956789e-01, -1.79497983e-01,\n",
              "        1.29865637e+00, -3.77713616e-01, -1.29319446e+00, -3.69360343e-01,\n",
              "        8.20195377e-01,  3.23921740e-01, -2.47595112e-01, -5.92501366e-01,\n",
              "       -1.25499647e-02,  7.37890896e-01,  1.38262831e-02, -4.47302583e-01,\n",
              "       -1.42172528e+00,  1.94618015e-01, -6.65897306e-01,  6.00531989e-01,\n",
              "        1.12785705e+00, -2.92149706e-01, -6.78843675e-01, -1.06741804e-01,\n",
              "       -1.52545752e+00,  9.58161645e-01, -1.26279745e+00, -9.07225347e-01,\n",
              "       -4.03443744e-01,  3.74391116e-01,  6.95102544e-01, -1.40320879e-02,\n",
              "        1.34462623e+00,  2.31463763e+00, -4.06290203e-01, -1.62454974e+00,\n",
              "       -5.78760339e-01,  3.21578686e-01, -5.45682771e-01,  6.83717993e-01,\n",
              "        1.74754190e-01, -8.67631675e-01,  3.50534210e-01,  1.09822615e+00,\n",
              "       -7.09395755e-01,  4.05542727e-01, -7.16546154e-01, -2.96862001e-01,\n",
              "       -9.40509094e-01, -6.39542184e-01, -2.05643870e-01,  4.83301687e-01,\n",
              "       -1.31203508e+00, -5.54250430e-01, -1.69623382e+00,  6.91048179e-01,\n",
              "        1.74247338e+00,  1.31233878e+00, -2.53436647e-01, -2.01963303e+00,\n",
              "        1.54300558e+00,  9.20698901e-01, -6.77127495e-02,  6.06337725e-01,\n",
              "       -1.46572933e+00, -2.02996539e-01,  1.91078780e+00, -7.09679006e-01,\n",
              "       -9.31070848e-01, -2.13299991e-01, -1.33265734e+00,  6.27530232e-01,\n",
              "       -1.04566330e-01, -8.01935714e-01,  6.02102595e-01,  7.24220211e-01,\n",
              "       -8.07577190e-01,  9.09134365e-01, -2.93933898e-01, -5.99571560e-01,\n",
              "       -6.72390240e-01,  7.43381575e-01, -4.78211929e-01, -3.54968539e-02,\n",
              "        1.20962541e-01, -1.97961587e+00, -2.67645897e+00,  1.65228951e-01,\n",
              "       -3.26785257e-01,  1.02872336e+00, -1.17915453e-01, -5.68811996e-01,\n",
              "       -2.29296343e-01, -7.09410673e-01,  4.59388154e-01,  1.12146600e+00,\n",
              "       -7.25374826e-02,  1.90583753e+00,  3.64914096e-01, -6.34319711e-02,\n",
              "       -9.40534160e-02,  1.21607221e+00, -2.37979403e-01, -6.93713498e-01,\n",
              "       -5.28509908e-02,  2.05871616e-01,  5.44191248e-01,  8.12732458e-01,\n",
              "        2.72396782e-01,  8.16495760e-02, -5.90371888e-02,  1.82437198e+00,\n",
              "       -6.58615790e-01, -3.48108466e-01, -2.39113852e-01,  4.53468840e-01,\n",
              "        1.09646454e+00,  1.69463052e+00, -4.41100240e-01, -1.50262100e+00,\n",
              "        7.48143537e-01,  1.83931700e-01,  7.59792765e-02,  1.59688655e+00,\n",
              "       -2.44485682e+00, -7.42258227e-01,  5.19768441e-01,  6.80597734e-01,\n",
              "       -5.03600662e-01,  1.14630799e+00, -2.86082599e-02, -7.98649653e-01,\n",
              "       -4.68353822e-01, -1.29292413e+00,  1.31710762e+00,  9.90644347e-01,\n",
              "       -3.29285392e-01, -3.75009963e-01,  2.24544313e-01,  6.18981790e-01,\n",
              "        1.57967531e+00,  3.63504452e-01,  5.88785105e-01, -1.05709059e+00,\n",
              "       -2.33866385e+00,  4.82251729e-01, -3.33265342e-01, -4.02598676e-03,\n",
              "        8.80388901e-01, -1.87382254e+00,  3.78013083e-01, -1.85340788e+00,\n",
              "        1.03249364e+00,  9.38614494e-01,  2.76838680e-01, -2.25035941e-01,\n",
              "       -3.13677118e-01,  5.66861205e-01,  1.02764142e+00,  1.92188986e-01,\n",
              "       -1.86915201e+00, -4.82011924e-02, -4.50723796e-01, -2.31854815e+00,\n",
              "       -5.11993753e-01,  9.42774371e-02,  3.68129911e-01, -1.72652561e+00,\n",
              "        1.05044266e+00, -8.43749750e-02, -3.51767937e-01,  6.27800490e-01,\n",
              "       -4.77820924e-02,  1.78345005e-01,  3.99313498e-01, -7.49189930e-01,\n",
              "        8.72400481e-01,  7.02810833e-01,  9.64223776e-01,  3.36514445e-01,\n",
              "       -2.20918684e-01,  1.05687635e+00, -1.18661922e-02, -2.01872180e-01,\n",
              "        2.68130126e-01,  4.59587745e-01, -8.92282995e-02, -1.31116045e+00,\n",
              "        6.17600583e-01,  2.94762067e-01, -1.30695873e+00, -1.59143917e+00,\n",
              "       -2.92083973e-01, -5.77652346e-02,  8.36453615e-01,  1.72484378e-01,\n",
              "        2.03492772e+00,  1.14215149e+00, -7.45454197e-01, -5.43221618e-02,\n",
              "        1.93605757e+00, -2.41161216e-02, -1.78474135e+00, -1.83076307e+00,\n",
              "        5.47503437e-01, -7.98524598e-01, -5.00816512e-01, -1.61518209e+00,\n",
              "       -2.22613947e+00,  1.14536845e-01, -1.51026344e+00, -3.94523774e-01,\n",
              "        1.04901210e+00, -3.52456445e-01,  5.59528546e-01,  6.77453683e-01,\n",
              "       -1.16550762e+00, -5.65648684e-01, -1.94631364e+00,  7.11874400e-01,\n",
              "       -7.28107393e-01,  6.23174180e-01,  6.44828815e-01, -2.16506445e-01,\n",
              "       -1.22399897e+00, -2.73933799e-03, -2.75243679e-01, -6.93408552e-01,\n",
              "        4.84883382e-01, -1.59765400e+00,  1.97617002e+00, -2.06617052e+00,\n",
              "       -6.23824811e-01, -4.88914522e-01,  6.31271841e-01,  9.93658974e-01,\n",
              "        9.38982953e-01,  1.17854611e+00, -9.33667793e-01, -1.39894685e+00,\n",
              "        3.27315306e-01, -4.62649076e-01,  2.96082924e-01, -4.40349900e-01,\n",
              "       -6.91963184e-01, -2.63036783e+00, -1.31555082e+00, -5.31904979e-01,\n",
              "       -9.94784170e-02, -3.89451293e-01, -1.09868829e+00,  1.54634581e-04,\n",
              "        1.06790143e+00,  1.07859095e+00, -1.01387443e-01, -1.08288086e+00,\n",
              "       -3.14474886e-01, -3.32531511e-01])"
            ]
          },
          "metadata": {},
          "execution_count": 30
        }
      ]
    },
    {
      "cell_type": "code",
      "source": [
        "from sklearn.metrics import r2_score\n",
        "from sklearn.metrics import mean_squared_error\n",
        "from sklearn.metrics import mean_absolute_error\n",
        "score = r2_score(y_test,y_prediction)\n",
        "mean_error = mean_squared_error(y_test,y_prediction)\n",
        "mae = mean_absolute_error(y_test,y_prediction)\n",
        "print(\"R2 SCORE is\", score)\n",
        "print(\"mean_sqrd_error is \", mean_error)\n",
        "print(\"Root mean squared error of is\",np.sqrt(mean_error))\n",
        "print(\"Mean Absolute error is\", mae)"
      ],
      "metadata": {
        "colab": {
          "base_uri": "https://localhost:8080/"
        },
        "id": "WrQofu3zId-n",
        "outputId": "ecfea9d3-52e3-4f96-918f-697b9932013b"
      },
      "execution_count": null,
      "outputs": [
        {
          "output_type": "stream",
          "name": "stdout",
          "text": [
            "R2 SCORE is 0.9709692870022694\n",
            "mean_sqrd_error is  0.027907933908512865\n",
            "Root mean squared error of is 0.16705667873064178\n",
            "Mean Absolute error is 0.11124695134092821\n"
          ]
        }
      ]
    },
    {
      "cell_type": "code",
      "source": [
        "y_test = pt_y.inverse_transform(y_test)\n",
        "y_test[:5]"
      ],
      "metadata": {
        "colab": {
          "base_uri": "https://localhost:8080/"
        },
        "id": "G2JoJa_tIf7_",
        "outputId": "c6a0156c-da45-4fa8-ded2-8e98e3cf1413"
      },
      "execution_count": null,
      "outputs": [
        {
          "output_type": "execute_result",
          "data": {
            "text/plain": [
              "array([[ 97.21944444],\n",
              "       [ 97.21944444],\n",
              "       [138.263     ],\n",
              "       [ 91.825     ],\n",
              "       [ 86.18619048]])"
            ]
          },
          "metadata": {},
          "execution_count": 32
        }
      ]
    },
    {
      "cell_type": "code",
      "source": [
        "y_prediction=y_prediction.reshape(-1,1)\n",
        "y_prediction = pt_y.inverse_transform(y_prediction)\n",
        "y_prediction[:5]"
      ],
      "metadata": {
        "colab": {
          "base_uri": "https://localhost:8080/"
        },
        "id": "MlWtKssqIi-g",
        "outputId": "8735374b-13f5-422a-b9ae-e320bcd51431"
      },
      "execution_count": null,
      "outputs": [
        {
          "output_type": "execute_result",
          "data": {
            "text/plain": [
              "array([[100.17467063],\n",
              "       [ 99.63256963],\n",
              "       [138.02746933],\n",
              "       [ 92.6620187 ],\n",
              "       [ 86.0865784 ]])"
            ]
          },
          "metadata": {},
          "execution_count": 33
        }
      ]
    },
    {
      "cell_type": "code",
      "source": [
        "df1 = pd.DataFrame({'Actual': y_test[100:120].flatten(), 'Predicted': y_prediction[100:120].flatten()})\n",
        "df1.plot(kind='line')\n",
        "plt.grid(which='major', linestyle='-', linewidth='0.5', color='green')\n",
        "plt.grid(which='minor', linestyle=':', linewidth='0.5', color='black')\n",
        "plt.show()"
      ],
      "metadata": {
        "colab": {
          "base_uri": "https://localhost:8080/",
          "height": 265
        },
        "id": "WG3xsJ7FIktr",
        "outputId": "d56ff1fe-a261-4d2f-8e2d-c2ef749e5ee6"
      },
      "execution_count": null,
      "outputs": [
        {
          "output_type": "display_data",
          "data": {
            "text/plain": [
              "<Figure size 432x288 with 1 Axes>"
            ],
            "image/png": "[encoded data removed]"
          },
          "metadata": {
            "needs_background": "light"
          }
        }
      ]
    },
    {
      "cell_type": "code",
      "source": [
        "result = pd.DataFrame()\n",
        "result[\"ACTUAL AQI\"] = y_test.flatten()\n",
        "result[\"PREDICTED AQI\"] = y_prediction\n",
        "result[\"DIFFERENCE\"] = result[\"ACTUAL AQI\"] - result[\"PREDICTED AQI\"]\n",
        "result[\"PERCENTAGE ERROR\"] = ( abs(result[\"ACTUAL AQI\"] - result[\"PREDICTED AQI\"] ) / result[\"ACTUAL AQI\"] ) * 100\n",
        "result.head(15)"
      ],
      "metadata": {
        "colab": {
          "base_uri": "https://localhost:8080/",
          "height": 520
        },
        "id": "qBGCJaT6ImAE",
        "outputId": "39a480c0-45a1-444e-8a81-4b8c13971eda"
      },
      "execution_count": null,
      "outputs": [
        {
          "output_type": "execute_result",
          "data": {
            "text/plain": [
              "    ACTUAL AQI  PREDICTED AQI  DIFFERENCE  PERCENTAGE ERROR\n",
              "0    97.219444     100.174671   -2.955226          3.039748\n",
              "1    97.219444      99.632570   -2.413125          2.482143\n",
              "2   138.263000     138.027469    0.235531          0.170350\n",
              "3    91.825000      92.662019   -0.837019          0.911537\n",
              "4    86.186190      86.086578    0.099612          0.115578\n",
              "5   139.958889     132.583037    7.375852          5.270013\n",
              "6    70.393800      71.815365   -1.421565          2.019446\n",
              "7    76.247500      80.622834   -4.375334          5.738331\n",
              "8   130.563000     131.958253   -1.395253          1.068643\n",
              "9    70.393800      65.353702    5.040098          7.159860\n",
              "10  125.160000     123.095212    2.064788          1.649719\n",
              "11   72.180833      66.927751    5.253082          7.277669\n",
              "12  127.566667     141.897356  -14.330689         11.233882\n",
              "13   83.808250      85.325905   -1.517655          1.810866\n",
              "14  125.160000     125.390035   -0.230035          0.183793"
            ],
            "text/html": [
              "\n",
              "  <div id=\"df-4c5d4f99-e538-457b-a4c7-753fbd5812b3\">\n",
              "    <div class=\"colab-df-container\">\n",
              "      <div>\n",
              "<style scoped>\n",
              "    .dataframe tbody tr th:only-of-type {\n",
              "        vertical-align: middle;\n",
              "    }\n",
              "\n",
              "    .dataframe tbody tr th {\n",
              "        vertical-align: top;\n",
              "    }\n",
              "\n",
              "    .dataframe thead th {\n",
              "        text-align: right;\n",
              "    }\n",
              "</style>\n",
              "<table border=\"1\" class=\"dataframe\">\n",
              "  <thead>\n",
              "    <tr style=\"text-align: right;\">\n",
              "      <th></th>\n",
              "      <th>ACTUAL AQI</th>\n",
              "      <th>PREDICTED AQI</th>\n",
              "      <th>DIFFERENCE</th>\n",
              "      <th>PERCENTAGE ERROR</th>\n",
              "    </tr>\n",
              "  </thead>\n",
              "  <tbody>\n",
              "    <tr>\n",
              "      <th>0</th>\n",
              "      <td>97.219444</td>\n",
              "      <td>100.174671</td>\n",
              "      <td>-2.955226</td>\n",
              "      <td>3.039748</td>\n",
              "    </tr>\n",
              "    <tr>\n",
              "      <th>1</th>\n",
              "      <td>97.219444</td>\n",
              "      <td>99.632570</td>\n",
              "      <td>-2.413125</td>\n",
              "      <td>2.482143</td>\n",
              "    </tr>\n",
              "    <tr>\n",
              "      <th>2</th>\n",
              "      <td>138.263000</td>\n",
              "      <td>138.027469</td>\n",
              "      <td>0.235531</td>\n",
              "      <td>0.170350</td>\n",
              "    </tr>\n",
              "    <tr>\n",
              "      <th>3</th>\n",
              "      <td>91.825000</td>\n",
              "      <td>92.662019</td>\n",
              "      <td>-0.837019</td>\n",
              "      <td>0.911537</td>\n",
              "    </tr>\n",
              "    <tr>\n",
              "      <th>4</th>\n",
              "      <td>86.186190</td>\n",
              "      <td>86.086578</td>\n",
              "      <td>0.099612</td>\n",
              "      <td>0.115578</td>\n",
              "    </tr>\n",
              "    <tr>\n",
              "      <th>5</th>\n",
              "      <td>139.958889</td>\n",
              "      <td>132.583037</td>\n",
              "      <td>7.375852</td>\n",
              "      <td>5.270013</td>\n",
              "    </tr>\n",
              "    <tr>\n",
              "      <th>6</th>\n",
              "      <td>70.393800</td>\n",
              "      <td>71.815365</td>\n",
              "      <td>-1.421565</td>\n",
              "      <td>2.019446</td>\n",
              "    </tr>\n",
              "    <tr>\n",
              "      <th>7</th>\n",
              "      <td>76.247500</td>\n",
              "      <td>80.622834</td>\n",
              "      <td>-4.375334</td>\n",
              "      <td>5.738331</td>\n",
              "    </tr>\n",
              "    <tr>\n",
              "      <th>8</th>\n",
              "      <td>130.563000</td>\n",
              "      <td>131.958253</td>\n",
              "      <td>-1.395253</td>\n",
              "      <td>1.068643</td>\n",
              "    </tr>\n",
              "    <tr>\n",
              "      <th>9</th>\n",
              "      <td>70.393800</td>\n",
              "      <td>65.353702</td>\n",
              "      <td>5.040098</td>\n",
              "      <td>7.159860</td>\n",
              "    </tr>\n",
              "    <tr>\n",
              "      <th>10</th>\n",
              "      <td>125.160000</td>\n",
              "      <td>123.095212</td>\n",
              "      <td>2.064788</td>\n",
              "      <td>1.649719</td>\n",
              "    </tr>\n",
              "    <tr>\n",
              "      <th>11</th>\n",
              "      <td>72.180833</td>\n",
              "      <td>66.927751</td>\n",
              "      <td>5.253082</td>\n",
              "      <td>7.277669</td>\n",
              "    </tr>\n",
              "    <tr>\n",
              "      <th>12</th>\n",
              "      <td>127.566667</td>\n",
              "      <td>141.897356</td>\n",
              "      <td>-14.330689</td>\n",
              "      <td>11.233882</td>\n",
              "    </tr>\n",
              "    <tr>\n",
              "      <th>13</th>\n",
              "      <td>83.808250</td>\n",
              "      <td>85.325905</td>\n",
              "      <td>-1.517655</td>\n",
              "      <td>1.810866</td>\n",
              "    </tr>\n",
              "    <tr>\n",
              "      <th>14</th>\n",
              "      <td>125.160000</td>\n",
              "      <td>125.390035</td>\n",
              "      <td>-0.230035</td>\n",
              "      <td>0.183793</td>\n",
              "    </tr>\n",
              "  </tbody>\n",
              "</table>\n",
              "</div>\n",
              "      <button class=\"colab-df-convert\" onclick=\"convertToInteractive('df-4c5d4f99-e538-457b-a4c7-753fbd5812b3')\"\n",
              "              title=\"Convert this dataframe to an interactive table.\"\n",
              "              style=\"display:none;\">\n",
              "        \n",
              "  <svg xmlns=\"http://www.w3.org/2000/svg\" height=\"24px\"viewBox=\"0 0 24 24\"\n",
              "       width=\"24px\">\n",
              "    <path d=\"M0 0h24v24H0V0z\" fill=\"none\"/>\n",
              "    <path d=\"M18.56 5.44l.94 2.06.94-2.06 2.06-.94-2.06-.94-.94-2.06-.94 2.06-2.06.94zm-11 1L8.5 8.5l.94-2.06 2.06-.94-2.06-.94L8.5 2.5l-.94 2.06-2.06.94zm10 10l.94 2.06.94-2.06 2.06-.94-2.06-.94-.94-2.06-.94 2.06-2.06.94z\"/><path d=\"M17.41 7.96l-1.37-1.37c-.4-.4-.92-.59-1.43-.59-.52 0-1.04.2-1.43.59L10.3 9.45l-7.72 7.72c-.78.78-.78 2.05 0 2.83L4 21.41c.39.39.9.59 1.41.59.51 0 1.02-.2 1.41-.59l7.78-7.78 2.81-2.81c.8-.78.8-2.07 0-2.86zM5.41 20L4 18.59l7.72-7.72 1.47 1.35L5.41 20z\"/>\n",
              "  </svg>\n",
              "      </button>\n",
              "      \n",
              "  <style>\n",
              "    .colab-df-container {\n",
              "      display:flex;\n",
              "      flex-wrap:wrap;\n",
              "      gap: 12px;\n",
              "    }\n",
              "\n",
              "    .colab-df-convert {\n",
              "      background-color: #E8F0FE;\n",
              "      border: none;\n",
              "      border-radius: 50%;\n",
              "      cursor: pointer;\n",
              "      display: none;\n",
              "      fill: #1967D2;\n",
              "      height: 32px;\n",
              "      padding: 0 0 0 0;\n",
              "      width: 32px;\n",
              "    }\n",
              "\n",
              "    .colab-df-convert:hover {\n",
              "      background-color: #E2EBFA;\n",
              "      box-shadow: 0px 1px 2px rgba(60, 64, 67, 0.3), 0px 1px 3px 1px rgba(60, 64, 67, 0.15);\n",
              "      fill: #174EA6;\n",
              "    }\n",
              "\n",
              "    [theme=dark] .colab-df-convert {\n",
              "      background-color: #3B4455;\n",
              "      fill: #D2E3FC;\n",
              "    }\n",
              "\n",
              "    [theme=dark] .colab-df-convert:hover {\n",
              "      background-color: #434B5C;\n",
              "      box-shadow: 0px 1px 3px 1px rgba(0, 0, 0, 0.15);\n",
              "      filter: drop-shadow(0px 1px 2px rgba(0, 0, 0, 0.3));\n",
              "      fill: #FFFFFF;\n",
              "    }\n",
              "  </style>\n",
              "\n",
              "      <script>\n",
              "        const buttonEl =\n",
              "          document.querySelector('#df-4c5d4f99-e538-457b-a4c7-753fbd5812b3 button.colab-df-convert');\n",
              "        buttonEl.style.display =\n",
              "          google.colab.kernel.accessAllowed ? 'block' : 'none';\n",
              "\n",
              "        async function convertToInteractive(key) {\n",
              "          const element = document.querySelector('#df-4c5d4f99-e538-457b-a4c7-753fbd5812b3');\n",
              "          const dataTable =\n",
              "            await google.colab.kernel.invokeFunction('convertToInteractive',\n",
              "                                                     [key], {});\n",
              "          if (!dataTable) return;\n",
              "\n",
              "          const docLinkHtml = 'Like what you see? Visit the ' +\n",
              "            '<a target=\"_blank\" href=https://colab.research.google.com/notebooks/data_table.ipynb>data table notebook</a>'\n",
              "            + ' to learn more about interactive tables.';\n",
              "          element.innerHTML = '';\n",
              "          dataTable['output_type'] = 'display_data';\n",
              "          await google.colab.output.renderOutput(dataTable, element);\n",
              "          const docLink = document.createElement('div');\n",
              "          docLink.innerHTML = docLinkHtml;\n",
              "          element.appendChild(docLink);\n",
              "        }\n",
              "      </script>\n",
              "    </div>\n",
              "  </div>\n",
              "  "
            ]
          },
          "metadata": {},
          "execution_count": 35
        }
      ]
    },
    {
      "cell_type": "markdown",
      "source": [
        "###KNN"
      ],
      "metadata": {
        "id": "fQ09GxsVLctJ"
      }
    },
    {
      "cell_type": "code",
      "source": [
        "k_range = list(range(1, 31))\n",
        "weight_options = ['uniform', 'distance']\n",
        "hp_candidates = dict(n_neighbors=k_range, weights=weight_options)\n",
        "knn = KNeighborsRegressor()\n",
        "# Search for best hyperparameters\n",
        "grid = GridSearchCV(estimator=knn, param_grid=hp_candidates, cv=5, scoring='r2')\n",
        "grid.fit(x_train, y_train)\n",
        "# Get the results\n",
        "print(grid.best_score_)\n",
        "print(grid.best_estimator_)\n",
        "print(grid.best_params_)"
      ],
      "metadata": {
        "colab": {
          "base_uri": "https://localhost:8080/"
        },
        "id": "PVq8ddiUIndb",
        "outputId": "d437624c-25ce-418c-b14b-53bf2b1477a3"
      },
      "execution_count": null,
      "outputs": [
        {
          "output_type": "stream",
          "name": "stdout",
          "text": [
            "0.9101619660777296\n",
            "KNeighborsRegressor(weights='distance')\n",
            "{'n_neighbors': 5, 'weights': 'distance'}\n"
          ]
        }
      ]
    },
    {
      "cell_type": "code",
      "source": [
        "regressor=KNeighborsRegressor(n_neighbors=21, weights='distance')\n",
        "regressor.fit(x_train,y_train)"
      ],
      "metadata": {
        "colab": {
          "base_uri": "https://localhost:8080/"
        },
        "id": "_AJh_E_PLjnz",
        "outputId": "e0c166b6-ae15-4321-f8d0-6ca510c88fe1"
      },
      "execution_count": null,
      "outputs": [
        {
          "output_type": "execute_result",
          "data": {
            "text/plain": [
              "KNeighborsRegressor(n_neighbors=21, weights='distance')"
            ]
          },
          "metadata": {},
          "execution_count": 10
        }
      ]
    },
    {
      "cell_type": "code",
      "source": [
        "y_prediction =  regressor.predict(x_test)\n",
        "y_prediction"
      ],
      "metadata": {
        "colab": {
          "base_uri": "https://localhost:8080/"
        },
        "id": "c8hitfc1Lk2-",
        "outputId": "fe94dff5-9168-4bf7-fa25-3002871412e9"
      },
      "execution_count": null,
      "outputs": [
        {
          "output_type": "execute_result",
          "data": {
            "text/plain": [
              "array([[ 2.31977716e-01],\n",
              "       [ 3.48220883e-01],\n",
              "       [ 4.57527730e-01],\n",
              "       [-1.02487169e-01],\n",
              "       [ 1.73453714e-01],\n",
              "       [ 5.63504281e-01],\n",
              "       [-5.11218005e-01],\n",
              "       [-2.91547839e-01],\n",
              "       [ 4.51180301e-01],\n",
              "       [-6.33946388e-01],\n",
              "       [ 5.59477685e-01],\n",
              "       [-9.62991883e-01],\n",
              "       [ 9.29633138e-01],\n",
              "       [-1.32130372e-02],\n",
              "       [ 7.36165455e-01],\n",
              "       [-2.04795150e+00],\n",
              "       [ 5.37063570e-01],\n",
              "       [-4.99641933e-01],\n",
              "       [ 6.88413748e-01],\n",
              "       [ 8.60789526e-01],\n",
              "       [ 6.41555288e-01],\n",
              "       [-2.04741719e-01],\n",
              "       [ 5.49422876e-01],\n",
              "       [-1.30645743e+00],\n",
              "       [-1.81713151e-01],\n",
              "       [-5.65999658e-01],\n",
              "       [-2.87098557e-01],\n",
              "       [ 2.24694222e-01],\n",
              "       [ 1.63989210e+00],\n",
              "       [ 1.21929284e-01],\n",
              "       [-4.35171976e-01],\n",
              "       [ 5.13095649e-01],\n",
              "       [-2.50242350e+00],\n",
              "       [ 1.54626095e+00],\n",
              "       [-1.63312864e+00],\n",
              "       [-3.74518458e-01],\n",
              "       [-1.68589564e+00],\n",
              "       [-1.16884619e+00],\n",
              "       [ 1.46602808e+00],\n",
              "       [ 5.85113196e-01],\n",
              "       [ 9.38673992e-02],\n",
              "       [ 8.28872998e-01],\n",
              "       [-2.51217561e-01],\n",
              "       [ 4.72809104e-01],\n",
              "       [ 4.78243013e-01],\n",
              "       [ 4.94119716e-02],\n",
              "       [-8.63391787e-01],\n",
              "       [-1.30539184e-01],\n",
              "       [ 6.28574687e-01],\n",
              "       [-5.74994022e-01],\n",
              "       [ 1.89231748e-01],\n",
              "       [ 1.30170934e+00],\n",
              "       [-1.79038006e+00],\n",
              "       [ 1.63840755e-01],\n",
              "       [ 3.19366095e-01],\n",
              "       [-7.90109969e-02],\n",
              "       [-9.57016416e-02],\n",
              "       [-1.96088795e+00],\n",
              "       [ 5.90008971e-01],\n",
              "       [ 6.76462809e-01],\n",
              "       [-3.67415277e-01],\n",
              "       [-1.59013394e-01],\n",
              "       [ 1.59806360e+00],\n",
              "       [-3.20672802e-01],\n",
              "       [-9.19695018e-01],\n",
              "       [-1.60781434e+00],\n",
              "       [-2.10338187e+00],\n",
              "       [-7.20704844e-02],\n",
              "       [-1.29199417e+00],\n",
              "       [-9.24003407e-02],\n",
              "       [-1.21971109e-02],\n",
              "       [-1.14833726e-01],\n",
              "       [-8.74994586e-01],\n",
              "       [ 1.70431469e-01],\n",
              "       [ 1.33306454e-01],\n",
              "       [ 3.18162971e-01],\n",
              "       [-9.86850552e-01],\n",
              "       [-2.20663086e-01],\n",
              "       [-7.60583797e-01],\n",
              "       [ 1.38272083e-01],\n",
              "       [ 5.85971313e-01],\n",
              "       [-1.01827803e+00],\n",
              "       [ 5.96343680e-01],\n",
              "       [-1.23965996e+00],\n",
              "       [-1.48941168e+00],\n",
              "       [-5.62266530e-01],\n",
              "       [ 7.21377114e-02],\n",
              "       [-7.32579796e-02],\n",
              "       [ 1.26204125e+00],\n",
              "       [-2.99171220e-01],\n",
              "       [ 4.93904640e-01],\n",
              "       [-5.94425813e-01],\n",
              "       [-2.27368617e-01],\n",
              "       [ 7.88697858e-02],\n",
              "       [ 1.21575391e-02],\n",
              "       [-6.42749253e-01],\n",
              "       [-3.87766411e-01],\n",
              "       [ 1.46713927e+00],\n",
              "       [-2.43800036e-01],\n",
              "       [ 1.02700549e-01],\n",
              "       [ 2.42078422e-01],\n",
              "       [ 5.45079043e-01],\n",
              "       [-5.94913957e-01],\n",
              "       [-1.58157589e-01],\n",
              "       [ 1.05427668e+00],\n",
              "       [ 3.58350990e-01],\n",
              "       [ 8.97307541e-01],\n",
              "       [ 1.62312740e+00],\n",
              "       [ 1.52309507e+00],\n",
              "       [ 8.30266862e-01],\n",
              "       [-3.55566029e-01],\n",
              "       [ 7.36544201e-02],\n",
              "       [ 1.29932936e+00],\n",
              "       [-3.69657400e-01],\n",
              "       [-1.49703981e+00],\n",
              "       [-3.13417457e-01],\n",
              "       [ 3.11289005e-01],\n",
              "       [-1.65176631e-01],\n",
              "       [-1.29549174e-01],\n",
              "       [-2.92692117e-01],\n",
              "       [ 2.99410230e-01],\n",
              "       [ 8.02951277e-01],\n",
              "       [-1.98119155e-01],\n",
              "       [-2.57694982e-01],\n",
              "       [-1.30408902e+00],\n",
              "       [ 5.27141354e-02],\n",
              "       [-9.25240515e-01],\n",
              "       [ 6.74272842e-01],\n",
              "       [ 8.63972575e-01],\n",
              "       [-2.25361406e-01],\n",
              "       [-5.44379720e-01],\n",
              "       [ 2.02465778e-01],\n",
              "       [-1.09522379e+00],\n",
              "       [ 7.32951362e-01],\n",
              "       [-1.27301581e+00],\n",
              "       [-4.61484758e-01],\n",
              "       [-5.71579717e-01],\n",
              "       [ 4.67163983e-01],\n",
              "       [ 3.76805618e-01],\n",
              "       [-1.11980540e-01],\n",
              "       [ 1.09690991e+00],\n",
              "       [ 1.85092739e+00],\n",
              "       [-5.34390924e-01],\n",
              "       [-1.46900640e+00],\n",
              "       [-2.89524292e-01],\n",
              "       [ 3.09562391e-02],\n",
              "       [-5.88235938e-01],\n",
              "       [ 6.35021425e-01],\n",
              "       [-6.70708110e-02],\n",
              "       [-3.48337976e-01],\n",
              "       [ 6.39247550e-01],\n",
              "       [ 6.63752751e-01],\n",
              "       [-2.94498668e-01],\n",
              "       [ 5.82809579e-02],\n",
              "       [-5.37178707e-01],\n",
              "       [-2.34778028e-01],\n",
              "       [-6.45529667e-01],\n",
              "       [-9.37631154e-01],\n",
              "       [-1.56308461e-01],\n",
              "       [ 3.77032467e-01],\n",
              "       [-1.31970597e+00],\n",
              "       [-7.46456704e-01],\n",
              "       [-1.74468694e+00],\n",
              "       [ 3.77205478e-01],\n",
              "       [ 1.65826137e+00],\n",
              "       [ 7.87183749e-01],\n",
              "       [-7.70986995e-02],\n",
              "       [-1.70810406e+00],\n",
              "       [ 1.01876485e+00],\n",
              "       [ 5.68400708e-01],\n",
              "       [-4.99932227e-03],\n",
              "       [ 6.22874470e-01],\n",
              "       [-1.72775135e+00],\n",
              "       [-1.53783846e-01],\n",
              "       [ 1.79898190e+00],\n",
              "       [-4.83685797e-01],\n",
              "       [-7.34584624e-01],\n",
              "       [-1.80070211e-01],\n",
              "       [-1.03681656e+00],\n",
              "       [ 2.43069204e-01],\n",
              "       [-1.46218116e-01],\n",
              "       [-6.51263956e-01],\n",
              "       [ 6.56435250e-01],\n",
              "       [ 7.40605509e-01],\n",
              "       [-4.27786832e-01],\n",
              "       [ 8.35165701e-01],\n",
              "       [-2.89271743e-01],\n",
              "       [-4.92145989e-01],\n",
              "       [-9.18332206e-01],\n",
              "       [ 5.68925243e-01],\n",
              "       [-5.33241054e-01],\n",
              "       [-1.92680684e-01],\n",
              "       [-1.43865027e-01],\n",
              "       [-2.13617007e+00],\n",
              "       [-2.16216264e+00],\n",
              "       [ 3.04638862e-02],\n",
              "       [-1.61444284e-01],\n",
              "       [ 4.17836404e-01],\n",
              "       [-6.13210027e-02],\n",
              "       [-5.36689319e-01],\n",
              "       [ 2.12772227e-03],\n",
              "       [-6.46970309e-01],\n",
              "       [ 4.11355560e-01],\n",
              "       [ 4.99128597e-01],\n",
              "       [ 5.64966545e-02],\n",
              "       [ 1.44451084e+00],\n",
              "       [ 2.41618890e-01],\n",
              "       [-7.23426015e-02],\n",
              "       [-2.04060430e-01],\n",
              "       [ 9.17181173e-01],\n",
              "       [-1.62198654e-01],\n",
              "       [-8.68922359e-01],\n",
              "       [ 5.23781992e-02],\n",
              "       [ 5.61684381e-02],\n",
              "       [ 5.91908853e-01],\n",
              "       [ 2.60047456e-01],\n",
              "       [ 4.22055971e-01],\n",
              "       [ 2.33364516e-01],\n",
              "       [-4.64872923e-01],\n",
              "       [ 1.49921180e+00],\n",
              "       [-2.20563587e-01],\n",
              "       [-7.44802824e-01],\n",
              "       [-1.20009937e-01],\n",
              "       [ 3.07038907e-01],\n",
              "       [ 8.34793913e-01],\n",
              "       [ 1.60206749e+00],\n",
              "       [-4.01059484e-01],\n",
              "       [-1.21320620e+00],\n",
              "       [ 4.87882791e-01],\n",
              "       [ 3.16520697e-01],\n",
              "       [ 4.52502636e-04],\n",
              "       [ 1.39311249e+00],\n",
              "       [-2.30899427e+00],\n",
              "       [-5.62248365e-01],\n",
              "       [ 9.87033347e-01],\n",
              "       [ 7.56984055e-01],\n",
              "       [-4.84130395e-01],\n",
              "       [ 3.94842214e-01],\n",
              "       [ 6.50682768e-02],\n",
              "       [-5.87373886e-01],\n",
              "       [-6.90830658e-01],\n",
              "       [-1.06107797e+00],\n",
              "       [ 7.73754731e-01],\n",
              "       [ 7.14021262e-01],\n",
              "       [-5.68370867e-01],\n",
              "       [-2.14504423e-01],\n",
              "       [ 8.18472825e-02],\n",
              "       [ 6.36084280e-01],\n",
              "       [ 1.00185261e+00],\n",
              "       [ 5.35259585e-01],\n",
              "       [ 5.21090639e-01],\n",
              "       [-1.05465814e+00],\n",
              "       [-2.03865872e+00],\n",
              "       [-1.91254692e-03],\n",
              "       [-3.87799352e-01],\n",
              "       [-8.06686946e-02],\n",
              "       [ 9.50432692e-01],\n",
              "       [-1.82849968e+00],\n",
              "       [ 5.66801596e-01],\n",
              "       [-1.54481936e+00],\n",
              "       [ 1.05171555e+00],\n",
              "       [ 6.49629005e-01],\n",
              "       [ 1.84076042e-01],\n",
              "       [ 5.66712209e-02],\n",
              "       [-2.13677506e-01],\n",
              "       [ 3.40795286e-01],\n",
              "       [ 1.30402763e+00],\n",
              "       [ 2.28777073e-01],\n",
              "       [-1.58849940e+00],\n",
              "       [ 4.95160067e-02],\n",
              "       [-1.35701328e+00],\n",
              "       [-2.28031576e+00],\n",
              "       [-3.11949954e-01],\n",
              "       [ 1.05326658e-01],\n",
              "       [ 3.56539350e-01],\n",
              "       [-1.59680487e+00],\n",
              "       [ 6.00695193e-01],\n",
              "       [ 1.89667748e-01],\n",
              "       [-2.55775887e-01],\n",
              "       [ 5.54677410e-01],\n",
              "       [ 3.28606415e-02],\n",
              "       [ 2.26785023e-02],\n",
              "       [ 5.90606362e-01],\n",
              "       [-2.47201296e-01],\n",
              "       [ 1.00420973e+00],\n",
              "       [ 2.73911354e-01],\n",
              "       [ 9.46019047e-01],\n",
              "       [ 5.86825516e-01],\n",
              "       [-7.18561415e-02],\n",
              "       [ 7.36634324e-01],\n",
              "       [ 1.43461916e-01],\n",
              "       [-3.87431785e-01],\n",
              "       [ 3.24824225e-01],\n",
              "       [ 3.08688138e-01],\n",
              "       [ 9.07691598e-02],\n",
              "       [-1.31964385e+00],\n",
              "       [ 3.88394365e-01],\n",
              "       [ 3.37664060e-01],\n",
              "       [-8.10458788e-01],\n",
              "       [-1.38696320e+00],\n",
              "       [-2.15908032e-01],\n",
              "       [ 4.12385338e-01],\n",
              "       [ 9.35918433e-01],\n",
              "       [ 4.17749340e-01],\n",
              "       [ 1.61173383e+00],\n",
              "       [ 9.46253320e-01],\n",
              "       [-6.19241924e-01],\n",
              "       [-1.41049349e-01],\n",
              "       [ 1.05561497e+00],\n",
              "       [-1.99832534e-01],\n",
              "       [-1.71156982e+00],\n",
              "       [-1.64813142e+00],\n",
              "       [ 6.67984688e-01],\n",
              "       [-5.56944191e-01],\n",
              "       [-5.36201518e-01],\n",
              "       [-1.56940841e+00],\n",
              "       [-2.16826665e+00],\n",
              "       [ 6.69955177e-02],\n",
              "       [-1.55472862e+00],\n",
              "       [-3.17957604e-01],\n",
              "       [ 6.30007610e-01],\n",
              "       [-3.66773609e-01],\n",
              "       [ 5.82242496e-01],\n",
              "       [ 6.97987447e-01],\n",
              "       [-1.34356789e+00],\n",
              "       [-3.32288766e-01],\n",
              "       [-1.82156328e+00],\n",
              "       [ 7.97591655e-01],\n",
              "       [-3.83104268e-01],\n",
              "       [ 4.63787496e-01],\n",
              "       [ 5.27602237e-01],\n",
              "       [-7.51902463e-02],\n",
              "       [-8.67117944e-01],\n",
              "       [ 5.34916101e-02],\n",
              "       [-2.64633265e-02],\n",
              "       [-9.28691364e-01],\n",
              "       [ 4.68674694e-01],\n",
              "       [-1.38759779e+00],\n",
              "       [ 1.74989471e+00],\n",
              "       [-2.04168980e+00],\n",
              "       [-9.19905771e-01],\n",
              "       [-2.52664256e-01],\n",
              "       [ 6.38602538e-01],\n",
              "       [ 8.73246221e-01],\n",
              "       [ 5.26206607e-01],\n",
              "       [ 1.23881623e+00],\n",
              "       [-3.27923176e-01],\n",
              "       [-1.74762940e+00],\n",
              "       [ 7.39726456e-01],\n",
              "       [-2.03459201e-01],\n",
              "       [ 3.09693981e-01],\n",
              "       [-5.26600341e-01],\n",
              "       [-2.47156881e-01],\n",
              "       [-2.39599211e+00],\n",
              "       [-1.22853662e+00],\n",
              "       [-1.09377926e+00],\n",
              "       [-1.71312534e-01],\n",
              "       [-4.19436148e-01],\n",
              "       [-6.48817402e-01],\n",
              "       [ 1.61214852e-01],\n",
              "       [ 4.20025553e-01],\n",
              "       [ 1.23298068e+00],\n",
              "       [-1.42328954e-01],\n",
              "       [-1.17074583e+00],\n",
              "       [-2.03069778e-01],\n",
              "       [-1.95479674e-01]])"
            ]
          },
          "metadata": {},
          "execution_count": 11
        }
      ]
    },
    {
      "cell_type": "code",
      "source": [
        "from sklearn.metrics import r2_score\n",
        "from sklearn.metrics import mean_squared_error\n",
        "from sklearn.metrics import mean_absolute_error\n",
        "score = r2_score(y_test,y_prediction)\n",
        "mean_error = mean_squared_error(y_test,y_prediction)\n",
        "mae = mean_absolute_error(y_test,y_prediction)\n",
        "print(\"R2 SCORE is\", score)\n",
        "print(\"mean_sqrd_error is \", mean_error)\n",
        "print(\"Root mean squared error of is\",np.sqrt(mean_error))\n",
        "print(\"Mean Absolute error is\", mae)"
      ],
      "metadata": {
        "colab": {
          "base_uri": "https://localhost:8080/"
        },
        "id": "Hd1mKCZWLmMd",
        "outputId": "18f1d80c-6ec0-4cb8-8617-72af1a0c0056"
      },
      "execution_count": null,
      "outputs": [
        {
          "output_type": "stream",
          "name": "stdout",
          "text": [
            "R2 SCORE is 0.8742005014917812\n",
            "mean_sqrd_error is  0.12093413242609218\n",
            "Root mean squared error of is 0.34775585174960344\n",
            "Mean Absolute error is 0.2517700620459228\n"
          ]
        }
      ]
    },
    {
      "cell_type": "code",
      "source": [
        "y_test = pt_y.inverse_transform(y_test)\n",
        "y_test[:5]"
      ],
      "metadata": {
        "colab": {
          "base_uri": "https://localhost:8080/"
        },
        "id": "nlNLKHROLopt",
        "outputId": "97cd48cf-840d-444e-feef-f4f51d1fd50a"
      },
      "execution_count": null,
      "outputs": [
        {
          "output_type": "execute_result",
          "data": {
            "text/plain": [
              "array([[ 97.21944444],\n",
              "       [ 97.21944444],\n",
              "       [138.263     ],\n",
              "       [ 91.825     ],\n",
              "       [ 86.18619048]])"
            ]
          },
          "metadata": {},
          "execution_count": 13
        }
      ]
    },
    {
      "cell_type": "code",
      "source": [
        "y_prediction=y_prediction.reshape(-1,1)\n",
        "y_prediction = pt_y.inverse_transform(y_prediction)\n",
        "y_prediction[:5]"
      ],
      "metadata": {
        "colab": {
          "base_uri": "https://localhost:8080/"
        },
        "id": "wL38MFGOLqpB",
        "outputId": "417b0d6d-aaa7-4f97-c193-705316959f4f"
      },
      "execution_count": null,
      "outputs": [
        {
          "output_type": "execute_result",
          "data": {
            "text/plain": [
              "array([[102.0422169 ],\n",
              "       [107.39729509],\n",
              "       [112.69380004],\n",
              "       [ 88.09969189],\n",
              "       [ 99.44978249]])"
            ]
          },
          "metadata": {},
          "execution_count": 14
        }
      ]
    },
    {
      "cell_type": "code",
      "source": [
        "df1 = pd.DataFrame({'Actual': y_test[100:120].flatten(), 'Predicted': y_prediction[100:120].flatten()})\n",
        "df1.plot(kind='line')\n",
        "plt.grid(which='major', linestyle='-', linewidth='0.5', color='green')\n",
        "plt.grid(which='minor', linestyle=':', linewidth='0.5', color='black')\n",
        "plt.show()"
      ],
      "metadata": {
        "colab": {
          "base_uri": "https://localhost:8080/",
          "height": 265
        },
        "id": "vITAYDDJLr9M",
        "outputId": "9469f602-6f26-424e-8606-8668649ebfc1"
      },
      "execution_count": null,
      "outputs": [
        {
          "output_type": "display_data",
          "data": {
            "text/plain": [
              "<Figure size 432x288 with 1 Axes>"
            ],
            "image/png": "[encoded data removed]"
          },
          "metadata": {
            "needs_background": "light"
          }
        }
      ]
    },
    {
      "cell_type": "code",
      "source": [
        "result = pd.DataFrame()\n",
        "result[\"ACTUAL AQI\"] = y_test.flatten()\n",
        "result[\"PREDICTED AQI\"] = y_prediction\n",
        "result[\"DIFFERENCE\"] = result[\"ACTUAL AQI\"] - result[\"PREDICTED AQI\"]\n",
        "result[\"PERCENTAGE ERROR\"] = ( abs(result[\"ACTUAL AQI\"] - result[\"PREDICTED AQI\"] ) / result[\"ACTUAL AQI\"] ) * 100\n",
        "result.head(15)"
      ],
      "metadata": {
        "colab": {
          "base_uri": "https://localhost:8080/",
          "height": 520
        },
        "id": "YqefJRCgLtV3",
        "outputId": "95464ca9-9559-437c-8931-88525310d922"
      },
      "execution_count": null,
      "outputs": [
        {
          "output_type": "execute_result",
          "data": {
            "text/plain": [
              "    ACTUAL AQI  PREDICTED AQI  DIFFERENCE  PERCENTAGE ERROR\n",
              "0    97.219444     102.042217   -4.822772          4.960708\n",
              "1    97.219444     107.397295  -10.177851         10.468945\n",
              "2   138.263000     112.693800   25.569200         18.493162\n",
              "3    91.825000      88.099692    3.725308          4.056965\n",
              "4    86.186190      99.449782  -13.263592         15.389463\n",
              "5   139.958889     118.083036   21.875852         15.630199\n",
              "6    70.393800      73.655039   -3.261239          4.632850\n",
              "7    76.247500      81.091378   -4.843878          6.352835\n",
              "8   130.563000     112.379080   18.183920         13.927315\n",
              "9    70.393800      69.805392    0.588408          0.835880\n",
              "10  125.160000     117.873549    7.286451          5.821709\n",
              "11   72.180833      60.459004   11.721829         16.239532\n",
              "12  127.566667     138.808931  -11.242265          8.812854\n",
              "13   83.808250      91.619902   -7.811652          9.320863\n",
              "14  125.160000     127.432227   -2.272227          1.815458"
            ],
            "text/html": [
              "\n",
              "  <div id=\"df-77c1a93a-660d-43c7-a7fb-29f43c91a8f1\">\n",
              "    <div class=\"colab-df-container\">\n",
              "      <div>\n",
              "<style scoped>\n",
              "    .dataframe tbody tr th:only-of-type {\n",
              "        vertical-align: middle;\n",
              "    }\n",
              "\n",
              "    .dataframe tbody tr th {\n",
              "        vertical-align: top;\n",
              "    }\n",
              "\n",
              "    .dataframe thead th {\n",
              "        text-align: right;\n",
              "    }\n",
              "</style>\n",
              "<table border=\"1\" class=\"dataframe\">\n",
              "  <thead>\n",
              "    <tr style=\"text-align: right;\">\n",
              "      <th></th>\n",
              "      <th>ACTUAL AQI</th>\n",
              "      <th>PREDICTED AQI</th>\n",
              "      <th>DIFFERENCE</th>\n",
              "      <th>PERCENTAGE ERROR</th>\n",
              "    </tr>\n",
              "  </thead>\n",
              "  <tbody>\n",
              "    <tr>\n",
              "      <th>0</th>\n",
              "      <td>97.219444</td>\n",
              "      <td>102.042217</td>\n",
              "      <td>-4.822772</td>\n",
              "      <td>4.960708</td>\n",
              "    </tr>\n",
              "    <tr>\n",
              "      <th>1</th>\n",
              "      <td>97.219444</td>\n",
              "      <td>107.397295</td>\n",
              "      <td>-10.177851</td>\n",
              "      <td>10.468945</td>\n",
              "    </tr>\n",
              "    <tr>\n",
              "      <th>2</th>\n",
              "      <td>138.263000</td>\n",
              "      <td>112.693800</td>\n",
              "      <td>25.569200</td>\n",
              "      <td>18.493162</td>\n",
              "    </tr>\n",
              "    <tr>\n",
              "      <th>3</th>\n",
              "      <td>91.825000</td>\n",
              "      <td>88.099692</td>\n",
              "      <td>3.725308</td>\n",
              "      <td>4.056965</td>\n",
              "    </tr>\n",
              "    <tr>\n",
              "      <th>4</th>\n",
              "      <td>86.186190</td>\n",
              "      <td>99.449782</td>\n",
              "      <td>-13.263592</td>\n",
              "      <td>15.389463</td>\n",
              "    </tr>\n",
              "    <tr>\n",
              "      <th>5</th>\n",
              "      <td>139.958889</td>\n",
              "      <td>118.083036</td>\n",
              "      <td>21.875852</td>\n",
              "      <td>15.630199</td>\n",
              "    </tr>\n",
              "    <tr>\n",
              "      <th>6</th>\n",
              "      <td>70.393800</td>\n",
              "      <td>73.655039</td>\n",
              "      <td>-3.261239</td>\n",
              "      <td>4.632850</td>\n",
              "    </tr>\n",
              "    <tr>\n",
              "      <th>7</th>\n",
              "      <td>76.247500</td>\n",
              "      <td>81.091378</td>\n",
              "      <td>-4.843878</td>\n",
              "      <td>6.352835</td>\n",
              "    </tr>\n",
              "    <tr>\n",
              "      <th>8</th>\n",
              "      <td>130.563000</td>\n",
              "      <td>112.379080</td>\n",
              "      <td>18.183920</td>\n",
              "      <td>13.927315</td>\n",
              "    </tr>\n",
              "    <tr>\n",
              "      <th>9</th>\n",
              "      <td>70.393800</td>\n",
              "      <td>69.805392</td>\n",
              "      <td>0.588408</td>\n",
              "      <td>0.835880</td>\n",
              "    </tr>\n",
              "    <tr>\n",
              "      <th>10</th>\n",
              "      <td>125.160000</td>\n",
              "      <td>117.873549</td>\n",
              "      <td>7.286451</td>\n",
              "      <td>5.821709</td>\n",
              "    </tr>\n",
              "    <tr>\n",
              "      <th>11</th>\n",
              "      <td>72.180833</td>\n",
              "      <td>60.459004</td>\n",
              "      <td>11.721829</td>\n",
              "      <td>16.239532</td>\n",
              "    </tr>\n",
              "    <tr>\n",
              "      <th>12</th>\n",
              "      <td>127.566667</td>\n",
              "      <td>138.808931</td>\n",
              "      <td>-11.242265</td>\n",
              "      <td>8.812854</td>\n",
              "    </tr>\n",
              "    <tr>\n",
              "      <th>13</th>\n",
              "      <td>83.808250</td>\n",
              "      <td>91.619902</td>\n",
              "      <td>-7.811652</td>\n",
              "      <td>9.320863</td>\n",
              "    </tr>\n",
              "    <tr>\n",
              "      <th>14</th>\n",
              "      <td>125.160000</td>\n",
              "      <td>127.432227</td>\n",
              "      <td>-2.272227</td>\n",
              "      <td>1.815458</td>\n",
              "    </tr>\n",
              "  </tbody>\n",
              "</table>\n",
              "</div>\n",
              "      <button class=\"colab-df-convert\" onclick=\"convertToInteractive('df-77c1a93a-660d-43c7-a7fb-29f43c91a8f1')\"\n",
              "              title=\"Convert this dataframe to an interactive table.\"\n",
              "              style=\"display:none;\">\n",
              "        \n",
              "  <svg xmlns=\"http://www.w3.org/2000/svg\" height=\"24px\"viewBox=\"0 0 24 24\"\n",
              "       width=\"24px\">\n",
              "    <path d=\"M0 0h24v24H0V0z\" fill=\"none\"/>\n",
              "    <path d=\"M18.56 5.44l.94 2.06.94-2.06 2.06-.94-2.06-.94-.94-2.06-.94 2.06-2.06.94zm-11 1L8.5 8.5l.94-2.06 2.06-.94-2.06-.94L8.5 2.5l-.94 2.06-2.06.94zm10 10l.94 2.06.94-2.06 2.06-.94-2.06-.94-.94-2.06-.94 2.06-2.06.94z\"/><path d=\"M17.41 7.96l-1.37-1.37c-.4-.4-.92-.59-1.43-.59-.52 0-1.04.2-1.43.59L10.3 9.45l-7.72 7.72c-.78.78-.78 2.05 0 2.83L4 21.41c.39.39.9.59 1.41.59.51 0 1.02-.2 1.41-.59l7.78-7.78 2.81-2.81c.8-.78.8-2.07 0-2.86zM5.41 20L4 18.59l7.72-7.72 1.47 1.35L5.41 20z\"/>\n",
              "  </svg>\n",
              "      </button>\n",
              "      \n",
              "  <style>\n",
              "    .colab-df-container {\n",
              "      display:flex;\n",
              "      flex-wrap:wrap;\n",
              "      gap: 12px;\n",
              "    }\n",
              "\n",
              "    .colab-df-convert {\n",
              "      background-color: #E8F0FE;\n",
              "      border: none;\n",
              "      border-radius: 50%;\n",
              "      cursor: pointer;\n",
              "      display: none;\n",
              "      fill: #1967D2;\n",
              "      height: 32px;\n",
              "      padding: 0 0 0 0;\n",
              "      width: 32px;\n",
              "    }\n",
              "\n",
              "    .colab-df-convert:hover {\n",
              "      background-color: #E2EBFA;\n",
              "      box-shadow: 0px 1px 2px rgba(60, 64, 67, 0.3), 0px 1px 3px 1px rgba(60, 64, 67, 0.15);\n",
              "      fill: #174EA6;\n",
              "    }\n",
              "\n",
              "    [theme=dark] .colab-df-convert {\n",
              "      background-color: #3B4455;\n",
              "      fill: #D2E3FC;\n",
              "    }\n",
              "\n",
              "    [theme=dark] .colab-df-convert:hover {\n",
              "      background-color: #434B5C;\n",
              "      box-shadow: 0px 1px 3px 1px rgba(0, 0, 0, 0.15);\n",
              "      filter: drop-shadow(0px 1px 2px rgba(0, 0, 0, 0.3));\n",
              "      fill: #FFFFFF;\n",
              "    }\n",
              "  </style>\n",
              "\n",
              "      <script>\n",
              "        const buttonEl =\n",
              "          document.querySelector('#df-77c1a93a-660d-43c7-a7fb-29f43c91a8f1 button.colab-df-convert');\n",
              "        buttonEl.style.display =\n",
              "          google.colab.kernel.accessAllowed ? 'block' : 'none';\n",
              "\n",
              "        async function convertToInteractive(key) {\n",
              "          const element = document.querySelector('#df-77c1a93a-660d-43c7-a7fb-29f43c91a8f1');\n",
              "          const dataTable =\n",
              "            await google.colab.kernel.invokeFunction('convertToInteractive',\n",
              "                                                     [key], {});\n",
              "          if (!dataTable) return;\n",
              "\n",
              "          const docLinkHtml = 'Like what you see? Visit the ' +\n",
              "            '<a target=\"_blank\" href=https://colab.research.google.com/notebooks/data_table.ipynb>data table notebook</a>'\n",
              "            + ' to learn more about interactive tables.';\n",
              "          element.innerHTML = '';\n",
              "          dataTable['output_type'] = 'display_data';\n",
              "          await google.colab.output.renderOutput(dataTable, element);\n",
              "          const docLink = document.createElement('div');\n",
              "          docLink.innerHTML = docLinkHtml;\n",
              "          element.appendChild(docLink);\n",
              "        }\n",
              "      </script>\n",
              "    </div>\n",
              "  </div>\n",
              "  "
            ]
          },
          "metadata": {},
          "execution_count": 16
        }
      ]
    },
    {
      "cell_type": "markdown",
      "source": [
        "###Random forest"
      ],
      "metadata": {
        "id": "ceyz6-maLxdk"
      }
    },
    {
      "cell_type": "code",
      "source": [
        "n_estimators = [5,20,50,100] # number of trees in the random forest\n",
        "max_features = ['auto', 'sqrt'] # number of features in consideration at every split\n",
        "max_depth = [int(x) for x in np.linspace(10, 120, num = 12)] # maximum number of levels allowed in each decision tree\n",
        "min_samples_split = [2, 6, 10] # minimum sample number to split a node\n",
        "min_samples_leaf = [1, 3, 4] # minimum sample number that can be stored in a leaf node\n",
        "bootstrap = [True, False] # method used to sample data points\n",
        "\n",
        "random_grid = {'n_estimators': n_estimators,\n",
        "\n",
        "'max_features': max_features,\n",
        "\n",
        "'max_depth': max_depth,\n",
        "\n",
        "'min_samples_split': min_samples_split,\n",
        "\n",
        "'min_samples_leaf': min_samples_leaf,\n",
        "\n",
        "'bootstrap': bootstrap}"
      ],
      "metadata": {
        "id": "PXQRmwoy4YxQ"
      },
      "execution_count": null,
      "outputs": []
    },
    {
      "cell_type": "code",
      "source": [
        "## Importing Random Forest Classifier from the sklearn.ensemble\n",
        "from sklearn.ensemble import RandomForestRegressor\n",
        "rf = RandomForestRegressor()"
      ],
      "metadata": {
        "id": "GS8s1jZC4h-d"
      },
      "execution_count": null,
      "outputs": []
    },
    {
      "cell_type": "code",
      "source": [
        "\n",
        "\n",
        "from sklearn.model_selection import RandomizedSearchCV\n",
        "rf_random = RandomizedSearchCV(estimator = rf,param_distributions = random_grid,\n",
        "               n_iter = 100, cv = 5, verbose=2, random_state=35, n_jobs = -1)\n",
        "\n",
        "\n",
        "\n",
        "from sklearn.feature_selection import SelectKBest\n",
        "from sklearn.feature_selection import mutual_info_regression\n",
        "\n",
        "fs = SelectKBest(score_func=mutual_info_regression, k='all')\n",
        "fs.fit(x_train, y_train)\n",
        "x_train_fs = fs.transform(x_train)\n",
        "x_test_fs = fs.transform(x_test)\n",
        "\n"
      ],
      "metadata": {
        "id": "rAqrh6cxLu6S"
      },
      "execution_count": null,
      "outputs": []
    },
    {
      "cell_type": "code",
      "source": [
        "rf_random.fit(x_train, y_train)"
      ],
      "metadata": {
        "colab": {
          "base_uri": "https://localhost:8080/"
        },
        "id": "1zSBtJHT4nHd",
        "outputId": "38a53e38-bd9b-4c3b-e89f-d664fab0295b"
      },
      "execution_count": null,
      "outputs": [
        {
          "output_type": "stream",
          "name": "stdout",
          "text": [
            "Fitting 5 folds for each of 100 candidates, totalling 500 fits\n"
          ]
        },
        {
          "output_type": "execute_result",
          "data": {
            "text/plain": [
              "RandomizedSearchCV(cv=5, estimator=RandomForestRegressor(), n_iter=100,\n",
              "                   n_jobs=-1,\n",
              "                   param_distributions={'bootstrap': [True, False],\n",
              "                                        'max_depth': [10, 20, 30, 40, 50, 60,\n",
              "                                                      70, 80, 90, 100, 110,\n",
              "                                                      120],\n",
              "                                        'max_features': ['auto', 'sqrt'],\n",
              "                                        'min_samples_leaf': [1, 3, 4],\n",
              "                                        'min_samples_split': [2, 6, 10],\n",
              "                                        'n_estimators': [5, 20, 50, 100]},\n",
              "                   random_state=35, verbose=2)"
            ]
          },
          "metadata": {},
          "execution_count": 12
        }
      ]
    },
    {
      "cell_type": "code",
      "source": [
        "print ('Random grid: ', random_grid, '\\n')\n",
        "# print the best parameters\n",
        "print ('Best Parameters: ', rf_random.best_params_, ' \\n')"
      ],
      "metadata": {
        "colab": {
          "base_uri": "https://localhost:8080/"
        },
        "id": "9TRDxF-A4qnH",
        "outputId": "e1f068c9-53dd-452a-fdde-241468c53c78"
      },
      "execution_count": null,
      "outputs": [
        {
          "output_type": "stream",
          "name": "stdout",
          "text": [
            "Random grid:  {'n_estimators': [5, 20, 50, 100], 'max_features': ['auto', 'sqrt'], 'max_depth': [10, 20, 30, 40, 50, 60, 70, 80, 90, 100, 110, 120], 'min_samples_split': [2, 6, 10], 'min_samples_leaf': [1, 3, 4], 'bootstrap': [True, False]} \n",
            "\n",
            "Best Parameters:  {'n_estimators': 20, 'min_samples_split': 6, 'min_samples_leaf': 3, 'max_features': 'auto', 'max_depth': 70, 'bootstrap': True}  \n",
            "\n"
          ]
        }
      ]
    },
    {
      "cell_type": "code",
      "source": [
        "regressor = RandomForestRegressor(n_estimators = 20, min_samples_split = 6, min_samples_leaf= 3, max_features = 'auto', max_depth= 70, bootstrap=True) \n",
        "regressor.fit( x_train, y_train) "
      ],
      "metadata": {
        "colab": {
          "base_uri": "https://localhost:8080/"
        },
        "id": "i0_LVXT04sq4",
        "outputId": "fcb06c2f-c7da-42ea-8f53-d7881e0e2852"
      },
      "execution_count": null,
      "outputs": [
        {
          "output_type": "execute_result",
          "data": {
            "text/plain": [
              "RandomForestRegressor(max_depth=70, min_samples_leaf=3, min_samples_split=6,\n",
              "                      n_estimators=20)"
            ]
          },
          "metadata": {},
          "execution_count": 14
        }
      ]
    },
    {
      "cell_type": "code",
      "source": [
        "\n",
        "\n",
        "y_prediction =  regressor.predict(x_test)\n",
        "y_prediction \n",
        "\n"
      ],
      "metadata": {
        "colab": {
          "base_uri": "https://localhost:8080/"
        },
        "id": "CE2nU1uh4vMG",
        "outputId": "26fc14cd-b209-411c-d8f2-194512a65286"
      },
      "execution_count": null,
      "outputs": [
        {
          "output_type": "execute_result",
          "data": {
            "text/plain": [
              "array([ 0.12184833,  0.12378904,  0.90440117, -0.00768066, -0.09863366,\n",
              "        0.94720239, -0.61475006, -0.45252653,  0.81130126, -0.61475006,\n",
              "        0.6941115 , -0.52721602,  0.73314317, -0.22726711,  0.69541909,\n",
              "       -2.15205134,  0.83371975, -0.61497862,  1.53406049,  1.0601534 ,\n",
              "        0.69541909, -0.21635557,  0.94819692, -1.99261098, -0.00561988,\n",
              "       -0.61475006, -0.12694205, -0.17874244,  1.86867546,  0.50408919,\n",
              "       -0.30268678,  0.45828775, -2.80345589,  1.97695326, -1.33846963,\n",
              "       -0.21653354, -1.11648329, -1.4352095 ,  1.61349775,  0.49710618,\n",
              "        0.49942627,  1.17214331, -0.27129607,  0.62257867,  0.22278103,\n",
              "       -0.29499235, -0.85201536, -0.49409817,  0.48539293, -0.61475006,\n",
              "        0.04380353,  1.64842956, -2.0722384 ,  0.69767433,  0.62394909,\n",
              "       -0.00811966, -0.2949759 , -1.74366173,  0.73970684,  0.9448858 ,\n",
              "       -0.14159533, -0.2949759 ,  1.5311266 , -0.37228529, -1.03298251,\n",
              "       -1.21541131, -2.31793945, -0.40599471, -1.08868079, -0.35980216,\n",
              "        0.23259147, -0.35885543, -0.1587537 ,  0.4687801 ,  0.25050375,\n",
              "        0.12184833, -1.377987  , -0.37439611, -1.33406644, -0.0442481 ,\n",
              "        0.48539293, -0.84567931,  0.03427267, -0.52588037, -1.251994  ,\n",
              "       -0.61475006,  0.09699154, -0.07629096,  1.57805727, -0.37362516,\n",
              "        0.90231837, -0.41071009,  0.0509042 ,  0.10907337,  0.23245259,\n",
              "       -1.22854418,  0.18872982,  1.58422754, -0.61486762,  0.42965812,\n",
              "        0.28150425,  0.22323701, -0.61475006, -0.14247465,  1.72752944,\n",
              "        0.24342674,  0.85292803,  1.84645141,  1.8725316 ,  1.39180957,\n",
              "       -0.27281622, -0.1424582 ,  1.05295385, -0.37347567, -1.21544544,\n",
              "       -0.37270471,  0.78686414,  0.46423072, -0.36092092, -0.60046218,\n",
              "        0.11260761,  0.69541909, -0.00408219, -0.61403673, -1.3078725 ,\n",
              "        0.25224898, -0.50200276,  0.48338314,  1.39180957, -0.32507726,\n",
              "       -0.61475006, -0.08538023, -1.93628939,  0.74944172, -1.26075375,\n",
              "       -0.69061724, -0.67350035,  0.24825632,  0.69653633, -0.04973906,\n",
              "        1.58995717,  2.44422409, -0.49248565, -1.81671244, -0.49574629,\n",
              "        0.25123732, -0.61475006,  0.83375125,  0.27796749, -0.64832591,\n",
              "        0.25021108,  0.77289885, -0.64486496,  0.48360253, -0.81646477,\n",
              "       -0.43605932, -0.89036006, -0.52656198, -0.06287561,  0.51118955,\n",
              "       -1.30058702, -0.54637621, -1.59331221,  0.6941115 ,  1.84283276,\n",
              "        1.53782215, -0.43729615, -2.08144471,  1.65176841,  0.89545865,\n",
              "       -0.16057618,  0.45087171, -1.35954832, -0.12497864,  2.14217663,\n",
              "       -0.59476019, -1.00049526, -0.02813622, -1.3891657 ,  0.62977809,\n",
              "       -0.21603739, -0.74947327,  0.69381361,  0.69541909, -0.75462444,\n",
              "        0.85292803, -0.32507726, -0.61244292, -0.54865817,  0.64545665,\n",
              "       -0.39359748,  0.03323703,  0.33259032, -1.82934308, -2.47806145,\n",
              "        0.25119961, -0.22646369,  1.10103651, -0.09510172, -0.61475006,\n",
              "       -0.06647038, -0.61475006,  0.27796749,  1.04698025, -0.02344457,\n",
              "        1.75554163,  0.41909336, -0.00791403, -0.17732741,  0.9494772 ,\n",
              "       -0.21645759, -0.5250817 ,  0.03958472,  0.27806915,  0.45571078,\n",
              "        0.63368842,  0.23374436,  0.1887041 , -0.25651356,  2.02559643,\n",
              "       -1.02527471, -0.13867082, -0.35980216,  0.28862546,  1.28034823,\n",
              "        1.84313431, -0.40181227, -1.43135279,  0.60914275,  0.12200362,\n",
              "        0.27650766,  1.6317157 , -2.57629668, -0.61475006,  0.52114825,\n",
              "        0.73023619, -0.61426068,  1.11697576, -0.02444026, -0.99324104,\n",
              "       -0.39700285, -1.19538726,  1.48155436,  0.8837852 , -0.61475006,\n",
              "       -0.43603252,  0.32145096,  0.69541909,  1.55081779,  0.24801088,\n",
              "        0.69541909, -1.0817465 , -2.35068059,  0.61183676, -0.43768214,\n",
              "       -0.00791403,  0.79758438, -1.73700595,  0.24801088, -1.80005924,\n",
              "        1.16907639,  1.10100147,  0.31995278, -0.29498461, -0.32507726,\n",
              "        0.69624297,  0.6920035 ,  0.22296746, -1.70035375,  0.07859956,\n",
              "       -0.65756855, -2.19672257, -0.60928566,  0.10799408,  0.45638346,\n",
              "       -1.77654991,  0.74684916,  0.1112387 , -0.37501757,  0.75855058,\n",
              "       -0.29427104,  0.2821942 ,  0.24623797, -0.83726559,  0.85669041,\n",
              "        0.83340668,  0.99813871,  0.18367425, -0.16240837,  1.10176573,\n",
              "       -0.1071159 , -0.21880917,  0.33363743,  0.58266349, -0.18135001,\n",
              "       -1.24453571,  0.40737026,  0.22935183, -1.29928638, -1.51032167,\n",
              "       -0.43844533, -0.17936906,  0.7314643 ,  0.1251124 ,  2.14217663,\n",
              "        1.17419466, -0.61475006,  0.03591765,  2.15922886,  0.03482286,\n",
              "       -1.68593622, -1.71837982,  0.59252117, -0.65624439, -0.38409043,\n",
              "       -1.63277044, -2.19879822,  0.21122968, -1.61466345, -0.43857962,\n",
              "        1.25499056, -0.61283921,  0.48539293,  0.69541909, -1.4267372 ,\n",
              "       -0.38122588, -1.90238519,  0.69541909, -0.67348576,  0.54835613,\n",
              "        0.6941115 , -0.29509903, -1.19343811, -0.0268191 , -0.29511548,\n",
              "       -1.44130886,  0.41749386, -1.57802344,  1.99761365, -2.1047794 ,\n",
              "       -0.60124002, -0.6135125 ,  0.69541909,  0.9273611 ,  0.69208904,\n",
              "        1.00844646, -1.08489501, -1.26119919,  0.24952507, -0.39268481,\n",
              "        0.23298745, -0.49222927, -0.79126088, -2.6625515 , -1.24298359,\n",
              "       -0.85180694, -0.17905046, -0.22422523, -0.87953085, -0.17783823,\n",
              "        1.44839497,  1.04885332, -0.17754023, -1.17330101, -0.43844533,\n",
              "       -0.37270471])"
            ]
          },
          "metadata": {},
          "execution_count": 15
        }
      ]
    },
    {
      "cell_type": "code",
      "source": [
        "\n",
        "from sklearn.metrics import r2_score\n",
        "from sklearn.metrics import mean_squared_error\n",
        "from sklearn.metrics import mean_absolute_error\n",
        "score = r2_score(y_test,y_prediction)\n",
        "mean_error = mean_squared_error(y_test,y_prediction)\n",
        "mae = mean_absolute_error(y_test,y_prediction)\n",
        "print(\"R2 SCORE is\", score)\n",
        "print(\"mean_sqrd_error is \", mean_error)\n",
        "print(\"Root mean squared error of is\",np.sqrt(mean_error))\n",
        "print(\"Mean Absolute error is\", mae)"
      ],
      "metadata": {
        "colab": {
          "base_uri": "https://localhost:8080/"
        },
        "id": "bZ_QwTSE4w08",
        "outputId": "3eae32da-0559-4d39-a14c-e816df501f01"
      },
      "execution_count": null,
      "outputs": [
        {
          "output_type": "stream",
          "name": "stdout",
          "text": [
            "R2 SCORE is 0.9779267467558262\n",
            "mean_sqrd_error is  0.02121955780873944\n",
            "Root mean squared error of is 0.14566934409387391\n",
            "Mean Absolute error is 0.035964608377429735\n"
          ]
        }
      ]
    },
    {
      "cell_type": "code",
      "source": [
        "y_test = pt_y.inverse_transform(y_test)\n",
        "y_test[:5]"
      ],
      "metadata": {
        "colab": {
          "base_uri": "https://localhost:8080/"
        },
        "id": "TxKOkQS44y1U",
        "outputId": "52bbeda0-f726-4d94-cd31-d67164ec7341"
      },
      "execution_count": null,
      "outputs": [
        {
          "output_type": "execute_result",
          "data": {
            "text/plain": [
              "array([[ 97.21944444],\n",
              "       [ 97.21944444],\n",
              "       [138.263     ],\n",
              "       [ 91.825     ],\n",
              "       [ 86.18619048]])"
            ]
          },
          "metadata": {},
          "execution_count": 17
        }
      ]
    },
    {
      "cell_type": "code",
      "source": [
        "y_prediction=y_prediction.reshape(-1,1)\n",
        "y_prediction = pt_y.inverse_transform(y_prediction)\n",
        "y_prediction[:5]"
      ],
      "metadata": {
        "colab": {
          "base_uri": "https://localhost:8080/"
        },
        "id": "nmwg3PJZ44AH",
        "outputId": "5700f633-c39c-428d-a23e-1d9c9b134c42"
      },
      "execution_count": null,
      "outputs": [
        {
          "output_type": "execute_result",
          "data": {
            "text/plain": [
              "array([[ 97.21944444],\n",
              "       [ 97.30239243],\n",
              "       [137.26830718],\n",
              "       [ 91.84269941],\n",
              "       [ 88.24876521]])"
            ]
          },
          "metadata": {},
          "execution_count": 18
        }
      ]
    },
    {
      "cell_type": "code",
      "source": [
        "df1 = pd.DataFrame({'Actual': y_test[100:120].flatten(), 'Predicted': y_prediction[100:120].flatten()})\n",
        "df1.plot(kind='line')\n",
        "plt.grid(which='major', linestyle='-', linewidth='0.5', color='green')\n",
        "plt.grid(which='minor', linestyle=':', linewidth='0.5', color='black')\n",
        "plt.show()"
      ],
      "metadata": {
        "colab": {
          "base_uri": "https://localhost:8080/",
          "height": 265
        },
        "id": "FeimyR2b45iA",
        "outputId": "ec3f92b0-eeb6-49fc-8518-0a8fdf35d33c"
      },
      "execution_count": null,
      "outputs": [
        {
          "output_type": "display_data",
          "data": {
            "text/plain": [
              "<Figure size 432x288 with 1 Axes>"
            ],
            "image/png": "[encoded data removed]"
          },
          "metadata": {
            "needs_background": "light"
          }
        }
      ]
    },
    {
      "cell_type": "code",
      "source": [
        "result = pd.DataFrame()\n",
        "result[\"ACTUAL AQI\"] = y_test.flatten()\n",
        "result[\"PREDICTED AQI\"] = y_prediction\n",
        "result[\"DIFFERENCE\"] = result[\"ACTUAL AQI\"] - result[\"PREDICTED AQI\"]\n",
        "result[\"PERCENTAGE ERROR\"] = ( abs(result[\"ACTUAL AQI\"] - result[\"PREDICTED AQI\"] ) / result[\"ACTUAL AQI\"] ) * 100\n",
        "result.head(15)"
      ],
      "metadata": {
        "colab": {
          "base_uri": "https://localhost:8080/",
          "height": 520
        },
        "id": "K6rz1dJE47M5",
        "outputId": "f14c483e-4ee5-45f8-8805-bfd05dcc95e1"
      },
      "execution_count": null,
      "outputs": [
        {
          "output_type": "execute_result",
          "data": {
            "text/plain": [
              "    ACTUAL AQI  PREDICTED AQI  DIFFERENCE  PERCENTAGE ERROR\n",
              "0    97.219444      97.219444    0.000000          0.000000\n",
              "1    97.219444      97.302392   -0.082948          0.085320\n",
              "2   138.263000     137.268307    0.994693          0.719421\n",
              "3    91.825000      91.842699   -0.017699          0.019275\n",
              "4    86.186190      88.248765   -2.062575          2.393161\n",
              "5   139.958889     139.892090    0.066799          0.047727\n",
              "6    70.393800      70.393800    0.000000          0.000000\n",
              "7    76.247500      75.571413    0.676087          0.886701\n",
              "8   130.563000     131.733094   -1.170094          0.896191\n",
              "9    70.393800      70.393800    0.000000          0.000000\n",
              "10  125.160000     125.087770    0.072230          0.057710\n",
              "11   72.180833      73.141275   -0.960442          1.330605\n",
              "12  127.566667     127.262254    0.304413          0.238631\n",
              "13   83.808250      83.408329    0.399921          0.477185\n",
              "14  125.160000     125.160000    0.000000          0.000000"
            ],
            "text/html": [
              "\n",
              "  <div id=\"df-fa08c4d4-7a92-4384-9d34-d156a4b59596\">\n",
              "    <div class=\"colab-df-container\">\n",
              "      <div>\n",
              "<style scoped>\n",
              "    .dataframe tbody tr th:only-of-type {\n",
              "        vertical-align: middle;\n",
              "    }\n",
              "\n",
              "    .dataframe tbody tr th {\n",
              "        vertical-align: top;\n",
              "    }\n",
              "\n",
              "    .dataframe thead th {\n",
              "        text-align: right;\n",
              "    }\n",
              "</style>\n",
              "<table border=\"1\" class=\"dataframe\">\n",
              "  <thead>\n",
              "    <tr style=\"text-align: right;\">\n",
              "      <th></th>\n",
              "      <th>ACTUAL AQI</th>\n",
              "      <th>PREDICTED AQI</th>\n",
              "      <th>DIFFERENCE</th>\n",
              "      <th>PERCENTAGE ERROR</th>\n",
              "    </tr>\n",
              "  </thead>\n",
              "  <tbody>\n",
              "    <tr>\n",
              "      <th>0</th>\n",
              "      <td>97.219444</td>\n",
              "      <td>97.219444</td>\n",
              "      <td>0.000000</td>\n",
              "      <td>0.000000</td>\n",
              "    </tr>\n",
              "    <tr>\n",
              "      <th>1</th>\n",
              "      <td>97.219444</td>\n",
              "      <td>97.302392</td>\n",
              "      <td>-0.082948</td>\n",
              "      <td>0.085320</td>\n",
              "    </tr>\n",
              "    <tr>\n",
              "      <th>2</th>\n",
              "      <td>138.263000</td>\n",
              "      <td>137.268307</td>\n",
              "      <td>0.994693</td>\n",
              "      <td>0.719421</td>\n",
              "    </tr>\n",
              "    <tr>\n",
              "      <th>3</th>\n",
              "      <td>91.825000</td>\n",
              "      <td>91.842699</td>\n",
              "      <td>-0.017699</td>\n",
              "      <td>0.019275</td>\n",
              "    </tr>\n",
              "    <tr>\n",
              "      <th>4</th>\n",
              "      <td>86.186190</td>\n",
              "      <td>88.248765</td>\n",
              "      <td>-2.062575</td>\n",
              "      <td>2.393161</td>\n",
              "    </tr>\n",
              "    <tr>\n",
              "      <th>5</th>\n",
              "      <td>139.958889</td>\n",
              "      <td>139.892090</td>\n",
              "      <td>0.066799</td>\n",
              "      <td>0.047727</td>\n",
              "    </tr>\n",
              "    <tr>\n",
              "      <th>6</th>\n",
              "      <td>70.393800</td>\n",
              "      <td>70.393800</td>\n",
              "      <td>0.000000</td>\n",
              "      <td>0.000000</td>\n",
              "    </tr>\n",
              "    <tr>\n",
              "      <th>7</th>\n",
              "      <td>76.247500</td>\n",
              "      <td>75.571413</td>\n",
              "      <td>0.676087</td>\n",
              "      <td>0.886701</td>\n",
              "    </tr>\n",
              "    <tr>\n",
              "      <th>8</th>\n",
              "      <td>130.563000</td>\n",
              "      <td>131.733094</td>\n",
              "      <td>-1.170094</td>\n",
              "      <td>0.896191</td>\n",
              "    </tr>\n",
              "    <tr>\n",
              "      <th>9</th>\n",
              "      <td>70.393800</td>\n",
              "      <td>70.393800</td>\n",
              "      <td>0.000000</td>\n",
              "      <td>0.000000</td>\n",
              "    </tr>\n",
              "    <tr>\n",
              "      <th>10</th>\n",
              "      <td>125.160000</td>\n",
              "      <td>125.087770</td>\n",
              "      <td>0.072230</td>\n",
              "      <td>0.057710</td>\n",
              "    </tr>\n",
              "    <tr>\n",
              "      <th>11</th>\n",
              "      <td>72.180833</td>\n",
              "      <td>73.141275</td>\n",
              "      <td>-0.960442</td>\n",
              "      <td>1.330605</td>\n",
              "    </tr>\n",
              "    <tr>\n",
              "      <th>12</th>\n",
              "      <td>127.566667</td>\n",
              "      <td>127.262254</td>\n",
              "      <td>0.304413</td>\n",
              "      <td>0.238631</td>\n",
              "    </tr>\n",
              "    <tr>\n",
              "      <th>13</th>\n",
              "      <td>83.808250</td>\n",
              "      <td>83.408329</td>\n",
              "      <td>0.399921</td>\n",
              "      <td>0.477185</td>\n",
              "    </tr>\n",
              "    <tr>\n",
              "      <th>14</th>\n",
              "      <td>125.160000</td>\n",
              "      <td>125.160000</td>\n",
              "      <td>0.000000</td>\n",
              "      <td>0.000000</td>\n",
              "    </tr>\n",
              "  </tbody>\n",
              "</table>\n",
              "</div>\n",
              "      <button class=\"colab-df-convert\" onclick=\"convertToInteractive('df-fa08c4d4-7a92-4384-9d34-d156a4b59596')\"\n",
              "              title=\"Convert this dataframe to an interactive table.\"\n",
              "              style=\"display:none;\">\n",
              "        \n",
              "  <svg xmlns=\"http://www.w3.org/2000/svg\" height=\"24px\"viewBox=\"0 0 24 24\"\n",
              "       width=\"24px\">\n",
              "    <path d=\"M0 0h24v24H0V0z\" fill=\"none\"/>\n",
              "    <path d=\"M18.56 5.44l.94 2.06.94-2.06 2.06-.94-2.06-.94-.94-2.06-.94 2.06-2.06.94zm-11 1L8.5 8.5l.94-2.06 2.06-.94-2.06-.94L8.5 2.5l-.94 2.06-2.06.94zm10 10l.94 2.06.94-2.06 2.06-.94-2.06-.94-.94-2.06-.94 2.06-2.06.94z\"/><path d=\"M17.41 7.96l-1.37-1.37c-.4-.4-.92-.59-1.43-.59-.52 0-1.04.2-1.43.59L10.3 9.45l-7.72 7.72c-.78.78-.78 2.05 0 2.83L4 21.41c.39.39.9.59 1.41.59.51 0 1.02-.2 1.41-.59l7.78-7.78 2.81-2.81c.8-.78.8-2.07 0-2.86zM5.41 20L4 18.59l7.72-7.72 1.47 1.35L5.41 20z\"/>\n",
              "  </svg>\n",
              "      </button>\n",
              "      \n",
              "  <style>\n",
              "    .colab-df-container {\n",
              "      display:flex;\n",
              "      flex-wrap:wrap;\n",
              "      gap: 12px;\n",
              "    }\n",
              "\n",
              "    .colab-df-convert {\n",
              "      background-color: #E8F0FE;\n",
              "      border: none;\n",
              "      border-radius: 50%;\n",
              "      cursor: pointer;\n",
              "      display: none;\n",
              "      fill: #1967D2;\n",
              "      height: 32px;\n",
              "      padding: 0 0 0 0;\n",
              "      width: 32px;\n",
              "    }\n",
              "\n",
              "    .colab-df-convert:hover {\n",
              "      background-color: #E2EBFA;\n",
              "      box-shadow: 0px 1px 2px rgba(60, 64, 67, 0.3), 0px 1px 3px 1px rgba(60, 64, 67, 0.15);\n",
              "      fill: #174EA6;\n",
              "    }\n",
              "\n",
              "    [theme=dark] .colab-df-convert {\n",
              "      background-color: #3B4455;\n",
              "      fill: #D2E3FC;\n",
              "    }\n",
              "\n",
              "    [theme=dark] .colab-df-convert:hover {\n",
              "      background-color: #434B5C;\n",
              "      box-shadow: 0px 1px 3px 1px rgba(0, 0, 0, 0.15);\n",
              "      filter: drop-shadow(0px 1px 2px rgba(0, 0, 0, 0.3));\n",
              "      fill: #FFFFFF;\n",
              "    }\n",
              "  </style>\n",
              "\n",
              "      <script>\n",
              "        const buttonEl =\n",
              "          document.querySelector('#df-fa08c4d4-7a92-4384-9d34-d156a4b59596 button.colab-df-convert');\n",
              "        buttonEl.style.display =\n",
              "          google.colab.kernel.accessAllowed ? 'block' : 'none';\n",
              "\n",
              "        async function convertToInteractive(key) {\n",
              "          const element = document.querySelector('#df-fa08c4d4-7a92-4384-9d34-d156a4b59596');\n",
              "          const dataTable =\n",
              "            await google.colab.kernel.invokeFunction('convertToInteractive',\n",
              "                                                     [key], {});\n",
              "          if (!dataTable) return;\n",
              "\n",
              "          const docLinkHtml = 'Like what you see? Visit the ' +\n",
              "            '<a target=\"_blank\" href=https://colab.research.google.com/notebooks/data_table.ipynb>data table notebook</a>'\n",
              "            + ' to learn more about interactive tables.';\n",
              "          element.innerHTML = '';\n",
              "          dataTable['output_type'] = 'display_data';\n",
              "          await google.colab.output.renderOutput(dataTable, element);\n",
              "          const docLink = document.createElement('div');\n",
              "          docLink.innerHTML = docLinkHtml;\n",
              "          element.appendChild(docLink);\n",
              "        }\n",
              "      </script>\n",
              "    </div>\n",
              "  </div>\n",
              "  "
            ]
          },
          "metadata": {},
          "execution_count": 20
        }
      ]
    },
    {
      "cell_type": "markdown",
      "source": [
        "###without tunning"
      ],
      "metadata": {
        "id": "clv6uiqX4zuP"
      }
    },
    {
      "cell_type": "code",
      "source": [
        "from sklearn.ensemble import RandomForestRegressor\n",
        "regressor = RandomForestRegressor()\n",
        "regressor.fit(x_train_fs,y_train)"
      ],
      "metadata": {
        "colab": {
          "base_uri": "https://localhost:8080/"
        },
        "id": "bumcE6e0L4WJ",
        "outputId": "24b1c29e-4f04-40b7-b379-2e08c104318a"
      },
      "execution_count": null,
      "outputs": [
        {
          "output_type": "execute_result",
          "data": {
            "text/plain": [
              "RandomForestRegressor()"
            ]
          },
          "metadata": {},
          "execution_count": 10
        }
      ]
    },
    {
      "cell_type": "code",
      "source": [
        "\n",
        "\n",
        "y_prediction =  regressor.predict(x_test_fs)\n",
        "y_prediction \n",
        "\n"
      ],
      "metadata": {
        "colab": {
          "base_uri": "https://localhost:8080/"
        },
        "id": "hqT8uEhTL5zG",
        "outputId": "e9443299-9eda-4ca7-f1d5-573e0850e007"
      },
      "execution_count": null,
      "outputs": [
        {
          "output_type": "execute_result",
          "data": {
            "text/plain": [
              "array([ 0.121715  ,  0.12281205,  0.90343906, -0.00811966, -0.15955412,\n",
              "        0.94795579, -0.61475006, -0.45562584,  0.79225848, -0.61475006,\n",
              "        0.69596611, -0.56466137,  0.73216401, -0.22376218,  0.69541909,\n",
              "       -2.21257348,  0.83373927, -0.61443303,  1.53598402,  1.83296473,\n",
              "        0.69541909, -0.21635557,  0.9533317 , -2.03536541, -0.00745848,\n",
              "       -0.61475006, -0.12251204, -0.17774767,  1.87207125,  0.51699996,\n",
              "       -0.30412831,  0.32261602, -2.75710132,  1.96514355, -1.387653  ,\n",
              "       -0.24189464, -1.1394099 , -1.42234628,  1.60796623,  0.49928985,\n",
              "        0.50227158,  1.17709566, -0.27622537,  0.61657998,  0.21219654,\n",
              "       -0.2949759 , -0.89845594, -0.50549999,  0.48463103, -0.61475006,\n",
              "        0.04312054,  1.64175579, -2.11021521,  0.68639178,  0.62394367,\n",
              "       -0.00811966, -0.2949759 , -1.69366671,  0.76109691,  0.97146061,\n",
              "       -0.1365689 , -0.2949759 ,  1.52935351, -0.37116298, -1.01826346,\n",
              "       -1.25617741, -2.38659344, -0.41666321, -1.08292624, -0.35736378,\n",
              "        0.24128926, -0.17786749, -0.19001114,  0.48289471,  0.25045494,\n",
              "        0.12184833, -1.47697584, -0.37220217, -1.29934198, -0.07378504,\n",
              "        0.48481048, -0.83866835,  0.04482264, -0.58950317, -1.25655178,\n",
              "       -0.61475006,  0.09901712, -0.07809855,  1.57928232, -0.37223253,\n",
              "        0.89331826, -0.25326662,  0.05202506,  0.10860708,  0.23260678,\n",
              "       -1.2374548 ,  0.19084085,  1.59087538, -0.61475006,  0.48416401,\n",
              "        0.28198438,  0.21584973, -0.61475006, -0.12588412,  1.72951654,\n",
              "        0.21771617,  0.8493913 ,  1.82222654,  1.88278296,  1.39580926,\n",
              "       -0.23156443, -0.14882219,  0.98036976, -0.37270471, -1.21852553,\n",
              "       -0.37270471,  0.78752578,  0.50319619, -0.35738231, -0.57139506,\n",
              "        0.1124687 ,  0.69541909, -0.00320333, -0.61475006, -1.34337116,\n",
              "        0.25167467, -0.55746168,  0.4839496 ,  1.39580926, -0.31929749,\n",
              "       -0.61475006, -0.15521469, -1.85980557,  0.74467254, -1.25587381,\n",
              "       -0.70495256, -0.64343964,  0.24749534,  0.69565809, -0.18846681,\n",
              "        1.59169585,  2.39524098, -0.49518725, -1.80991058, -0.49848779,\n",
              "        0.24825593, -0.61475006,  0.83375125,  0.27437938, -0.66398379,\n",
              "        0.23979559,  0.76702754, -0.61705577,  0.49868274, -0.94778408,\n",
              "       -0.43660998, -0.86383885, -0.5436285 , -0.07596925,  0.50899728,\n",
              "       -1.31024479, -0.53862246, -1.5988705 ,  0.69602946,  1.82222654,\n",
              "        1.53270145, -0.43736686, -2.12585277,  1.65523096,  0.86607091,\n",
              "       -0.17943037,  0.42000892, -1.40530238, -0.12295579,  2.15071842,\n",
              "       -0.66339841, -1.01369913, -0.04012424, -1.39512158,  0.57860859,\n",
              "       -0.21635557, -0.75569589,  0.69531343,  0.69541909, -0.7812645 ,\n",
              "        0.8493913 , -0.3174875 , -0.61475006, -0.5680877 ,  0.64515254,\n",
              "       -0.3932926 ,  0.03323703,  0.33827105, -2.0417546 , -2.54594632,\n",
              "        0.2491631 , -0.23075218,  1.10017395, -0.15531869, -0.61475006,\n",
              "       -0.07170486, -0.61475006,  0.2764974 ,  1.04302653, -0.02604081,\n",
              "        1.74996223,  0.42968579, -0.00762615, -0.17764664,  0.95075118,\n",
              "       -0.21388984, -0.5600765 ,  0.04947977,  0.27588858,  0.45648872,\n",
              "        0.61608037,  0.2322306 ,  0.18406929, -0.21485129,  2.04707663,\n",
              "       -1.04122165,  0.24065929, -0.35779182,  0.32402027,  1.27622401,\n",
              "        1.80083455, -0.44819469, -1.43251287,  0.61396463,  0.12184833,\n",
              "        0.27303681,  1.6272135 , -2.57827937, -0.61475006,  0.52187813,\n",
              "        0.73244608, -0.61404625,  1.16277081, -0.00623767, -0.97947118,\n",
              "       -0.43321176, -1.2188747 ,  1.48237908,  0.89104949, -0.61475006,\n",
              "       -0.45022208,  0.32040219,  0.69541909,  1.54714695,  0.2474769 ,\n",
              "        0.69541909, -1.03872687, -2.27475568,  0.592926  , -0.43826111,\n",
              "       -0.00762615,  0.80600219, -1.75009961,  0.24666702, -1.7805973 ,\n",
              "        1.17132271,  1.10154132,  0.31952482, -0.29461697, -0.31929749,\n",
              "        0.69517159,  0.69204304,  0.21484411, -1.72521426,  0.06474597,\n",
              "       -0.66935697, -2.30768297, -0.61201394,  0.1085343 ,  0.47509246,\n",
              "       -1.82118892,  0.76746551,  0.12362327, -0.37138693,  0.75870163,\n",
              "       -0.29375987,  0.2914439 ,  0.24581929, -0.83891165,  0.85154797,\n",
              "        0.83373927,  1.01890943,  0.18397267, -0.16522291,  1.10058236,\n",
              "       -0.10579315, -0.21479002,  0.33930387,  0.40030099, -0.17764664,\n",
              "       -1.2496668 ,  0.41960464,  0.23017294, -1.38322051, -1.64559482,\n",
              "       -0.43863244, -0.17775562,  0.73201378,  0.12184833,  2.13081872,\n",
              "        1.1775178 , -0.61475006,  0.03428807,  2.07730965,  0.03323703,\n",
              "       -1.72827911, -1.71773192,  0.57368796, -0.66343579, -0.38458803,\n",
              "       -1.61868434, -2.20595817,  0.21452077, -1.59056633, -0.43826111,\n",
              "        1.25574239, -0.61475006,  0.48481048,  0.69541909, -1.42422912,\n",
              "       -0.37386245, -1.84439302,  0.69541909, -0.61549504,  0.534494  ,\n",
              "        0.69566317, -0.2949759 , -1.23002063,  0.00625092, -0.2949759 ,\n",
              "       -1.48475574,  0.41136791, -1.52922372,  2.00003473, -2.15792592,\n",
              "       -0.64936966, -0.61406801,  0.69541909,  0.92339763,  0.69193926,\n",
              "        1.01886674, -1.10278184, -1.27632703,  0.24804252, -0.39569602,\n",
              "        0.232982  , -0.49222927, -0.84840931, -2.60560016, -1.23702737,\n",
              "       -0.80964688, -0.17957854, -0.21334478, -0.90950912, -0.17764664,\n",
              "        1.39506093,  1.04334582, -0.17764664, -1.15382541, -0.43863244,\n",
              "       -0.37220217])"
            ]
          },
          "metadata": {},
          "execution_count": 11
        }
      ]
    },
    {
      "cell_type": "code",
      "source": [
        "from sklearn.metrics import r2_score\n",
        "from sklearn.metrics import mean_squared_error\n",
        "from sklearn.metrics import mean_absolute_error\n",
        "score = r2_score(y_test,y_prediction)\n",
        "mean_error = mean_squared_error(y_test,y_prediction)\n",
        "mae = mean_absolute_error(y_test,y_prediction)\n",
        "print(\"R2 SCORE is\", score)\n",
        "print(\"mean_sqrd_error is \", mean_error)\n",
        "print(\"Root mean squared error of is\",np.sqrt(mean_error))\n",
        "print(\"Mean Absolute error is\", mae)"
      ],
      "metadata": {
        "colab": {
          "base_uri": "https://localhost:8080/"
        },
        "id": "B126RAfBL7Rc",
        "outputId": "4483b07c-4428-4058-9b03-60c87e8a922f"
      },
      "execution_count": null,
      "outputs": [
        {
          "output_type": "stream",
          "name": "stdout",
          "text": [
            "R2 SCORE is 0.9875904393917344\n",
            "mean_sqrd_error is  0.01192961389946682\n",
            "Root mean squared error of is 0.10922277189060357\n",
            "Mean Absolute error is 0.02928058679634179\n"
          ]
        }
      ]
    },
    {
      "cell_type": "code",
      "source": [
        "y_test = pt_y.inverse_transform(y_test)\n",
        "y_test[:5]"
      ],
      "metadata": {
        "colab": {
          "base_uri": "https://localhost:8080/"
        },
        "id": "suLxhhF3L84h",
        "outputId": "010d6b28-b95b-4441-a782-488469e6eebf"
      },
      "execution_count": null,
      "outputs": [
        {
          "output_type": "execute_result",
          "data": {
            "text/plain": [
              "array([[ 97.21944444],\n",
              "       [ 97.21944444],\n",
              "       [138.263     ],\n",
              "       [ 91.825     ],\n",
              "       [ 86.18619048]])"
            ]
          },
          "metadata": {},
          "execution_count": 13
        }
      ]
    },
    {
      "cell_type": "code",
      "source": [
        "y_prediction=y_prediction.reshape(-1,1)\n",
        "y_prediction = pt_y.inverse_transform(y_prediction)\n",
        "y_prediction[:5]"
      ],
      "metadata": {
        "colab": {
          "base_uri": "https://localhost:8080/"
        },
        "id": "D6v-NTMvL-r1",
        "outputId": "a4dbcfb9-5e43-4a3a-ce90-340523d84020"
      },
      "execution_count": null,
      "outputs": [
        {
          "output_type": "execute_result",
          "data": {
            "text/plain": [
              "array([[ 97.21374823],\n",
              "       [ 97.26062561],\n",
              "       [137.20990877],\n",
              "       [ 91.825     ],\n",
              "       [ 85.92176125]])"
            ]
          },
          "metadata": {},
          "execution_count": 14
        }
      ]
    },
    {
      "cell_type": "code",
      "source": [
        "df1 = pd.DataFrame({'Actual': y_test[100:120].flatten(), 'Predicted': y_prediction[100:120].flatten()})\n",
        "df1.plot(kind='line')\n",
        "plt.grid(which='major', linestyle='-', linewidth='0.5', color='green')\n",
        "plt.grid(which='minor', linestyle=':', linewidth='0.5', color='black')\n",
        "plt.show()"
      ],
      "metadata": {
        "colab": {
          "base_uri": "https://localhost:8080/",
          "height": 265
        },
        "id": "V5K_hsJKMAIY",
        "outputId": "eb1ac87f-6181-40a0-dd80-9a454f67eea6"
      },
      "execution_count": null,
      "outputs": [
        {
          "output_type": "display_data",
          "data": {
            "text/plain": [
              "<Figure size 432x288 with 1 Axes>"
            ],
            "image/png": "[encoded data removed]"
          },
          "metadata": {
            "needs_background": "light"
          }
        }
      ]
    },
    {
      "cell_type": "code",
      "source": [
        "result = pd.DataFrame()\n",
        "result[\"ACTUAL AQI\"] = y_test.flatten()\n",
        "result[\"PREDICTED AQI\"] = y_prediction\n",
        "result[\"DIFFERENCE\"] = result[\"ACTUAL AQI\"] - result[\"PREDICTED AQI\"]\n",
        "result[\"PERCENTAGE ERROR\"] = ( abs(result[\"ACTUAL AQI\"] - result[\"PREDICTED AQI\"] ) / result[\"ACTUAL AQI\"] ) * 100\n",
        "result.head(15)"
      ],
      "metadata": {
        "colab": {
          "base_uri": "https://localhost:8080/",
          "height": 520
        },
        "id": "NG7HTu72MBRQ",
        "outputId": "df6949ff-b798-4a6f-bd37-369148013440"
      },
      "execution_count": null,
      "outputs": [
        {
          "output_type": "execute_result",
          "data": {
            "text/plain": [
              "    ACTUAL AQI  PREDICTED AQI  DIFFERENCE  PERCENTAGE ERROR\n",
              "0    97.219444      97.213748    0.005696          0.005859\n",
              "1    97.219444      97.260626   -0.041181          0.042359\n",
              "2   138.263000     137.209909    1.053091          0.761658\n",
              "3    91.825000      91.825000    0.000000          0.000000\n",
              "4    86.186190      85.921761    0.264429          0.306812\n",
              "5   139.958889     139.938730    0.020159          0.014403\n",
              "6    70.393800      70.393800    0.000000          0.000000\n",
              "7    76.247500      75.468962    0.778538          1.021067\n",
              "8   130.563000     130.629251   -0.066251          0.050743\n",
              "9    70.393800      70.393800    0.000000          0.000000\n",
              "10  125.160000     125.190230   -0.030230          0.024153\n",
              "11   72.180833      71.952899    0.227934          0.315782\n",
              "12  127.566667     127.207235    0.359431          0.281760\n",
              "13   83.808250      83.536577    0.271673          0.324160\n",
              "14  125.160000     125.160000    0.000000          0.000000"
            ],
            "text/html": [
              "\n",
              "  <div id=\"df-499d2551-c64e-46af-b75b-9564c51cb4d6\">\n",
              "    <div class=\"colab-df-container\">\n",
              "      <div>\n",
              "<style scoped>\n",
              "    .dataframe tbody tr th:only-of-type {\n",
              "        vertical-align: middle;\n",
              "    }\n",
              "\n",
              "    .dataframe tbody tr th {\n",
              "        vertical-align: top;\n",
              "    }\n",
              "\n",
              "    .dataframe thead th {\n",
              "        text-align: right;\n",
              "    }\n",
              "</style>\n",
              "<table border=\"1\" class=\"dataframe\">\n",
              "  <thead>\n",
              "    <tr style=\"text-align: right;\">\n",
              "      <th></th>\n",
              "      <th>ACTUAL AQI</th>\n",
              "      <th>PREDICTED AQI</th>\n",
              "      <th>DIFFERENCE</th>\n",
              "      <th>PERCENTAGE ERROR</th>\n",
              "    </tr>\n",
              "  </thead>\n",
              "  <tbody>\n",
              "    <tr>\n",
              "      <th>0</th>\n",
              "      <td>97.219444</td>\n",
              "      <td>97.213748</td>\n",
              "      <td>0.005696</td>\n",
              "      <td>0.005859</td>\n",
              "    </tr>\n",
              "    <tr>\n",
              "      <th>1</th>\n",
              "      <td>97.219444</td>\n",
              "      <td>97.260626</td>\n",
              "      <td>-0.041181</td>\n",
              "      <td>0.042359</td>\n",
              "    </tr>\n",
              "    <tr>\n",
              "      <th>2</th>\n",
              "      <td>138.263000</td>\n",
              "      <td>137.209909</td>\n",
              "      <td>1.053091</td>\n",
              "      <td>0.761658</td>\n",
              "    </tr>\n",
              "    <tr>\n",
              "      <th>3</th>\n",
              "      <td>91.825000</td>\n",
              "      <td>91.825000</td>\n",
              "      <td>0.000000</td>\n",
              "      <td>0.000000</td>\n",
              "    </tr>\n",
              "    <tr>\n",
              "      <th>4</th>\n",
              "      <td>86.186190</td>\n",
              "      <td>85.921761</td>\n",
              "      <td>0.264429</td>\n",
              "      <td>0.306812</td>\n",
              "    </tr>\n",
              "    <tr>\n",
              "      <th>5</th>\n",
              "      <td>139.958889</td>\n",
              "      <td>139.938730</td>\n",
              "      <td>0.020159</td>\n",
              "      <td>0.014403</td>\n",
              "    </tr>\n",
              "    <tr>\n",
              "      <th>6</th>\n",
              "      <td>70.393800</td>\n",
              "      <td>70.393800</td>\n",
              "      <td>0.000000</td>\n",
              "      <td>0.000000</td>\n",
              "    </tr>\n",
              "    <tr>\n",
              "      <th>7</th>\n",
              "      <td>76.247500</td>\n",
              "      <td>75.468962</td>\n",
              "      <td>0.778538</td>\n",
              "      <td>1.021067</td>\n",
              "    </tr>\n",
              "    <tr>\n",
              "      <th>8</th>\n",
              "      <td>130.563000</td>\n",
              "      <td>130.629251</td>\n",
              "      <td>-0.066251</td>\n",
              "      <td>0.050743</td>\n",
              "    </tr>\n",
              "    <tr>\n",
              "      <th>9</th>\n",
              "      <td>70.393800</td>\n",
              "      <td>70.393800</td>\n",
              "      <td>0.000000</td>\n",
              "      <td>0.000000</td>\n",
              "    </tr>\n",
              "    <tr>\n",
              "      <th>10</th>\n",
              "      <td>125.160000</td>\n",
              "      <td>125.190230</td>\n",
              "      <td>-0.030230</td>\n",
              "      <td>0.024153</td>\n",
              "    </tr>\n",
              "    <tr>\n",
              "      <th>11</th>\n",
              "      <td>72.180833</td>\n",
              "      <td>71.952899</td>\n",
              "      <td>0.227934</td>\n",
              "      <td>0.315782</td>\n",
              "    </tr>\n",
              "    <tr>\n",
              "      <th>12</th>\n",
              "      <td>127.566667</td>\n",
              "      <td>127.207235</td>\n",
              "      <td>0.359431</td>\n",
              "      <td>0.281760</td>\n",
              "    </tr>\n",
              "    <tr>\n",
              "      <th>13</th>\n",
              "      <td>83.808250</td>\n",
              "      <td>83.536577</td>\n",
              "      <td>0.271673</td>\n",
              "      <td>0.324160</td>\n",
              "    </tr>\n",
              "    <tr>\n",
              "      <th>14</th>\n",
              "      <td>125.160000</td>\n",
              "      <td>125.160000</td>\n",
              "      <td>0.000000</td>\n",
              "      <td>0.000000</td>\n",
              "    </tr>\n",
              "  </tbody>\n",
              "</table>\n",
              "</div>\n",
              "      <button class=\"colab-df-convert\" onclick=\"convertToInteractive('df-499d2551-c64e-46af-b75b-9564c51cb4d6')\"\n",
              "              title=\"Convert this dataframe to an interactive table.\"\n",
              "              style=\"display:none;\">\n",
              "        \n",
              "  <svg xmlns=\"http://www.w3.org/2000/svg\" height=\"24px\"viewBox=\"0 0 24 24\"\n",
              "       width=\"24px\">\n",
              "    <path d=\"M0 0h24v24H0V0z\" fill=\"none\"/>\n",
              "    <path d=\"M18.56 5.44l.94 2.06.94-2.06 2.06-.94-2.06-.94-.94-2.06-.94 2.06-2.06.94zm-11 1L8.5 8.5l.94-2.06 2.06-.94-2.06-.94L8.5 2.5l-.94 2.06-2.06.94zm10 10l.94 2.06.94-2.06 2.06-.94-2.06-.94-.94-2.06-.94 2.06-2.06.94z\"/><path d=\"M17.41 7.96l-1.37-1.37c-.4-.4-.92-.59-1.43-.59-.52 0-1.04.2-1.43.59L10.3 9.45l-7.72 7.72c-.78.78-.78 2.05 0 2.83L4 21.41c.39.39.9.59 1.41.59.51 0 1.02-.2 1.41-.59l7.78-7.78 2.81-2.81c.8-.78.8-2.07 0-2.86zM5.41 20L4 18.59l7.72-7.72 1.47 1.35L5.41 20z\"/>\n",
              "  </svg>\n",
              "      </button>\n",
              "      \n",
              "  <style>\n",
              "    .colab-df-container {\n",
              "      display:flex;\n",
              "      flex-wrap:wrap;\n",
              "      gap: 12px;\n",
              "    }\n",
              "\n",
              "    .colab-df-convert {\n",
              "      background-color: #E8F0FE;\n",
              "      border: none;\n",
              "      border-radius: 50%;\n",
              "      cursor: pointer;\n",
              "      display: none;\n",
              "      fill: #1967D2;\n",
              "      height: 32px;\n",
              "      padding: 0 0 0 0;\n",
              "      width: 32px;\n",
              "    }\n",
              "\n",
              "    .colab-df-convert:hover {\n",
              "      background-color: #E2EBFA;\n",
              "      box-shadow: 0px 1px 2px rgba(60, 64, 67, 0.3), 0px 1px 3px 1px rgba(60, 64, 67, 0.15);\n",
              "      fill: #174EA6;\n",
              "    }\n",
              "\n",
              "    [theme=dark] .colab-df-convert {\n",
              "      background-color: #3B4455;\n",
              "      fill: #D2E3FC;\n",
              "    }\n",
              "\n",
              "    [theme=dark] .colab-df-convert:hover {\n",
              "      background-color: #434B5C;\n",
              "      box-shadow: 0px 1px 3px 1px rgba(0, 0, 0, 0.15);\n",
              "      filter: drop-shadow(0px 1px 2px rgba(0, 0, 0, 0.3));\n",
              "      fill: #FFFFFF;\n",
              "    }\n",
              "  </style>\n",
              "\n",
              "      <script>\n",
              "        const buttonEl =\n",
              "          document.querySelector('#df-499d2551-c64e-46af-b75b-9564c51cb4d6 button.colab-df-convert');\n",
              "        buttonEl.style.display =\n",
              "          google.colab.kernel.accessAllowed ? 'block' : 'none';\n",
              "\n",
              "        async function convertToInteractive(key) {\n",
              "          const element = document.querySelector('#df-499d2551-c64e-46af-b75b-9564c51cb4d6');\n",
              "          const dataTable =\n",
              "            await google.colab.kernel.invokeFunction('convertToInteractive',\n",
              "                                                     [key], {});\n",
              "          if (!dataTable) return;\n",
              "\n",
              "          const docLinkHtml = 'Like what you see? Visit the ' +\n",
              "            '<a target=\"_blank\" href=https://colab.research.google.com/notebooks/data_table.ipynb>data table notebook</a>'\n",
              "            + ' to learn more about interactive tables.';\n",
              "          element.innerHTML = '';\n",
              "          dataTable['output_type'] = 'display_data';\n",
              "          await google.colab.output.renderOutput(dataTable, element);\n",
              "          const docLink = document.createElement('div');\n",
              "          docLink.innerHTML = docLinkHtml;\n",
              "          element.appendChild(docLink);\n",
              "        }\n",
              "      </script>\n",
              "    </div>\n",
              "  </div>\n",
              "  "
            ]
          },
          "metadata": {},
          "execution_count": 16
        }
      ]
    },
    {
      "cell_type": "markdown",
      "source": [
        "###Gradient boost"
      ],
      "metadata": {
        "id": "n2SU_M0LMFQE"
      }
    },
    {
      "cell_type": "code",
      "source": [
        "from sklearn.ensemble import GradientBoostingRegressor\n",
        "regressor = GradientBoostingRegressor()\n",
        "regressor.fit(x_train,y_train)"
      ],
      "metadata": {
        "colab": {
          "base_uri": "https://localhost:8080/"
        },
        "id": "7qW0uShzMCjZ",
        "outputId": "8a1179b6-1839-4266-d92f-edd3a503c4c0"
      },
      "execution_count": null,
      "outputs": [
        {
          "output_type": "execute_result",
          "data": {
            "text/plain": [
              "GradientBoostingRegressor()"
            ]
          },
          "metadata": {},
          "execution_count": 9
        }
      ]
    },
    {
      "cell_type": "code",
      "source": [
        "\n",
        "\n",
        "y_prediction =  regressor.predict(x_test)\n",
        "y_prediction \n",
        "\n"
      ],
      "metadata": {
        "colab": {
          "base_uri": "https://localhost:8080/"
        },
        "id": "INmyynn7MLaa",
        "outputId": "e8e3e12a-19e8-4f92-ebba-cb06e03469ad"
      },
      "execution_count": null,
      "outputs": [
        {
          "output_type": "execute_result",
          "data": {
            "text/plain": [
              "array([ 1.08888731e-01,  1.03765225e-01,  8.86288784e-01, -1.52093415e-02,\n",
              "       -2.10682797e-01,  9.36889825e-01, -5.63187341e-01, -4.35689187e-01,\n",
              "        7.63417749e-01, -5.86391094e-01,  6.79134988e-01, -7.64119058e-01,\n",
              "        8.08627506e-01, -2.07144688e-01,  6.93426502e-01, -2.05303977e+00,\n",
              "        7.98279108e-01, -5.65486745e-01,  1.53945125e+00,  2.48604148e+00,\n",
              "        6.91667985e-01, -2.12762869e-01,  9.45373030e-01, -2.06159408e+00,\n",
              "       -2.32618700e-03, -6.49514925e-01, -1.41976199e-01, -1.85690670e-01,\n",
              "        1.88135001e+00,  3.83393487e-01, -3.00160178e-01,  4.16311009e-01,\n",
              "       -2.72020465e+00,  1.96761605e+00, -1.30815361e+00, -2.51763505e-01,\n",
              "       -1.07488166e+00, -1.41010575e+00,  1.62317548e+00,  5.82808597e-01,\n",
              "        4.00784796e-01,  1.19407463e+00, -2.94401182e-01,  6.30903299e-01,\n",
              "        3.20740205e-01, -2.89825692e-01, -8.97643754e-01, -5.20718625e-01,\n",
              "        4.74678413e-01, -5.87124731e-01,  5.40811595e-02,  1.62338703e+00,\n",
              "       -2.05094007e+00,  5.14779170e-01,  6.31188088e-01, -1.65414302e-02,\n",
              "       -2.96590557e-01, -1.72805678e+00,  6.16055994e-01,  8.88525154e-01,\n",
              "       -1.24856155e-01, -3.01918695e-01,  1.57555246e+00, -3.86161032e-01,\n",
              "       -9.51129997e-01, -1.30780374e+00, -2.18532482e+00, -4.59503256e-01,\n",
              "       -1.06119877e+00, -3.41424113e-01,  2.51510061e-01, -1.85367904e-01,\n",
              "       -2.71985117e-01,  4.43891636e-01,  2.27423472e-01,  1.08888731e-01,\n",
              "       -1.71680113e+00, -3.68298508e-01, -1.28812030e+00, -4.30072796e-02,\n",
              "        4.72919896e-01, -9.27993216e-01,  1.50602929e-01, -7.33488917e-01,\n",
              "       -1.28357823e+00, -5.83267206e-01,  9.58738686e-02, -5.94685339e-02,\n",
              "        1.55665101e+00, -3.70077362e-01,  8.88499725e-01, -9.75390923e-02,\n",
              "        3.29323345e-02,  9.76323856e-02,  2.50005354e-01, -1.33379792e+00,\n",
              "        1.46215326e-01,  1.58911746e+00, -5.61651670e-01,  4.08581030e-01,\n",
              "        3.21398030e-01,  2.13833223e-01, -5.96280204e-01, -1.24856155e-01,\n",
              "        1.78471692e+00,  3.20000116e-01,  8.97040992e-01,  1.78447707e+00,\n",
              "        1.84578738e+00,  1.37704769e+00, -1.01410870e-01, -1.10890097e-01,\n",
              "        1.06927113e+00, -3.68298508e-01, -1.29257042e+00, -3.68298508e-01,\n",
              "        7.67101445e-01,  4.45073659e-01, -3.44731529e-01, -4.43574926e-01,\n",
              "        9.40577789e-02,  6.73597246e-01, -2.49682007e-03, -5.58249483e-01,\n",
              "       -1.48294567e+00,  1.92650313e-01, -8.59088687e-01,  4.74678413e-01,\n",
              "        1.34513907e+00, -3.45495679e-01, -5.87658974e-01, -2.10159679e-01,\n",
              "       -1.98264457e+00,  8.04442354e-01, -1.28553966e+00, -7.00023162e-01,\n",
              "       -6.09485313e-01,  3.09470141e-01,  6.84206469e-01, -1.52251230e-01,\n",
              "        1.59562942e+00,  2.38679910e+00, -4.63908078e-01, -1.88591163e+00,\n",
              "       -5.35148357e-01,  1.96861221e-01, -6.01403404e-01,  7.98279108e-01,\n",
              "        2.76868878e-01, -7.11976848e-01,  3.07974563e-01,  9.19149664e-01,\n",
              "       -8.64485589e-01,  4.44034583e-01, -9.77011697e-01, -4.03449579e-01,\n",
              "       -9.11847800e-01, -7.63447927e-01, -3.07449763e-02,  4.42143938e-01,\n",
              "       -1.36430418e+00, -5.73746862e-01, -1.60883166e+00,  6.80031402e-01,\n",
              "        1.78447707e+00,  1.59138047e+00, -4.95736555e-01, -2.28679894e+00,\n",
              "        1.63032508e+00,  8.30394893e-01, -1.22391934e-01,  5.06945710e-01,\n",
              "       -1.32281807e+00, -1.43877663e-01,  2.14840301e+00, -8.50786622e-01,\n",
              "       -1.07018503e+00, -1.20065470e-02, -1.35792086e+00,  5.01859067e-01,\n",
              "       -2.08816197e-01, -7.04653371e-01,  6.91647649e-01,  6.91647649e-01,\n",
              "       -8.47103615e-01,  8.97040992e-01, -3.44285685e-01, -5.89319705e-01,\n",
              "       -7.32735962e-01,  5.42519825e-01, -4.22480924e-01,  2.53919741e-02,\n",
              "        3.20581504e-01, -2.09271047e+00, -2.68663502e+00,  2.06526161e-01,\n",
              "       -2.57706405e-01,  1.09627419e+00, -2.07334114e-01, -5.86157191e-01,\n",
              "       -1.01752635e-02, -5.95515888e-01,  2.74958817e-01,  1.05607803e+00,\n",
              "        9.72047429e-02,  1.81135056e+00,  3.23755426e-01, -1.74378447e-02,\n",
              "       -1.90924868e-01,  1.09629949e+00, -2.22366256e-01, -7.16662764e-01,\n",
              "        5.02965474e-02,  2.77011824e-01,  4.93231937e-01,  5.65273571e-01,\n",
              "        2.11786915e-01,  1.46535246e-01, -1.86452906e-01,  1.95468753e+00,\n",
              "       -1.05910461e+00,  5.65444961e-01, -3.44731529e-01,  4.20461324e-01,\n",
              "        1.92864050e+00,  1.78447707e+00, -5.90253770e-01, -1.41010575e+00,\n",
              "        5.26788719e-01,  1.08888731e-01,  2.13348098e-01,  1.63058914e+00,\n",
              "       -2.72388349e+00, -5.81900286e-01,  4.31949988e-01,  7.08090586e-01,\n",
              "       -5.45762400e-01,  1.15024428e+00,  5.38058464e-02, -1.03943094e+00,\n",
              "       -6.16295656e-01, -1.30512391e+00,  1.43685609e+00,  9.28621193e-01,\n",
              "       -6.57371839e-01, -4.93387672e-01,  3.04762266e-01,  6.91667985e-01,\n",
              "        1.43699299e+00,  3.13040495e-01,  6.89889132e-01, -1.05348613e+00,\n",
              "       -2.20514402e+00,  6.65895055e-01, -4.43927308e-01, -1.99075361e-02,\n",
              "        8.38494292e-01, -1.70710767e+00,  3.13040495e-01, -1.71167986e+00,\n",
              "        1.18278881e+00,  1.09344862e+00,  3.05624653e-01, -2.89825692e-01,\n",
              "       -3.52749767e-01,  6.72149975e-01,  7.60514432e-01,  3.24829271e-01,\n",
              "       -1.71547145e+00,  3.83379377e-02, -5.82642281e-01, -2.26756112e+00,\n",
              "       -5.77484861e-01,  9.58535323e-02,  4.43315142e-01, -1.84768899e+00,\n",
              "        7.57231726e-01,  8.11622076e-02, -3.67231461e-01,  7.20344364e-01,\n",
              "       -2.72391367e-01,  2.73022031e-01,  3.19823454e-01, -8.54828940e-01,\n",
              "        8.90955182e-01,  7.96463018e-01,  1.02187857e+00,  1.96598327e-01,\n",
              "       -1.68232708e-01,  1.09520714e+00, -1.11559076e-01, -2.04469421e-01,\n",
              "        3.00213659e-01,  3.94314681e-01, -1.84794255e-01, -1.28357823e+00,\n",
              "        4.02974265e-01,  2.10890500e-01, -1.56352254e+00, -1.59372713e+00,\n",
              "       -4.44966669e-01, -1.85690670e-01,  7.48560094e-01,  1.10647248e-01,\n",
              "        2.09369435e+00,  1.17808580e+00, -5.93080059e-01,  2.53919741e-02,\n",
              "        2.08481564e+00,  2.53919741e-02, -1.70021962e+00, -1.75280996e+00,\n",
              "        5.54201856e-01, -7.01781679e-01, -3.37047233e-01, -1.70661402e+00,\n",
              "       -2.12510498e+00,  1.94958811e-01, -1.53544471e+00, -4.46977565e-01,\n",
              "        1.26172041e+00, -5.77455538e-01,  4.72919896e-01,  6.93426502e-01,\n",
              "       -1.47573447e+00, -3.33046959e-01, -1.85833040e+00,  6.91647649e-01,\n",
              "       -8.79430954e-01,  4.54793347e-01,  6.81604679e-01, -2.96590557e-01,\n",
              "       -1.31705399e+00, -8.41333382e-04, -2.89825692e-01, -1.74943264e+00,\n",
              "        4.42079357e-01, -1.44786720e+00,  1.99026061e+00, -2.07803053e+00,\n",
              "       -8.55851004e-01, -5.47998770e-01,  6.91667985e-01,  9.49382635e-01,\n",
              "        7.54739443e-01,  1.06097470e+00, -9.73217247e-01, -1.30330316e+00,\n",
              "        3.07733919e-01, -4.41122921e-01,  2.07608670e-01, -4.60541972e-01,\n",
              "       -9.88186266e-01, -2.61010521e+00, -1.30936764e+00, -7.44259513e-01,\n",
              "       -1.64314275e-01, -2.22366256e-01, -9.78588932e-01, -1.85690670e-01,\n",
              "        1.32035715e+00,  1.04989356e+00, -1.90028453e-01, -1.20986985e+00,\n",
              "       -4.43927308e-01, -3.68298508e-01])"
            ]
          },
          "metadata": {},
          "execution_count": 10
        }
      ]
    },
    {
      "cell_type": "code",
      "source": [
        "from sklearn.metrics import r2_score\n",
        "from sklearn.metrics import mean_squared_error\n",
        "from sklearn.metrics import mean_absolute_error\n",
        "score = r2_score(y_test,y_prediction)\n",
        "mean_error = mean_squared_error(y_test,y_prediction)\n",
        "mae = mean_absolute_error(y_test,y_prediction)\n",
        "print(\"R2 SCORE is\", score)\n",
        "print(\"mean_sqrd_error is \", mean_error)\n",
        "print(\"Root mean squared error of is\",np.sqrt(mean_error))\n",
        "print(\"Mean Absolute error is\", mae)"
      ],
      "metadata": {
        "colab": {
          "base_uri": "https://localhost:8080/"
        },
        "id": "me-4isELMMxN",
        "outputId": "16a24609-bd6d-4f70-ddfc-537a1000ed92"
      },
      "execution_count": null,
      "outputs": [
        {
          "output_type": "stream",
          "name": "stdout",
          "text": [
            "R2 SCORE is 0.9863695866297625\n",
            "mean_sqrd_error is  0.013103249496904683\n",
            "Root mean squared error of is 0.11446942603553441\n",
            "Mean Absolute error is 0.05967857134699088\n"
          ]
        }
      ]
    },
    {
      "cell_type": "code",
      "source": [
        "y_test = pt_y.inverse_transform(y_test)\n",
        "y_test[:5]"
      ],
      "metadata": {
        "colab": {
          "base_uri": "https://localhost:8080/"
        },
        "id": "OjIUJX0yMOl7",
        "outputId": "72d2cb38-a325-4cea-cb7f-f6756b0b2bae"
      },
      "execution_count": null,
      "outputs": [
        {
          "output_type": "execute_result",
          "data": {
            "text/plain": [
              "array([[ 97.21944444],\n",
              "       [ 97.21944444],\n",
              "       [138.263     ],\n",
              "       [ 91.825     ],\n",
              "       [ 86.18619048]])"
            ]
          },
          "metadata": {},
          "execution_count": 12
        }
      ]
    },
    {
      "cell_type": "code",
      "source": [
        "y_prediction=y_prediction.reshape(-1,1)\n",
        "y_prediction = pt_y.inverse_transform(y_prediction)\n",
        "y_prediction[:5]"
      ],
      "metadata": {
        "colab": {
          "base_uri": "https://localhost:8080/"
        },
        "id": "sVwS0vYwMPyb",
        "outputId": "4d269a04-5b2a-4e93-d560-a4b1f97a3fd4"
      },
      "execution_count": null,
      "outputs": [
        {
          "output_type": "execute_result",
          "data": {
            "text/plain": [
              "array([[ 96.66737828],\n",
              "       [ 96.4500024 ],\n",
              "       [136.17315789],\n",
              "       [ 91.53964309],\n",
              "       [ 84.01693226]])"
            ]
          },
          "metadata": {},
          "execution_count": 13
        }
      ]
    },
    {
      "cell_type": "code",
      "source": [
        "df1 = pd.DataFrame({'Actual': y_test[100:120].flatten(), 'Predicted': y_prediction[100:120].flatten()})\n",
        "df1.plot(kind='line')\n",
        "plt.grid(which='major', linestyle='-', linewidth='0.5', color='green')\n",
        "plt.grid(which='minor', linestyle=':', linewidth='0.5', color='black')\n",
        "plt.show()"
      ],
      "metadata": {
        "colab": {
          "base_uri": "https://localhost:8080/",
          "height": 265
        },
        "id": "xx0086ZJMQ9I",
        "outputId": "ea40c0fb-6863-4c43-e2b1-c3701d37c834"
      },
      "execution_count": null,
      "outputs": [
        {
          "output_type": "display_data",
          "data": {
            "text/plain": [
              "<Figure size 432x288 with 1 Axes>"
            ],
            "image/png": "[encoded data removed]"
          },
          "metadata": {
            "needs_background": "light"
          }
        }
      ]
    },
    {
      "cell_type": "code",
      "source": [
        "\n",
        "\n",
        "result = pd.DataFrame()\n",
        "result[\"ACTUAL AQI\"] = y_test.flatten()\n",
        "result[\"PREDICTED AQI\"] = y_prediction\n",
        "result[\"DIFFERNCE\"] = result[\"ACTUAL AQI\"] - result[\"PREDICTED AQI\"]\n",
        "result[\"PERCENTAGE ERROR\"] = ( abs(result[\"ACTUAL AQI\"] - result[\"PREDICTED AQI\"] ) / result[\"ACTUAL AQI\"] ) * 100\n",
        "result.head(15)\n",
        "\n"
      ],
      "metadata": {
        "colab": {
          "base_uri": "https://localhost:8080/",
          "height": 520
        },
        "id": "lG6oXEJbMSMk",
        "outputId": "a9e474d8-f40e-4277-c3a4-53a73836f37a"
      },
      "execution_count": null,
      "outputs": [
        {
          "output_type": "execute_result",
          "data": {
            "text/plain": [
              "    ACTUAL AQI  PREDICTED AQI  DIFFERNCE  PERCENTAGE ERROR\n",
              "0    97.219444      96.667378   0.552066          0.567856\n",
              "1    97.219444      96.450002   0.769442          0.791449\n",
              "2   138.263000     136.173158   2.089842          1.511498\n",
              "3    91.825000      91.539643   0.285357          0.310762\n",
              "4    86.186190      84.016932   2.169258          2.516944\n",
              "5   139.958889     139.255271   0.703618          0.502732\n",
              "6    70.393800      71.999307  -1.605507          2.280751\n",
              "7    76.247500      76.130457   0.117043          0.153504\n",
              "8   130.563000     128.975385   1.587615          1.215976\n",
              "9    70.393800      71.272271  -0.878471          1.247937\n",
              "10  125.160000     124.263505   0.896495          0.716279\n",
              "11   72.180833      65.944583   6.236250          8.639759\n",
              "12  127.566667     131.577533  -4.010867          3.144134\n",
              "13   83.808250      84.147355  -0.339105          0.404619\n",
              "14  125.160000     125.049948   0.110052          0.087929"
            ],
            "text/html": [
              "\n",
              "  <div id=\"df-023b7cfe-6dc8-4d34-8950-9ad6eba994fa\">\n",
              "    <div class=\"colab-df-container\">\n",
              "      <div>\n",
              "<style scoped>\n",
              "    .dataframe tbody tr th:only-of-type {\n",
              "        vertical-align: middle;\n",
              "    }\n",
              "\n",
              "    .dataframe tbody tr th {\n",
              "        vertical-align: top;\n",
              "    }\n",
              "\n",
              "    .dataframe thead th {\n",
              "        text-align: right;\n",
              "    }\n",
              "</style>\n",
              "<table border=\"1\" class=\"dataframe\">\n",
              "  <thead>\n",
              "    <tr style=\"text-align: right;\">\n",
              "      <th></th>\n",
              "      <th>ACTUAL AQI</th>\n",
              "      <th>PREDICTED AQI</th>\n",
              "      <th>DIFFERNCE</th>\n",
              "      <th>PERCENTAGE ERROR</th>\n",
              "    </tr>\n",
              "  </thead>\n",
              "  <tbody>\n",
              "    <tr>\n",
              "      <th>0</th>\n",
              "      <td>97.219444</td>\n",
              "      <td>96.667378</td>\n",
              "      <td>0.552066</td>\n",
              "      <td>0.567856</td>\n",
              "    </tr>\n",
              "    <tr>\n",
              "      <th>1</th>\n",
              "      <td>97.219444</td>\n",
              "      <td>96.450002</td>\n",
              "      <td>0.769442</td>\n",
              "      <td>0.791449</td>\n",
              "    </tr>\n",
              "    <tr>\n",
              "      <th>2</th>\n",
              "      <td>138.263000</td>\n",
              "      <td>136.173158</td>\n",
              "      <td>2.089842</td>\n",
              "      <td>1.511498</td>\n",
              "    </tr>\n",
              "    <tr>\n",
              "      <th>3</th>\n",
              "      <td>91.825000</td>\n",
              "      <td>91.539643</td>\n",
              "      <td>0.285357</td>\n",
              "      <td>0.310762</td>\n",
              "    </tr>\n",
              "    <tr>\n",
              "      <th>4</th>\n",
              "      <td>86.186190</td>\n",
              "      <td>84.016932</td>\n",
              "      <td>2.169258</td>\n",
              "      <td>2.516944</td>\n",
              "    </tr>\n",
              "    <tr>\n",
              "      <th>5</th>\n",
              "      <td>139.958889</td>\n",
              "      <td>139.255271</td>\n",
              "      <td>0.703618</td>\n",
              "      <td>0.502732</td>\n",
              "    </tr>\n",
              "    <tr>\n",
              "      <th>6</th>\n",
              "      <td>70.393800</td>\n",
              "      <td>71.999307</td>\n",
              "      <td>-1.605507</td>\n",
              "      <td>2.280751</td>\n",
              "    </tr>\n",
              "    <tr>\n",
              "      <th>7</th>\n",
              "      <td>76.247500</td>\n",
              "      <td>76.130457</td>\n",
              "      <td>0.117043</td>\n",
              "      <td>0.153504</td>\n",
              "    </tr>\n",
              "    <tr>\n",
              "      <th>8</th>\n",
              "      <td>130.563000</td>\n",
              "      <td>128.975385</td>\n",
              "      <td>1.587615</td>\n",
              "      <td>1.215976</td>\n",
              "    </tr>\n",
              "    <tr>\n",
              "      <th>9</th>\n",
              "      <td>70.393800</td>\n",
              "      <td>71.272271</td>\n",
              "      <td>-0.878471</td>\n",
              "      <td>1.247937</td>\n",
              "    </tr>\n",
              "    <tr>\n",
              "      <th>10</th>\n",
              "      <td>125.160000</td>\n",
              "      <td>124.263505</td>\n",
              "      <td>0.896495</td>\n",
              "      <td>0.716279</td>\n",
              "    </tr>\n",
              "    <tr>\n",
              "      <th>11</th>\n",
              "      <td>72.180833</td>\n",
              "      <td>65.944583</td>\n",
              "      <td>6.236250</td>\n",
              "      <td>8.639759</td>\n",
              "    </tr>\n",
              "    <tr>\n",
              "      <th>12</th>\n",
              "      <td>127.566667</td>\n",
              "      <td>131.577533</td>\n",
              "      <td>-4.010867</td>\n",
              "      <td>3.144134</td>\n",
              "    </tr>\n",
              "    <tr>\n",
              "      <th>13</th>\n",
              "      <td>83.808250</td>\n",
              "      <td>84.147355</td>\n",
              "      <td>-0.339105</td>\n",
              "      <td>0.404619</td>\n",
              "    </tr>\n",
              "    <tr>\n",
              "      <th>14</th>\n",
              "      <td>125.160000</td>\n",
              "      <td>125.049948</td>\n",
              "      <td>0.110052</td>\n",
              "      <td>0.087929</td>\n",
              "    </tr>\n",
              "  </tbody>\n",
              "</table>\n",
              "</div>\n",
              "      <button class=\"colab-df-convert\" onclick=\"convertToInteractive('df-023b7cfe-6dc8-4d34-8950-9ad6eba994fa')\"\n",
              "              title=\"Convert this dataframe to an interactive table.\"\n",
              "              style=\"display:none;\">\n",
              "        \n",
              "  <svg xmlns=\"http://www.w3.org/2000/svg\" height=\"24px\"viewBox=\"0 0 24 24\"\n",
              "       width=\"24px\">\n",
              "    <path d=\"M0 0h24v24H0V0z\" fill=\"none\"/>\n",
              "    <path d=\"M18.56 5.44l.94 2.06.94-2.06 2.06-.94-2.06-.94-.94-2.06-.94 2.06-2.06.94zm-11 1L8.5 8.5l.94-2.06 2.06-.94-2.06-.94L8.5 2.5l-.94 2.06-2.06.94zm10 10l.94 2.06.94-2.06 2.06-.94-2.06-.94-.94-2.06-.94 2.06-2.06.94z\"/><path d=\"M17.41 7.96l-1.37-1.37c-.4-.4-.92-.59-1.43-.59-.52 0-1.04.2-1.43.59L10.3 9.45l-7.72 7.72c-.78.78-.78 2.05 0 2.83L4 21.41c.39.39.9.59 1.41.59.51 0 1.02-.2 1.41-.59l7.78-7.78 2.81-2.81c.8-.78.8-2.07 0-2.86zM5.41 20L4 18.59l7.72-7.72 1.47 1.35L5.41 20z\"/>\n",
              "  </svg>\n",
              "      </button>\n",
              "      \n",
              "  <style>\n",
              "    .colab-df-container {\n",
              "      display:flex;\n",
              "      flex-wrap:wrap;\n",
              "      gap: 12px;\n",
              "    }\n",
              "\n",
              "    .colab-df-convert {\n",
              "      background-color: #E8F0FE;\n",
              "      border: none;\n",
              "      border-radius: 50%;\n",
              "      cursor: pointer;\n",
              "      display: none;\n",
              "      fill: #1967D2;\n",
              "      height: 32px;\n",
              "      padding: 0 0 0 0;\n",
              "      width: 32px;\n",
              "    }\n",
              "\n",
              "    .colab-df-convert:hover {\n",
              "      background-color: #E2EBFA;\n",
              "      box-shadow: 0px 1px 2px rgba(60, 64, 67, 0.3), 0px 1px 3px 1px rgba(60, 64, 67, 0.15);\n",
              "      fill: #174EA6;\n",
              "    }\n",
              "\n",
              "    [theme=dark] .colab-df-convert {\n",
              "      background-color: #3B4455;\n",
              "      fill: #D2E3FC;\n",
              "    }\n",
              "\n",
              "    [theme=dark] .colab-df-convert:hover {\n",
              "      background-color: #434B5C;\n",
              "      box-shadow: 0px 1px 3px 1px rgba(0, 0, 0, 0.15);\n",
              "      filter: drop-shadow(0px 1px 2px rgba(0, 0, 0, 0.3));\n",
              "      fill: #FFFFFF;\n",
              "    }\n",
              "  </style>\n",
              "\n",
              "      <script>\n",
              "        const buttonEl =\n",
              "          document.querySelector('#df-023b7cfe-6dc8-4d34-8950-9ad6eba994fa button.colab-df-convert');\n",
              "        buttonEl.style.display =\n",
              "          google.colab.kernel.accessAllowed ? 'block' : 'none';\n",
              "\n",
              "        async function convertToInteractive(key) {\n",
              "          const element = document.querySelector('#df-023b7cfe-6dc8-4d34-8950-9ad6eba994fa');\n",
              "          const dataTable =\n",
              "            await google.colab.kernel.invokeFunction('convertToInteractive',\n",
              "                                                     [key], {});\n",
              "          if (!dataTable) return;\n",
              "\n",
              "          const docLinkHtml = 'Like what you see? Visit the ' +\n",
              "            '<a target=\"_blank\" href=https://colab.research.google.com/notebooks/data_table.ipynb>data table notebook</a>'\n",
              "            + ' to learn more about interactive tables.';\n",
              "          element.innerHTML = '';\n",
              "          dataTable['output_type'] = 'display_data';\n",
              "          await google.colab.output.renderOutput(dataTable, element);\n",
              "          const docLink = document.createElement('div');\n",
              "          docLink.innerHTML = docLinkHtml;\n",
              "          element.appendChild(docLink);\n",
              "        }\n",
              "      </script>\n",
              "    </div>\n",
              "  </div>\n",
              "  "
            ]
          },
          "metadata": {},
          "execution_count": 15
        }
      ]
    },
    {
      "cell_type": "markdown",
      "source": [
        "###Ensembling approach"
      ],
      "metadata": {
        "id": "i9xsuJhwMWN5"
      }
    },
    {
      "cell_type": "code",
      "source": [
        "from sklearn.linear_model import LinearRegression\n",
        "from sklearn.tree import DecisionTreeRegressor\n",
        "from sklearn.svm import SVR\n",
        "from sklearn.model_selection import cross_val_score\n",
        "from sklearn.ensemble import RandomForestRegressor\n",
        "from sklearn.ensemble import GradientBoostingRegressor"
      ],
      "metadata": {
        "id": "1ZMoKu2NMTms"
      },
      "execution_count": null,
      "outputs": []
    },
    {
      "cell_type": "code",
      "source": [
        "\n",
        "rf = RandomForestRegressor()\n",
        "gb = GradientBoostingRegressor()\n",
        "svr = SVR()"
      ],
      "metadata": {
        "id": "D04CJy-5MkNq"
      },
      "execution_count": null,
      "outputs": []
    },
    {
      "cell_type": "code",
      "source": [
        "estimators = [('rf',rf),('gb',gb),('svr',svr)]"
      ],
      "metadata": {
        "id": "Db9zgkbuMlph"
      },
      "execution_count": null,
      "outputs": []
    },
    {
      "cell_type": "code",
      "source": [
        "\n",
        "\n",
        "for estimator in estimators:\n",
        "  scores = cross_val_score(estimator[1],x_train,y_train,scoring='r2',cv=10)\n",
        "  print(estimator[0],np.round(np.mean(scores),2))\n",
        "\n"
      ],
      "metadata": {
        "colab": {
          "base_uri": "https://localhost:8080/"
        },
        "id": "-RFpU2Y5Mm5j",
        "outputId": "8c49b182-5995-4c53-b7a9-72a4485b04e4"
      },
      "execution_count": null,
      "outputs": [
        {
          "output_type": "stream",
          "name": "stdout",
          "text": [
            "rf 0.99\n",
            "gb 0.99\n",
            "svr 0.96\n"
          ]
        }
      ]
    },
    {
      "cell_type": "code",
      "source": [
        "\n",
        "from sklearn.ensemble import VotingRegressor\n",
        "vr = VotingRegressor(estimators)\n",
        "scores = cross_val_score(vr,x_train,y_train,scoring='r2',cv=10)\n",
        "print(\"Voting Regressor\",np.round(np.mean(scores),2))"
      ],
      "metadata": {
        "colab": {
          "base_uri": "https://localhost:8080/"
        },
        "id": "MPJpmP1bMoWx",
        "outputId": "1956d5a0-08d3-41e6-8ee1-4ac48a43959f"
      },
      "execution_count": null,
      "outputs": [
        {
          "output_type": "stream",
          "name": "stdout",
          "text": [
            "Voting Regressor 0.98\n"
          ]
        }
      ]
    },
    {
      "cell_type": "code",
      "source": [
        "vr.fit(x_train,y_train)"
      ],
      "metadata": {
        "colab": {
          "base_uri": "https://localhost:8080/"
        },
        "id": "LYRjCNp6MqOp",
        "outputId": "0e23a3e4-55d5-411a-e2de-a3e85b849648"
      },
      "execution_count": null,
      "outputs": [
        {
          "output_type": "execute_result",
          "data": {
            "text/plain": [
              "VotingRegressor(estimators=[('rf', RandomForestRegressor()),\n",
              "                            ('gb', GradientBoostingRegressor()),\n",
              "                            ('svr', SVR())])"
            ]
          },
          "metadata": {},
          "execution_count": 14
        }
      ]
    },
    {
      "cell_type": "code",
      "source": [
        "\n",
        "\n",
        "y_prediction =  vr.predict(x_test)\n",
        "y_prediction \n",
        "\n"
      ],
      "metadata": {
        "colab": {
          "base_uri": "https://localhost:8080/"
        },
        "id": "C_0mYcAgMrgP",
        "outputId": "c60d4215-d5e8-4d63-8ec8-926b038560dd"
      },
      "execution_count": null,
      "outputs": [
        {
          "output_type": "execute_result",
          "data": {
            "text/plain": [
              "array([ 1.40236660e-01,  1.34022317e-01,  9.08022256e-01, -3.59381480e-03,\n",
              "       -1.75058291e-01,  9.03944774e-01, -5.82324282e-01, -3.96469519e-01,\n",
              "        7.92357838e-01, -6.61953695e-01,  6.76865186e-01, -6.85620240e-01,\n",
              "        8.40235570e-01, -2.00551306e-01,  6.96141308e-01, -2.08720953e+00,\n",
              "        7.66669322e-01, -6.26175958e-01,  1.47640474e+00,  2.23900546e+00,\n",
              "        6.76788942e-01, -2.00055509e-01,  9.39673608e-01, -1.92206092e+00,\n",
              "       -3.77201378e-03, -5.42859644e-01, -1.49321355e-01, -1.56359807e-01,\n",
              "        1.87249525e+00,  4.02243181e-01, -2.82520344e-01,  3.85494300e-01,\n",
              "       -2.76102961e+00,  1.87803063e+00, -1.40356319e+00, -2.81382275e-01,\n",
              "       -1.14425496e+00, -1.44701333e+00,  1.56418911e+00,  5.93869564e-01,\n",
              "        4.73794735e-01,  1.17150001e+00, -2.57354408e-01,  6.27725430e-01,\n",
              "        2.91601529e-01, -2.86599860e-01, -8.83181308e-01, -4.86945582e-01,\n",
              "        5.38812267e-01, -6.52680476e-01,  1.58476236e-02,  1.60364121e+00,\n",
              "       -2.09486980e+00,  6.41036032e-01,  6.27100969e-01, -1.62199252e-02,\n",
              "       -2.75054767e-01, -1.69199382e+00,  7.56064465e-01,  9.26135323e-01,\n",
              "       -1.44009912e-01, -2.85578010e-01,  1.59747000e+00, -3.56328654e-01,\n",
              "       -9.39101850e-01, -1.24366192e+00, -2.27713019e+00, -4.23773176e-01,\n",
              "       -1.12641294e+00, -3.07171896e-01,  1.88274591e-01, -3.16154749e-01,\n",
              "       -2.13971073e-01,  4.48561373e-01,  2.22382546e-01,  1.30052543e-01,\n",
              "       -1.49932622e+00, -3.40618878e-01, -1.23387529e+00, -2.64063989e-02,\n",
              "        5.05897935e-01, -9.05280679e-01,  1.06494926e-01, -6.65095699e-01,\n",
              "       -1.26435299e+00, -6.16689268e-01,  7.56050717e-02, -1.12414309e-01,\n",
              "        1.57967779e+00, -3.47954788e-01,  8.99798676e-01, -2.36930653e-01,\n",
              "       -5.69769881e-03,  5.31029049e-02,  2.46935155e-01, -1.10205170e+00,\n",
              "        1.18709654e-01,  1.55584853e+00, -5.38516018e-01,  4.41663980e-01,\n",
              "        3.32379694e-01,  2.69871442e-01, -5.83278583e-01, -1.51730238e-01,\n",
              "        1.62704897e+00,  3.07151153e-01,  9.04870922e-01,  1.76684353e+00,\n",
              "        1.86814635e+00,  1.32686386e+00, -1.89999051e-01, -1.42545789e-01,\n",
              "        1.13195227e+00, -3.72905613e-01, -1.26934226e+00, -3.70121188e-01,\n",
              "        7.91598708e-01,  4.25516635e-01, -3.16774559e-01, -5.33259443e-01,\n",
              "        6.42803089e-02,  7.02302412e-01,  2.15742921e-03, -5.40100708e-01,\n",
              "       -1.41203443e+00,  2.14035364e-01, -7.05374481e-01,  5.19568765e-01,\n",
              "        1.29002618e+00, -3.20520055e-01, -6.27084236e-01, -1.56504666e-01,\n",
              "       -1.77858233e+00,  8.36686866e-01, -1.26868146e+00, -7.71098307e-01,\n",
              "       -5.45759196e-01,  3.10635132e-01,  6.91523687e-01, -1.22253084e-01,\n",
              "        1.51038558e+00,  2.36779949e+00, -4.54142517e-01, -1.78057751e+00,\n",
              "       -5.38470606e-01,  2.56317692e-01, -5.87278744e-01,  7.71916118e-01,\n",
              "        2.41445858e-01, -7.48385671e-01,  3.01834455e-01,  9.28799703e-01,\n",
              "       -7.40722484e-01,  4.47906846e-01, -8.80575751e-01, -3.79414764e-01,\n",
              "       -9.11597617e-01, -6.52969830e-01, -1.04401893e-01,  4.80960512e-01,\n",
              "       -1.32749406e+00, -5.55369484e-01, -1.62683402e+00,  6.88407929e-01,\n",
              "        1.78426522e+00,  1.47850758e+00, -3.95657401e-01, -2.15324356e+00,\n",
              "        1.61001179e+00,  8.75102910e-01, -1.22352485e-01,  5.01339579e-01,\n",
              "       -1.39566837e+00, -1.58793659e-01,  2.06825098e+00, -7.33639620e-01,\n",
              "       -1.00636376e+00, -8.62151147e-02, -1.35706629e+00,  5.73918644e-01,\n",
              "       -1.76579365e-01, -7.50214718e-01,  6.63135268e-01,  7.03762317e-01,\n",
              "       -8.01851624e-01,  8.85365087e-01, -3.20787260e-01, -6.01213774e-01,\n",
              "       -6.57362391e-01,  6.38379190e-01, -4.31607912e-01,  7.71071750e-03,\n",
              "        2.61392142e-01, -1.99555036e+00, -2.63565896e+00,  2.07084102e-01,\n",
              "       -2.71665895e-01,  1.07473448e+00, -1.59126715e-01, -5.89906415e-01,\n",
              "       -1.02181974e-01, -6.39892206e-01,  3.35374508e-01,  1.07343450e+00,\n",
              "        5.20711751e-03,  1.82418262e+00,  3.74251449e-01, -2.96220335e-02,\n",
              "       -1.54208308e-01,  1.08798489e+00, -2.25086558e-01, -6.56743513e-01,\n",
              "        1.75954752e-02,  2.51694121e-01,  4.97970636e-01,  6.56088777e-01,\n",
              "        2.38442335e-01,  1.38716789e-01, -1.84151640e-01,  1.93049981e+00,\n",
              "       -9.19582607e-01,  1.70220948e-01, -3.13935115e-01,  3.96765211e-01,\n",
              "        1.38471384e+00,  1.75961419e+00, -4.93641827e-01, -1.44880718e+00,\n",
              "        6.26745199e-01,  1.38023149e-01,  1.88622872e-01,  1.61917099e+00,\n",
              "       -2.59325725e+00, -6.46302857e-01,  4.91016794e-01,  7.06998045e-01,\n",
              "       -5.54402528e-01,  1.15793165e+00,  6.64144199e-03, -9.42042192e-01,\n",
              "       -5.18253046e-01, -1.27355845e+00,  1.41016312e+00,  9.38482230e-01,\n",
              "       -5.33802430e-01, -4.43785451e-01,  2.83243984e-01,  6.68574963e-01,\n",
              "        1.52128294e+00,  3.08196362e-01,  6.58031110e-01, -1.05344608e+00,\n",
              "       -2.29073146e+00,  5.80569430e-01, -4.05151254e-01, -1.06432692e-02,\n",
              "        8.40554672e-01, -1.78150618e+00,  3.13032572e-01, -1.79375178e+00,\n",
              "        1.12965002e+00,  1.04462775e+00,  3.01325843e-01, -2.69840738e-01,\n",
              "       -3.30113888e-01,  6.44967020e-01,  8.24949829e-01,  2.46872655e-01,\n",
              "       -1.75991955e+00,  1.81672883e-02, -5.69240671e-01, -2.29317643e+00,\n",
              "       -5.67431119e-01,  9.95486164e-02,  4.28762106e-01, -1.79735584e+00,\n",
              "        8.51377257e-01,  4.10039670e-02, -3.63847021e-01,  7.05135709e-01,\n",
              "       -2.04650231e-01,  2.45807815e-01,  3.21921955e-01, -8.10063198e-01,\n",
              "        8.71693167e-01,  7.77675035e-01,  9.99054994e-01,  2.38428943e-01,\n",
              "       -1.84175694e-01,  1.08425526e+00, -7.16258150e-02, -2.07131848e-01,\n",
              "        3.02423700e-01,  4.29687516e-01, -1.50556398e-01, -1.28111826e+00,\n",
              "        4.81827376e-01,  2.45101303e-01, -1.43817525e+00, -1.57549652e+00,\n",
              "       -3.91844904e-01, -1.40330252e-01,  7.72275243e-01,  1.34993319e-01,\n",
              "        2.08597995e+00,  1.16802710e+00, -6.51094771e-01,  1.55547075e-03,\n",
              "        2.03180010e+00,  1.14489773e-02, -1.73654451e+00, -1.76695768e+00,\n",
              "        5.59638521e-01, -7.22143711e-01, -4.07549505e-01, -1.65054092e+00,\n",
              "       -2.20081908e+00,  1.76195848e-01, -1.54335556e+00, -4.26587484e-01,\n",
              "        1.18852667e+00, -5.14887347e-01,  5.05565542e-01,  6.88766426e-01,\n",
              "       -1.35840350e+00, -4.26113967e-01, -1.88646518e+00,  6.99647047e-01,\n",
              "       -7.61249123e-01,  5.38545492e-01,  6.73386338e-01, -2.69357635e-01,\n",
              "       -1.25617841e+00, -7.56748589e-04, -2.86726206e-01, -1.29381790e+00,\n",
              "        4.46414011e-01, -1.52840926e+00,  1.98775116e+00, -2.08409234e+00,\n",
              "       -7.08418765e-01, -5.50096098e-01,  6.72786306e-01,  9.55960381e-01,\n",
              "        7.94658038e-01,  1.08366728e+00, -1.00871517e+00, -1.32929209e+00,\n",
              "        2.94035002e-01, -4.34130882e-01,  2.44803057e-01, -4.64373714e-01,\n",
              "       -8.40074343e-01, -2.63369004e+00, -1.28746430e+00, -6.99586729e-01,\n",
              "       -1.45412441e-01, -2.75377332e-01, -1.00053854e+00, -1.21060892e-01,\n",
              "        1.26360153e+00,  1.05750173e+00, -1.56354179e-01, -1.16168964e+00,\n",
              "       -3.98962088e-01, -3.57844911e-01])"
            ]
          },
          "metadata": {},
          "execution_count": 15
        }
      ]
    },
    {
      "cell_type": "code",
      "source": [
        "from sklearn.metrics import r2_score\n",
        "from sklearn.metrics import mean_squared_error\n",
        "from sklearn.metrics import mean_absolute_error\n",
        "score = r2_score(y_test,y_prediction)\n",
        "mean_error = mean_squared_error(y_test,y_prediction)\n",
        "mae = mean_absolute_error(y_test,y_prediction)\n",
        "print(\"R2 SCORE is\", score)\n",
        "print(\"mean_sqrd_error is \", mean_error)\n",
        "print(\"Root mean squared error of is\",np.sqrt(mean_error))\n",
        "print(\"Mean Absolute error is\", mae)"
      ],
      "metadata": {
        "colab": {
          "base_uri": "https://localhost:8080/"
        },
        "id": "o0_EcI3bMsou",
        "outputId": "9823d582-4a6b-404e-88df-74c5594adc27"
      },
      "execution_count": null,
      "outputs": [
        {
          "output_type": "stream",
          "name": "stdout",
          "text": [
            "R2 SCORE is 0.9876314896962821\n",
            "mean_sqrd_error is  0.011890151238445343\n",
            "Root mean squared error of is 0.1090419700777886\n",
            "Mean Absolute error is 0.055831046821730734\n"
          ]
        }
      ]
    },
    {
      "cell_type": "code",
      "source": [
        "y_test = pt_y.inverse_transform(y_test)\n",
        "y_test[:5]"
      ],
      "metadata": {
        "id": "e90xiToGMubd",
        "outputId": "47f29fb4-2840-4c89-fda3-5d529744e2ab",
        "colab": {
          "base_uri": "https://localhost:8080/"
        }
      },
      "execution_count": null,
      "outputs": [
        {
          "output_type": "execute_result",
          "data": {
            "text/plain": [
              "array([[ 97.21944444],\n",
              "       [ 97.21944444],\n",
              "       [138.263     ],\n",
              "       [ 91.825     ],\n",
              "       [ 86.18619048]])"
            ]
          },
          "metadata": {},
          "execution_count": 17
        }
      ]
    },
    {
      "cell_type": "code",
      "source": [
        "y_prediction=y_prediction.reshape(-1,1)\n",
        "y_prediction = pt_y.inverse_transform(y_prediction)\n",
        "y_prediction[:5]"
      ],
      "metadata": {
        "id": "obaNZeZrMvph",
        "outputId": "e8dab8d6-f0c1-4296-b7bb-117c6f9a2a3f",
        "colab": {
          "base_uri": "https://localhost:8080/"
        }
      },
      "execution_count": null,
      "outputs": [
        {
          "output_type": "execute_result",
          "data": {
            "text/plain": [
              "array([[ 98.00827697],\n",
              "       [ 97.74096504],\n",
              "       [137.48832864],\n",
              "       [ 92.00763636],\n",
              "       [ 85.33955549]])"
            ]
          },
          "metadata": {},
          "execution_count": 18
        }
      ]
    },
    {
      "cell_type": "code",
      "source": [
        "df1 = pd.DataFrame({'Actual': y_test[100:120].flatten(), 'Predicted': y_prediction[100:120].flatten()})\n",
        "df1.plot(kind='line')\n",
        "plt.grid(which='major', linestyle='-', linewidth='0.5', color='green')\n",
        "plt.grid(which='minor', linestyle=':', linewidth='0.5', color='black')\n",
        "plt.show()"
      ],
      "metadata": {
        "id": "XsL1gWt3MxFr",
        "outputId": "6eeafc88-3547-47a7-e71a-fff399daffcb",
        "colab": {
          "base_uri": "https://localhost:8080/",
          "height": 265
        }
      },
      "execution_count": null,
      "outputs": [
        {
          "output_type": "display_data",
          "data": {
            "text/plain": [
              "<Figure size 432x288 with 1 Axes>"
            ],
            "image/png": "[encoded data removed]"
          },
          "metadata": {
            "needs_background": "light"
          }
        }
      ]
    },
    {
      "cell_type": "code",
      "source": [
        "\n",
        "\n",
        "result = pd.DataFrame()\n",
        "result[\"ACTUAL AQI\"] = y_test.flatten()\n",
        "result[\"PREDICTED AQI\"] = y_prediction\n",
        "result[\"DIFFERNCE\"] = result[\"ACTUAL AQI\"] - result[\"PREDICTED AQI\"]\n",
        "result[\"PERCENTAGE ERROR\"] = ( abs(result[\"ACTUAL AQI\"] - result[\"PREDICTED AQI\"] ) / result[\"ACTUAL AQI\"] ) * 100\n",
        "result.head(15)\n",
        "\n"
      ],
      "metadata": {
        "id": "dKm6F_CgMyiR",
        "outputId": "b0f76481-0c9e-4a21-d795-25556cd7eecd",
        "colab": {
          "base_uri": "https://localhost:8080/",
          "height": 520
        }
      },
      "execution_count": null,
      "outputs": [
        {
          "output_type": "execute_result",
          "data": {
            "text/plain": [
              "    ACTUAL AQI  PREDICTED AQI  DIFFERNCE  PERCENTAGE ERROR\n",
              "0    97.219444      98.008277  -0.788833          0.811394\n",
              "1    97.219444      97.740965  -0.521521          0.536437\n",
              "2   138.263000     137.488329   0.774671          0.560288\n",
              "3    91.825000      92.007636  -0.182636          0.198896\n",
              "4    86.186190      85.339555   0.846635          0.982333\n",
              "5   139.958889     137.240602   2.718287          1.942204\n",
              "6    70.393800      71.399155  -1.005355          1.428187\n",
              "7    76.247500      77.448975  -1.201475          1.575757\n",
              "8   130.563000     130.634986  -0.071986          0.055135\n",
              "9    70.393800      68.955835   1.437965          2.042744\n",
              "10  125.160000     124.139066   1.020934          0.815703\n",
              "11   72.180833      68.246114   3.934719          5.451196\n",
              "12  127.566667     133.428552  -5.861885          4.595154\n",
              "13   83.808250      84.390950  -0.582700          0.695277\n",
              "14  125.160000     125.199913  -0.039913          0.031889"
            ],
            "text/html": [
              "\n",
              "  <div id=\"df-4bc9a713-5acd-4b22-b4f2-e6132fdd41f1\">\n",
              "    <div class=\"colab-df-container\">\n",
              "      <div>\n",
              "<style scoped>\n",
              "    .dataframe tbody tr th:only-of-type {\n",
              "        vertical-align: middle;\n",
              "    }\n",
              "\n",
              "    .dataframe tbody tr th {\n",
              "        vertical-align: top;\n",
              "    }\n",
              "\n",
              "    .dataframe thead th {\n",
              "        text-align: right;\n",
              "    }\n",
              "</style>\n",
              "<table border=\"1\" class=\"dataframe\">\n",
              "  <thead>\n",
              "    <tr style=\"text-align: right;\">\n",
              "      <th></th>\n",
              "      <th>ACTUAL AQI</th>\n",
              "      <th>PREDICTED AQI</th>\n",
              "      <th>DIFFERNCE</th>\n",
              "      <th>PERCENTAGE ERROR</th>\n",
              "    </tr>\n",
              "  </thead>\n",
              "  <tbody>\n",
              "    <tr>\n",
              "      <th>0</th>\n",
              "      <td>97.219444</td>\n",
              "      <td>98.008277</td>\n",
              "      <td>-0.788833</td>\n",
              "      <td>0.811394</td>\n",
              "    </tr>\n",
              "    <tr>\n",
              "      <th>1</th>\n",
              "      <td>97.219444</td>\n",
              "      <td>97.740965</td>\n",
              "      <td>-0.521521</td>\n",
              "      <td>0.536437</td>\n",
              "    </tr>\n",
              "    <tr>\n",
              "      <th>2</th>\n",
              "      <td>138.263000</td>\n",
              "      <td>137.488329</td>\n",
              "      <td>0.774671</td>\n",
              "      <td>0.560288</td>\n",
              "    </tr>\n",
              "    <tr>\n",
              "      <th>3</th>\n",
              "      <td>91.825000</td>\n",
              "      <td>92.007636</td>\n",
              "      <td>-0.182636</td>\n",
              "      <td>0.198896</td>\n",
              "    </tr>\n",
              "    <tr>\n",
              "      <th>4</th>\n",
              "      <td>86.186190</td>\n",
              "      <td>85.339555</td>\n",
              "      <td>0.846635</td>\n",
              "      <td>0.982333</td>\n",
              "    </tr>\n",
              "    <tr>\n",
              "      <th>5</th>\n",
              "      <td>139.958889</td>\n",
              "      <td>137.240602</td>\n",
              "      <td>2.718287</td>\n",
              "      <td>1.942204</td>\n",
              "    </tr>\n",
              "    <tr>\n",
              "      <th>6</th>\n",
              "      <td>70.393800</td>\n",
              "      <td>71.399155</td>\n",
              "      <td>-1.005355</td>\n",
              "      <td>1.428187</td>\n",
              "    </tr>\n",
              "    <tr>\n",
              "      <th>7</th>\n",
              "      <td>76.247500</td>\n",
              "      <td>77.448975</td>\n",
              "      <td>-1.201475</td>\n",
              "      <td>1.575757</td>\n",
              "    </tr>\n",
              "    <tr>\n",
              "      <th>8</th>\n",
              "      <td>130.563000</td>\n",
              "      <td>130.634986</td>\n",
              "      <td>-0.071986</td>\n",
              "      <td>0.055135</td>\n",
              "    </tr>\n",
              "    <tr>\n",
              "      <th>9</th>\n",
              "      <td>70.393800</td>\n",
              "      <td>68.955835</td>\n",
              "      <td>1.437965</td>\n",
              "      <td>2.042744</td>\n",
              "    </tr>\n",
              "    <tr>\n",
              "      <th>10</th>\n",
              "      <td>125.160000</td>\n",
              "      <td>124.139066</td>\n",
              "      <td>1.020934</td>\n",
              "      <td>0.815703</td>\n",
              "    </tr>\n",
              "    <tr>\n",
              "      <th>11</th>\n",
              "      <td>72.180833</td>\n",
              "      <td>68.246114</td>\n",
              "      <td>3.934719</td>\n",
              "      <td>5.451196</td>\n",
              "    </tr>\n",
              "    <tr>\n",
              "      <th>12</th>\n",
              "      <td>127.566667</td>\n",
              "      <td>133.428552</td>\n",
              "      <td>-5.861885</td>\n",
              "      <td>4.595154</td>\n",
              "    </tr>\n",
              "    <tr>\n",
              "      <th>13</th>\n",
              "      <td>83.808250</td>\n",
              "      <td>84.390950</td>\n",
              "      <td>-0.582700</td>\n",
              "      <td>0.695277</td>\n",
              "    </tr>\n",
              "    <tr>\n",
              "      <th>14</th>\n",
              "      <td>125.160000</td>\n",
              "      <td>125.199913</td>\n",
              "      <td>-0.039913</td>\n",
              "      <td>0.031889</td>\n",
              "    </tr>\n",
              "  </tbody>\n",
              "</table>\n",
              "</div>\n",
              "      <button class=\"colab-df-convert\" onclick=\"convertToInteractive('df-4bc9a713-5acd-4b22-b4f2-e6132fdd41f1')\"\n",
              "              title=\"Convert this dataframe to an interactive table.\"\n",
              "              style=\"display:none;\">\n",
              "        \n",
              "  <svg xmlns=\"http://www.w3.org/2000/svg\" height=\"24px\"viewBox=\"0 0 24 24\"\n",
              "       width=\"24px\">\n",
              "    <path d=\"M0 0h24v24H0V0z\" fill=\"none\"/>\n",
              "    <path d=\"M18.56 5.44l.94 2.06.94-2.06 2.06-.94-2.06-.94-.94-2.06-.94 2.06-2.06.94zm-11 1L8.5 8.5l.94-2.06 2.06-.94-2.06-.94L8.5 2.5l-.94 2.06-2.06.94zm10 10l.94 2.06.94-2.06 2.06-.94-2.06-.94-.94-2.06-.94 2.06-2.06.94z\"/><path d=\"M17.41 7.96l-1.37-1.37c-.4-.4-.92-.59-1.43-.59-.52 0-1.04.2-1.43.59L10.3 9.45l-7.72 7.72c-.78.78-.78 2.05 0 2.83L4 21.41c.39.39.9.59 1.41.59.51 0 1.02-.2 1.41-.59l7.78-7.78 2.81-2.81c.8-.78.8-2.07 0-2.86zM5.41 20L4 18.59l7.72-7.72 1.47 1.35L5.41 20z\"/>\n",
              "  </svg>\n",
              "      </button>\n",
              "      \n",
              "  <style>\n",
              "    .colab-df-container {\n",
              "      display:flex;\n",
              "      flex-wrap:wrap;\n",
              "      gap: 12px;\n",
              "    }\n",
              "\n",
              "    .colab-df-convert {\n",
              "      background-color: #E8F0FE;\n",
              "      border: none;\n",
              "      border-radius: 50%;\n",
              "      cursor: pointer;\n",
              "      display: none;\n",
              "      fill: #1967D2;\n",
              "      height: 32px;\n",
              "      padding: 0 0 0 0;\n",
              "      width: 32px;\n",
              "    }\n",
              "\n",
              "    .colab-df-convert:hover {\n",
              "      background-color: #E2EBFA;\n",
              "      box-shadow: 0px 1px 2px rgba(60, 64, 67, 0.3), 0px 1px 3px 1px rgba(60, 64, 67, 0.15);\n",
              "      fill: #174EA6;\n",
              "    }\n",
              "\n",
              "    [theme=dark] .colab-df-convert {\n",
              "      background-color: #3B4455;\n",
              "      fill: #D2E3FC;\n",
              "    }\n",
              "\n",
              "    [theme=dark] .colab-df-convert:hover {\n",
              "      background-color: #434B5C;\n",
              "      box-shadow: 0px 1px 3px 1px rgba(0, 0, 0, 0.15);\n",
              "      filter: drop-shadow(0px 1px 2px rgba(0, 0, 0, 0.3));\n",
              "      fill: #FFFFFF;\n",
              "    }\n",
              "  </style>\n",
              "\n",
              "      <script>\n",
              "        const buttonEl =\n",
              "          document.querySelector('#df-4bc9a713-5acd-4b22-b4f2-e6132fdd41f1 button.colab-df-convert');\n",
              "        buttonEl.style.display =\n",
              "          google.colab.kernel.accessAllowed ? 'block' : 'none';\n",
              "\n",
              "        async function convertToInteractive(key) {\n",
              "          const element = document.querySelector('#df-4bc9a713-5acd-4b22-b4f2-e6132fdd41f1');\n",
              "          const dataTable =\n",
              "            await google.colab.kernel.invokeFunction('convertToInteractive',\n",
              "                                                     [key], {});\n",
              "          if (!dataTable) return;\n",
              "\n",
              "          const docLinkHtml = 'Like what you see? Visit the ' +\n",
              "            '<a target=\"_blank\" href=https://colab.research.google.com/notebooks/data_table.ipynb>data table notebook</a>'\n",
              "            + ' to learn more about interactive tables.';\n",
              "          element.innerHTML = '';\n",
              "          dataTable['output_type'] = 'display_data';\n",
              "          await google.colab.output.renderOutput(dataTable, element);\n",
              "          const docLink = document.createElement('div');\n",
              "          docLink.innerHTML = docLinkHtml;\n",
              "          element.appendChild(docLink);\n",
              "        }\n",
              "      </script>\n",
              "    </div>\n",
              "  </div>\n",
              "  "
            ]
          },
          "metadata": {},
          "execution_count": 20
        }
      ]
    },
    {
      "cell_type": "code",
      "source": [
        ""
      ],
      "metadata": {
        "id": "MAyD-BlQMz8F"
      },
      "execution_count": null,
      "outputs": []
    }
  ]
}