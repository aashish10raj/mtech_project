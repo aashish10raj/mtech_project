{
  "nbformat": 4,
  "nbformat_minor": 0,
  "metadata": {
    "colab": {
      "name": "MTech_project_pollutants_pm25.ipynb",
      "provenance": [],
      "toc_visible": true
    },
    "kernelspec": {
      "name": "python3",
      "display_name": "Python 3"
    },
    "language_info": {
      "name": "python"
    }
  },
  "cells": [
    {
      "cell_type": "code",
      "execution_count": null,
      "metadata": {
        "colab": {
          "base_uri": "https://localhost:8080/"
        },
        "id": "Jw_otpds3d1q",
        "outputId": "11810728-08aa-4f18-a2ca-86551326a899"
      },
      "outputs": [
        {
          "output_type": "stream",
          "name": "stderr",
          "text": [
            "/usr/local/lib/python3.7/dist-packages/statsmodels/tools/_testing.py:19: FutureWarning: pandas.util.testing is deprecated. Use the functions in the public API at pandas.testing instead.\n",
            "  import pandas.util.testing as tm\n"
          ]
        }
      ],
      "source": [
        "# For data reading\n",
        "import pandas as pd \n",
        "\n",
        "# For reading the array \n",
        "import numpy as np\n",
        "\n",
        "# For visualize the data and plottting parameters :\n",
        "import matplotlib.pyplot as plt\n",
        "plt.rcParams['figure.figsize'] = [15,108]\n",
        "import seaborn as sns\n",
        "import statsmodels.api as sm\n",
        "from statsmodels.api import OLS\n",
        "import matplotlib.pyplot as plt\n",
        "%matplotlib inline\n",
        "import matplotlib.cm as cm\n",
        "\n",
        "from plotly.subplots import make_subplots\n",
        "import plotly.graph_objects as go\n",
        "\n",
        "# For data reading | manipulation :\n",
        "import pandas as pd \n",
        "\n",
        "# For reading the array :\n",
        "import numpy as np\n",
        "\n",
        "# For visualize the data and plottting patameters :\n",
        "import matplotlib.pyplot as plt\n",
        "plt.rcParams['figure.figsize'] = [15,8]\n",
        "import seaborn as sns\n",
        "\n",
        "# To suppress warnings :\n",
        "from warnings import filterwarnings\n",
        "filterwarnings('ignore')\n",
        "\n",
        "# Import train-test split :\n",
        "from sklearn.model_selection import train_test_split\n",
        "\n",
        "# Import 'stats' libraries for modeling :\n",
        "from scipy import stats\n",
        "import statsmodels.api as sm\n",
        "from statsmodels.api import OLS\n",
        "\n",
        "# To scaled the data :\n",
        "from sklearn.preprocessing import StandardScaler\n",
        "\n",
        "\n",
        "from sklearn.neighbors import KNeighborsRegressor \n",
        "from sklearn.svm import SVR\n",
        "from sklearn.model_selection import train_test_split\n",
        "from sklearn import preprocessing\n",
        "from sklearn.preprocessing import StandardScaler # Scaling\n",
        "import math\n",
        "from sklearn.metrics import  r2_score\n",
        "from sklearn.model_selection import GridSearchCV\n",
        "import scipy.stats as stats\n",
        "\n",
        "from sklearn.preprocessing import PowerTransformer\n",
        "from sklearn import metrics\n",
        "\n",
        "from sklearn.linear_model import Lasso\n",
        "from sklearn.feature_selection import SelectFromModel\n",
        "\n",
        "# to visualise al the columns in the dataframe\n",
        "pd.pandas.set_option('display.max_columns', None)\n"
      ]
    },
    {
      "cell_type": "code",
      "source": [
        "from google.colab import drive\n",
        "drive.mount('/content/drive')"
      ],
      "metadata": {
        "colab": {
          "base_uri": "https://localhost:8080/"
        },
        "id": "bSmTYfaOaRjO",
        "outputId": "3d315192-489f-4c78-a141-376ac56ab340"
      },
      "execution_count": null,
      "outputs": [
        {
          "output_type": "stream",
          "name": "stdout",
          "text": [
            "Drive already mounted at /content/drive; to attempt to forcibly remount, call drive.mount(\"/content/drive\", force_remount=True).\n"
          ]
        }
      ]
    },
    {
      "cell_type": "markdown",
      "source": [
        "#PM2.5"
      ],
      "metadata": {
        "id": "u9DlGZdsofaK"
      }
    },
    {
      "cell_type": "markdown",
      "source": [
        "##dealing with the missing values"
      ],
      "metadata": {
        "id": "5HGTSYwWPr9t"
      }
    },
    {
      "cell_type": "code",
      "source": [
        "# Reading data :\n",
        "pm25 = pd.read_csv('/content/drive/Othercomputers/My Laptop/MTech/Project/New/pollutants/Daily_data/nagpur/pm25_1.csv')\n",
        "satpm25=pd.read_csv('/content/drive/Othercomputers/My Laptop/MTech/Project/New/relationship/nagpur/PM25_1.csv')\n"
      ],
      "metadata": {
        "id": "WPBRA_d95-k0"
      },
      "execution_count": null,
      "outputs": []
    },
    {
      "cell_type": "code",
      "source": [
        "# Print the first five observations to see the data structure :\n",
        "pm25"
      ],
      "metadata": {
        "colab": {
          "base_uri": "https://localhost:8080/",
          "height": 424
        },
        "id": "SrQRcjEMo6At",
        "outputId": "3dfca9c2-091a-42a6-c1d8-343c5d1871a4"
      },
      "execution_count": null,
      "outputs": [
        {
          "output_type": "execute_result",
          "data": {
            "text/plain": [
              "          Date    T2M  PRECTOTCORR     PS   RH2M  WS10M   WD10M     SO2\n",
              "0     01-01-16  23.26         0.00  98.55  35.38   1.84  144.25     NaN\n",
              "1     02-01-16  23.38         0.00  98.53  33.19   1.52  137.00     NaN\n",
              "2     03-01-16  21.19         0.00  98.45  32.56   2.90   62.69     NaN\n",
              "3     04-01-16  20.94         0.00  98.51  35.06   2.67   86.00     NaN\n",
              "4     05-01-16  21.66         0.00  98.41  30.44   1.73  108.44     NaN\n",
              "...        ...    ...          ...    ...    ...    ...     ...     ...\n",
              "1456  27-12-19  15.15         0.07  98.29  59.81   4.29   21.38  21.132\n",
              "1457  28-12-19  11.83         0.00  98.43  57.94   3.41   68.00   7.310\n",
              "1458  29-12-19  12.38         0.00  98.43  58.62   2.76   64.56  10.482\n",
              "1459  30-12-19  14.22         0.10  98.35  66.81   2.78   75.00   7.460\n",
              "1460  31-12-19  14.62         6.46  98.41  82.44   3.73   83.00  18.830\n",
              "\n",
              "[1461 rows x 8 columns]"
            ],
            "text/html": [
              "\n",
              "  <div id=\"df-6680f89d-df0a-4799-bb71-7a17caf2f119\">\n",
              "    <div class=\"colab-df-container\">\n",
              "      <div>\n",
              "<style scoped>\n",
              "    .dataframe tbody tr th:only-of-type {\n",
              "        vertical-align: middle;\n",
              "    }\n",
              "\n",
              "    .dataframe tbody tr th {\n",
              "        vertical-align: top;\n",
              "    }\n",
              "\n",
              "    .dataframe thead th {\n",
              "        text-align: right;\n",
              "    }\n",
              "</style>\n",
              "<table border=\"1\" class=\"dataframe\">\n",
              "  <thead>\n",
              "    <tr style=\"text-align: right;\">\n",
              "      <th></th>\n",
              "      <th>Date</th>\n",
              "      <th>T2M</th>\n",
              "      <th>PRECTOTCORR</th>\n",
              "      <th>PS</th>\n",
              "      <th>RH2M</th>\n",
              "      <th>WS10M</th>\n",
              "      <th>WD10M</th>\n",
              "      <th>SO2</th>\n",
              "    </tr>\n",
              "  </thead>\n",
              "  <tbody>\n",
              "    <tr>\n",
              "      <th>0</th>\n",
              "      <td>01-01-16</td>\n",
              "      <td>23.26</td>\n",
              "      <td>0.00</td>\n",
              "      <td>98.55</td>\n",
              "      <td>35.38</td>\n",
              "      <td>1.84</td>\n",
              "      <td>144.25</td>\n",
              "      <td>NaN</td>\n",
              "    </tr>\n",
              "    <tr>\n",
              "      <th>1</th>\n",
              "      <td>02-01-16</td>\n",
              "      <td>23.38</td>\n",
              "      <td>0.00</td>\n",
              "      <td>98.53</td>\n",
              "      <td>33.19</td>\n",
              "      <td>1.52</td>\n",
              "      <td>137.00</td>\n",
              "      <td>NaN</td>\n",
              "    </tr>\n",
              "    <tr>\n",
              "      <th>2</th>\n",
              "      <td>03-01-16</td>\n",
              "      <td>21.19</td>\n",
              "      <td>0.00</td>\n",
              "      <td>98.45</td>\n",
              "      <td>32.56</td>\n",
              "      <td>2.90</td>\n",
              "      <td>62.69</td>\n",
              "      <td>NaN</td>\n",
              "    </tr>\n",
              "    <tr>\n",
              "      <th>3</th>\n",
              "      <td>04-01-16</td>\n",
              "      <td>20.94</td>\n",
              "      <td>0.00</td>\n",
              "      <td>98.51</td>\n",
              "      <td>35.06</td>\n",
              "      <td>2.67</td>\n",
              "      <td>86.00</td>\n",
              "      <td>NaN</td>\n",
              "    </tr>\n",
              "    <tr>\n",
              "      <th>4</th>\n",
              "      <td>05-01-16</td>\n",
              "      <td>21.66</td>\n",
              "      <td>0.00</td>\n",
              "      <td>98.41</td>\n",
              "      <td>30.44</td>\n",
              "      <td>1.73</td>\n",
              "      <td>108.44</td>\n",
              "      <td>NaN</td>\n",
              "    </tr>\n",
              "    <tr>\n",
              "      <th>...</th>\n",
              "      <td>...</td>\n",
              "      <td>...</td>\n",
              "      <td>...</td>\n",
              "      <td>...</td>\n",
              "      <td>...</td>\n",
              "      <td>...</td>\n",
              "      <td>...</td>\n",
              "      <td>...</td>\n",
              "    </tr>\n",
              "    <tr>\n",
              "      <th>1456</th>\n",
              "      <td>27-12-19</td>\n",
              "      <td>15.15</td>\n",
              "      <td>0.07</td>\n",
              "      <td>98.29</td>\n",
              "      <td>59.81</td>\n",
              "      <td>4.29</td>\n",
              "      <td>21.38</td>\n",
              "      <td>21.132</td>\n",
              "    </tr>\n",
              "    <tr>\n",
              "      <th>1457</th>\n",
              "      <td>28-12-19</td>\n",
              "      <td>11.83</td>\n",
              "      <td>0.00</td>\n",
              "      <td>98.43</td>\n",
              "      <td>57.94</td>\n",
              "      <td>3.41</td>\n",
              "      <td>68.00</td>\n",
              "      <td>7.310</td>\n",
              "    </tr>\n",
              "    <tr>\n",
              "      <th>1458</th>\n",
              "      <td>29-12-19</td>\n",
              "      <td>12.38</td>\n",
              "      <td>0.00</td>\n",
              "      <td>98.43</td>\n",
              "      <td>58.62</td>\n",
              "      <td>2.76</td>\n",
              "      <td>64.56</td>\n",
              "      <td>10.482</td>\n",
              "    </tr>\n",
              "    <tr>\n",
              "      <th>1459</th>\n",
              "      <td>30-12-19</td>\n",
              "      <td>14.22</td>\n",
              "      <td>0.10</td>\n",
              "      <td>98.35</td>\n",
              "      <td>66.81</td>\n",
              "      <td>2.78</td>\n",
              "      <td>75.00</td>\n",
              "      <td>7.460</td>\n",
              "    </tr>\n",
              "    <tr>\n",
              "      <th>1460</th>\n",
              "      <td>31-12-19</td>\n",
              "      <td>14.62</td>\n",
              "      <td>6.46</td>\n",
              "      <td>98.41</td>\n",
              "      <td>82.44</td>\n",
              "      <td>3.73</td>\n",
              "      <td>83.00</td>\n",
              "      <td>18.830</td>\n",
              "    </tr>\n",
              "  </tbody>\n",
              "</table>\n",
              "<p>1461 rows × 8 columns</p>\n",
              "</div>\n",
              "      <button class=\"colab-df-convert\" onclick=\"convertToInteractive('df-6680f89d-df0a-4799-bb71-7a17caf2f119')\"\n",
              "              title=\"Convert this dataframe to an interactive table.\"\n",
              "              style=\"display:none;\">\n",
              "        \n",
              "  <svg xmlns=\"http://www.w3.org/2000/svg\" height=\"24px\"viewBox=\"0 0 24 24\"\n",
              "       width=\"24px\">\n",
              "    <path d=\"M0 0h24v24H0V0z\" fill=\"none\"/>\n",
              "    <path d=\"M18.56 5.44l.94 2.06.94-2.06 2.06-.94-2.06-.94-.94-2.06-.94 2.06-2.06.94zm-11 1L8.5 8.5l.94-2.06 2.06-.94-2.06-.94L8.5 2.5l-.94 2.06-2.06.94zm10 10l.94 2.06.94-2.06 2.06-.94-2.06-.94-.94-2.06-.94 2.06-2.06.94z\"/><path d=\"M17.41 7.96l-1.37-1.37c-.4-.4-.92-.59-1.43-.59-.52 0-1.04.2-1.43.59L10.3 9.45l-7.72 7.72c-.78.78-.78 2.05 0 2.83L4 21.41c.39.39.9.59 1.41.59.51 0 1.02-.2 1.41-.59l7.78-7.78 2.81-2.81c.8-.78.8-2.07 0-2.86zM5.41 20L4 18.59l7.72-7.72 1.47 1.35L5.41 20z\"/>\n",
              "  </svg>\n",
              "      </button>\n",
              "      \n",
              "  <style>\n",
              "    .colab-df-container {\n",
              "      display:flex;\n",
              "      flex-wrap:wrap;\n",
              "      gap: 12px;\n",
              "    }\n",
              "\n",
              "    .colab-df-convert {\n",
              "      background-color: #E8F0FE;\n",
              "      border: none;\n",
              "      border-radius: 50%;\n",
              "      cursor: pointer;\n",
              "      display: none;\n",
              "      fill: #1967D2;\n",
              "      height: 32px;\n",
              "      padding: 0 0 0 0;\n",
              "      width: 32px;\n",
              "    }\n",
              "\n",
              "    .colab-df-convert:hover {\n",
              "      background-color: #E2EBFA;\n",
              "      box-shadow: 0px 1px 2px rgba(60, 64, 67, 0.3), 0px 1px 3px 1px rgba(60, 64, 67, 0.15);\n",
              "      fill: #174EA6;\n",
              "    }\n",
              "\n",
              "    [theme=dark] .colab-df-convert {\n",
              "      background-color: #3B4455;\n",
              "      fill: #D2E3FC;\n",
              "    }\n",
              "\n",
              "    [theme=dark] .colab-df-convert:hover {\n",
              "      background-color: #434B5C;\n",
              "      box-shadow: 0px 1px 3px 1px rgba(0, 0, 0, 0.15);\n",
              "      filter: drop-shadow(0px 1px 2px rgba(0, 0, 0, 0.3));\n",
              "      fill: #FFFFFF;\n",
              "    }\n",
              "  </style>\n",
              "\n",
              "      <script>\n",
              "        const buttonEl =\n",
              "          document.querySelector('#df-6680f89d-df0a-4799-bb71-7a17caf2f119 button.colab-df-convert');\n",
              "        buttonEl.style.display =\n",
              "          google.colab.kernel.accessAllowed ? 'block' : 'none';\n",
              "\n",
              "        async function convertToInteractive(key) {\n",
              "          const element = document.querySelector('#df-6680f89d-df0a-4799-bb71-7a17caf2f119');\n",
              "          const dataTable =\n",
              "            await google.colab.kernel.invokeFunction('convertToInteractive',\n",
              "                                                     [key], {});\n",
              "          if (!dataTable) return;\n",
              "\n",
              "          const docLinkHtml = 'Like what you see? Visit the ' +\n",
              "            '<a target=\"_blank\" href=https://colab.research.google.com/notebooks/data_table.ipynb>data table notebook</a>'\n",
              "            + ' to learn more about interactive tables.';\n",
              "          element.innerHTML = '';\n",
              "          dataTable['output_type'] = 'display_data';\n",
              "          await google.colab.output.renderOutput(dataTable, element);\n",
              "          const docLink = document.createElement('div');\n",
              "          docLink.innerHTML = docLinkHtml;\n",
              "          element.appendChild(docLink);\n",
              "        }\n",
              "      </script>\n",
              "    </div>\n",
              "  </div>\n",
              "  "
            ]
          },
          "metadata": {},
          "execution_count": 19
        }
      ]
    },
    {
      "cell_type": "code",
      "source": [
        "satpm25"
      ],
      "metadata": {
        "colab": {
          "base_uri": "https://localhost:8080/",
          "height": 424
        },
        "id": "bTWxCrIbbAJ4",
        "outputId": "f3aafa51-e9c5-410e-8645-199a5876fed1"
      },
      "execution_count": null,
      "outputs": [
        {
          "output_type": "execute_result",
          "data": {
            "text/plain": [
              "          Date     Satellite  converted    CPCB  Unnamed: 4  Unnamed: 5  \\\n",
              "0     01-01-16  4.684920e-11   0.046849     NaN         NaN         NaN   \n",
              "1     02-01-16  3.076670e-11   0.030767     NaN         NaN         NaN   \n",
              "2     03-01-16  1.778370e-11   0.017784     NaN         NaN         NaN   \n",
              "3     04-01-16  1.219080e-11   0.012191     NaN         NaN         NaN   \n",
              "4     05-01-16  1.372500e-11   0.013725     NaN         NaN         NaN   \n",
              "...        ...           ...        ...     ...         ...         ...   \n",
              "1456  27-12-19  1.502720e-12   0.001503  21.132         NaN         NaN   \n",
              "1457  28-12-19  5.616670e-12   0.005617   7.310         NaN         NaN   \n",
              "1458  29-12-19  3.432670e-11   0.034327  10.482         NaN         NaN   \n",
              "1459  30-12-19  6.615420e-11   0.066154   7.460         NaN         NaN   \n",
              "1460  31-12-19  1.210790e-10   0.121079  18.830         NaN         NaN   \n",
              "\n",
              "      Unnamed: 6 Unnamed: 7  Unnamed: 8  \n",
              "0            NaN        NaN         NaN  \n",
              "1            NaN        NaN         NaN  \n",
              "2            NaN        NaN         NaN  \n",
              "3            NaN        NaN         NaN  \n",
              "4            NaN     slope:    5.686761  \n",
              "...          ...        ...         ...  \n",
              "1456         NaN        NaN         NaN  \n",
              "1457         NaN        NaN         NaN  \n",
              "1458         NaN        NaN         NaN  \n",
              "1459         NaN        NaN         NaN  \n",
              "1460         NaN        NaN         NaN  \n",
              "\n",
              "[1461 rows x 9 columns]"
            ],
            "text/html": [
              "\n",
              "  <div id=\"df-29af2055-da70-4153-8a85-5b2c536de784\">\n",
              "    <div class=\"colab-df-container\">\n",
              "      <div>\n",
              "<style scoped>\n",
              "    .dataframe tbody tr th:only-of-type {\n",
              "        vertical-align: middle;\n",
              "    }\n",
              "\n",
              "    .dataframe tbody tr th {\n",
              "        vertical-align: top;\n",
              "    }\n",
              "\n",
              "    .dataframe thead th {\n",
              "        text-align: right;\n",
              "    }\n",
              "</style>\n",
              "<table border=\"1\" class=\"dataframe\">\n",
              "  <thead>\n",
              "    <tr style=\"text-align: right;\">\n",
              "      <th></th>\n",
              "      <th>Date</th>\n",
              "      <th>Satellite</th>\n",
              "      <th>converted</th>\n",
              "      <th>CPCB</th>\n",
              "      <th>Unnamed: 4</th>\n",
              "      <th>Unnamed: 5</th>\n",
              "      <th>Unnamed: 6</th>\n",
              "      <th>Unnamed: 7</th>\n",
              "      <th>Unnamed: 8</th>\n",
              "    </tr>\n",
              "  </thead>\n",
              "  <tbody>\n",
              "    <tr>\n",
              "      <th>0</th>\n",
              "      <td>01-01-16</td>\n",
              "      <td>4.684920e-11</td>\n",
              "      <td>0.046849</td>\n",
              "      <td>NaN</td>\n",
              "      <td>NaN</td>\n",
              "      <td>NaN</td>\n",
              "      <td>NaN</td>\n",
              "      <td>NaN</td>\n",
              "      <td>NaN</td>\n",
              "    </tr>\n",
              "    <tr>\n",
              "      <th>1</th>\n",
              "      <td>02-01-16</td>\n",
              "      <td>3.076670e-11</td>\n",
              "      <td>0.030767</td>\n",
              "      <td>NaN</td>\n",
              "      <td>NaN</td>\n",
              "      <td>NaN</td>\n",
              "      <td>NaN</td>\n",
              "      <td>NaN</td>\n",
              "      <td>NaN</td>\n",
              "    </tr>\n",
              "    <tr>\n",
              "      <th>2</th>\n",
              "      <td>03-01-16</td>\n",
              "      <td>1.778370e-11</td>\n",
              "      <td>0.017784</td>\n",
              "      <td>NaN</td>\n",
              "      <td>NaN</td>\n",
              "      <td>NaN</td>\n",
              "      <td>NaN</td>\n",
              "      <td>NaN</td>\n",
              "      <td>NaN</td>\n",
              "    </tr>\n",
              "    <tr>\n",
              "      <th>3</th>\n",
              "      <td>04-01-16</td>\n",
              "      <td>1.219080e-11</td>\n",
              "      <td>0.012191</td>\n",
              "      <td>NaN</td>\n",
              "      <td>NaN</td>\n",
              "      <td>NaN</td>\n",
              "      <td>NaN</td>\n",
              "      <td>NaN</td>\n",
              "      <td>NaN</td>\n",
              "    </tr>\n",
              "    <tr>\n",
              "      <th>4</th>\n",
              "      <td>05-01-16</td>\n",
              "      <td>1.372500e-11</td>\n",
              "      <td>0.013725</td>\n",
              "      <td>NaN</td>\n",
              "      <td>NaN</td>\n",
              "      <td>NaN</td>\n",
              "      <td>NaN</td>\n",
              "      <td>slope:</td>\n",
              "      <td>5.686761</td>\n",
              "    </tr>\n",
              "    <tr>\n",
              "      <th>...</th>\n",
              "      <td>...</td>\n",
              "      <td>...</td>\n",
              "      <td>...</td>\n",
              "      <td>...</td>\n",
              "      <td>...</td>\n",
              "      <td>...</td>\n",
              "      <td>...</td>\n",
              "      <td>...</td>\n",
              "      <td>...</td>\n",
              "    </tr>\n",
              "    <tr>\n",
              "      <th>1456</th>\n",
              "      <td>27-12-19</td>\n",
              "      <td>1.502720e-12</td>\n",
              "      <td>0.001503</td>\n",
              "      <td>21.132</td>\n",
              "      <td>NaN</td>\n",
              "      <td>NaN</td>\n",
              "      <td>NaN</td>\n",
              "      <td>NaN</td>\n",
              "      <td>NaN</td>\n",
              "    </tr>\n",
              "    <tr>\n",
              "      <th>1457</th>\n",
              "      <td>28-12-19</td>\n",
              "      <td>5.616670e-12</td>\n",
              "      <td>0.005617</td>\n",
              "      <td>7.310</td>\n",
              "      <td>NaN</td>\n",
              "      <td>NaN</td>\n",
              "      <td>NaN</td>\n",
              "      <td>NaN</td>\n",
              "      <td>NaN</td>\n",
              "    </tr>\n",
              "    <tr>\n",
              "      <th>1458</th>\n",
              "      <td>29-12-19</td>\n",
              "      <td>3.432670e-11</td>\n",
              "      <td>0.034327</td>\n",
              "      <td>10.482</td>\n",
              "      <td>NaN</td>\n",
              "      <td>NaN</td>\n",
              "      <td>NaN</td>\n",
              "      <td>NaN</td>\n",
              "      <td>NaN</td>\n",
              "    </tr>\n",
              "    <tr>\n",
              "      <th>1459</th>\n",
              "      <td>30-12-19</td>\n",
              "      <td>6.615420e-11</td>\n",
              "      <td>0.066154</td>\n",
              "      <td>7.460</td>\n",
              "      <td>NaN</td>\n",
              "      <td>NaN</td>\n",
              "      <td>NaN</td>\n",
              "      <td>NaN</td>\n",
              "      <td>NaN</td>\n",
              "    </tr>\n",
              "    <tr>\n",
              "      <th>1460</th>\n",
              "      <td>31-12-19</td>\n",
              "      <td>1.210790e-10</td>\n",
              "      <td>0.121079</td>\n",
              "      <td>18.830</td>\n",
              "      <td>NaN</td>\n",
              "      <td>NaN</td>\n",
              "      <td>NaN</td>\n",
              "      <td>NaN</td>\n",
              "      <td>NaN</td>\n",
              "    </tr>\n",
              "  </tbody>\n",
              "</table>\n",
              "<p>1461 rows × 9 columns</p>\n",
              "</div>\n",
              "      <button class=\"colab-df-convert\" onclick=\"convertToInteractive('df-29af2055-da70-4153-8a85-5b2c536de784')\"\n",
              "              title=\"Convert this dataframe to an interactive table.\"\n",
              "              style=\"display:none;\">\n",
              "        \n",
              "  <svg xmlns=\"http://www.w3.org/2000/svg\" height=\"24px\"viewBox=\"0 0 24 24\"\n",
              "       width=\"24px\">\n",
              "    <path d=\"M0 0h24v24H0V0z\" fill=\"none\"/>\n",
              "    <path d=\"M18.56 5.44l.94 2.06.94-2.06 2.06-.94-2.06-.94-.94-2.06-.94 2.06-2.06.94zm-11 1L8.5 8.5l.94-2.06 2.06-.94-2.06-.94L8.5 2.5l-.94 2.06-2.06.94zm10 10l.94 2.06.94-2.06 2.06-.94-2.06-.94-.94-2.06-.94 2.06-2.06.94z\"/><path d=\"M17.41 7.96l-1.37-1.37c-.4-.4-.92-.59-1.43-.59-.52 0-1.04.2-1.43.59L10.3 9.45l-7.72 7.72c-.78.78-.78 2.05 0 2.83L4 21.41c.39.39.9.59 1.41.59.51 0 1.02-.2 1.41-.59l7.78-7.78 2.81-2.81c.8-.78.8-2.07 0-2.86zM5.41 20L4 18.59l7.72-7.72 1.47 1.35L5.41 20z\"/>\n",
              "  </svg>\n",
              "      </button>\n",
              "      \n",
              "  <style>\n",
              "    .colab-df-container {\n",
              "      display:flex;\n",
              "      flex-wrap:wrap;\n",
              "      gap: 12px;\n",
              "    }\n",
              "\n",
              "    .colab-df-convert {\n",
              "      background-color: #E8F0FE;\n",
              "      border: none;\n",
              "      border-radius: 50%;\n",
              "      cursor: pointer;\n",
              "      display: none;\n",
              "      fill: #1967D2;\n",
              "      height: 32px;\n",
              "      padding: 0 0 0 0;\n",
              "      width: 32px;\n",
              "    }\n",
              "\n",
              "    .colab-df-convert:hover {\n",
              "      background-color: #E2EBFA;\n",
              "      box-shadow: 0px 1px 2px rgba(60, 64, 67, 0.3), 0px 1px 3px 1px rgba(60, 64, 67, 0.15);\n",
              "      fill: #174EA6;\n",
              "    }\n",
              "\n",
              "    [theme=dark] .colab-df-convert {\n",
              "      background-color: #3B4455;\n",
              "      fill: #D2E3FC;\n",
              "    }\n",
              "\n",
              "    [theme=dark] .colab-df-convert:hover {\n",
              "      background-color: #434B5C;\n",
              "      box-shadow: 0px 1px 3px 1px rgba(0, 0, 0, 0.15);\n",
              "      filter: drop-shadow(0px 1px 2px rgba(0, 0, 0, 0.3));\n",
              "      fill: #FFFFFF;\n",
              "    }\n",
              "  </style>\n",
              "\n",
              "      <script>\n",
              "        const buttonEl =\n",
              "          document.querySelector('#df-29af2055-da70-4153-8a85-5b2c536de784 button.colab-df-convert');\n",
              "        buttonEl.style.display =\n",
              "          google.colab.kernel.accessAllowed ? 'block' : 'none';\n",
              "\n",
              "        async function convertToInteractive(key) {\n",
              "          const element = document.querySelector('#df-29af2055-da70-4153-8a85-5b2c536de784');\n",
              "          const dataTable =\n",
              "            await google.colab.kernel.invokeFunction('convertToInteractive',\n",
              "                                                     [key], {});\n",
              "          if (!dataTable) return;\n",
              "\n",
              "          const docLinkHtml = 'Like what you see? Visit the ' +\n",
              "            '<a target=\"_blank\" href=https://colab.research.google.com/notebooks/data_table.ipynb>data table notebook</a>'\n",
              "            + ' to learn more about interactive tables.';\n",
              "          element.innerHTML = '';\n",
              "          dataTable['output_type'] = 'display_data';\n",
              "          await google.colab.output.renderOutput(dataTable, element);\n",
              "          const docLink = document.createElement('div');\n",
              "          docLink.innerHTML = docLinkHtml;\n",
              "          element.appendChild(docLink);\n",
              "        }\n",
              "      </script>\n",
              "    </div>\n",
              "  </div>\n",
              "  "
            ]
          },
          "metadata": {},
          "execution_count": 20
        }
      ]
    },
    {
      "cell_type": "code",
      "source": [
        "pm25.info()"
      ],
      "metadata": {
        "colab": {
          "base_uri": "https://localhost:8080/"
        },
        "id": "2XdKwjqXQy97",
        "outputId": "7c193e0d-9ba5-4b09-b1bb-c2b9de1eaad5"
      },
      "execution_count": null,
      "outputs": [
        {
          "output_type": "stream",
          "name": "stdout",
          "text": [
            "<class 'pandas.core.frame.DataFrame'>\n",
            "RangeIndex: 1461 entries, 0 to 1460\n",
            "Data columns (total 8 columns):\n",
            " #   Column       Non-Null Count  Dtype  \n",
            "---  ------       --------------  -----  \n",
            " 0   Date         1461 non-null   object \n",
            " 1   T2M          1461 non-null   float64\n",
            " 2   PRECTOTCORR  1461 non-null   float64\n",
            " 3   PS           1461 non-null   float64\n",
            " 4   RH2M         1461 non-null   float64\n",
            " 5   WS10M        1461 non-null   float64\n",
            " 6   WD10M        1461 non-null   float64\n",
            " 7    SO2         960 non-null    float64\n",
            "dtypes: float64(7), object(1)\n",
            "memory usage: 91.4+ KB\n"
          ]
        }
      ]
    },
    {
      "cell_type": "code",
      "source": [
        "satpm25=satpm25.iloc[:,0:3]\n",
        "satpm25.info()"
      ],
      "metadata": {
        "colab": {
          "base_uri": "https://localhost:8080/"
        },
        "id": "3tqdmhy2PMTU",
        "outputId": "22a74f13-5fa8-4e9c-f2b8-a33c60e74459"
      },
      "execution_count": null,
      "outputs": [
        {
          "output_type": "stream",
          "name": "stdout",
          "text": [
            "<class 'pandas.core.frame.DataFrame'>\n",
            "RangeIndex: 1461 entries, 0 to 1460\n",
            "Data columns (total 3 columns):\n",
            " #   Column     Non-Null Count  Dtype  \n",
            "---  ------     --------------  -----  \n",
            " 0   Date       1461 non-null   object \n",
            " 1   Satellite  490 non-null    float64\n",
            " 2   CPCB       962 non-null    float64\n",
            "dtypes: float64(2), object(1)\n",
            "memory usage: 34.4+ KB\n"
          ]
        }
      ]
    },
    {
      "cell_type": "code",
      "source": [
        "extracted_col=satpm25['Satellite']\n",
        "\n",
        "pm25=pm25.join(extracted_col)\n",
        "\n",
        "extracted_col1=satpm25['CPCB']\n",
        "pm25=pm25.join(extracted_col1)\n",
        "\n"
      ],
      "metadata": {
        "id": "f2bmum-Hm2Bz"
      },
      "execution_count": null,
      "outputs": []
    },
    {
      "cell_type": "code",
      "source": [
        "pm25"
      ],
      "metadata": {
        "colab": {
          "base_uri": "https://localhost:8080/",
          "height": 424
        },
        "id": "LwKxaF2EnoCa",
        "outputId": "5c65f565-2ebb-421f-8936-33e81669c9dd"
      },
      "execution_count": null,
      "outputs": [
        {
          "output_type": "execute_result",
          "data": {
            "text/plain": [
              "          Date    RH2M  PRECTOTCORR  WS10M    WD10M    PM2.5  Satellite  \\\n",
              "0     01-01-16  35.364        0.000  1.833  144.251      NaN        NaN   \n",
              "1     02-01-16  33.180        0.000  1.525  122.000      NaN        NaN   \n",
              "2     03-01-16  32.533        0.000  2.902   62.701      NaN        NaN   \n",
              "3     04-01-16  35.076        0.000  2.675   85.961      NaN        NaN   \n",
              "4     05-01-16  30.445        0.000  1.723  108.420      NaN        NaN   \n",
              "...        ...     ...          ...    ...      ...      ...        ...   \n",
              "1456  27-12-19  59.831        0.003  4.287   21.352   21.313        NaN   \n",
              "1457  28-12-19  57.939        0.000  3.411   68.008   21.824        NaN   \n",
              "1458  29-12-19  58.647        0.000  2.758   64.565   39.326        NaN   \n",
              "1459  30-12-19  66.795        0.004  2.783   74.965   35.001        NaN   \n",
              "1460  31-12-19  55.625        0.010  2.545   74.165  259.640        NaN   \n",
              "\n",
              "         CPCB  \n",
              "0         NaN  \n",
              "1         NaN  \n",
              "2         NaN  \n",
              "3         NaN  \n",
              "4         NaN  \n",
              "...       ...  \n",
              "1456   21.313  \n",
              "1457   21.824  \n",
              "1458   39.326  \n",
              "1459   35.001  \n",
              "1460  259.640  \n",
              "\n",
              "[1461 rows x 8 columns]"
            ],
            "text/html": [
              "\n",
              "  <div id=\"df-bf643873-adc1-4ae3-acde-5b627359a982\">\n",
              "    <div class=\"colab-df-container\">\n",
              "      <div>\n",
              "<style scoped>\n",
              "    .dataframe tbody tr th:only-of-type {\n",
              "        vertical-align: middle;\n",
              "    }\n",
              "\n",
              "    .dataframe tbody tr th {\n",
              "        vertical-align: top;\n",
              "    }\n",
              "\n",
              "    .dataframe thead th {\n",
              "        text-align: right;\n",
              "    }\n",
              "</style>\n",
              "<table border=\"1\" class=\"dataframe\">\n",
              "  <thead>\n",
              "    <tr style=\"text-align: right;\">\n",
              "      <th></th>\n",
              "      <th>Date</th>\n",
              "      <th>RH2M</th>\n",
              "      <th>PRECTOTCORR</th>\n",
              "      <th>WS10M</th>\n",
              "      <th>WD10M</th>\n",
              "      <th>PM2.5</th>\n",
              "      <th>Satellite</th>\n",
              "      <th>CPCB</th>\n",
              "    </tr>\n",
              "  </thead>\n",
              "  <tbody>\n",
              "    <tr>\n",
              "      <th>0</th>\n",
              "      <td>01-01-16</td>\n",
              "      <td>35.364</td>\n",
              "      <td>0.000</td>\n",
              "      <td>1.833</td>\n",
              "      <td>144.251</td>\n",
              "      <td>NaN</td>\n",
              "      <td>NaN</td>\n",
              "      <td>NaN</td>\n",
              "    </tr>\n",
              "    <tr>\n",
              "      <th>1</th>\n",
              "      <td>02-01-16</td>\n",
              "      <td>33.180</td>\n",
              "      <td>0.000</td>\n",
              "      <td>1.525</td>\n",
              "      <td>122.000</td>\n",
              "      <td>NaN</td>\n",
              "      <td>NaN</td>\n",
              "      <td>NaN</td>\n",
              "    </tr>\n",
              "    <tr>\n",
              "      <th>2</th>\n",
              "      <td>03-01-16</td>\n",
              "      <td>32.533</td>\n",
              "      <td>0.000</td>\n",
              "      <td>2.902</td>\n",
              "      <td>62.701</td>\n",
              "      <td>NaN</td>\n",
              "      <td>NaN</td>\n",
              "      <td>NaN</td>\n",
              "    </tr>\n",
              "    <tr>\n",
              "      <th>3</th>\n",
              "      <td>04-01-16</td>\n",
              "      <td>35.076</td>\n",
              "      <td>0.000</td>\n",
              "      <td>2.675</td>\n",
              "      <td>85.961</td>\n",
              "      <td>NaN</td>\n",
              "      <td>NaN</td>\n",
              "      <td>NaN</td>\n",
              "    </tr>\n",
              "    <tr>\n",
              "      <th>4</th>\n",
              "      <td>05-01-16</td>\n",
              "      <td>30.445</td>\n",
              "      <td>0.000</td>\n",
              "      <td>1.723</td>\n",
              "      <td>108.420</td>\n",
              "      <td>NaN</td>\n",
              "      <td>NaN</td>\n",
              "      <td>NaN</td>\n",
              "    </tr>\n",
              "    <tr>\n",
              "      <th>...</th>\n",
              "      <td>...</td>\n",
              "      <td>...</td>\n",
              "      <td>...</td>\n",
              "      <td>...</td>\n",
              "      <td>...</td>\n",
              "      <td>...</td>\n",
              "      <td>...</td>\n",
              "      <td>...</td>\n",
              "    </tr>\n",
              "    <tr>\n",
              "      <th>1456</th>\n",
              "      <td>27-12-19</td>\n",
              "      <td>59.831</td>\n",
              "      <td>0.003</td>\n",
              "      <td>4.287</td>\n",
              "      <td>21.352</td>\n",
              "      <td>21.313</td>\n",
              "      <td>NaN</td>\n",
              "      <td>21.313</td>\n",
              "    </tr>\n",
              "    <tr>\n",
              "      <th>1457</th>\n",
              "      <td>28-12-19</td>\n",
              "      <td>57.939</td>\n",
              "      <td>0.000</td>\n",
              "      <td>3.411</td>\n",
              "      <td>68.008</td>\n",
              "      <td>21.824</td>\n",
              "      <td>NaN</td>\n",
              "      <td>21.824</td>\n",
              "    </tr>\n",
              "    <tr>\n",
              "      <th>1458</th>\n",
              "      <td>29-12-19</td>\n",
              "      <td>58.647</td>\n",
              "      <td>0.000</td>\n",
              "      <td>2.758</td>\n",
              "      <td>64.565</td>\n",
              "      <td>39.326</td>\n",
              "      <td>NaN</td>\n",
              "      <td>39.326</td>\n",
              "    </tr>\n",
              "    <tr>\n",
              "      <th>1459</th>\n",
              "      <td>30-12-19</td>\n",
              "      <td>66.795</td>\n",
              "      <td>0.004</td>\n",
              "      <td>2.783</td>\n",
              "      <td>74.965</td>\n",
              "      <td>35.001</td>\n",
              "      <td>NaN</td>\n",
              "      <td>35.001</td>\n",
              "    </tr>\n",
              "    <tr>\n",
              "      <th>1460</th>\n",
              "      <td>31-12-19</td>\n",
              "      <td>55.625</td>\n",
              "      <td>0.010</td>\n",
              "      <td>2.545</td>\n",
              "      <td>74.165</td>\n",
              "      <td>259.640</td>\n",
              "      <td>NaN</td>\n",
              "      <td>259.640</td>\n",
              "    </tr>\n",
              "  </tbody>\n",
              "</table>\n",
              "<p>1461 rows × 8 columns</p>\n",
              "</div>\n",
              "      <button class=\"colab-df-convert\" onclick=\"convertToInteractive('df-bf643873-adc1-4ae3-acde-5b627359a982')\"\n",
              "              title=\"Convert this dataframe to an interactive table.\"\n",
              "              style=\"display:none;\">\n",
              "        \n",
              "  <svg xmlns=\"http://www.w3.org/2000/svg\" height=\"24px\"viewBox=\"0 0 24 24\"\n",
              "       width=\"24px\">\n",
              "    <path d=\"M0 0h24v24H0V0z\" fill=\"none\"/>\n",
              "    <path d=\"M18.56 5.44l.94 2.06.94-2.06 2.06-.94-2.06-.94-.94-2.06-.94 2.06-2.06.94zm-11 1L8.5 8.5l.94-2.06 2.06-.94-2.06-.94L8.5 2.5l-.94 2.06-2.06.94zm10 10l.94 2.06.94-2.06 2.06-.94-2.06-.94-.94-2.06-.94 2.06-2.06.94z\"/><path d=\"M17.41 7.96l-1.37-1.37c-.4-.4-.92-.59-1.43-.59-.52 0-1.04.2-1.43.59L10.3 9.45l-7.72 7.72c-.78.78-.78 2.05 0 2.83L4 21.41c.39.39.9.59 1.41.59.51 0 1.02-.2 1.41-.59l7.78-7.78 2.81-2.81c.8-.78.8-2.07 0-2.86zM5.41 20L4 18.59l7.72-7.72 1.47 1.35L5.41 20z\"/>\n",
              "  </svg>\n",
              "      </button>\n",
              "      \n",
              "  <style>\n",
              "    .colab-df-container {\n",
              "      display:flex;\n",
              "      flex-wrap:wrap;\n",
              "      gap: 12px;\n",
              "    }\n",
              "\n",
              "    .colab-df-convert {\n",
              "      background-color: #E8F0FE;\n",
              "      border: none;\n",
              "      border-radius: 50%;\n",
              "      cursor: pointer;\n",
              "      display: none;\n",
              "      fill: #1967D2;\n",
              "      height: 32px;\n",
              "      padding: 0 0 0 0;\n",
              "      width: 32px;\n",
              "    }\n",
              "\n",
              "    .colab-df-convert:hover {\n",
              "      background-color: #E2EBFA;\n",
              "      box-shadow: 0px 1px 2px rgba(60, 64, 67, 0.3), 0px 1px 3px 1px rgba(60, 64, 67, 0.15);\n",
              "      fill: #174EA6;\n",
              "    }\n",
              "\n",
              "    [theme=dark] .colab-df-convert {\n",
              "      background-color: #3B4455;\n",
              "      fill: #D2E3FC;\n",
              "    }\n",
              "\n",
              "    [theme=dark] .colab-df-convert:hover {\n",
              "      background-color: #434B5C;\n",
              "      box-shadow: 0px 1px 3px 1px rgba(0, 0, 0, 0.15);\n",
              "      filter: drop-shadow(0px 1px 2px rgba(0, 0, 0, 0.3));\n",
              "      fill: #FFFFFF;\n",
              "    }\n",
              "  </style>\n",
              "\n",
              "      <script>\n",
              "        const buttonEl =\n",
              "          document.querySelector('#df-bf643873-adc1-4ae3-acde-5b627359a982 button.colab-df-convert');\n",
              "        buttonEl.style.display =\n",
              "          google.colab.kernel.accessAllowed ? 'block' : 'none';\n",
              "\n",
              "        async function convertToInteractive(key) {\n",
              "          const element = document.querySelector('#df-bf643873-adc1-4ae3-acde-5b627359a982');\n",
              "          const dataTable =\n",
              "            await google.colab.kernel.invokeFunction('convertToInteractive',\n",
              "                                                     [key], {});\n",
              "          if (!dataTable) return;\n",
              "\n",
              "          const docLinkHtml = 'Like what you see? Visit the ' +\n",
              "            '<a target=\"_blank\" href=https://colab.research.google.com/notebooks/data_table.ipynb>data table notebook</a>'\n",
              "            + ' to learn more about interactive tables.';\n",
              "          element.innerHTML = '';\n",
              "          dataTable['output_type'] = 'display_data';\n",
              "          await google.colab.output.renderOutput(dataTable, element);\n",
              "          const docLink = document.createElement('div');\n",
              "          docLink.innerHTML = docLinkHtml;\n",
              "          element.appendChild(docLink);\n",
              "        }\n",
              "      </script>\n",
              "    </div>\n",
              "  </div>\n",
              "  "
            ]
          },
          "metadata": {},
          "execution_count": 7
        }
      ]
    },
    {
      "cell_type": "code",
      "source": [
        "#finding % of the missing values in each coloumn\n",
        "nullValues = pm25.isnull().sum()\n",
        "nullValues"
      ],
      "metadata": {
        "colab": {
          "base_uri": "https://localhost:8080/"
        },
        "id": "q-N2tVDxcUO4",
        "outputId": "f9687a9b-34cb-4a56-fd13-b90e0d47a4c6"
      },
      "execution_count": null,
      "outputs": [
        {
          "output_type": "execute_result",
          "data": {
            "text/plain": [
              "Date             0\n",
              "RH2M             0\n",
              "PRECTOTCORR      0\n",
              "WS10M            0\n",
              "WD10M            0\n",
              "PM2.5          499\n",
              "Satellite      971\n",
              "CPCB           499\n",
              "dtype: int64"
            ]
          },
          "metadata": {},
          "execution_count": 9
        }
      ]
    },
    {
      "cell_type": "code",
      "source": [
        "nullValuesPercent = 100*nullValues/len(pm25_new)\n",
        "nullValuesPercent"
      ],
      "metadata": {
        "colab": {
          "base_uri": "https://localhost:8080/"
        },
        "id": "trRoT-7ncpzo",
        "outputId": "cc0065f7-ea87-46bc-c2df-1f98d04e8bbe"
      },
      "execution_count": null,
      "outputs": [
        {
          "output_type": "execute_result",
          "data": {
            "text/plain": [
              "24.229979466119097"
            ]
          },
          "metadata": {},
          "execution_count": 14
        }
      ]
    },
    {
      "cell_type": "code",
      "source": [
        "pm25_new=pm25['PM2.5'].fillna((-3)*pm25['Satellite']+36.13)\n",
        "\n",
        "pm25_new"
      ],
      "metadata": {
        "colab": {
          "base_uri": "https://localhost:8080/"
        },
        "id": "_RM32JUdruXk",
        "outputId": "5052e724-289f-47ea-aa3e-a75b8d40bf8f"
      },
      "execution_count": null,
      "outputs": [
        {
          "output_type": "execute_result",
          "data": {
            "text/plain": [
              "0           NaN\n",
              "1           NaN\n",
              "2           NaN\n",
              "3           NaN\n",
              "4           NaN\n",
              "         ...   \n",
              "1456     21.313\n",
              "1457     21.824\n",
              "1458     39.326\n",
              "1459     35.001\n",
              "1460    259.640\n",
              "Name: PM2.5, Length: 1461, dtype: float64"
            ]
          },
          "metadata": {},
          "execution_count": 11
        }
      ]
    },
    {
      "cell_type": "code",
      "source": [
        "pm25_interpolate=pm25_new.interpolate()\n",
        "\n",
        "pm25_interpolate"
      ],
      "metadata": {
        "colab": {
          "base_uri": "https://localhost:8080/"
        },
        "id": "e9FWTk0AtHmG",
        "outputId": "3d7e8348-4838-47c8-c596-8a1a9694a4ed"
      },
      "execution_count": null,
      "outputs": [
        {
          "output_type": "execute_result",
          "data": {
            "text/plain": [
              "0           NaN\n",
              "1           NaN\n",
              "2           NaN\n",
              "3           NaN\n",
              "4           NaN\n",
              "         ...   \n",
              "1456     21.313\n",
              "1457     21.824\n",
              "1458     39.326\n",
              "1459     35.001\n",
              "1460    259.640\n",
              "Name: PM2.5, Length: 1461, dtype: float64"
            ]
          },
          "metadata": {},
          "execution_count": 16
        }
      ]
    },
    {
      "cell_type": "code",
      "source": [
        "pm25_interpolate=pm25_interpolate.bfill()"
      ],
      "metadata": {
        "id": "tEW3T-sc_VZp"
      },
      "execution_count": null,
      "outputs": []
    },
    {
      "cell_type": "code",
      "source": [
        "nullValues = pm25_interpolate.isnull().sum()\n",
        "nullValues"
      ],
      "metadata": {
        "colab": {
          "base_uri": "https://localhost:8080/"
        },
        "id": "Ym8NMwoq_Qc4",
        "outputId": "97e44807-6526-410a-d3c1-43fb7ea6ea2b"
      },
      "execution_count": null,
      "outputs": [
        {
          "output_type": "execute_result",
          "data": {
            "text/plain": [
              "0"
            ]
          },
          "metadata": {},
          "execution_count": 19
        }
      ]
    },
    {
      "cell_type": "code",
      "source": [
        "pm25_interpolate.columns=['filled']\n",
        "pm25_interpolate.head()"
      ],
      "metadata": {
        "colab": {
          "base_uri": "https://localhost:8080/"
        },
        "id": "Erop8Oy1_6se",
        "outputId": "32ff9877-cb1d-4230-b9ee-575574645e03"
      },
      "execution_count": null,
      "outputs": [
        {
          "output_type": "execute_result",
          "data": {
            "text/plain": [
              "0    66.65\n",
              "1    66.65\n",
              "2    66.65\n",
              "3    66.65\n",
              "4    66.65\n",
              "Name: PM2.5, dtype: float64"
            ]
          },
          "metadata": {},
          "execution_count": 25
        }
      ]
    },
    {
      "cell_type": "code",
      "source": [
        "pm25_interpolate.to_csv('filled.csv', index=False)"
      ],
      "metadata": {
        "id": "RbysY398BYiE"
      },
      "execution_count": null,
      "outputs": []
    },
    {
      "cell_type": "markdown",
      "source": [
        "###train test split\n"
      ],
      "metadata": {
        "id": "gkc397oDupUF"
      }
    },
    {
      "cell_type": "code",
      "source": [
        "pm25 = pd.read_csv('/content/drive/Othercomputers/My Laptop/MTech/Project/New/processed_data/nagpur/pm25.csv')"
      ],
      "metadata": {
        "id": "j0s2aSFjunhL"
      },
      "execution_count": null,
      "outputs": []
    },
    {
      "cell_type": "code",
      "source": [
        "pm25"
      ],
      "metadata": {
        "colab": {
          "base_uri": "https://localhost:8080/",
          "height": 424
        },
        "id": "KWEfHMqnvK7k",
        "outputId": "c3a912c9-ca9a-4521-d9fe-3785027e2e06"
      },
      "execution_count": null,
      "outputs": [
        {
          "output_type": "execute_result",
          "data": {
            "text/plain": [
              "          Date    T2M  PRECTOTCORR     PS   RH2M  WS10M   WD10M     PM25\n",
              "0     01-01-16  23.26         0.00  98.55  35.38   1.84  144.25   66.650\n",
              "1     02-01-16  23.38         0.00  98.53  33.19   1.52  137.00   66.650\n",
              "2     03-01-16  21.19         0.00  98.45  32.56   2.90   62.69   66.650\n",
              "3     04-01-16  20.94         0.00  98.51  35.06   2.67   86.00   66.650\n",
              "4     05-01-16  21.66         0.00  98.41  30.44   1.73  108.44   66.650\n",
              "...        ...    ...          ...    ...    ...    ...     ...      ...\n",
              "1456  27-12-19  15.15         0.07  98.29  59.81   4.29   21.38   21.313\n",
              "1457  28-12-19  11.83         0.00  98.43  57.94   3.41   68.00   21.824\n",
              "1458  29-12-19  12.38         0.00  98.43  58.62   2.76   64.56   39.326\n",
              "1459  30-12-19  14.22         0.10  98.35  66.81   2.78   75.00   35.001\n",
              "1460  31-12-19  14.62         6.46  98.41  82.44   3.73   83.00  259.640\n",
              "\n",
              "[1461 rows x 8 columns]"
            ],
            "text/html": [
              "\n",
              "  <div id=\"df-b3362b2e-6f7f-4b25-84e4-26242efdc89a\">\n",
              "    <div class=\"colab-df-container\">\n",
              "      <div>\n",
              "<style scoped>\n",
              "    .dataframe tbody tr th:only-of-type {\n",
              "        vertical-align: middle;\n",
              "    }\n",
              "\n",
              "    .dataframe tbody tr th {\n",
              "        vertical-align: top;\n",
              "    }\n",
              "\n",
              "    .dataframe thead th {\n",
              "        text-align: right;\n",
              "    }\n",
              "</style>\n",
              "<table border=\"1\" class=\"dataframe\">\n",
              "  <thead>\n",
              "    <tr style=\"text-align: right;\">\n",
              "      <th></th>\n",
              "      <th>Date</th>\n",
              "      <th>T2M</th>\n",
              "      <th>PRECTOTCORR</th>\n",
              "      <th>PS</th>\n",
              "      <th>RH2M</th>\n",
              "      <th>WS10M</th>\n",
              "      <th>WD10M</th>\n",
              "      <th>PM25</th>\n",
              "    </tr>\n",
              "  </thead>\n",
              "  <tbody>\n",
              "    <tr>\n",
              "      <th>0</th>\n",
              "      <td>01-01-16</td>\n",
              "      <td>23.26</td>\n",
              "      <td>0.00</td>\n",
              "      <td>98.55</td>\n",
              "      <td>35.38</td>\n",
              "      <td>1.84</td>\n",
              "      <td>144.25</td>\n",
              "      <td>66.650</td>\n",
              "    </tr>\n",
              "    <tr>\n",
              "      <th>1</th>\n",
              "      <td>02-01-16</td>\n",
              "      <td>23.38</td>\n",
              "      <td>0.00</td>\n",
              "      <td>98.53</td>\n",
              "      <td>33.19</td>\n",
              "      <td>1.52</td>\n",
              "      <td>137.00</td>\n",
              "      <td>66.650</td>\n",
              "    </tr>\n",
              "    <tr>\n",
              "      <th>2</th>\n",
              "      <td>03-01-16</td>\n",
              "      <td>21.19</td>\n",
              "      <td>0.00</td>\n",
              "      <td>98.45</td>\n",
              "      <td>32.56</td>\n",
              "      <td>2.90</td>\n",
              "      <td>62.69</td>\n",
              "      <td>66.650</td>\n",
              "    </tr>\n",
              "    <tr>\n",
              "      <th>3</th>\n",
              "      <td>04-01-16</td>\n",
              "      <td>20.94</td>\n",
              "      <td>0.00</td>\n",
              "      <td>98.51</td>\n",
              "      <td>35.06</td>\n",
              "      <td>2.67</td>\n",
              "      <td>86.00</td>\n",
              "      <td>66.650</td>\n",
              "    </tr>\n",
              "    <tr>\n",
              "      <th>4</th>\n",
              "      <td>05-01-16</td>\n",
              "      <td>21.66</td>\n",
              "      <td>0.00</td>\n",
              "      <td>98.41</td>\n",
              "      <td>30.44</td>\n",
              "      <td>1.73</td>\n",
              "      <td>108.44</td>\n",
              "      <td>66.650</td>\n",
              "    </tr>\n",
              "    <tr>\n",
              "      <th>...</th>\n",
              "      <td>...</td>\n",
              "      <td>...</td>\n",
              "      <td>...</td>\n",
              "      <td>...</td>\n",
              "      <td>...</td>\n",
              "      <td>...</td>\n",
              "      <td>...</td>\n",
              "      <td>...</td>\n",
              "    </tr>\n",
              "    <tr>\n",
              "      <th>1456</th>\n",
              "      <td>27-12-19</td>\n",
              "      <td>15.15</td>\n",
              "      <td>0.07</td>\n",
              "      <td>98.29</td>\n",
              "      <td>59.81</td>\n",
              "      <td>4.29</td>\n",
              "      <td>21.38</td>\n",
              "      <td>21.313</td>\n",
              "    </tr>\n",
              "    <tr>\n",
              "      <th>1457</th>\n",
              "      <td>28-12-19</td>\n",
              "      <td>11.83</td>\n",
              "      <td>0.00</td>\n",
              "      <td>98.43</td>\n",
              "      <td>57.94</td>\n",
              "      <td>3.41</td>\n",
              "      <td>68.00</td>\n",
              "      <td>21.824</td>\n",
              "    </tr>\n",
              "    <tr>\n",
              "      <th>1458</th>\n",
              "      <td>29-12-19</td>\n",
              "      <td>12.38</td>\n",
              "      <td>0.00</td>\n",
              "      <td>98.43</td>\n",
              "      <td>58.62</td>\n",
              "      <td>2.76</td>\n",
              "      <td>64.56</td>\n",
              "      <td>39.326</td>\n",
              "    </tr>\n",
              "    <tr>\n",
              "      <th>1459</th>\n",
              "      <td>30-12-19</td>\n",
              "      <td>14.22</td>\n",
              "      <td>0.10</td>\n",
              "      <td>98.35</td>\n",
              "      <td>66.81</td>\n",
              "      <td>2.78</td>\n",
              "      <td>75.00</td>\n",
              "      <td>35.001</td>\n",
              "    </tr>\n",
              "    <tr>\n",
              "      <th>1460</th>\n",
              "      <td>31-12-19</td>\n",
              "      <td>14.62</td>\n",
              "      <td>6.46</td>\n",
              "      <td>98.41</td>\n",
              "      <td>82.44</td>\n",
              "      <td>3.73</td>\n",
              "      <td>83.00</td>\n",
              "      <td>259.640</td>\n",
              "    </tr>\n",
              "  </tbody>\n",
              "</table>\n",
              "<p>1461 rows × 8 columns</p>\n",
              "</div>\n",
              "      <button class=\"colab-df-convert\" onclick=\"convertToInteractive('df-b3362b2e-6f7f-4b25-84e4-26242efdc89a')\"\n",
              "              title=\"Convert this dataframe to an interactive table.\"\n",
              "              style=\"display:none;\">\n",
              "        \n",
              "  <svg xmlns=\"http://www.w3.org/2000/svg\" height=\"24px\"viewBox=\"0 0 24 24\"\n",
              "       width=\"24px\">\n",
              "    <path d=\"M0 0h24v24H0V0z\" fill=\"none\"/>\n",
              "    <path d=\"M18.56 5.44l.94 2.06.94-2.06 2.06-.94-2.06-.94-.94-2.06-.94 2.06-2.06.94zm-11 1L8.5 8.5l.94-2.06 2.06-.94-2.06-.94L8.5 2.5l-.94 2.06-2.06.94zm10 10l.94 2.06.94-2.06 2.06-.94-2.06-.94-.94-2.06-.94 2.06-2.06.94z\"/><path d=\"M17.41 7.96l-1.37-1.37c-.4-.4-.92-.59-1.43-.59-.52 0-1.04.2-1.43.59L10.3 9.45l-7.72 7.72c-.78.78-.78 2.05 0 2.83L4 21.41c.39.39.9.59 1.41.59.51 0 1.02-.2 1.41-.59l7.78-7.78 2.81-2.81c.8-.78.8-2.07 0-2.86zM5.41 20L4 18.59l7.72-7.72 1.47 1.35L5.41 20z\"/>\n",
              "  </svg>\n",
              "      </button>\n",
              "      \n",
              "  <style>\n",
              "    .colab-df-container {\n",
              "      display:flex;\n",
              "      flex-wrap:wrap;\n",
              "      gap: 12px;\n",
              "    }\n",
              "\n",
              "    .colab-df-convert {\n",
              "      background-color: #E8F0FE;\n",
              "      border: none;\n",
              "      border-radius: 50%;\n",
              "      cursor: pointer;\n",
              "      display: none;\n",
              "      fill: #1967D2;\n",
              "      height: 32px;\n",
              "      padding: 0 0 0 0;\n",
              "      width: 32px;\n",
              "    }\n",
              "\n",
              "    .colab-df-convert:hover {\n",
              "      background-color: #E2EBFA;\n",
              "      box-shadow: 0px 1px 2px rgba(60, 64, 67, 0.3), 0px 1px 3px 1px rgba(60, 64, 67, 0.15);\n",
              "      fill: #174EA6;\n",
              "    }\n",
              "\n",
              "    [theme=dark] .colab-df-convert {\n",
              "      background-color: #3B4455;\n",
              "      fill: #D2E3FC;\n",
              "    }\n",
              "\n",
              "    [theme=dark] .colab-df-convert:hover {\n",
              "      background-color: #434B5C;\n",
              "      box-shadow: 0px 1px 3px 1px rgba(0, 0, 0, 0.15);\n",
              "      filter: drop-shadow(0px 1px 2px rgba(0, 0, 0, 0.3));\n",
              "      fill: #FFFFFF;\n",
              "    }\n",
              "  </style>\n",
              "\n",
              "      <script>\n",
              "        const buttonEl =\n",
              "          document.querySelector('#df-b3362b2e-6f7f-4b25-84e4-26242efdc89a button.colab-df-convert');\n",
              "        buttonEl.style.display =\n",
              "          google.colab.kernel.accessAllowed ? 'block' : 'none';\n",
              "\n",
              "        async function convertToInteractive(key) {\n",
              "          const element = document.querySelector('#df-b3362b2e-6f7f-4b25-84e4-26242efdc89a');\n",
              "          const dataTable =\n",
              "            await google.colab.kernel.invokeFunction('convertToInteractive',\n",
              "                                                     [key], {});\n",
              "          if (!dataTable) return;\n",
              "\n",
              "          const docLinkHtml = 'Like what you see? Visit the ' +\n",
              "            '<a target=\"_blank\" href=https://colab.research.google.com/notebooks/data_table.ipynb>data table notebook</a>'\n",
              "            + ' to learn more about interactive tables.';\n",
              "          element.innerHTML = '';\n",
              "          dataTable['output_type'] = 'display_data';\n",
              "          await google.colab.output.renderOutput(dataTable, element);\n",
              "          const docLink = document.createElement('div');\n",
              "          docLink.innerHTML = docLinkHtml;\n",
              "          element.appendChild(docLink);\n",
              "        }\n",
              "      </script>\n",
              "    </div>\n",
              "  </div>\n",
              "  "
            ]
          },
          "metadata": {},
          "execution_count": 6
        }
      ]
    },
    {
      "cell_type": "code",
      "source": [
        "pm25=pm25.drop(['Date'],axis=1)"
      ],
      "metadata": {
        "id": "CI_4E8z4vTJt"
      },
      "execution_count": null,
      "outputs": []
    },
    {
      "cell_type": "code",
      "source": [
        "from scipy import stats\n",
        "features=pm25.columns\n",
        "sns.set_style('dark')\n",
        "for col in features:\n",
        "    plt.figure(figsize=(15,4))\n",
        "    plt.subplot(131)\n",
        "    sns.distplot(pm25[col], label=\"skew: \" + str(np.round(pm25[col].skew(),2)))\n",
        "    plt.suptitle(\"Distplot and Boxplot for features\")\n",
        "    plt.legend()\n",
        "    plt.subplot(132)\n",
        "    sns.boxplot(pm25[col])\n",
        "    plt.subplot(133)\n",
        "    stats.probplot(pm25[col], plot=plt)\n",
        "    plt.tight_layout()\n",
        "    plt.show()"
      ],
      "metadata": {
        "colab": {
          "base_uri": "https://localhost:8080/",
          "height": 1000
        },
        "id": "WuIAClfPz68J",
        "outputId": "44a1ad98-2320-4407-e247-40a81c04234a"
      },
      "execution_count": null,
      "outputs": [
        {
          "output_type": "display_data",
          "data": {
            "text/plain": [
              "<Figure size 1080x288 with 3 Axes>"
            ],
            "image/png": "[encoded data removed]"
          },
          "metadata": {}
        },
        {
          "output_type": "display_data",
          "data": {
            "text/plain": [
              "<Figure size 1080x288 with 3 Axes>"
            ],
            "image/png": "[encoded data removed]"
          },
          "metadata": {}
        },
        {
          "output_type": "display_data",
          "data": {
            "text/plain": [
              "<Figure size 1080x288 with 3 Axes>"
            ],
            "image/png": "[encoded data removed]"
          },
          "metadata": {}
        },
        {
          "output_type": "display_data",
          "data": {
            "text/plain": [
              "<Figure size 1080x288 with 3 Axes>"
            ],
            "image/png": "[encoded data removed]"
          },
          "metadata": {}
        },
        {
          "output_type": "display_data",
          "data": {
            "text/plain": [
              "<Figure size 1080x288 with 3 Axes>"
            ],
            "image/png": "[encoded data removed]"
          },
          "metadata": {}
        },
        {
          "output_type": "display_data",
          "data": {
            "text/plain": [
              "<Figure size 1080x288 with 3 Axes>"
            ],
            "image/png": "[encoded data removed]"
          },
          "metadata": {}
        },
        {
          "output_type": "display_data",
          "data": {
            "text/plain": [
              "<Figure size 1080x288 with 3 Axes>"
            ],
            "image/png": "[encoded data removed]"
          },
          "metadata": {}
        }
      ]
    },
    {
      "cell_type": "markdown",
      "source": [
        "###Correlation"
      ],
      "metadata": {
        "id": "TCpwwVF60_KF"
      }
    },
    {
      "cell_type": "code",
      "source": [
        "plt.figure(figsize=(20,10))\n",
        "sns.heatmap(pm25.corr(), annot=True, cmap='Blues')\n",
        "\n",
        "plt.show()"
      ],
      "metadata": {
        "colab": {
          "base_uri": "https://localhost:8080/",
          "height": 596
        },
        "id": "GsGFrlMl2fTu",
        "outputId": "d0a2fdd0-71fa-438a-ed14-13d0f7805689"
      },
      "execution_count": null,
      "outputs": [
        {
          "output_type": "display_data",
          "data": {
            "text/plain": [
              "<Figure size 1440x720 with 2 Axes>"
            ],
            "image/png": "[encoded data removed]"
          },
          "metadata": {}
        }
      ]
    },
    {
      "cell_type": "markdown",
      "source": [
        "###independent variable and dependent varialbe"
      ],
      "metadata": {
        "id": "Xna6wHbx3ldW"
      }
    },
    {
      "cell_type": "code",
      "source": [
        " x=pm25.iloc[:,:-1]\n",
        "y=pm25.iloc[:,-1]"
      ],
      "metadata": {
        "id": "AkBY9WiwpDij"
      },
      "execution_count": null,
      "outputs": []
    },
    {
      "cell_type": "code",
      "source": [
        "x"
      ],
      "metadata": {
        "colab": {
          "base_uri": "https://localhost:8080/",
          "height": 424
        },
        "id": "T1_K34AnpRxi",
        "outputId": "a80ee96e-2943-42bc-f71c-3dccc7a2f3ef"
      },
      "execution_count": null,
      "outputs": [
        {
          "output_type": "execute_result",
          "data": {
            "text/plain": [
              "        T2M  PRECTOTCORR     PS   RH2M  WS10M   WD10M\n",
              "0     23.26         0.00  98.55  35.38   1.84  144.25\n",
              "1     23.38         0.00  98.53  33.19   1.52  137.00\n",
              "2     21.19         0.00  98.45  32.56   2.90   62.69\n",
              "3     20.94         0.00  98.51  35.06   2.67   86.00\n",
              "4     21.66         0.00  98.41  30.44   1.73  108.44\n",
              "...     ...          ...    ...    ...    ...     ...\n",
              "1456  15.15         0.07  98.29  59.81   4.29   21.38\n",
              "1457  11.83         0.00  98.43  57.94   3.41   68.00\n",
              "1458  12.38         0.00  98.43  58.62   2.76   64.56\n",
              "1459  14.22         0.10  98.35  66.81   2.78   75.00\n",
              "1460  14.62         6.46  98.41  82.44   3.73   83.00\n",
              "\n",
              "[1461 rows x 6 columns]"
            ],
            "text/html": [
              "\n",
              "  <div id=\"df-c8691b55-c74d-43b5-b663-759a58b0e76e\">\n",
              "    <div class=\"colab-df-container\">\n",
              "      <div>\n",
              "<style scoped>\n",
              "    .dataframe tbody tr th:only-of-type {\n",
              "        vertical-align: middle;\n",
              "    }\n",
              "\n",
              "    .dataframe tbody tr th {\n",
              "        vertical-align: top;\n",
              "    }\n",
              "\n",
              "    .dataframe thead th {\n",
              "        text-align: right;\n",
              "    }\n",
              "</style>\n",
              "<table border=\"1\" class=\"dataframe\">\n",
              "  <thead>\n",
              "    <tr style=\"text-align: right;\">\n",
              "      <th></th>\n",
              "      <th>T2M</th>\n",
              "      <th>PRECTOTCORR</th>\n",
              "      <th>PS</th>\n",
              "      <th>RH2M</th>\n",
              "      <th>WS10M</th>\n",
              "      <th>WD10M</th>\n",
              "    </tr>\n",
              "  </thead>\n",
              "  <tbody>\n",
              "    <tr>\n",
              "      <th>0</th>\n",
              "      <td>23.26</td>\n",
              "      <td>0.00</td>\n",
              "      <td>98.55</td>\n",
              "      <td>35.38</td>\n",
              "      <td>1.84</td>\n",
              "      <td>144.25</td>\n",
              "    </tr>\n",
              "    <tr>\n",
              "      <th>1</th>\n",
              "      <td>23.38</td>\n",
              "      <td>0.00</td>\n",
              "      <td>98.53</td>\n",
              "      <td>33.19</td>\n",
              "      <td>1.52</td>\n",
              "      <td>137.00</td>\n",
              "    </tr>\n",
              "    <tr>\n",
              "      <th>2</th>\n",
              "      <td>21.19</td>\n",
              "      <td>0.00</td>\n",
              "      <td>98.45</td>\n",
              "      <td>32.56</td>\n",
              "      <td>2.90</td>\n",
              "      <td>62.69</td>\n",
              "    </tr>\n",
              "    <tr>\n",
              "      <th>3</th>\n",
              "      <td>20.94</td>\n",
              "      <td>0.00</td>\n",
              "      <td>98.51</td>\n",
              "      <td>35.06</td>\n",
              "      <td>2.67</td>\n",
              "      <td>86.00</td>\n",
              "    </tr>\n",
              "    <tr>\n",
              "      <th>4</th>\n",
              "      <td>21.66</td>\n",
              "      <td>0.00</td>\n",
              "      <td>98.41</td>\n",
              "      <td>30.44</td>\n",
              "      <td>1.73</td>\n",
              "      <td>108.44</td>\n",
              "    </tr>\n",
              "    <tr>\n",
              "      <th>...</th>\n",
              "      <td>...</td>\n",
              "      <td>...</td>\n",
              "      <td>...</td>\n",
              "      <td>...</td>\n",
              "      <td>...</td>\n",
              "      <td>...</td>\n",
              "    </tr>\n",
              "    <tr>\n",
              "      <th>1456</th>\n",
              "      <td>15.15</td>\n",
              "      <td>0.07</td>\n",
              "      <td>98.29</td>\n",
              "      <td>59.81</td>\n",
              "      <td>4.29</td>\n",
              "      <td>21.38</td>\n",
              "    </tr>\n",
              "    <tr>\n",
              "      <th>1457</th>\n",
              "      <td>11.83</td>\n",
              "      <td>0.00</td>\n",
              "      <td>98.43</td>\n",
              "      <td>57.94</td>\n",
              "      <td>3.41</td>\n",
              "      <td>68.00</td>\n",
              "    </tr>\n",
              "    <tr>\n",
              "      <th>1458</th>\n",
              "      <td>12.38</td>\n",
              "      <td>0.00</td>\n",
              "      <td>98.43</td>\n",
              "      <td>58.62</td>\n",
              "      <td>2.76</td>\n",
              "      <td>64.56</td>\n",
              "    </tr>\n",
              "    <tr>\n",
              "      <th>1459</th>\n",
              "      <td>14.22</td>\n",
              "      <td>0.10</td>\n",
              "      <td>98.35</td>\n",
              "      <td>66.81</td>\n",
              "      <td>2.78</td>\n",
              "      <td>75.00</td>\n",
              "    </tr>\n",
              "    <tr>\n",
              "      <th>1460</th>\n",
              "      <td>14.62</td>\n",
              "      <td>6.46</td>\n",
              "      <td>98.41</td>\n",
              "      <td>82.44</td>\n",
              "      <td>3.73</td>\n",
              "      <td>83.00</td>\n",
              "    </tr>\n",
              "  </tbody>\n",
              "</table>\n",
              "<p>1461 rows × 6 columns</p>\n",
              "</div>\n",
              "      <button class=\"colab-df-convert\" onclick=\"convertToInteractive('df-c8691b55-c74d-43b5-b663-759a58b0e76e')\"\n",
              "              title=\"Convert this dataframe to an interactive table.\"\n",
              "              style=\"display:none;\">\n",
              "        \n",
              "  <svg xmlns=\"http://www.w3.org/2000/svg\" height=\"24px\"viewBox=\"0 0 24 24\"\n",
              "       width=\"24px\">\n",
              "    <path d=\"M0 0h24v24H0V0z\" fill=\"none\"/>\n",
              "    <path d=\"M18.56 5.44l.94 2.06.94-2.06 2.06-.94-2.06-.94-.94-2.06-.94 2.06-2.06.94zm-11 1L8.5 8.5l.94-2.06 2.06-.94-2.06-.94L8.5 2.5l-.94 2.06-2.06.94zm10 10l.94 2.06.94-2.06 2.06-.94-2.06-.94-.94-2.06-.94 2.06-2.06.94z\"/><path d=\"M17.41 7.96l-1.37-1.37c-.4-.4-.92-.59-1.43-.59-.52 0-1.04.2-1.43.59L10.3 9.45l-7.72 7.72c-.78.78-.78 2.05 0 2.83L4 21.41c.39.39.9.59 1.41.59.51 0 1.02-.2 1.41-.59l7.78-7.78 2.81-2.81c.8-.78.8-2.07 0-2.86zM5.41 20L4 18.59l7.72-7.72 1.47 1.35L5.41 20z\"/>\n",
              "  </svg>\n",
              "      </button>\n",
              "      \n",
              "  <style>\n",
              "    .colab-df-container {\n",
              "      display:flex;\n",
              "      flex-wrap:wrap;\n",
              "      gap: 12px;\n",
              "    }\n",
              "\n",
              "    .colab-df-convert {\n",
              "      background-color: #E8F0FE;\n",
              "      border: none;\n",
              "      border-radius: 50%;\n",
              "      cursor: pointer;\n",
              "      display: none;\n",
              "      fill: #1967D2;\n",
              "      height: 32px;\n",
              "      padding: 0 0 0 0;\n",
              "      width: 32px;\n",
              "    }\n",
              "\n",
              "    .colab-df-convert:hover {\n",
              "      background-color: #E2EBFA;\n",
              "      box-shadow: 0px 1px 2px rgba(60, 64, 67, 0.3), 0px 1px 3px 1px rgba(60, 64, 67, 0.15);\n",
              "      fill: #174EA6;\n",
              "    }\n",
              "\n",
              "    [theme=dark] .colab-df-convert {\n",
              "      background-color: #3B4455;\n",
              "      fill: #D2E3FC;\n",
              "    }\n",
              "\n",
              "    [theme=dark] .colab-df-convert:hover {\n",
              "      background-color: #434B5C;\n",
              "      box-shadow: 0px 1px 3px 1px rgba(0, 0, 0, 0.15);\n",
              "      filter: drop-shadow(0px 1px 2px rgba(0, 0, 0, 0.3));\n",
              "      fill: #FFFFFF;\n",
              "    }\n",
              "  </style>\n",
              "\n",
              "      <script>\n",
              "        const buttonEl =\n",
              "          document.querySelector('#df-c8691b55-c74d-43b5-b663-759a58b0e76e button.colab-df-convert');\n",
              "        buttonEl.style.display =\n",
              "          google.colab.kernel.accessAllowed ? 'block' : 'none';\n",
              "\n",
              "        async function convertToInteractive(key) {\n",
              "          const element = document.querySelector('#df-c8691b55-c74d-43b5-b663-759a58b0e76e');\n",
              "          const dataTable =\n",
              "            await google.colab.kernel.invokeFunction('convertToInteractive',\n",
              "                                                     [key], {});\n",
              "          if (!dataTable) return;\n",
              "\n",
              "          const docLinkHtml = 'Like what you see? Visit the ' +\n",
              "            '<a target=\"_blank\" href=https://colab.research.google.com/notebooks/data_table.ipynb>data table notebook</a>'\n",
              "            + ' to learn more about interactive tables.';\n",
              "          element.innerHTML = '';\n",
              "          dataTable['output_type'] = 'display_data';\n",
              "          await google.colab.output.renderOutput(dataTable, element);\n",
              "          const docLink = document.createElement('div');\n",
              "          docLink.innerHTML = docLinkHtml;\n",
              "          element.appendChild(docLink);\n",
              "        }\n",
              "      </script>\n",
              "    </div>\n",
              "  </div>\n",
              "  "
            ]
          },
          "metadata": {},
          "execution_count": 9
        }
      ]
    },
    {
      "cell_type": "code",
      "source": [
        "y"
      ],
      "metadata": {
        "colab": {
          "base_uri": "https://localhost:8080/"
        },
        "id": "TStKLJHQpSQ_",
        "outputId": "a3ee346a-6ea1-4380-c70c-d9e22d4a141c"
      },
      "execution_count": null,
      "outputs": [
        {
          "output_type": "execute_result",
          "data": {
            "text/plain": [
              "0        66.650\n",
              "1        66.650\n",
              "2        66.650\n",
              "3        66.650\n",
              "4        66.650\n",
              "         ...   \n",
              "1456     21.313\n",
              "1457     21.824\n",
              "1458     39.326\n",
              "1459     35.001\n",
              "1460    259.640\n",
              "Name: PM25, Length: 1461, dtype: float64"
            ]
          },
          "metadata": {},
          "execution_count": 10
        }
      ]
    },
    {
      "cell_type": "code",
      "source": [
        "#Train-Test Split\n",
        "from sklearn.model_selection import train_test_split\n",
        "x_train,x_test,y_train,y_test=train_test_split(x,y,test_size=0.2,random_state=0)"
      ],
      "metadata": {
        "id": "Ay6Al16tpSkr"
      },
      "execution_count": null,
      "outputs": []
    },
    {
      "cell_type": "markdown",
      "source": [
        "###yeo-johnshon tranformation"
      ],
      "metadata": {
        "id": "KxJyzwi1wMwj"
      }
    },
    {
      "cell_type": "code",
      "source": [
        "from sklearn.preprocessing import StandardScaler, MinMaxScaler\n",
        "sc_x = StandardScaler()\n",
        "sc_y = StandardScaler()\n",
        "x_train = sc_x.fit_transform(x_train)\n",
        "x_test = sc_x.transform(x_test)\n",
        "y_train = sc_y.fit_transform(np.array(y_train).reshape(-1,1))\n",
        "y_test = sc_y.transform(np.array(y_test).reshape(-1,1))"
      ],
      "metadata": {
        "id": "JQvRzVnzmCVg"
      },
      "execution_count": null,
      "outputs": []
    },
    {
      "cell_type": "code",
      "source": [
        "from sklearn.preprocessing import PowerTransformer\n",
        "pt_x = PowerTransformer(method='yeo-johnson')\n",
        "pt_y = PowerTransformer(method='yeo-johnson')\n",
        "x_train = pt_x.fit_transform(x_train)\n",
        "x_test = pt_x.transform(x_test)\n",
        "y_train = pt_y.fit_transform(np.array(y_train).reshape(-1,1))\n",
        "y_test = pt_y.transform(np.array(y_test).reshape(-1,1))"
      ],
      "metadata": {
        "id": "-_vbP4ZKtctw"
      },
      "execution_count": null,
      "outputs": []
    },
    {
      "cell_type": "markdown",
      "source": [
        "###SVR without any hyperparameter tunning"
      ],
      "metadata": {
        "id": "87UDv3WixC87"
      }
    },
    {
      "cell_type": "code",
      "source": [
        "from sklearn.svm import SVR\n",
        "regressor = SVR(kernel = 'rbf')\n",
        "regressor.fit(x_train,y_train)"
      ],
      "metadata": {
        "colab": {
          "base_uri": "https://localhost:8080/"
        },
        "id": "3TdRPOnIxGb_",
        "outputId": "6450fced-4c96-4e6d-9a73-6e73c3e2d840"
      },
      "execution_count": null,
      "outputs": [
        {
          "output_type": "execute_result",
          "data": {
            "text/plain": [
              "SVR()"
            ]
          },
          "metadata": {},
          "execution_count": 13
        }
      ]
    },
    {
      "cell_type": "code",
      "source": [
        "y_prediction =  regressor.predict(x_test)\n",
        "y_prediction"
      ],
      "metadata": {
        "colab": {
          "base_uri": "https://localhost:8080/"
        },
        "id": "9fiujIO8xKc5",
        "outputId": "ca7ff501-5ac3-492c-d685-730adcbb88c9"
      },
      "execution_count": null,
      "outputs": [
        {
          "output_type": "execute_result",
          "data": {
            "text/plain": [
              "array([-0.81102069,  0.08471319,  0.05732908, -0.72520329,  0.18308843,\n",
              "        0.96252516,  0.13122395, -0.74694973, -0.09133704,  0.39905026,\n",
              "       -1.02774379,  1.25528014, -1.16124953, -0.90735111, -0.35806024,\n",
              "       -0.89770163, -1.18331024,  0.63569255,  0.79649263, -0.13296373,\n",
              "       -0.49858716,  1.15667655,  0.71713161, -1.12335154, -1.37231762,\n",
              "       -0.9948347 , -0.72960793,  0.08406606, -1.43672576,  0.02134388,\n",
              "        1.15259781,  0.37666992,  1.02370285,  1.07311398,  0.97997682,\n",
              "       -0.42487754,  0.51105643,  0.57664861, -0.0947249 ,  0.13919584,\n",
              "       -0.80728623,  0.67200741,  1.01095868,  1.0607833 , -1.4018446 ,\n",
              "        0.98701357,  0.86098795, -0.93076554, -0.49689494,  0.78052687,\n",
              "       -0.39185528,  0.20547783, -0.44059848,  0.79028341,  0.48389795,\n",
              "       -1.06054883, -1.13770155,  0.7815544 , -0.80541862,  0.03392582,\n",
              "        0.69491373,  0.28453902, -1.54952951, -0.95930975, -0.83229825,\n",
              "       -0.07265944, -1.37925543,  0.18050464, -1.09116395,  0.35632996,\n",
              "        1.18696513,  0.99697986, -0.30618173,  0.40358861,  0.33449886,\n",
              "       -0.2931573 , -0.07233814, -0.84307795, -0.27681274, -0.75776455,\n",
              "        0.33860089, -0.4292264 , -0.4961101 ,  0.01795661,  0.2024048 ,\n",
              "       -1.35013025,  0.20000688, -0.2306863 , -1.1282576 , -0.27263512,\n",
              "       -1.49546287,  1.10109526,  0.36546774, -0.47345982,  0.25329124,\n",
              "        0.75454558, -0.66713436,  0.09001068, -1.50149211,  0.52142571,\n",
              "       -0.69064721,  1.06999   , -1.23958351,  0.07866634,  1.17098346,\n",
              "        0.65831895,  1.00934767, -0.66188623,  0.08202805, -0.04350546,\n",
              "        0.31553561, -0.5431448 , -0.35111689,  1.1031432 , -0.23168064,\n",
              "        0.0328995 , -1.22505337, -1.02225188,  0.11160866,  1.06536545,\n",
              "       -0.46257422, -0.84868359,  0.6216049 , -0.97566946,  0.33921185,\n",
              "        0.29211051, -1.18240425,  1.15683209, -1.2982481 ,  0.7942095 ,\n",
              "        0.23530375, -1.53905596, -0.81488407, -0.98125532,  0.60214927,\n",
              "        0.33227531,  0.37364392,  0.56606209, -0.63013527, -1.59939267,\n",
              "        0.63418754,  0.34797561, -0.46657876, -1.29557845, -0.49682926,\n",
              "        0.91583863,  1.180972  , -0.96284574,  0.70797451, -1.58477079,\n",
              "        0.65554399,  0.30468075, -1.34994109, -0.26381088, -0.05287124,\n",
              "       -0.08075171, -0.33563381, -0.00589221, -1.37768701,  0.78386969,\n",
              "       -1.30405035,  0.8739094 , -0.60689764,  0.13559946, -0.53183786,\n",
              "        0.04818973,  0.74341568, -0.89241255,  1.276763  ,  0.33735271,\n",
              "       -0.34048917,  0.7569898 , -1.34924485, -1.24577488,  0.31118557,\n",
              "        0.84671594,  1.000609  ,  0.44496534, -0.82576017, -1.39141524,\n",
              "       -0.86106768, -1.09620648,  0.07207414,  0.81878553,  0.42095786,\n",
              "        0.01020566, -1.41436931,  1.10668789, -0.10536034, -1.27003321,\n",
              "       -1.41756521, -1.2139994 , -1.31176175,  1.17658635, -1.43649169,\n",
              "        0.66074963, -0.32356376, -0.07698793, -1.41115167,  0.27958175,\n",
              "        0.3395342 ,  0.87185321, -0.42986843,  0.02722564,  0.46519933,\n",
              "       -1.49436657,  0.49774708,  0.096589  , -0.14020645, -0.89086183,\n",
              "       -0.01971786,  0.22768363,  0.35428024,  0.54752053,  0.67661711,\n",
              "       -1.30775322, -0.28654383,  1.14177881,  0.78712457, -0.13701124,\n",
              "        0.91807866, -0.51109519, -0.59726367,  0.81447068, -1.11594178,\n",
              "       -0.54127606,  0.55953946,  0.74543819, -0.75939426, -0.211717  ,\n",
              "        0.92692039, -0.06893289,  0.29125537,  0.19798818,  0.80037472,\n",
              "       -0.36481624, -1.01348067,  0.90494265,  0.84158203,  0.89465988,\n",
              "       -1.12399501, -0.6697753 , -1.52431392,  0.8047043 ,  0.9235799 ,\n",
              "       -0.39963803, -0.70980646, -0.29469422,  0.1791644 , -1.49574558,\n",
              "       -1.15870213, -0.80475302,  0.18343772,  0.99220038, -0.23622902,\n",
              "        1.18676762, -0.33093012, -0.04487318, -1.1862699 ,  0.04934833,\n",
              "        0.59559486,  0.91788512, -1.0843316 , -0.71726724, -0.61876419,\n",
              "       -0.17994   ,  0.64050789,  0.92974539, -0.62365571, -0.02808102,\n",
              "       -1.44855814, -0.48848115,  0.8243241 , -0.04369035, -1.43699524,\n",
              "        0.13289802,  0.70513989, -0.04285958,  0.43744862, -0.89383051,\n",
              "        0.67557106,  1.07503798,  0.58030392, -1.24139144, -1.48843178,\n",
              "       -0.38803286,  0.50862578,  1.23373655,  0.57780583, -0.79839395,\n",
              "       -0.39421691,  0.6368391 , -0.58699807])"
            ]
          },
          "metadata": {},
          "execution_count": 14
        }
      ]
    },
    {
      "cell_type": "code",
      "source": [
        "from sklearn.metrics import r2_score\n",
        "from sklearn.metrics import mean_squared_error\n",
        "from sklearn.metrics import mean_absolute_error\n",
        "score = r2_score(y_test,y_prediction)\n",
        "mean_error = mean_squared_error(y_test,y_prediction)\n",
        "mae = mean_absolute_error(y_test,y_prediction)\n",
        "print(\"R2 SCORE is\", score)\n",
        "print(\"mean_sqrd_error is \", mean_error)\n",
        "print(\"Root mean squared error of is\",np.sqrt(mean_error))\n",
        "print(\"Mean Absolute error is\", mae)"
      ],
      "metadata": {
        "colab": {
          "base_uri": "https://localhost:8080/"
        },
        "id": "LFt6RcPgxQDN",
        "outputId": "10e838dd-f756-4703-e8fe-6ace683759b8"
      },
      "execution_count": null,
      "outputs": [
        {
          "output_type": "stream",
          "name": "stdout",
          "text": [
            "R2 SCORE is 0.6298284378992806\n",
            "mean_sqrd_error is  0.35062726166495106\n",
            "Root mean squared error of is 0.5921378738646524\n",
            "Mean Absolute error is 0.46062891285875524\n"
          ]
        }
      ]
    },
    {
      "cell_type": "code",
      "source": [
        "y_test = pt_y.inverse_transform(y_test)\n",
        "y_test[:5]"
      ],
      "metadata": {
        "colab": {
          "base_uri": "https://localhost:8080/"
        },
        "id": "mB-WDmjxxWS3",
        "outputId": "8e7dce2f-8fce-494a-90d4-ff2656d4631b"
      },
      "execution_count": null,
      "outputs": [
        {
          "output_type": "execute_result",
          "data": {
            "text/plain": [
              "array([[35.34219999],\n",
              "       [75.17      ],\n",
              "       [33.38800008],\n",
              "       [43.73356647],\n",
              "       [53.709     ]])"
            ]
          },
          "metadata": {},
          "execution_count": 16
        }
      ]
    },
    {
      "cell_type": "code",
      "source": [
        "y_prediction=y_prediction.reshape(-1,1)"
      ],
      "metadata": {
        "id": "-ysaMCZqxqJO"
      },
      "execution_count": null,
      "outputs": []
    },
    {
      "cell_type": "code",
      "source": [
        "y_prediction = pt_y.inverse_transform(y_prediction)\n",
        "y_prediction[:5]"
      ],
      "metadata": {
        "colab": {
          "base_uri": "https://localhost:8080/"
        },
        "id": "qIbj48V-xlvZ",
        "outputId": "4fb66f60-0840-466c-df93-56180853e18d"
      },
      "execution_count": null,
      "outputs": [
        {
          "output_type": "execute_result",
          "data": {
            "text/plain": [
              "array([[26.02373299],\n",
              "       [42.69887633],\n",
              "       [42.06378855],\n",
              "       [27.30155164],\n",
              "       [45.05736558]])"
            ]
          },
          "metadata": {},
          "execution_count": 18
        }
      ]
    },
    {
      "cell_type": "code",
      "source": [
        "df1 = pd.DataFrame({'Actual': y_test[100:120].flatten(), 'Predicted': y_prediction[100:120].flatten()})\n",
        "df1.plot(kind='line')\n",
        "plt.grid(which='major', linestyle='-', linewidth='0.5', color='green')\n",
        "plt.grid(which='minor', linestyle=':', linewidth='0.5', color='black')\n",
        "plt.show()"
      ],
      "metadata": {
        "colab": {
          "base_uri": "https://localhost:8080/",
          "height": 483
        },
        "id": "ToIHqRC1xtte",
        "outputId": "3e39b438-deb2-498b-8c55-aa57c592e552"
      },
      "execution_count": null,
      "outputs": [
        {
          "output_type": "display_data",
          "data": {
            "text/plain": [
              "<Figure size 1080x576 with 1 Axes>"
            ],
            "image/png": "[encoded data removed]"
          },
          "metadata": {}
        }
      ]
    },
    {
      "cell_type": "code",
      "source": [
        "result = pd.DataFrame()\n",
        "result[\"ACTUAL PM2.5\"] = y_test.flatten()\n",
        "result[\"PREDICTED PM2.5\"] = y_prediction\n",
        "result[\"DIFFERENCE\"] = result[\"ACTUAL PM2.5\"] - result[\"PREDICTED PM2.5\"]\n",
        "result[\"PERCENTAGE ERROR\"] = ( abs(result[\"ACTUAL PM2.5\"] - result[\"PREDICTED PM2.5\"] ) / result[\"ACTUAL PM2.5\"] ) * 100\n",
        "result.head(15)"
      ],
      "metadata": {
        "colab": {
          "base_uri": "https://localhost:8080/",
          "height": 520
        },
        "id": "vPXWcpknx1dD",
        "outputId": "d87e707d-9b7f-49dc-faab-89d75150a616"
      },
      "execution_count": null,
      "outputs": [
        {
          "output_type": "execute_result",
          "data": {
            "text/plain": [
              "    ACTUAL PM2.5  PREDICTED PM2.5  DIFFERENCE  PERCENTAGE ERROR\n",
              "0      35.342200        26.023733    9.318467         26.366403\n",
              "1      75.170000        42.698876   32.471124         43.196919\n",
              "2      33.388000        42.063789   -8.675788         25.984750\n",
              "3      43.733566        27.301552   16.432015         37.573004\n",
              "4      53.709000        45.057366    8.651634         16.108351\n",
              "5      67.366000        68.745810   -1.379810          2.048230\n",
              "6      55.102000        43.798742   11.303258         20.513336\n",
              "7      21.141000        26.972230   -5.831230         27.582564\n",
              "8      33.940600        38.771293   -4.830692         14.232785\n",
              "9      63.174000        50.683226   12.490774         19.772018\n",
              "10     14.861000        23.044141   -8.183141         55.064539\n",
              "11     87.937000        80.453368    7.483632          8.510220\n",
              "12     18.927000        21.372213   -2.445213         12.919178\n",
              "13     23.327000        24.656962   -1.329962          5.701384\n",
              "14     36.012100        33.473825    2.538275          7.048396"
            ],
            "text/html": [
              "\n",
              "  <div id=\"df-781daa6b-7ada-4c17-827d-3edaa386472b\">\n",
              "    <div class=\"colab-df-container\">\n",
              "      <div>\n",
              "<style scoped>\n",
              "    .dataframe tbody tr th:only-of-type {\n",
              "        vertical-align: middle;\n",
              "    }\n",
              "\n",
              "    .dataframe tbody tr th {\n",
              "        vertical-align: top;\n",
              "    }\n",
              "\n",
              "    .dataframe thead th {\n",
              "        text-align: right;\n",
              "    }\n",
              "</style>\n",
              "<table border=\"1\" class=\"dataframe\">\n",
              "  <thead>\n",
              "    <tr style=\"text-align: right;\">\n",
              "      <th></th>\n",
              "      <th>ACTUAL PM2.5</th>\n",
              "      <th>PREDICTED PM2.5</th>\n",
              "      <th>DIFFERENCE</th>\n",
              "      <th>PERCENTAGE ERROR</th>\n",
              "    </tr>\n",
              "  </thead>\n",
              "  <tbody>\n",
              "    <tr>\n",
              "      <th>0</th>\n",
              "      <td>35.342200</td>\n",
              "      <td>26.023733</td>\n",
              "      <td>9.318467</td>\n",
              "      <td>26.366403</td>\n",
              "    </tr>\n",
              "    <tr>\n",
              "      <th>1</th>\n",
              "      <td>75.170000</td>\n",
              "      <td>42.698876</td>\n",
              "      <td>32.471124</td>\n",
              "      <td>43.196919</td>\n",
              "    </tr>\n",
              "    <tr>\n",
              "      <th>2</th>\n",
              "      <td>33.388000</td>\n",
              "      <td>42.063789</td>\n",
              "      <td>-8.675788</td>\n",
              "      <td>25.984750</td>\n",
              "    </tr>\n",
              "    <tr>\n",
              "      <th>3</th>\n",
              "      <td>43.733566</td>\n",
              "      <td>27.301552</td>\n",
              "      <td>16.432015</td>\n",
              "      <td>37.573004</td>\n",
              "    </tr>\n",
              "    <tr>\n",
              "      <th>4</th>\n",
              "      <td>53.709000</td>\n",
              "      <td>45.057366</td>\n",
              "      <td>8.651634</td>\n",
              "      <td>16.108351</td>\n",
              "    </tr>\n",
              "    <tr>\n",
              "      <th>5</th>\n",
              "      <td>67.366000</td>\n",
              "      <td>68.745810</td>\n",
              "      <td>-1.379810</td>\n",
              "      <td>2.048230</td>\n",
              "    </tr>\n",
              "    <tr>\n",
              "      <th>6</th>\n",
              "      <td>55.102000</td>\n",
              "      <td>43.798742</td>\n",
              "      <td>11.303258</td>\n",
              "      <td>20.513336</td>\n",
              "    </tr>\n",
              "    <tr>\n",
              "      <th>7</th>\n",
              "      <td>21.141000</td>\n",
              "      <td>26.972230</td>\n",
              "      <td>-5.831230</td>\n",
              "      <td>27.582564</td>\n",
              "    </tr>\n",
              "    <tr>\n",
              "      <th>8</th>\n",
              "      <td>33.940600</td>\n",
              "      <td>38.771293</td>\n",
              "      <td>-4.830692</td>\n",
              "      <td>14.232785</td>\n",
              "    </tr>\n",
              "    <tr>\n",
              "      <th>9</th>\n",
              "      <td>63.174000</td>\n",
              "      <td>50.683226</td>\n",
              "      <td>12.490774</td>\n",
              "      <td>19.772018</td>\n",
              "    </tr>\n",
              "    <tr>\n",
              "      <th>10</th>\n",
              "      <td>14.861000</td>\n",
              "      <td>23.044141</td>\n",
              "      <td>-8.183141</td>\n",
              "      <td>55.064539</td>\n",
              "    </tr>\n",
              "    <tr>\n",
              "      <th>11</th>\n",
              "      <td>87.937000</td>\n",
              "      <td>80.453368</td>\n",
              "      <td>7.483632</td>\n",
              "      <td>8.510220</td>\n",
              "    </tr>\n",
              "    <tr>\n",
              "      <th>12</th>\n",
              "      <td>18.927000</td>\n",
              "      <td>21.372213</td>\n",
              "      <td>-2.445213</td>\n",
              "      <td>12.919178</td>\n",
              "    </tr>\n",
              "    <tr>\n",
              "      <th>13</th>\n",
              "      <td>23.327000</td>\n",
              "      <td>24.656962</td>\n",
              "      <td>-1.329962</td>\n",
              "      <td>5.701384</td>\n",
              "    </tr>\n",
              "    <tr>\n",
              "      <th>14</th>\n",
              "      <td>36.012100</td>\n",
              "      <td>33.473825</td>\n",
              "      <td>2.538275</td>\n",
              "      <td>7.048396</td>\n",
              "    </tr>\n",
              "  </tbody>\n",
              "</table>\n",
              "</div>\n",
              "      <button class=\"colab-df-convert\" onclick=\"convertToInteractive('df-781daa6b-7ada-4c17-827d-3edaa386472b')\"\n",
              "              title=\"Convert this dataframe to an interactive table.\"\n",
              "              style=\"display:none;\">\n",
              "        \n",
              "  <svg xmlns=\"http://www.w3.org/2000/svg\" height=\"24px\"viewBox=\"0 0 24 24\"\n",
              "       width=\"24px\">\n",
              "    <path d=\"M0 0h24v24H0V0z\" fill=\"none\"/>\n",
              "    <path d=\"M18.56 5.44l.94 2.06.94-2.06 2.06-.94-2.06-.94-.94-2.06-.94 2.06-2.06.94zm-11 1L8.5 8.5l.94-2.06 2.06-.94-2.06-.94L8.5 2.5l-.94 2.06-2.06.94zm10 10l.94 2.06.94-2.06 2.06-.94-2.06-.94-.94-2.06-.94 2.06-2.06.94z\"/><path d=\"M17.41 7.96l-1.37-1.37c-.4-.4-.92-.59-1.43-.59-.52 0-1.04.2-1.43.59L10.3 9.45l-7.72 7.72c-.78.78-.78 2.05 0 2.83L4 21.41c.39.39.9.59 1.41.59.51 0 1.02-.2 1.41-.59l7.78-7.78 2.81-2.81c.8-.78.8-2.07 0-2.86zM5.41 20L4 18.59l7.72-7.72 1.47 1.35L5.41 20z\"/>\n",
              "  </svg>\n",
              "      </button>\n",
              "      \n",
              "  <style>\n",
              "    .colab-df-container {\n",
              "      display:flex;\n",
              "      flex-wrap:wrap;\n",
              "      gap: 12px;\n",
              "    }\n",
              "\n",
              "    .colab-df-convert {\n",
              "      background-color: #E8F0FE;\n",
              "      border: none;\n",
              "      border-radius: 50%;\n",
              "      cursor: pointer;\n",
              "      display: none;\n",
              "      fill: #1967D2;\n",
              "      height: 32px;\n",
              "      padding: 0 0 0 0;\n",
              "      width: 32px;\n",
              "    }\n",
              "\n",
              "    .colab-df-convert:hover {\n",
              "      background-color: #E2EBFA;\n",
              "      box-shadow: 0px 1px 2px rgba(60, 64, 67, 0.3), 0px 1px 3px 1px rgba(60, 64, 67, 0.15);\n",
              "      fill: #174EA6;\n",
              "    }\n",
              "\n",
              "    [theme=dark] .colab-df-convert {\n",
              "      background-color: #3B4455;\n",
              "      fill: #D2E3FC;\n",
              "    }\n",
              "\n",
              "    [theme=dark] .colab-df-convert:hover {\n",
              "      background-color: #434B5C;\n",
              "      box-shadow: 0px 1px 3px 1px rgba(0, 0, 0, 0.15);\n",
              "      filter: drop-shadow(0px 1px 2px rgba(0, 0, 0, 0.3));\n",
              "      fill: #FFFFFF;\n",
              "    }\n",
              "  </style>\n",
              "\n",
              "      <script>\n",
              "        const buttonEl =\n",
              "          document.querySelector('#df-781daa6b-7ada-4c17-827d-3edaa386472b button.colab-df-convert');\n",
              "        buttonEl.style.display =\n",
              "          google.colab.kernel.accessAllowed ? 'block' : 'none';\n",
              "\n",
              "        async function convertToInteractive(key) {\n",
              "          const element = document.querySelector('#df-781daa6b-7ada-4c17-827d-3edaa386472b');\n",
              "          const dataTable =\n",
              "            await google.colab.kernel.invokeFunction('convertToInteractive',\n",
              "                                                     [key], {});\n",
              "          if (!dataTable) return;\n",
              "\n",
              "          const docLinkHtml = 'Like what you see? Visit the ' +\n",
              "            '<a target=\"_blank\" href=https://colab.research.google.com/notebooks/data_table.ipynb>data table notebook</a>'\n",
              "            + ' to learn more about interactive tables.';\n",
              "          element.innerHTML = '';\n",
              "          dataTable['output_type'] = 'display_data';\n",
              "          await google.colab.output.renderOutput(dataTable, element);\n",
              "          const docLink = document.createElement('div');\n",
              "          docLink.innerHTML = docLinkHtml;\n",
              "          element.appendChild(docLink);\n",
              "        }\n",
              "      </script>\n",
              "    </div>\n",
              "  </div>\n",
              "  "
            ]
          },
          "metadata": {},
          "execution_count": 20
        }
      ]
    },
    {
      "cell_type": "markdown",
      "source": [
        "###SVR using the hyperparameter tunning"
      ],
      "metadata": {
        "id": "AByXCbEHyU44"
      }
    },
    {
      "cell_type": "code",
      "source": [
        "##applying Gridsearchcv on SVR\n",
        "svr=SVR(kernel='rbf')\n",
        "grid_sv = GridSearchCV(svr, param_grid={\"C\": [0.1, 1, 10, 100, 1000], \"gamma\": [1, 0.1, 0.01, 0.001, 0.0001]}, scoring='r2', verbose=3)\n",
        "grid_sv.fit(x_train, y_train)\n",
        "print(grid_sv.best_score_)\n",
        "print(grid_sv.best_estimator_)\n",
        "print(grid_sv.best_params_)"
      ],
      "metadata": {
        "colab": {
          "base_uri": "https://localhost:8080/"
        },
        "id": "1BINVxNbuOxV",
        "outputId": "1b286856-605b-4ac7-b809-0e2171033a13"
      },
      "execution_count": null,
      "outputs": [
        {
          "output_type": "stream",
          "name": "stdout",
          "text": [
            "Fitting 5 folds for each of 25 candidates, totalling 125 fits\n",
            "[CV 1/5] END ....................C=0.1, gamma=1;, score=0.570 total time=   0.1s\n",
            "[CV 2/5] END ....................C=0.1, gamma=1;, score=0.633 total time=   0.1s\n",
            "[CV 3/5] END ....................C=0.1, gamma=1;, score=0.503 total time=   0.2s\n",
            "[CV 4/5] END ....................C=0.1, gamma=1;, score=0.603 total time=   0.1s\n",
            "[CV 5/5] END ....................C=0.1, gamma=1;, score=0.606 total time=   0.1s\n",
            "[CV 1/5] END ..................C=0.1, gamma=0.1;, score=0.566 total time=   0.1s\n",
            "[CV 2/5] END ..................C=0.1, gamma=0.1;, score=0.646 total time=   0.1s\n",
            "[CV 3/5] END ..................C=0.1, gamma=0.1;, score=0.513 total time=   0.1s\n",
            "[CV 4/5] END ..................C=0.1, gamma=0.1;, score=0.586 total time=   0.1s\n",
            "[CV 5/5] END ..................C=0.1, gamma=0.1;, score=0.599 total time=   0.2s\n",
            "[CV 1/5] END .................C=0.1, gamma=0.01;, score=0.515 total time=   0.2s\n",
            "[CV 2/5] END .................C=0.1, gamma=0.01;, score=0.591 total time=   0.2s\n",
            "[CV 3/5] END .................C=0.1, gamma=0.01;, score=0.498 total time=   0.1s\n",
            "[CV 4/5] END .................C=0.1, gamma=0.01;, score=0.524 total time=   0.1s\n",
            "[CV 5/5] END .................C=0.1, gamma=0.01;, score=0.563 total time=   0.2s\n",
            "[CV 1/5] END ................C=0.1, gamma=0.001;, score=0.314 total time=   0.1s\n",
            "[CV 2/5] END ................C=0.1, gamma=0.001;, score=0.333 total time=   0.1s\n",
            "[CV 3/5] END ................C=0.1, gamma=0.001;, score=0.288 total time=   0.1s\n",
            "[CV 4/5] END ................C=0.1, gamma=0.001;, score=0.294 total time=   0.1s\n",
            "[CV 5/5] END ................C=0.1, gamma=0.001;, score=0.343 total time=   0.1s\n",
            "[CV 1/5] END ...............C=0.1, gamma=0.0001;, score=0.050 total time=   0.1s\n",
            "[CV 2/5] END ...............C=0.1, gamma=0.0001;, score=0.052 total time=   0.2s\n",
            "[CV 3/5] END ...............C=0.1, gamma=0.0001;, score=0.046 total time=   0.2s\n",
            "[CV 4/5] END ...............C=0.1, gamma=0.0001;, score=0.049 total time=   0.1s\n",
            "[CV 5/5] END ...............C=0.1, gamma=0.0001;, score=0.056 total time=   0.2s\n",
            "[CV 1/5] END ......................C=1, gamma=1;, score=0.595 total time=   0.2s\n",
            "[CV 2/5] END ......................C=1, gamma=1;, score=0.740 total time=   0.1s\n",
            "[CV 3/5] END ......................C=1, gamma=1;, score=0.596 total time=   0.1s\n",
            "[CV 4/5] END ......................C=1, gamma=1;, score=0.659 total time=   0.1s\n",
            "[CV 5/5] END ......................C=1, gamma=1;, score=0.652 total time=   0.2s\n",
            "[CV 1/5] END ....................C=1, gamma=0.1;, score=0.575 total time=   0.2s\n",
            "[CV 2/5] END ....................C=1, gamma=0.1;, score=0.689 total time=   0.1s\n",
            "[CV 3/5] END ....................C=1, gamma=0.1;, score=0.536 total time=   0.1s\n",
            "[CV 4/5] END ....................C=1, gamma=0.1;, score=0.636 total time=   0.2s\n",
            "[CV 5/5] END ....................C=1, gamma=0.1;, score=0.621 total time=   0.2s\n",
            "[CV 1/5] END ...................C=1, gamma=0.01;, score=0.547 total time=   0.1s\n",
            "[CV 2/5] END ...................C=1, gamma=0.01;, score=0.631 total time=   0.1s\n",
            "[CV 3/5] END ...................C=1, gamma=0.01;, score=0.522 total time=   0.1s\n",
            "[CV 4/5] END ...................C=1, gamma=0.01;, score=0.564 total time=   0.2s\n",
            "[CV 5/5] END ...................C=1, gamma=0.01;, score=0.584 total time=   0.1s\n",
            "[CV 1/5] END ..................C=1, gamma=0.001;, score=0.511 total time=   0.1s\n",
            "[CV 2/5] END ..................C=1, gamma=0.001;, score=0.591 total time=   0.1s\n",
            "[CV 3/5] END ..................C=1, gamma=0.001;, score=0.497 total time=   0.1s\n",
            "[CV 4/5] END ..................C=1, gamma=0.001;, score=0.522 total time=   0.1s\n",
            "[CV 5/5] END ..................C=1, gamma=0.001;, score=0.561 total time=   0.1s\n",
            "[CV 1/5] END .................C=1, gamma=0.0001;, score=0.317 total time=   0.1s\n",
            "[CV 2/5] END .................C=1, gamma=0.0001;, score=0.335 total time=   0.1s\n",
            "[CV 3/5] END .................C=1, gamma=0.0001;, score=0.289 total time=   0.1s\n",
            "[CV 4/5] END .................C=1, gamma=0.0001;, score=0.296 total time=   0.1s\n",
            "[CV 5/5] END .................C=1, gamma=0.0001;, score=0.343 total time=   0.1s\n",
            "[CV 1/5] END .....................C=10, gamma=1;, score=0.498 total time=   0.3s\n",
            "[CV 2/5] END .....................C=10, gamma=1;, score=0.615 total time=   0.5s\n",
            "[CV 3/5] END .....................C=10, gamma=1;, score=0.539 total time=   0.3s\n",
            "[CV 4/5] END .....................C=10, gamma=1;, score=0.601 total time=   0.3s\n",
            "[CV 5/5] END .....................C=10, gamma=1;, score=0.565 total time=   0.4s\n",
            "[CV 1/5] END ...................C=10, gamma=0.1;, score=0.558 total time=   0.2s\n",
            "[CV 2/5] END ...................C=10, gamma=0.1;, score=0.743 total time=   0.2s\n",
            "[CV 3/5] END ...................C=10, gamma=0.1;, score=0.567 total time=   0.2s\n",
            "[CV 4/5] END ...................C=10, gamma=0.1;, score=0.655 total time=   0.2s\n",
            "[CV 5/5] END ...................C=10, gamma=0.1;, score=0.639 total time=   0.1s\n",
            "[CV 1/5] END ..................C=10, gamma=0.01;, score=0.576 total time=   0.2s\n",
            "[CV 2/5] END ..................C=10, gamma=0.01;, score=0.646 total time=   0.2s\n",
            "[CV 3/5] END ..................C=10, gamma=0.01;, score=0.525 total time=   0.2s\n",
            "[CV 4/5] END ..................C=10, gamma=0.01;, score=0.591 total time=   0.2s\n",
            "[CV 5/5] END ..................C=10, gamma=0.01;, score=0.610 total time=   0.2s\n",
            "[CV 1/5] END .................C=10, gamma=0.001;, score=0.527 total time=   0.2s\n",
            "[CV 2/5] END .................C=10, gamma=0.001;, score=0.615 total time=   0.1s\n",
            "[CV 3/5] END .................C=10, gamma=0.001;, score=0.515 total time=   0.1s\n",
            "[CV 4/5] END .................C=10, gamma=0.001;, score=0.550 total time=   0.1s\n",
            "[CV 5/5] END .................C=10, gamma=0.001;, score=0.568 total time=   0.1s\n",
            "[CV 1/5] END ................C=10, gamma=0.0001;, score=0.510 total time=   0.1s\n",
            "[CV 2/5] END ................C=10, gamma=0.0001;, score=0.590 total time=   0.1s\n",
            "[CV 3/5] END ................C=10, gamma=0.0001;, score=0.497 total time=   0.1s\n",
            "[CV 4/5] END ................C=10, gamma=0.0001;, score=0.521 total time=   0.1s\n",
            "[CV 5/5] END ................C=10, gamma=0.0001;, score=0.561 total time=   0.1s\n",
            "[CV 1/5] END ....................C=100, gamma=1;, score=0.257 total time=   0.8s\n",
            "[CV 2/5] END ....................C=100, gamma=1;, score=0.274 total time=   0.7s\n",
            "[CV 3/5] END ....................C=100, gamma=1;, score=0.382 total time=   0.6s\n",
            "[CV 4/5] END ....................C=100, gamma=1;, score=0.377 total time=   0.6s\n",
            "[CV 5/5] END ....................C=100, gamma=1;, score=0.187 total time=   0.6s\n",
            "[CV 1/5] END ..................C=100, gamma=0.1;, score=0.532 total time=   0.3s\n",
            "[CV 2/5] END ..................C=100, gamma=0.1;, score=0.722 total time=   0.3s\n",
            "[CV 3/5] END ..................C=100, gamma=0.1;, score=0.520 total time=   0.3s\n",
            "[CV 4/5] END ..................C=100, gamma=0.1;, score=0.664 total time=   0.3s\n",
            "[CV 5/5] END ..................C=100, gamma=0.1;, score=0.614 total time=   0.3s\n",
            "[CV 1/5] END .................C=100, gamma=0.01;, score=0.583 total time=   0.1s\n",
            "[CV 2/5] END .................C=100, gamma=0.01;, score=0.674 total time=   0.1s\n",
            "[CV 3/5] END .................C=100, gamma=0.01;, score=0.528 total time=   0.1s\n",
            "[CV 4/5] END .................C=100, gamma=0.01;, score=0.624 total time=   0.1s\n",
            "[CV 5/5] END .................C=100, gamma=0.01;, score=0.622 total time=   0.1s\n",
            "[CV 1/5] END ................C=100, gamma=0.001;, score=0.552 total time=   0.1s\n",
            "[CV 2/5] END ................C=100, gamma=0.001;, score=0.632 total time=   0.1s\n",
            "[CV 3/5] END ................C=100, gamma=0.001;, score=0.523 total time=   0.1s\n",
            "[CV 4/5] END ................C=100, gamma=0.001;, score=0.569 total time=   0.1s\n",
            "[CV 5/5] END ................C=100, gamma=0.001;, score=0.587 total time=   0.1s\n",
            "[CV 1/5] END ...............C=100, gamma=0.0001;, score=0.524 total time=   0.1s\n",
            "[CV 2/5] END ...............C=100, gamma=0.0001;, score=0.614 total time=   0.1s\n",
            "[CV 3/5] END ...............C=100, gamma=0.0001;, score=0.514 total time=   0.1s\n",
            "[CV 4/5] END ...............C=100, gamma=0.0001;, score=0.547 total time=   0.1s\n",
            "[CV 5/5] END ...............C=100, gamma=0.0001;, score=0.563 total time=   0.1s\n",
            "[CV 1/5] END ..................C=1000, gamma=1;, score=-0.061 total time=   1.6s\n",
            "[CV 2/5] END ..................C=1000, gamma=1;, score=-0.260 total time=   2.3s\n",
            "[CV 3/5] END ...................C=1000, gamma=1;, score=0.083 total time=   2.0s\n",
            "[CV 4/5] END ...................C=1000, gamma=1;, score=0.036 total time=   1.8s\n",
            "[CV 5/5] END ..................C=1000, gamma=1;, score=-0.314 total time=   1.8s\n",
            "[CV 1/5] END .................C=1000, gamma=0.1;, score=0.309 total time=   3.0s\n",
            "[CV 2/5] END .................C=1000, gamma=0.1;, score=0.628 total time=   1.8s\n",
            "[CV 3/5] END .................C=1000, gamma=0.1;, score=0.383 total time=   2.7s\n",
            "[CV 4/5] END .................C=1000, gamma=0.1;, score=0.659 total time=   2.9s\n",
            "[CV 5/5] END .................C=1000, gamma=0.1;, score=0.586 total time=   3.2s\n",
            "[CV 1/5] END ................C=1000, gamma=0.01;, score=0.547 total time=   0.4s\n",
            "[CV 2/5] END ................C=1000, gamma=0.01;, score=0.713 total time=   0.3s\n",
            "[CV 3/5] END ................C=1000, gamma=0.01;, score=0.528 total time=   0.3s\n",
            "[CV 4/5] END ................C=1000, gamma=0.01;, score=0.651 total time=   0.4s\n",
            "[CV 5/5] END ................C=1000, gamma=0.01;, score=0.626 total time=   0.4s\n",
            "[CV 1/5] END ...............C=1000, gamma=0.001;, score=0.578 total time=   0.1s\n",
            "[CV 2/5] END ...............C=1000, gamma=0.001;, score=0.644 total time=   0.1s\n",
            "[CV 3/5] END ...............C=1000, gamma=0.001;, score=0.529 total time=   0.1s\n",
            "[CV 4/5] END ...............C=1000, gamma=0.001;, score=0.589 total time=   0.1s\n",
            "[CV 5/5] END ...............C=1000, gamma=0.001;, score=0.609 total time=   0.1s\n",
            "[CV 1/5] END ..............C=1000, gamma=0.0001;, score=0.529 total time=   0.1s\n",
            "[CV 2/5] END ..............C=1000, gamma=0.0001;, score=0.619 total time=   0.1s\n",
            "[CV 3/5] END ..............C=1000, gamma=0.0001;, score=0.516 total time=   0.1s\n",
            "[CV 4/5] END ..............C=1000, gamma=0.0001;, score=0.554 total time=   0.1s\n",
            "[CV 5/5] END ..............C=1000, gamma=0.0001;, score=0.566 total time=   0.1s\n",
            "0.6485920350613247\n",
            "SVR(C=1, gamma=1)\n",
            "{'C': 1, 'gamma': 1}\n"
          ]
        }
      ]
    },
    {
      "cell_type": "code",
      "source": [
        "\n",
        "#SVR\n",
        "regressor = SVR(kernel = 'rbf', C=1, gamma=1)\n",
        "regressor.fit(x_train,y_train)"
      ],
      "metadata": {
        "colab": {
          "base_uri": "https://localhost:8080/",
          "height": 218
        },
        "id": "6r22AqYHpd5G",
        "outputId": "bd40c551-1c81-446b-f8a0-49b8666f202d"
      },
      "execution_count": null,
      "outputs": [
        {
          "output_type": "error",
          "ename": "NameError",
          "evalue": "ignored",
          "traceback": [
            "\u001b[0;31m---------------------------------------------------------------------------\u001b[0m",
            "\u001b[0;31mNameError\u001b[0m                                 Traceback (most recent call last)",
            "\u001b[0;32m<ipython-input-14-3cc0009590c4>\u001b[0m in \u001b[0;36m<module>\u001b[0;34m()\u001b[0m\n\u001b[1;32m      1\u001b[0m \u001b[0;34m\u001b[0m\u001b[0m\n\u001b[1;32m      2\u001b[0m \u001b[0;31m#SVR\u001b[0m\u001b[0;34m\u001b[0m\u001b[0;34m\u001b[0m\u001b[0;34m\u001b[0m\u001b[0m\n\u001b[0;32m----> 3\u001b[0;31m \u001b[0mregressor\u001b[0m \u001b[0;34m=\u001b[0m \u001b[0mSVR\u001b[0m\u001b[0;34m(\u001b[0m\u001b[0mkernel\u001b[0m \u001b[0;34m=\u001b[0m \u001b[0;34m'rbf'\u001b[0m\u001b[0;34m,\u001b[0m \u001b[0mC\u001b[0m\u001b[0;34m=\u001b[0m\u001b[0;36m1\u001b[0m\u001b[0;34m,\u001b[0m \u001b[0mgamma\u001b[0m\u001b[0;34m=\u001b[0m\u001b[0mauto\u001b[0m\u001b[0;34m)\u001b[0m\u001b[0;34m\u001b[0m\u001b[0;34m\u001b[0m\u001b[0m\n\u001b[0m\u001b[1;32m      4\u001b[0m \u001b[0mregressor\u001b[0m\u001b[0;34m.\u001b[0m\u001b[0mfit\u001b[0m\u001b[0;34m(\u001b[0m\u001b[0mx_train\u001b[0m\u001b[0;34m,\u001b[0m\u001b[0my_train\u001b[0m\u001b[0;34m)\u001b[0m\u001b[0;34m\u001b[0m\u001b[0;34m\u001b[0m\u001b[0m\n",
            "\u001b[0;31mNameError\u001b[0m: name 'auto' is not defined"
          ]
        }
      ]
    },
    {
      "cell_type": "code",
      "source": [
        "y_prediction=regressor.predict(x_test)\n",
        "y_prediction"
      ],
      "metadata": {
        "colab": {
          "base_uri": "https://localhost:8080/"
        },
        "id": "KTwtHVlhqfZm",
        "outputId": "b9781d31-4d4c-4134-fbbf-62c123295cb5"
      },
      "execution_count": null,
      "outputs": [
        {
          "output_type": "execute_result",
          "data": {
            "text/plain": [
              "array([-9.78895462e-01,  2.44623336e-01,  1.23160772e-01, -4.16169782e-01,\n",
              "        2.30707391e-01,  8.53309059e-01, -7.59245525e-01, -1.22058137e+00,\n",
              "        1.95798286e-02,  3.32995143e-01, -9.80630840e-01,  1.12568191e+00,\n",
              "       -6.33840870e-01, -7.85644807e-01, -2.82310112e-01, -6.61876163e-01,\n",
              "       -1.18347484e+00,  8.81096808e-01,  8.00503167e-01, -2.03501651e-01,\n",
              "       -2.23126349e-01,  1.25407465e+00,  9.83798703e-01, -1.32108323e+00,\n",
              "       -1.37618744e+00, -7.17805423e-01, -4.58738210e-02,  2.56805400e-01,\n",
              "       -1.35270188e+00, -6.36780672e-01,  1.47638956e+00,  4.58998623e-01,\n",
              "        1.30332343e+00,  1.12623920e+00,  1.24196138e+00, -4.75104261e-01,\n",
              "        4.43459837e-01,  8.09650264e-01,  2.64953009e-01,  7.72412315e-01,\n",
              "       -1.16448688e+00,  1.04455626e+00,  1.12572481e+00,  1.22216286e+00,\n",
              "       -1.68193621e+00,  1.18386709e+00,  7.22171844e-01, -8.00741789e-01,\n",
              "       -3.42739409e-03,  5.21864739e-01, -4.53496901e-01,  1.35817634e-01,\n",
              "       -4.51071257e-01,  7.75044658e-01,  1.72441553e-01, -1.04785494e+00,\n",
              "       -1.10572258e+00,  5.87850156e-01, -7.72343857e-01,  1.16523412e-01,\n",
              "        8.23157328e-01, -3.58919118e-01, -1.54850443e+00, -1.25206608e+00,\n",
              "       -6.14354123e-01, -7.31513717e-01, -1.01918485e+00,  7.23448690e-02,\n",
              "       -7.16909602e-01,  3.88298800e-01,  8.51449959e-01,  8.49287615e-01,\n",
              "       -1.13470111e+00, -2.86597789e-01,  2.74195893e-01, -4.77449584e-01,\n",
              "        5.33909574e-03, -6.90043787e-01, -2.03557355e-01, -6.10193372e-01,\n",
              "        3.59235525e-01, -5.33210060e-01, -7.14817053e-01,  3.72459818e-01,\n",
              "       -9.60741082e-02, -1.41898266e+00, -1.83580747e-01, -2.36235389e-01,\n",
              "       -9.96952669e-01, -3.60014392e-01, -1.55526919e+00,  9.72559933e-01,\n",
              "        5.36084765e-01, -5.59957995e-01,  5.92579615e-01,  7.39813835e-01,\n",
              "       -6.84997063e-01, -4.85645482e-01, -1.73641086e+00,  4.77053719e-01,\n",
              "       -2.87210574e-01,  8.58461791e-01, -1.26223820e+00, -4.59061475e-02,\n",
              "        7.76485245e-01,  8.27884711e-01,  1.04909553e+00, -6.03544406e-01,\n",
              "       -5.96594706e-02,  4.38136244e-02, -1.20961236e-02, -6.38352668e-01,\n",
              "       -5.33739709e-01,  1.08107668e+00, -3.38456811e-01, -1.50444506e-01,\n",
              "       -1.13293961e+00, -9.73136978e-01,  4.04415123e-01,  1.14111192e+00,\n",
              "       -6.00513903e-01, -5.08948200e-01,  5.12967477e-01, -7.34890578e-01,\n",
              "        3.50620778e-01,  5.56133557e-01, -9.47122466e-01,  1.04624349e+00,\n",
              "       -9.88698189e-01,  1.06547970e+00,  3.56104916e-01, -1.74652838e+00,\n",
              "       -2.69271199e-01, -8.81548387e-01,  6.07579432e-01,  3.97304774e-01,\n",
              "        4.02428449e-01,  5.06110974e-01, -2.02237680e-01, -1.76801936e+00,\n",
              "        7.92706065e-01,  3.83841406e-01, -4.62495189e-01, -1.37516931e+00,\n",
              "       -7.65382217e-01,  1.10214815e+00,  1.21479639e+00, -7.12512524e-01,\n",
              "        8.50514763e-01, -1.71533583e+00,  1.08823275e+00,  2.97090397e-01,\n",
              "       -1.29522831e+00, -1.49590150e-01,  5.68796345e-02, -8.16335720e-02,\n",
              "       -3.68392933e-01, -1.31342728e-03, -1.34674455e+00,  8.69258118e-01,\n",
              "       -1.02087983e+00,  9.53384843e-01, -1.34393265e-01,  8.94406319e-02,\n",
              "       -6.75006402e-02, -7.82295338e-02,  1.09081109e+00, -9.23694616e-01,\n",
              "        1.00885866e+00,  3.83226165e-01, -4.49051777e-01,  1.05494445e+00,\n",
              "       -1.30135778e+00, -1.20176520e+00,  1.45185769e-01,  8.87561688e-01,\n",
              "        1.02463844e+00,  4.44060986e-01, -1.01009131e+00, -1.31561829e+00,\n",
              "       -3.77873918e-01, -1.17461823e+00, -2.01351040e-01,  6.15593789e-01,\n",
              "        4.50150654e-01,  3.81219446e-01, -1.37323011e+00,  1.18980205e+00,\n",
              "       -2.12111365e-01, -8.91094059e-01, -1.34102498e+00, -1.08892961e+00,\n",
              "       -1.03340014e+00,  1.15557870e+00, -1.18196887e+00,  7.80261227e-01,\n",
              "       -2.67573471e-01, -7.68848789e-02, -1.03563822e+00,  2.48419235e-01,\n",
              "        3.06723179e-01,  1.09863684e+00, -4.23841158e-02,  8.95277692e-02,\n",
              "        5.88821157e-03, -1.51102505e+00,  6.42049528e-01,  1.24782940e-01,\n",
              "       -6.74370444e-03, -4.88483410e-01,  2.84748399e-01,  3.84130079e-01,\n",
              "        4.33836216e-02,  8.45619484e-01,  8.29786578e-01, -1.39620779e+00,\n",
              "       -3.40634829e-01,  9.75204956e-01,  1.03521939e+00, -5.50241603e-03,\n",
              "        1.12296416e+00, -2.33839099e-01, -4.36728034e-01,  9.64576869e-01,\n",
              "       -7.15244792e-01, -4.40672764e-01,  6.29744802e-01,  4.60823275e-01,\n",
              "       -7.20100229e-01,  5.73052001e-02,  7.14522950e-01, -1.45493374e-01,\n",
              "        1.57363440e-01,  1.55187913e-01,  1.16594601e+00, -2.19030412e-01,\n",
              "       -1.04150220e+00,  1.08446328e+00,  7.46878426e-01,  9.10191345e-01,\n",
              "       -1.27764395e+00, -1.10220076e+00, -1.37510193e+00,  8.15408908e-01,\n",
              "        1.00843179e+00, -3.37566246e-01, -6.54072730e-01, -2.06426417e-01,\n",
              "        2.62186052e-01, -1.46172864e+00, -1.29962600e+00, -6.90052086e-01,\n",
              "        1.57422389e-02,  6.35532795e-01, -1.00262352e-01,  1.33299911e+00,\n",
              "       -4.31989551e-01, -1.81989157e-01, -8.89888107e-01, -1.99255412e-01,\n",
              "        7.84699764e-01,  6.24680387e-01, -1.16150155e+00, -8.10479919e-01,\n",
              "       -7.38740917e-01, -1.55557020e-01,  4.98470181e-01,  9.79157721e-01,\n",
              "       -7.12638913e-01, -2.25220118e-01, -1.40528079e+00, -7.21517406e-01,\n",
              "        7.76508731e-01, -1.44204274e-01, -1.59567185e+00, -1.92867392e-03,\n",
              "        6.00808910e-02, -1.94469439e-02,  4.49343275e-01, -9.53852430e-01,\n",
              "        5.90334928e-01,  9.10465345e-01,  8.02618732e-01, -1.20839423e+00,\n",
              "       -1.47418709e+00, -4.16142816e-01,  1.25104628e+00,  1.33768172e+00,\n",
              "        3.74383272e-01, -1.68657751e-01, -2.04890688e-01,  1.31318361e+00,\n",
              "       -4.94867567e-01])"
            ]
          },
          "metadata": {},
          "execution_count": 15
        }
      ]
    },
    {
      "cell_type": "code",
      "source": [
        "from sklearn.metrics import r2_score\n",
        "from sklearn.metrics import mean_squared_error\n",
        "from sklearn.metrics import mean_absolute_error\n",
        "score = r2_score(y_test,y_prediction)\n",
        "mean_error = mean_squared_error(y_test,y_prediction)\n",
        "mae = mean_absolute_error(y_test,y_prediction)\n",
        "print(\"R2 SCORE is\", score)\n",
        "print(\"mean_sqrd_error is \", mean_error)\n",
        "print(\"Root mean squared error of is\",np.sqrt(mean_error))\n",
        "print(\"Mean Absolute error is\", mae)"
      ],
      "metadata": {
        "colab": {
          "base_uri": "https://localhost:8080/"
        },
        "id": "bAmIP6bqqnEL",
        "outputId": "6510e6e1-4872-4888-8bca-2f4f93d74678"
      },
      "execution_count": null,
      "outputs": [
        {
          "output_type": "stream",
          "name": "stdout",
          "text": [
            "R2 SCORE is 0.5956646449452563\n",
            "mean_sqrd_error is  0.3829872763121556\n",
            "Root mean squared error of is 0.6188596580099204\n",
            "Mean Absolute error is 0.46765731131376537\n"
          ]
        }
      ]
    },
    {
      "cell_type": "code",
      "source": [
        "y_test = pt_y.inverse_transform(y_test)\n",
        "y_test[:5]"
      ],
      "metadata": {
        "colab": {
          "base_uri": "https://localhost:8080/"
        },
        "id": "QcvcLeGyttVt",
        "outputId": "9475323b-a193-4193-a727-eeeab0dc4bc2"
      },
      "execution_count": null,
      "outputs": [
        {
          "output_type": "execute_result",
          "data": {
            "text/plain": [
              "array([[35.34219999],\n",
              "       [75.17      ],\n",
              "       [33.38800008],\n",
              "       [43.73356647],\n",
              "       [53.709     ]])"
            ]
          },
          "metadata": {},
          "execution_count": 17
        }
      ]
    },
    {
      "cell_type": "code",
      "source": [
        "y_prediction=y_prediction.reshape(-1,1)"
      ],
      "metadata": {
        "id": "U0_CWe8Qtwv1"
      },
      "execution_count": null,
      "outputs": []
    },
    {
      "cell_type": "code",
      "source": [
        "y_prediction = pt_y.inverse_transform(y_prediction)\n",
        "y_prediction[:5]"
      ],
      "metadata": {
        "colab": {
          "base_uri": "https://localhost:8080/"
        },
        "id": "KP9F80iTtzOt",
        "outputId": "fc993e71-158e-407c-ef33-ef2e90d6c16d"
      },
      "execution_count": null,
      "outputs": [
        {
          "output_type": "execute_result",
          "data": {
            "text/plain": [
              "array([[23.68612772],\n",
              "       [46.59587627],\n",
              "       [43.60613379],\n",
              "       [32.41535475],\n",
              "       [46.24357905]])"
            ]
          },
          "metadata": {},
          "execution_count": 19
        }
      ]
    },
    {
      "cell_type": "code",
      "source": [
        "df1 = pd.DataFrame({'Actual': y_test[100:120].flatten(), 'Predicted': y_prediction[100:120].flatten()})\n",
        "df1.plot(kind='line')\n",
        "plt.grid(which='major', linestyle='-', linewidth='0.5', color='green')\n",
        "plt.grid(which='minor', linestyle=':', linewidth='0.5', color='black')\n",
        "plt.show()"
      ],
      "metadata": {
        "colab": {
          "base_uri": "https://localhost:8080/",
          "height": 265
        },
        "id": "NJ_G6-Mbq4RA",
        "outputId": "d798930f-68f1-4553-c372-8aa975224dc2"
      },
      "execution_count": null,
      "outputs": [
        {
          "output_type": "display_data",
          "data": {
            "text/plain": [
              "<Figure size 432x288 with 1 Axes>"
            ],
            "image/png": "[encoded data removed]"
          },
          "metadata": {
            "needs_background": "light"
          }
        }
      ]
    },
    {
      "cell_type": "code",
      "source": [
        "result = pd.DataFrame()\n",
        "result[\"ACTUAL AQI\"] = y_test.flatten()\n",
        "result[\"PREDICTED AQI\"] = y_prediction\n",
        "result[\"DIFFERENCE\"] = result[\"ACTUAL AQI\"] - result[\"PREDICTED AQI\"]\n",
        "result[\"PERCENTAGE ERROR\"] = ( abs(result[\"ACTUAL AQI\"] - result[\"PREDICTED AQI\"] ) / result[\"ACTUAL AQI\"] ) * 100\n",
        "result.head(15)"
      ],
      "metadata": {
        "colab": {
          "base_uri": "https://localhost:8080/",
          "height": 520
        },
        "id": "T3lco7x-r8jy",
        "outputId": "73b98055-b835-4b30-9944-c47a47683178"
      },
      "execution_count": null,
      "outputs": [
        {
          "output_type": "execute_result",
          "data": {
            "text/plain": [
              "    ACTUAL AQI  PREDICTED AQI  DIFFERENCE  PERCENTAGE ERROR\n",
              "0    35.342200      23.686128   11.656072         32.980608\n",
              "1    75.170000      46.595876   28.574124         38.012670\n",
              "2    33.388000      43.606134  -10.218134         30.604210\n",
              "3    43.733566      32.415355   11.318212         25.879919\n",
              "4    53.709000      46.243579    7.465421         13.899758\n",
              "5    67.366000      64.816591    2.549409          3.784414\n",
              "6    55.102000      26.787699   28.314301         51.385252\n",
              "7    21.141000      20.666431    0.474569          2.244780\n",
              "8    33.940600      41.203187   -7.262587         21.397933\n",
              "9    63.174000      48.894242   14.279758         22.603853\n",
              "10   14.861000      23.663034   -8.802034         59.229084\n",
              "11   87.937000      75.049460   12.887540         14.655423\n",
              "12   18.927000      28.727324   -9.800324         51.779594\n",
              "13   23.327000      26.395546   -3.068546         13.154481\n",
              "14   36.012100      34.903307    1.108793          3.078946"
            ],
            "text/html": [
              "\n",
              "  <div id=\"df-3de42183-2e61-4101-8b55-7374375f978b\">\n",
              "    <div class=\"colab-df-container\">\n",
              "      <div>\n",
              "<style scoped>\n",
              "    .dataframe tbody tr th:only-of-type {\n",
              "        vertical-align: middle;\n",
              "    }\n",
              "\n",
              "    .dataframe tbody tr th {\n",
              "        vertical-align: top;\n",
              "    }\n",
              "\n",
              "    .dataframe thead th {\n",
              "        text-align: right;\n",
              "    }\n",
              "</style>\n",
              "<table border=\"1\" class=\"dataframe\">\n",
              "  <thead>\n",
              "    <tr style=\"text-align: right;\">\n",
              "      <th></th>\n",
              "      <th>ACTUAL AQI</th>\n",
              "      <th>PREDICTED AQI</th>\n",
              "      <th>DIFFERENCE</th>\n",
              "      <th>PERCENTAGE ERROR</th>\n",
              "    </tr>\n",
              "  </thead>\n",
              "  <tbody>\n",
              "    <tr>\n",
              "      <th>0</th>\n",
              "      <td>35.342200</td>\n",
              "      <td>23.686128</td>\n",
              "      <td>11.656072</td>\n",
              "      <td>32.980608</td>\n",
              "    </tr>\n",
              "    <tr>\n",
              "      <th>1</th>\n",
              "      <td>75.170000</td>\n",
              "      <td>46.595876</td>\n",
              "      <td>28.574124</td>\n",
              "      <td>38.012670</td>\n",
              "    </tr>\n",
              "    <tr>\n",
              "      <th>2</th>\n",
              "      <td>33.388000</td>\n",
              "      <td>43.606134</td>\n",
              "      <td>-10.218134</td>\n",
              "      <td>30.604210</td>\n",
              "    </tr>\n",
              "    <tr>\n",
              "      <th>3</th>\n",
              "      <td>43.733566</td>\n",
              "      <td>32.415355</td>\n",
              "      <td>11.318212</td>\n",
              "      <td>25.879919</td>\n",
              "    </tr>\n",
              "    <tr>\n",
              "      <th>4</th>\n",
              "      <td>53.709000</td>\n",
              "      <td>46.243579</td>\n",
              "      <td>7.465421</td>\n",
              "      <td>13.899758</td>\n",
              "    </tr>\n",
              "    <tr>\n",
              "      <th>5</th>\n",
              "      <td>67.366000</td>\n",
              "      <td>64.816591</td>\n",
              "      <td>2.549409</td>\n",
              "      <td>3.784414</td>\n",
              "    </tr>\n",
              "    <tr>\n",
              "      <th>6</th>\n",
              "      <td>55.102000</td>\n",
              "      <td>26.787699</td>\n",
              "      <td>28.314301</td>\n",
              "      <td>51.385252</td>\n",
              "    </tr>\n",
              "    <tr>\n",
              "      <th>7</th>\n",
              "      <td>21.141000</td>\n",
              "      <td>20.666431</td>\n",
              "      <td>0.474569</td>\n",
              "      <td>2.244780</td>\n",
              "    </tr>\n",
              "    <tr>\n",
              "      <th>8</th>\n",
              "      <td>33.940600</td>\n",
              "      <td>41.203187</td>\n",
              "      <td>-7.262587</td>\n",
              "      <td>21.397933</td>\n",
              "    </tr>\n",
              "    <tr>\n",
              "      <th>9</th>\n",
              "      <td>63.174000</td>\n",
              "      <td>48.894242</td>\n",
              "      <td>14.279758</td>\n",
              "      <td>22.603853</td>\n",
              "    </tr>\n",
              "    <tr>\n",
              "      <th>10</th>\n",
              "      <td>14.861000</td>\n",
              "      <td>23.663034</td>\n",
              "      <td>-8.802034</td>\n",
              "      <td>59.229084</td>\n",
              "    </tr>\n",
              "    <tr>\n",
              "      <th>11</th>\n",
              "      <td>87.937000</td>\n",
              "      <td>75.049460</td>\n",
              "      <td>12.887540</td>\n",
              "      <td>14.655423</td>\n",
              "    </tr>\n",
              "    <tr>\n",
              "      <th>12</th>\n",
              "      <td>18.927000</td>\n",
              "      <td>28.727324</td>\n",
              "      <td>-9.800324</td>\n",
              "      <td>51.779594</td>\n",
              "    </tr>\n",
              "    <tr>\n",
              "      <th>13</th>\n",
              "      <td>23.327000</td>\n",
              "      <td>26.395546</td>\n",
              "      <td>-3.068546</td>\n",
              "      <td>13.154481</td>\n",
              "    </tr>\n",
              "    <tr>\n",
              "      <th>14</th>\n",
              "      <td>36.012100</td>\n",
              "      <td>34.903307</td>\n",
              "      <td>1.108793</td>\n",
              "      <td>3.078946</td>\n",
              "    </tr>\n",
              "  </tbody>\n",
              "</table>\n",
              "</div>\n",
              "      <button class=\"colab-df-convert\" onclick=\"convertToInteractive('df-3de42183-2e61-4101-8b55-7374375f978b')\"\n",
              "              title=\"Convert this dataframe to an interactive table.\"\n",
              "              style=\"display:none;\">\n",
              "        \n",
              "  <svg xmlns=\"http://www.w3.org/2000/svg\" height=\"24px\"viewBox=\"0 0 24 24\"\n",
              "       width=\"24px\">\n",
              "    <path d=\"M0 0h24v24H0V0z\" fill=\"none\"/>\n",
              "    <path d=\"M18.56 5.44l.94 2.06.94-2.06 2.06-.94-2.06-.94-.94-2.06-.94 2.06-2.06.94zm-11 1L8.5 8.5l.94-2.06 2.06-.94-2.06-.94L8.5 2.5l-.94 2.06-2.06.94zm10 10l.94 2.06.94-2.06 2.06-.94-2.06-.94-.94-2.06-.94 2.06-2.06.94z\"/><path d=\"M17.41 7.96l-1.37-1.37c-.4-.4-.92-.59-1.43-.59-.52 0-1.04.2-1.43.59L10.3 9.45l-7.72 7.72c-.78.78-.78 2.05 0 2.83L4 21.41c.39.39.9.59 1.41.59.51 0 1.02-.2 1.41-.59l7.78-7.78 2.81-2.81c.8-.78.8-2.07 0-2.86zM5.41 20L4 18.59l7.72-7.72 1.47 1.35L5.41 20z\"/>\n",
              "  </svg>\n",
              "      </button>\n",
              "      \n",
              "  <style>\n",
              "    .colab-df-container {\n",
              "      display:flex;\n",
              "      flex-wrap:wrap;\n",
              "      gap: 12px;\n",
              "    }\n",
              "\n",
              "    .colab-df-convert {\n",
              "      background-color: #E8F0FE;\n",
              "      border: none;\n",
              "      border-radius: 50%;\n",
              "      cursor: pointer;\n",
              "      display: none;\n",
              "      fill: #1967D2;\n",
              "      height: 32px;\n",
              "      padding: 0 0 0 0;\n",
              "      width: 32px;\n",
              "    }\n",
              "\n",
              "    .colab-df-convert:hover {\n",
              "      background-color: #E2EBFA;\n",
              "      box-shadow: 0px 1px 2px rgba(60, 64, 67, 0.3), 0px 1px 3px 1px rgba(60, 64, 67, 0.15);\n",
              "      fill: #174EA6;\n",
              "    }\n",
              "\n",
              "    [theme=dark] .colab-df-convert {\n",
              "      background-color: #3B4455;\n",
              "      fill: #D2E3FC;\n",
              "    }\n",
              "\n",
              "    [theme=dark] .colab-df-convert:hover {\n",
              "      background-color: #434B5C;\n",
              "      box-shadow: 0px 1px 3px 1px rgba(0, 0, 0, 0.15);\n",
              "      filter: drop-shadow(0px 1px 2px rgba(0, 0, 0, 0.3));\n",
              "      fill: #FFFFFF;\n",
              "    }\n",
              "  </style>\n",
              "\n",
              "      <script>\n",
              "        const buttonEl =\n",
              "          document.querySelector('#df-3de42183-2e61-4101-8b55-7374375f978b button.colab-df-convert');\n",
              "        buttonEl.style.display =\n",
              "          google.colab.kernel.accessAllowed ? 'block' : 'none';\n",
              "\n",
              "        async function convertToInteractive(key) {\n",
              "          const element = document.querySelector('#df-3de42183-2e61-4101-8b55-7374375f978b');\n",
              "          const dataTable =\n",
              "            await google.colab.kernel.invokeFunction('convertToInteractive',\n",
              "                                                     [key], {});\n",
              "          if (!dataTable) return;\n",
              "\n",
              "          const docLinkHtml = 'Like what you see? Visit the ' +\n",
              "            '<a target=\"_blank\" href=https://colab.research.google.com/notebooks/data_table.ipynb>data table notebook</a>'\n",
              "            + ' to learn more about interactive tables.';\n",
              "          element.innerHTML = '';\n",
              "          dataTable['output_type'] = 'display_data';\n",
              "          await google.colab.output.renderOutput(dataTable, element);\n",
              "          const docLink = document.createElement('div');\n",
              "          docLink.innerHTML = docLinkHtml;\n",
              "          element.appendChild(docLink);\n",
              "        }\n",
              "      </script>\n",
              "    </div>\n",
              "  </div>\n",
              "  "
            ]
          },
          "metadata": {},
          "execution_count": 21
        }
      ]
    },
    {
      "cell_type": "markdown",
      "source": [
        "###Using KNN"
      ],
      "metadata": {
        "id": "aKCE0WUNEx1O"
      }
    },
    {
      "cell_type": "code",
      "source": [
        "k_range = list(range(1, 31))\n",
        "weight_options = ['uniform', 'distance']\n",
        "hp_candidates = dict(n_neighbors=k_range, weights=weight_options)\n",
        "knn = KNeighborsRegressor()\n",
        "# Search for best hyperparameters\n",
        "grid = GridSearchCV(estimator=knn, param_grid=hp_candidates, cv=5, scoring='r2')\n",
        "grid.fit(x_train, y_train)\n",
        "# Get the results\n",
        "print(grid.best_score_)\n",
        "print(grid.best_estimator_)\n",
        "print(grid.best_params_)"
      ],
      "metadata": {
        "colab": {
          "base_uri": "https://localhost:8080/"
        },
        "id": "0X9Pks9dFGDt",
        "outputId": "221388bc-3ccb-4ea5-eb9c-575499372c6d"
      },
      "execution_count": null,
      "outputs": [
        {
          "output_type": "stream",
          "name": "stdout",
          "text": [
            "0.6327670733889124\n",
            "KNeighborsRegressor(n_neighbors=7, weights='distance')\n",
            "{'n_neighbors': 7, 'weights': 'distance'}\n"
          ]
        }
      ]
    },
    {
      "cell_type": "code",
      "source": [
        "regressor=KNeighborsRegressor(n_neighbors=7, weights='distance')\n",
        "regressor.fit(x_train,y_train)\n"
      ],
      "metadata": {
        "colab": {
          "base_uri": "https://localhost:8080/"
        },
        "id": "VC68x0G3t_42",
        "outputId": "c77ffe22-a62b-4f89-df8e-6749555e8c1d"
      },
      "execution_count": null,
      "outputs": [
        {
          "output_type": "execute_result",
          "data": {
            "text/plain": [
              "KNeighborsRegressor(n_neighbors=7, weights='distance')"
            ]
          },
          "metadata": {},
          "execution_count": 12
        }
      ]
    },
    {
      "cell_type": "code",
      "source": [
        "y_prediction =  regressor.predict(x_test)\n",
        "y_prediction"
      ],
      "metadata": {
        "colab": {
          "base_uri": "https://localhost:8080/"
        },
        "id": "TOTC8lbewk_M",
        "outputId": "2a9fadc0-1e6b-4ab8-d2ef-d63be3dff9d0"
      },
      "execution_count": null,
      "outputs": [
        {
          "output_type": "execute_result",
          "data": {
            "text/plain": [
              "array([[-1.00671483],\n",
              "       [-0.13365074],\n",
              "       [-0.01504771],\n",
              "       [-0.9825358 ],\n",
              "       [ 0.11441858],\n",
              "       [ 1.04263227],\n",
              "       [-0.8983033 ],\n",
              "       [-0.95976135],\n",
              "       [-0.23601623],\n",
              "       [ 0.2203531 ],\n",
              "       [-0.8222789 ],\n",
              "       [ 1.20687297],\n",
              "       [-0.37562516],\n",
              "       [-0.96277197],\n",
              "       [-0.2820606 ],\n",
              "       [-0.89039119],\n",
              "       [-1.27807457],\n",
              "       [ 0.9093623 ],\n",
              "       [ 0.96599351],\n",
              "       [-0.25551298],\n",
              "       [-0.70141571],\n",
              "       [ 1.41935673],\n",
              "       [ 1.03766364],\n",
              "       [-1.07824989],\n",
              "       [-1.26861084],\n",
              "       [-1.15262543],\n",
              "       [-0.19654644],\n",
              "       [ 0.75303447],\n",
              "       [-1.47199782],\n",
              "       [-0.19952894],\n",
              "       [ 1.42194819],\n",
              "       [ 0.82037348],\n",
              "       [ 1.49140503],\n",
              "       [ 1.00490884],\n",
              "       [ 1.16108479],\n",
              "       [-0.54669512],\n",
              "       [ 0.41695035],\n",
              "       [ 0.78172445],\n",
              "       [ 0.61348388],\n",
              "       [ 0.90557754],\n",
              "       [-1.10467864],\n",
              "       [ 1.21597427],\n",
              "       [ 0.86328206],\n",
              "       [ 1.19223452],\n",
              "       [-1.55370231],\n",
              "       [ 1.04615631],\n",
              "       [ 0.83422315],\n",
              "       [-0.86358651],\n",
              "       [-0.39042226],\n",
              "       [ 0.56490345],\n",
              "       [-0.98648394],\n",
              "       [ 0.34406528],\n",
              "       [-0.61085853],\n",
              "       [ 0.7462831 ],\n",
              "       [ 0.4418945 ],\n",
              "       [-0.86445572],\n",
              "       [-1.51482181],\n",
              "       [ 0.94785209],\n",
              "       [-0.64189046],\n",
              "       [ 0.09696815],\n",
              "       [ 0.66765518],\n",
              "       [-0.4619591 ],\n",
              "       [-1.5992838 ],\n",
              "       [-1.07786272],\n",
              "       [-0.72784144],\n",
              "       [-0.72891972],\n",
              "       [-1.41157305],\n",
              "       [-0.20528377],\n",
              "       [-0.61919714],\n",
              "       [ 0.57831581],\n",
              "       [ 1.01375862],\n",
              "       [ 1.00033224],\n",
              "       [-0.81091374],\n",
              "       [ 0.03674067],\n",
              "       [ 0.54517878],\n",
              "       [-0.31031751],\n",
              "       [ 0.09884411],\n",
              "       [-0.70773862],\n",
              "       [-0.31184912],\n",
              "       [-0.88189437],\n",
              "       [ 0.58801903],\n",
              "       [-0.86502545],\n",
              "       [-0.82294956],\n",
              "       [ 0.13406389],\n",
              "       [ 0.27494157],\n",
              "       [-1.37292818],\n",
              "       [-0.02291868],\n",
              "       [-0.31867775],\n",
              "       [-0.83574648],\n",
              "       [-0.19941977],\n",
              "       [-1.63398113],\n",
              "       [ 0.99443036],\n",
              "       [ 0.63290049],\n",
              "       [-0.44817958],\n",
              "       [ 0.39332186],\n",
              "       [ 0.71772688],\n",
              "       [-0.76505315],\n",
              "       [-0.60865311],\n",
              "       [-1.67255482],\n",
              "       [ 0.55090522],\n",
              "       [-0.57390501],\n",
              "       [ 1.16171413],\n",
              "       [-1.19571512],\n",
              "       [-0.33089084],\n",
              "       [ 0.91449482],\n",
              "       [ 0.69480203],\n",
              "       [ 0.86193694],\n",
              "       [-0.72959387],\n",
              "       [-0.1496773 ],\n",
              "       [ 0.01024292],\n",
              "       [ 0.18510191],\n",
              "       [-0.95523329],\n",
              "       [-0.43864685],\n",
              "       [ 1.37949857],\n",
              "       [-0.37802638],\n",
              "       [-0.56907283],\n",
              "       [-1.02420956],\n",
              "       [-1.07845766],\n",
              "       [ 0.3042878 ],\n",
              "       [ 1.22627688],\n",
              "       [-0.73759423],\n",
              "       [-0.57861527],\n",
              "       [ 0.61535274],\n",
              "       [-1.23006179],\n",
              "       [ 0.15537913],\n",
              "       [ 0.33894252],\n",
              "       [-0.94620917],\n",
              "       [ 0.97903043],\n",
              "       [-1.12519762],\n",
              "       [ 1.26298329],\n",
              "       [ 0.40800541],\n",
              "       [-1.2648834 ],\n",
              "       [-0.63405026],\n",
              "       [-0.85147335],\n",
              "       [ 0.93487536],\n",
              "       [ 0.75877301],\n",
              "       [ 0.33276445],\n",
              "       [ 0.45168606],\n",
              "       [-0.48544696],\n",
              "       [-1.6958176 ],\n",
              "       [ 1.41161118],\n",
              "       [ 0.52216714],\n",
              "       [-0.39821811],\n",
              "       [-1.37963443],\n",
              "       [-0.78716643],\n",
              "       [ 1.44270907],\n",
              "       [ 1.15074261],\n",
              "       [-0.62914538],\n",
              "       [ 0.60623409],\n",
              "       [-1.14745164],\n",
              "       [ 0.90885259],\n",
              "       [-0.04889078],\n",
              "       [-1.38972909],\n",
              "       [-0.00230506],\n",
              "       [ 0.12071189],\n",
              "       [-0.20606336],\n",
              "       [-0.2674797 ],\n",
              "       [ 0.16551992],\n",
              "       [-1.54117902],\n",
              "       [ 0.98912235],\n",
              "       [-0.50562488],\n",
              "       [ 1.08905042],\n",
              "       [-0.34603054],\n",
              "       [-0.1143643 ],\n",
              "       [-0.4503253 ],\n",
              "       [-0.06320171],\n",
              "       [ 0.92608608],\n",
              "       [-0.59779544],\n",
              "       [ 1.25058137],\n",
              "       [ 0.31911134],\n",
              "       [-0.32153588],\n",
              "       [ 0.67607263],\n",
              "       [-1.3920247 ],\n",
              "       [-1.12589758],\n",
              "       [ 0.51146853],\n",
              "       [ 0.78717112],\n",
              "       [ 1.06964987],\n",
              "       [ 0.96017903],\n",
              "       [-0.97445704],\n",
              "       [-1.22219902],\n",
              "       [-0.66957844],\n",
              "       [-0.80986013],\n",
              "       [ 0.16817106],\n",
              "       [ 0.80452584],\n",
              "       [ 0.8875697 ],\n",
              "       [ 0.00207776],\n",
              "       [-1.60905633],\n",
              "       [ 1.43327789],\n",
              "       [-0.41504135],\n",
              "       [-0.7928816 ],\n",
              "       [-1.15096511],\n",
              "       [-0.54566191],\n",
              "       [-0.90839929],\n",
              "       [ 1.1823741 ],\n",
              "       [-1.22108275],\n",
              "       [ 0.51082647],\n",
              "       [-0.23402337],\n",
              "       [-0.11453705],\n",
              "       [-1.601925  ],\n",
              "       [ 0.34703055],\n",
              "       [ 0.78997468],\n",
              "       [ 1.22981581],\n",
              "       [-0.41036521],\n",
              "       [ 0.18736329],\n",
              "       [-0.03891972],\n",
              "       [-1.32406855],\n",
              "       [ 0.60634042],\n",
              "       [-0.25808476],\n",
              "       [ 0.03747194],\n",
              "       [-0.5464745 ],\n",
              "       [ 0.42951642],\n",
              "       [ 0.18589744],\n",
              "       [ 0.48536929],\n",
              "       [ 0.87287973],\n",
              "       [ 0.98847833],\n",
              "       [-1.38462452],\n",
              "       [-0.48176565],\n",
              "       [ 1.00018286],\n",
              "       [ 0.97201887],\n",
              "       [ 0.08263952],\n",
              "       [ 0.7704705 ],\n",
              "       [-0.57763683],\n",
              "       [-0.48333898],\n",
              "       [ 1.26328981],\n",
              "       [-0.4037087 ],\n",
              "       [-0.31344658],\n",
              "       [ 0.08648024],\n",
              "       [ 0.81575154],\n",
              "       [-1.04951163],\n",
              "       [-0.09433972],\n",
              "       [ 0.87716592],\n",
              "       [-0.11463601],\n",
              "       [ 0.19324712],\n",
              "       [ 0.13697349],\n",
              "       [ 1.31321312],\n",
              "       [-0.04517449],\n",
              "       [-1.14233976],\n",
              "       [ 1.03625828],\n",
              "       [ 0.73608902],\n",
              "       [ 1.01649231],\n",
              "       [-0.84768579],\n",
              "       [-0.79102247],\n",
              "       [-1.60851181],\n",
              "       [ 0.8631058 ],\n",
              "       [ 0.99257582],\n",
              "       [-0.62834226],\n",
              "       [-0.73036218],\n",
              "       [-0.45773509],\n",
              "       [ 0.26207805],\n",
              "       [-1.46849363],\n",
              "       [-1.00361588],\n",
              "       [-1.12210501],\n",
              "       [ 0.03200737],\n",
              "       [ 0.83505592],\n",
              "       [-0.11533994],\n",
              "       [ 1.07036931],\n",
              "       [-0.56312217],\n",
              "       [-0.59436109],\n",
              "       [-0.75295562],\n",
              "       [-0.06494133],\n",
              "       [ 0.80897457],\n",
              "       [ 0.6921483 ],\n",
              "       [-0.96480535],\n",
              "       [-0.98370084],\n",
              "       [-0.74902353],\n",
              "       [-0.24985568],\n",
              "       [ 0.43130912],\n",
              "       [ 0.90653149],\n",
              "       [-0.88025091],\n",
              "       [ 0.24453237],\n",
              "       [-1.4847963 ],\n",
              "       [-1.07607529],\n",
              "       [ 1.03381583],\n",
              "       [ 0.32245916],\n",
              "       [-1.28262365],\n",
              "       [ 0.13081054],\n",
              "       [ 0.56424425],\n",
              "       [ 0.39703289],\n",
              "       [ 0.83375387],\n",
              "       [-1.4465045 ],\n",
              "       [ 0.78963515],\n",
              "       [ 1.06175968],\n",
              "       [ 0.69530366],\n",
              "       [-1.47410966],\n",
              "       [-1.14616694],\n",
              "       [-0.2491838 ],\n",
              "       [ 0.95865945],\n",
              "       [ 1.15967784],\n",
              "       [ 0.51279519],\n",
              "       [-0.27879627],\n",
              "       [-0.03129095],\n",
              "       [ 1.31235475],\n",
              "       [-0.777124  ]])"
            ]
          },
          "metadata": {},
          "execution_count": 13
        }
      ]
    },
    {
      "cell_type": "code",
      "source": [
        "from sklearn.metrics import r2_score\n",
        "from sklearn.metrics import mean_squared_error\n",
        "from sklearn.metrics import mean_absolute_error\n",
        "score = r2_score(y_test,y_prediction)\n",
        "mean_error = mean_squared_error(y_test,y_prediction)\n",
        "mae = mean_absolute_error(y_test,y_prediction)\n",
        "print(\"R2 SCORE is\", score)\n",
        "print(\"mean_sqrd_error is \", mean_error)\n",
        "print(\"Root mean squared error of is\",np.sqrt(mean_error))\n",
        "print(\"Mean Absolute error is\", mae)"
      ],
      "metadata": {
        "colab": {
          "base_uri": "https://localhost:8080/"
        },
        "id": "9KPM6rNzwm6q",
        "outputId": "9ec1b4d1-c689-4981-c971-20f13cdbffe7"
      },
      "execution_count": null,
      "outputs": [
        {
          "output_type": "stream",
          "name": "stdout",
          "text": [
            "R2 SCORE is 0.5755096043920492\n",
            "mean_sqrd_error is  0.4020781719979625\n",
            "Root mean squared error of is 0.6340963428359783\n",
            "Mean Absolute error is 0.4901552464777477\n"
          ]
        }
      ]
    },
    {
      "cell_type": "code",
      "source": [
        "y_test = pt_y.inverse_transform(y_test)\n",
        "y_test[:5]"
      ],
      "metadata": {
        "id": "AXCLD-VtwpPj",
        "colab": {
          "base_uri": "https://localhost:8080/"
        },
        "outputId": "e42b7470-31e9-489b-d63d-3b12e598c0ca"
      },
      "execution_count": null,
      "outputs": [
        {
          "output_type": "execute_result",
          "data": {
            "text/plain": [
              "array([[35.34219999],\n",
              "       [75.17      ],\n",
              "       [33.38800008],\n",
              "       [43.73356647],\n",
              "       [53.709     ]])"
            ]
          },
          "metadata": {},
          "execution_count": 15
        }
      ]
    },
    {
      "cell_type": "code",
      "source": [
        "y_prediction=y_prediction.reshape(-1,1)"
      ],
      "metadata": {
        "id": "W6fX6vwSFueV"
      },
      "execution_count": null,
      "outputs": []
    },
    {
      "cell_type": "code",
      "source": [
        "y_prediction = pt_y.inverse_transform(y_prediction)\n",
        "y_prediction[:5]"
      ],
      "metadata": {
        "colab": {
          "base_uri": "https://localhost:8080/"
        },
        "id": "i3cVfd7PFwma",
        "outputId": "0740cb17-b1b5-44b4-b2e8-0b100dff21a3"
      },
      "execution_count": null,
      "outputs": [
        {
          "output_type": "execute_result",
          "data": {
            "text/plain": [
              "array([[23.31847284],\n",
              "       [37.88036404],\n",
              "       [40.42865555],\n",
              "       [23.63770836],\n",
              "       [43.39822689]])"
            ]
          },
          "metadata": {},
          "execution_count": 17
        }
      ]
    },
    {
      "cell_type": "code",
      "source": [
        "df1 = pd.DataFrame({'Actual': y_test[100:120].flatten(), 'Predicted': y_prediction[100:120].flatten()})\n",
        "df1.plot(kind='line')\n",
        "plt.grid(which='major', linestyle='-', linewidth='0.5', color='green')\n",
        "plt.grid(which='minor', linestyle=':', linewidth='0.5', color='black')\n",
        "plt.show()"
      ],
      "metadata": {
        "colab": {
          "base_uri": "https://localhost:8080/",
          "height": 265
        },
        "id": "MjT_DwJ3FyMk",
        "outputId": "1e158c51-ab21-44e4-db3a-b4dafd94260a"
      },
      "execution_count": null,
      "outputs": [
        {
          "output_type": "display_data",
          "data": {
            "text/plain": [
              "<Figure size 432x288 with 1 Axes>"
            ],
            "image/png": "[encoded data removed]"
          },
          "metadata": {
            "needs_background": "light"
          }
        }
      ]
    },
    {
      "cell_type": "code",
      "source": [
        "result = pd.DataFrame()\n",
        "result[\"ACTUAL AQI\"] = y_test.flatten()\n",
        "result[\"PREDICTED AQI\"] = y_prediction\n",
        "result[\"DIFFERENCE\"] = result[\"ACTUAL AQI\"] - result[\"PREDICTED AQI\"]\n",
        "result[\"PERCENTAGE ERROR\"] = ( abs(result[\"ACTUAL AQI\"] - result[\"PREDICTED AQI\"] ) / result[\"ACTUAL AQI\"] ) * 100\n",
        "result.head(15)"
      ],
      "metadata": {
        "colab": {
          "base_uri": "https://localhost:8080/",
          "height": 520
        },
        "id": "PRZzS4_CF0F2",
        "outputId": "093aa0c9-5ca4-47fa-a7ce-4c485fd413d3"
      },
      "execution_count": null,
      "outputs": [
        {
          "output_type": "execute_result",
          "data": {
            "text/plain": [
              "    ACTUAL AQI  PREDICTED AQI  DIFFERENCE  PERCENTAGE ERROR\n",
              "0    35.342200      23.318473   12.023727         34.020879\n",
              "1    75.170000      37.880364   37.289636         49.607072\n",
              "2    33.388000      40.428656   -7.040655         21.087383\n",
              "3    43.733566      23.637708   20.095858         45.950650\n",
              "4    53.709000      43.398227   10.310773         19.197477\n",
              "5    67.366000      71.773721   -4.407721          6.542946\n",
              "6    55.102000      24.782384   30.319616         55.024529\n",
              "7    21.141000      23.942171   -2.801171         13.249944\n",
              "8    33.940600      35.805482   -1.864882          5.494547\n",
              "9    63.174000      45.983116   17.190884         27.211961\n",
              "10   14.861000      25.860370  -10.999370         74.015009\n",
              "11   87.937000      78.392071    9.544929         10.854281\n",
              "12   18.927000      33.150445  -14.223445         75.148966\n",
              "13   23.327000      23.901711   -0.574711          2.463718\n",
              "14   36.012100      34.908111    1.103990          3.065607"
            ],
            "text/html": [
              "\n",
              "  <div id=\"df-ce9debab-cb2a-4906-bab0-443e7f27a622\">\n",
              "    <div class=\"colab-df-container\">\n",
              "      <div>\n",
              "<style scoped>\n",
              "    .dataframe tbody tr th:only-of-type {\n",
              "        vertical-align: middle;\n",
              "    }\n",
              "\n",
              "    .dataframe tbody tr th {\n",
              "        vertical-align: top;\n",
              "    }\n",
              "\n",
              "    .dataframe thead th {\n",
              "        text-align: right;\n",
              "    }\n",
              "</style>\n",
              "<table border=\"1\" class=\"dataframe\">\n",
              "  <thead>\n",
              "    <tr style=\"text-align: right;\">\n",
              "      <th></th>\n",
              "      <th>ACTUAL AQI</th>\n",
              "      <th>PREDICTED AQI</th>\n",
              "      <th>DIFFERENCE</th>\n",
              "      <th>PERCENTAGE ERROR</th>\n",
              "    </tr>\n",
              "  </thead>\n",
              "  <tbody>\n",
              "    <tr>\n",
              "      <th>0</th>\n",
              "      <td>35.342200</td>\n",
              "      <td>23.318473</td>\n",
              "      <td>12.023727</td>\n",
              "      <td>34.020879</td>\n",
              "    </tr>\n",
              "    <tr>\n",
              "      <th>1</th>\n",
              "      <td>75.170000</td>\n",
              "      <td>37.880364</td>\n",
              "      <td>37.289636</td>\n",
              "      <td>49.607072</td>\n",
              "    </tr>\n",
              "    <tr>\n",
              "      <th>2</th>\n",
              "      <td>33.388000</td>\n",
              "      <td>40.428656</td>\n",
              "      <td>-7.040655</td>\n",
              "      <td>21.087383</td>\n",
              "    </tr>\n",
              "    <tr>\n",
              "      <th>3</th>\n",
              "      <td>43.733566</td>\n",
              "      <td>23.637708</td>\n",
              "      <td>20.095858</td>\n",
              "      <td>45.950650</td>\n",
              "    </tr>\n",
              "    <tr>\n",
              "      <th>4</th>\n",
              "      <td>53.709000</td>\n",
              "      <td>43.398227</td>\n",
              "      <td>10.310773</td>\n",
              "      <td>19.197477</td>\n",
              "    </tr>\n",
              "    <tr>\n",
              "      <th>5</th>\n",
              "      <td>67.366000</td>\n",
              "      <td>71.773721</td>\n",
              "      <td>-4.407721</td>\n",
              "      <td>6.542946</td>\n",
              "    </tr>\n",
              "    <tr>\n",
              "      <th>6</th>\n",
              "      <td>55.102000</td>\n",
              "      <td>24.782384</td>\n",
              "      <td>30.319616</td>\n",
              "      <td>55.024529</td>\n",
              "    </tr>\n",
              "    <tr>\n",
              "      <th>7</th>\n",
              "      <td>21.141000</td>\n",
              "      <td>23.942171</td>\n",
              "      <td>-2.801171</td>\n",
              "      <td>13.249944</td>\n",
              "    </tr>\n",
              "    <tr>\n",
              "      <th>8</th>\n",
              "      <td>33.940600</td>\n",
              "      <td>35.805482</td>\n",
              "      <td>-1.864882</td>\n",
              "      <td>5.494547</td>\n",
              "    </tr>\n",
              "    <tr>\n",
              "      <th>9</th>\n",
              "      <td>63.174000</td>\n",
              "      <td>45.983116</td>\n",
              "      <td>17.190884</td>\n",
              "      <td>27.211961</td>\n",
              "    </tr>\n",
              "    <tr>\n",
              "      <th>10</th>\n",
              "      <td>14.861000</td>\n",
              "      <td>25.860370</td>\n",
              "      <td>-10.999370</td>\n",
              "      <td>74.015009</td>\n",
              "    </tr>\n",
              "    <tr>\n",
              "      <th>11</th>\n",
              "      <td>87.937000</td>\n",
              "      <td>78.392071</td>\n",
              "      <td>9.544929</td>\n",
              "      <td>10.854281</td>\n",
              "    </tr>\n",
              "    <tr>\n",
              "      <th>12</th>\n",
              "      <td>18.927000</td>\n",
              "      <td>33.150445</td>\n",
              "      <td>-14.223445</td>\n",
              "      <td>75.148966</td>\n",
              "    </tr>\n",
              "    <tr>\n",
              "      <th>13</th>\n",
              "      <td>23.327000</td>\n",
              "      <td>23.901711</td>\n",
              "      <td>-0.574711</td>\n",
              "      <td>2.463718</td>\n",
              "    </tr>\n",
              "    <tr>\n",
              "      <th>14</th>\n",
              "      <td>36.012100</td>\n",
              "      <td>34.908111</td>\n",
              "      <td>1.103990</td>\n",
              "      <td>3.065607</td>\n",
              "    </tr>\n",
              "  </tbody>\n",
              "</table>\n",
              "</div>\n",
              "      <button class=\"colab-df-convert\" onclick=\"convertToInteractive('df-ce9debab-cb2a-4906-bab0-443e7f27a622')\"\n",
              "              title=\"Convert this dataframe to an interactive table.\"\n",
              "              style=\"display:none;\">\n",
              "        \n",
              "  <svg xmlns=\"http://www.w3.org/2000/svg\" height=\"24px\"viewBox=\"0 0 24 24\"\n",
              "       width=\"24px\">\n",
              "    <path d=\"M0 0h24v24H0V0z\" fill=\"none\"/>\n",
              "    <path d=\"M18.56 5.44l.94 2.06.94-2.06 2.06-.94-2.06-.94-.94-2.06-.94 2.06-2.06.94zm-11 1L8.5 8.5l.94-2.06 2.06-.94-2.06-.94L8.5 2.5l-.94 2.06-2.06.94zm10 10l.94 2.06.94-2.06 2.06-.94-2.06-.94-.94-2.06-.94 2.06-2.06.94z\"/><path d=\"M17.41 7.96l-1.37-1.37c-.4-.4-.92-.59-1.43-.59-.52 0-1.04.2-1.43.59L10.3 9.45l-7.72 7.72c-.78.78-.78 2.05 0 2.83L4 21.41c.39.39.9.59 1.41.59.51 0 1.02-.2 1.41-.59l7.78-7.78 2.81-2.81c.8-.78.8-2.07 0-2.86zM5.41 20L4 18.59l7.72-7.72 1.47 1.35L5.41 20z\"/>\n",
              "  </svg>\n",
              "      </button>\n",
              "      \n",
              "  <style>\n",
              "    .colab-df-container {\n",
              "      display:flex;\n",
              "      flex-wrap:wrap;\n",
              "      gap: 12px;\n",
              "    }\n",
              "\n",
              "    .colab-df-convert {\n",
              "      background-color: #E8F0FE;\n",
              "      border: none;\n",
              "      border-radius: 50%;\n",
              "      cursor: pointer;\n",
              "      display: none;\n",
              "      fill: #1967D2;\n",
              "      height: 32px;\n",
              "      padding: 0 0 0 0;\n",
              "      width: 32px;\n",
              "    }\n",
              "\n",
              "    .colab-df-convert:hover {\n",
              "      background-color: #E2EBFA;\n",
              "      box-shadow: 0px 1px 2px rgba(60, 64, 67, 0.3), 0px 1px 3px 1px rgba(60, 64, 67, 0.15);\n",
              "      fill: #174EA6;\n",
              "    }\n",
              "\n",
              "    [theme=dark] .colab-df-convert {\n",
              "      background-color: #3B4455;\n",
              "      fill: #D2E3FC;\n",
              "    }\n",
              "\n",
              "    [theme=dark] .colab-df-convert:hover {\n",
              "      background-color: #434B5C;\n",
              "      box-shadow: 0px 1px 3px 1px rgba(0, 0, 0, 0.15);\n",
              "      filter: drop-shadow(0px 1px 2px rgba(0, 0, 0, 0.3));\n",
              "      fill: #FFFFFF;\n",
              "    }\n",
              "  </style>\n",
              "\n",
              "      <script>\n",
              "        const buttonEl =\n",
              "          document.querySelector('#df-ce9debab-cb2a-4906-bab0-443e7f27a622 button.colab-df-convert');\n",
              "        buttonEl.style.display =\n",
              "          google.colab.kernel.accessAllowed ? 'block' : 'none';\n",
              "\n",
              "        async function convertToInteractive(key) {\n",
              "          const element = document.querySelector('#df-ce9debab-cb2a-4906-bab0-443e7f27a622');\n",
              "          const dataTable =\n",
              "            await google.colab.kernel.invokeFunction('convertToInteractive',\n",
              "                                                     [key], {});\n",
              "          if (!dataTable) return;\n",
              "\n",
              "          const docLinkHtml = 'Like what you see? Visit the ' +\n",
              "            '<a target=\"_blank\" href=https://colab.research.google.com/notebooks/data_table.ipynb>data table notebook</a>'\n",
              "            + ' to learn more about interactive tables.';\n",
              "          element.innerHTML = '';\n",
              "          dataTable['output_type'] = 'display_data';\n",
              "          await google.colab.output.renderOutput(dataTable, element);\n",
              "          const docLink = document.createElement('div');\n",
              "          docLink.innerHTML = docLinkHtml;\n",
              "          element.appendChild(docLink);\n",
              "        }\n",
              "      </script>\n",
              "    </div>\n",
              "  </div>\n",
              "  "
            ]
          },
          "metadata": {},
          "execution_count": 19
        }
      ]
    },
    {
      "cell_type": "markdown",
      "source": [
        "###Ensembling approach\n"
      ],
      "metadata": {
        "id": "UW2wKeIbGP60"
      }
    },
    {
      "cell_type": "code",
      "source": [
        "import numpy as np \n",
        "import pandas as pd\n",
        "from sklearn.model_selection import train_test_split\n",
        "from sklearn.tree import DecisionTreeClassifier\n",
        "from sklearn. ensemble import RandomForestClassifier, BaggingClassifier, AdaBoostClassifier, VotingClassifier\n",
        "from sklearn.linear_model import LogisticRegression\n",
        "from sklearn.svm import SVC\n",
        "from sklearn.ensemble import VotingRegressor\n",
        "from sklearn import svm\n",
        "from sklearn import metrics"
      ],
      "metadata": {
        "id": "dbTJaaJ-F3j7"
      },
      "execution_count": null,
      "outputs": []
    },
    {
      "cell_type": "code",
      "source": [
        "knn= KNeighborsRegressor(n_neighbors=7, weights='distance')\n",
        "\n",
        "svr= svm.SVR(kernel='rbf', C=1, gamma=1)"
      ],
      "metadata": {
        "id": "XbUHPG_fGUQ2"
      },
      "execution_count": null,
      "outputs": []
    },
    {
      "cell_type": "code",
      "source": [
        "evc = VotingRegressor( estimators= [('knn',knn),('svr',svr)])"
      ],
      "metadata": {
        "id": "TW4nzZcVGhK0"
      },
      "execution_count": null,
      "outputs": []
    },
    {
      "cell_type": "code",
      "source": [
        "evc.fit(x_train,y_train)"
      ],
      "metadata": {
        "colab": {
          "base_uri": "https://localhost:8080/"
        },
        "id": "GxmOlEAqGjSS",
        "outputId": "78b681d4-01e5-47f8-bce9-6b6a4fee2bf3"
      },
      "execution_count": null,
      "outputs": [
        {
          "output_type": "execute_result",
          "data": {
            "text/plain": [
              "VotingRegressor(estimators=[('knn',\n",
              "                             KNeighborsRegressor(n_neighbors=7,\n",
              "                                                 weights='distance')),\n",
              "                            ('svr', SVR(C=1, gamma=1))])"
            ]
          },
          "metadata": {},
          "execution_count": 14
        }
      ]
    },
    {
      "cell_type": "code",
      "source": [
        "pred=evc.predict(x_test)"
      ],
      "metadata": {
        "id": "jOW9fcVxGmoe"
      },
      "execution_count": null,
      "outputs": []
    },
    {
      "cell_type": "code",
      "source": [
        "r2_score(y_test, pred)"
      ],
      "metadata": {
        "colab": {
          "base_uri": "https://localhost:8080/"
        },
        "id": "GyMEceBaGswF",
        "outputId": "3e52e92c-62f9-4580-e0d3-d9a67293665b"
      },
      "execution_count": null,
      "outputs": [
        {
          "output_type": "execute_result",
          "data": {
            "text/plain": [
              "0.6001184205435846"
            ]
          },
          "metadata": {},
          "execution_count": 16
        }
      ]
    },
    {
      "cell_type": "markdown",
      "source": [
        "###Random forest "
      ],
      "metadata": {
        "id": "81xfLCBL3wWr"
      }
    },
    {
      "cell_type": "code",
      "source": [
        "n_estimators = [5,20,50,100] # number of trees in the random forest\n",
        "max_features = ['auto', 'sqrt'] # number of features in consideration at every split\n",
        "max_depth = [int(x) for x in np.linspace(10, 120, num = 12)] # maximum number of levels allowed in each decision tree\n",
        "min_samples_split = [2, 6, 10] # minimum sample number to split a node\n",
        "min_samples_leaf = [1, 3, 4] # minimum sample number that can be stored in a leaf node\n",
        "bootstrap = [True, False] # method used to sample data points\n",
        "\n",
        "random_grid = {'n_estimators': n_estimators,\n",
        "\n",
        "'max_features': max_features,\n",
        "\n",
        "'max_depth': max_depth,\n",
        "\n",
        "'min_samples_split': min_samples_split,\n",
        "\n",
        "'min_samples_leaf': min_samples_leaf,\n",
        "\n",
        "'bootstrap': bootstrap}"
      ],
      "metadata": {
        "id": "RP6CbMU82owK"
      },
      "execution_count": null,
      "outputs": []
    },
    {
      "cell_type": "code",
      "source": [
        "## Importing Random Forest Classifier from the sklearn.ensemble\n",
        "from sklearn.ensemble import RandomForestRegressor\n",
        "rf = RandomForestRegressor()"
      ],
      "metadata": {
        "id": "WH4qltrT2tRD"
      },
      "execution_count": null,
      "outputs": []
    },
    {
      "cell_type": "code",
      "source": [
        "\n",
        "\n",
        "from sklearn.model_selection import RandomizedSearchCV\n",
        "rf_random = RandomizedSearchCV(estimator = rf,param_distributions = random_grid,\n",
        "               n_iter = 100, cv = 5, verbose=2, random_state=35, n_jobs = -1)\n",
        "\n"
      ],
      "metadata": {
        "id": "izKnVW7p2uZ0"
      },
      "execution_count": null,
      "outputs": []
    },
    {
      "cell_type": "code",
      "source": [
        "rf_random.fit(x_train, y_train)"
      ],
      "metadata": {
        "colab": {
          "base_uri": "https://localhost:8080/"
        },
        "id": "DaoIig-t2yKd",
        "outputId": "e23eefde-f817-40f3-b59b-2f14c13924d5"
      },
      "execution_count": null,
      "outputs": [
        {
          "output_type": "stream",
          "name": "stdout",
          "text": [
            "Fitting 5 folds for each of 100 candidates, totalling 500 fits\n"
          ]
        },
        {
          "output_type": "execute_result",
          "data": {
            "text/plain": [
              "RandomizedSearchCV(cv=5, estimator=RandomForestRegressor(), n_iter=100,\n",
              "                   n_jobs=-1,\n",
              "                   param_distributions={'bootstrap': [True, False],\n",
              "                                        'max_depth': [10, 20, 30, 40, 50, 60,\n",
              "                                                      70, 80, 90, 100, 110,\n",
              "                                                      120],\n",
              "                                        'max_features': ['auto', 'sqrt'],\n",
              "                                        'min_samples_leaf': [1, 3, 4],\n",
              "                                        'min_samples_split': [2, 6, 10],\n",
              "                                        'n_estimators': [5, 20, 50, 100]},\n",
              "                   random_state=35, verbose=2)"
            ]
          },
          "metadata": {},
          "execution_count": 16
        }
      ]
    },
    {
      "cell_type": "code",
      "source": [
        "print ('Random grid: ', random_grid, '\\n')\n",
        "# print the best parameters\n",
        "print ('Best Parameters: ', rf_random.best_params_, ' \\n')"
      ],
      "metadata": {
        "colab": {
          "base_uri": "https://localhost:8080/"
        },
        "id": "8iWaaHfC268K",
        "outputId": "b18d8acc-135a-464c-9c2b-d237473ecdd6"
      },
      "execution_count": null,
      "outputs": [
        {
          "output_type": "stream",
          "name": "stdout",
          "text": [
            "Random grid:  {'n_estimators': [5, 20, 50, 100], 'max_features': ['auto', 'sqrt'], 'max_depth': [10, 20, 30, 40, 50, 60, 70, 80, 90, 100, 110, 120], 'min_samples_split': [2, 6, 10], 'min_samples_leaf': [1, 3, 4], 'bootstrap': [True, False]} \n",
            "\n",
            "Best Parameters:  {'n_estimators': 100, 'min_samples_split': 10, 'min_samples_leaf': 4, 'max_features': 'auto', 'max_depth': 50, 'bootstrap': True}  \n",
            "\n"
          ]
        }
      ]
    },
    {
      "cell_type": "code",
      "source": [
        "regressor = RandomForestRegressor(n_estimators = 100, min_samples_split = 10, min_samples_leaf= 4, max_features = 'auto', max_depth= 50, bootstrap=True) \n",
        "regressor.fit( x_train, y_train) "
      ],
      "metadata": {
        "colab": {
          "base_uri": "https://localhost:8080/"
        },
        "id": "mBfVmgUR3Dbj",
        "outputId": "8cfcc77a-087b-4c3a-e004-ec0a2e8f7873"
      },
      "execution_count": null,
      "outputs": [
        {
          "output_type": "execute_result",
          "data": {
            "text/plain": [
              "RandomForestRegressor(max_depth=50, min_samples_leaf=4, min_samples_split=10)"
            ]
          },
          "metadata": {},
          "execution_count": 18
        }
      ]
    },
    {
      "cell_type": "code",
      "source": [
        "\n",
        "\n",
        "y_prediction =  regressor.predict(x_test)\n",
        "y_prediction \n",
        "\n"
      ],
      "metadata": {
        "colab": {
          "base_uri": "https://localhost:8080/"
        },
        "id": "HTI60yRQ3hb1",
        "outputId": "dc265cc5-a907-4355-f2e8-0613e7b0e0c3"
      },
      "execution_count": null,
      "outputs": [
        {
          "output_type": "execute_result",
          "data": {
            "text/plain": [
              "array([-0.85803836, -0.12099048, -0.04346513, -0.56673773, -0.14969027,\n",
              "        1.08932669,  0.20954679, -0.91709265, -0.15385454, -0.45455779,\n",
              "       -0.9360579 ,  1.21262787, -0.61044221, -0.90142643, -0.32159958,\n",
              "       -0.87095592, -1.43871172,  1.05380803,  0.63823771, -0.15626795,\n",
              "       -0.43155921,  1.32271842,  0.92267273, -1.16529225, -1.14566634,\n",
              "       -0.9100228 , -0.23972709,  0.26457492, -1.4418784 , -0.28670675,\n",
              "        1.2552674 ,  0.34272351,  1.00750279,  0.95143096,  1.25313657,\n",
              "       -0.3145741 ,  0.26094876,  0.50223215,  0.27254594,  0.11032222,\n",
              "       -0.97719752,  0.87035149,  0.84305423,  1.12686842, -1.33958717,\n",
              "        1.04753757,  0.90317689, -1.03864257, -0.39312237,  1.01423501,\n",
              "       -0.70663781,  0.13854852, -0.84341022,  0.61187894,  0.37543565,\n",
              "       -1.03125389, -1.3653846 ,  0.60768242, -0.60975415,  0.06322067,\n",
              "        0.81661891, -0.04328101, -1.52278213, -0.95505249, -0.68780728,\n",
              "       -0.66180421, -1.35907317,  0.29427444, -1.03599703,  0.11116611,\n",
              "        1.22884444,  0.93991808, -0.7208212 ,  0.06701827,  0.48123916,\n",
              "       -0.23157816,  0.00656694, -0.54894512, -0.55696322, -0.54175248,\n",
              "        0.26208207, -0.50516389, -0.55969033, -0.10504161,  1.00927953,\n",
              "       -1.20052527,  0.03376479, -0.07087677, -0.99884777, -0.20487824,\n",
              "       -1.41454934,  1.13754284,  0.22429491,  0.34673378,  0.52155821,\n",
              "        0.68612742, -1.01102846, -0.0582773 , -1.06402829,  0.44693193,\n",
              "       -0.32308596,  1.08385577, -1.29850106,  0.65371922,  1.0263334 ,\n",
              "        0.36386608,  0.97157118, -0.59533186,  0.06772004, -0.12860598,\n",
              "        0.14771636, -0.43893232, -0.1146764 ,  1.38984187, -0.35438389,\n",
              "        0.49466037, -0.98313737, -1.10140441,  0.21197865,  1.22438353,\n",
              "       -0.69048666, -0.67734378,  0.48981566, -1.36925711,  0.44196369,\n",
              "        0.29428714, -0.66208278,  1.21550862, -1.42175209,  1.04959507,\n",
              "        0.39201553, -1.23253899, -0.69157904, -1.15470349,  0.87890564,\n",
              "        0.12263305,  0.47798436,  0.46706487, -0.49130779, -1.47369439,\n",
              "        0.82561395,  0.52090233, -0.30108039, -1.30634861, -0.55508622,\n",
              "        1.19650525,  1.28295959, -0.88716395,  0.68899952, -1.47628809,\n",
              "        0.83200107, -0.06792286, -1.45398278,  0.46358478,  0.07799212,\n",
              "       -0.26132968, -0.29008442, -0.08374915, -1.60616907,  0.86201425,\n",
              "       -0.87782052,  0.91521204, -0.30743921,  0.53356532, -0.52314566,\n",
              "        0.25627189,  0.88204187, -0.88150767,  1.54185576,  0.30917343,\n",
              "       -0.8221882 ,  1.04037996, -1.38198595, -1.09494019,  0.47199931,\n",
              "        0.78251881,  0.74340754,  0.65859509, -1.06149594, -1.21871762,\n",
              "       -0.47590652, -0.91401355,  0.19803719,  0.74689337,  0.53881442,\n",
              "        0.67068543, -1.54741737,  1.24206602, -0.41074629, -1.0677928 ,\n",
              "       -1.36645202, -0.75844714, -1.21736481,  1.07655846, -1.20223265,\n",
              "        0.74308189, -0.60767319,  0.04890933, -1.05608188, -0.19424704,\n",
              "        0.47491742,  1.20962285, -0.71813293,  0.29258621,  0.54965146,\n",
              "       -1.33816891,  0.86146592, -0.15724126, -0.00336196, -1.06050141,\n",
              "        0.50235958,  0.43280842,  0.46386205,  0.74870225,  0.69750297,\n",
              "       -1.24215819, -0.78065748,  1.09467685,  1.08748769, -0.31468005,\n",
              "        1.0849887 , -0.99621018, -0.72961449,  1.28239079, -0.46746793,\n",
              "       -0.48998601,  0.60434441,  0.7392432 , -0.69553371, -0.41751698,\n",
              "        1.02451566, -0.1436029 , -0.21886298,  0.0411049 ,  0.57642956,\n",
              "       -0.14625551, -0.89583526,  0.98768959,  0.72587282,  0.79738117,\n",
              "       -1.01761783, -0.95345261, -1.42578397,  0.74160868,  0.93478796,\n",
              "       -0.47261798, -0.73012022, -0.77525731,  0.19247005, -1.4948347 ,\n",
              "       -1.12502858, -0.86603769,  0.16294688,  0.84541963, -0.17480938,\n",
              "        1.16013077, -0.81152927, -0.40111616, -0.6810964 ,  0.08479855,\n",
              "        0.81264286,  0.75203897, -1.01650619, -1.01802434, -0.5366682 ,\n",
              "       -0.23128472,  0.63734964,  0.8280477 , -0.69143762, -0.38925342,\n",
              "       -1.38146924, -0.73817911,  0.79871785, -0.1636144 , -0.62031156,\n",
              "        0.20233851,  0.43154663, -0.01923614,  0.7273199 , -0.86455491,\n",
              "        0.60564573,  0.86342644,  0.80026471, -1.32972715, -1.48382164,\n",
              "       -0.3457246 ,  0.57566116,  1.36999429,  0.47923741, -0.22816385,\n",
              "       -0.14817569,  1.04073055, -0.41231975])"
            ]
          },
          "metadata": {},
          "execution_count": 20
        }
      ]
    },
    {
      "cell_type": "code",
      "source": [
        "\n",
        "from sklearn.metrics import r2_score\n",
        "from sklearn.metrics import mean_squared_error\n",
        "from sklearn.metrics import mean_absolute_error\n",
        "score = r2_score(y_test,y_prediction)\n",
        "mean_error = mean_squared_error(y_test,y_prediction)\n",
        "mae = mean_absolute_error(y_test,y_prediction)\n",
        "print(\"R2 SCORE is\", score)\n",
        "print(\"mean_sqrd_error is \", mean_error)\n",
        "print(\"Root mean squared error of is\",np.sqrt(mean_error))\n",
        "print(\"Mean Absolute error is\", mae)"
      ],
      "metadata": {
        "colab": {
          "base_uri": "https://localhost:8080/"
        },
        "id": "k_PLN-293uJP",
        "outputId": "80f85dd2-6044-412f-be3d-89bf86d79f2e"
      },
      "execution_count": null,
      "outputs": [
        {
          "output_type": "stream",
          "name": "stdout",
          "text": [
            "R2 SCORE is 0.642731863630355\n",
            "mean_sqrd_error is  0.3384051103886391\n",
            "Root mean squared error of is 0.581725975342892\n",
            "Mean Absolute error is 0.4541847196188027\n"
          ]
        }
      ]
    },
    {
      "cell_type": "code",
      "source": [
        "y_test = pt_y.inverse_transform(y_test)\n",
        "y_test[:5]"
      ],
      "metadata": {
        "colab": {
          "base_uri": "https://localhost:8080/"
        },
        "id": "NaNXWJns39Fv",
        "outputId": "f727fcb5-c834-4017-cc22-1f1dd0f9d044"
      },
      "execution_count": null,
      "outputs": [
        {
          "output_type": "execute_result",
          "data": {
            "text/plain": [
              "array([[35.34219999],\n",
              "       [75.17      ],\n",
              "       [33.38800008],\n",
              "       [43.73356647],\n",
              "       [53.709     ]])"
            ]
          },
          "metadata": {},
          "execution_count": 22
        }
      ]
    },
    {
      "cell_type": "code",
      "source": [
        "y_prediction=y_prediction.reshape(-1,1)\n",
        "y_prediction = pt_y.inverse_transform(y_prediction)\n",
        "y_prediction[:5]"
      ],
      "metadata": {
        "colab": {
          "base_uri": "https://localhost:8080/"
        },
        "id": "oXRj5LBl4BV0",
        "outputId": "4e3b17fd-1bef-4d08-fad2-0f2372ef2ded"
      },
      "execution_count": null,
      "outputs": [
        {
          "output_type": "execute_result",
          "data": {
            "text/plain": [
              "array([[25.34790347],\n",
              "       [38.14484967],\n",
              "       [39.80349732],\n",
              "       [29.81932749],\n",
              "       [37.54780709]])"
            ]
          },
          "metadata": {},
          "execution_count": 23
        }
      ]
    },
    {
      "cell_type": "code",
      "source": [
        "df1 = pd.DataFrame({'Actual': y_test[100:120].flatten(), 'Predicted': y_prediction[100:120].flatten()})\n",
        "df1.plot(kind='line')\n",
        "plt.grid(which='major', linestyle='-', linewidth='0.5', color='green')\n",
        "plt.grid(which='minor', linestyle=':', linewidth='0.5', color='black')\n",
        "plt.show()"
      ],
      "metadata": {
        "colab": {
          "base_uri": "https://localhost:8080/",
          "height": 483
        },
        "id": "4mQXlXHA4FLv",
        "outputId": "68b5e416-19d4-4e37-96ff-7634448d9f62"
      },
      "execution_count": null,
      "outputs": [
        {
          "output_type": "display_data",
          "data": {
            "text/plain": [
              "<Figure size 1080x576 with 1 Axes>"
            ],
            "image/png": "[encoded data removed]"
          },
          "metadata": {
            "needs_background": "light"
          }
        }
      ]
    },
    {
      "cell_type": "code",
      "source": [
        "result = pd.DataFrame()\n",
        "result[\"ACTUAL AQI\"] = y_test.flatten()\n",
        "result[\"PREDICTED AQI\"] = y_prediction\n",
        "result[\"DIFFERENCE\"] = result[\"ACTUAL AQI\"] - result[\"PREDICTED AQI\"]\n",
        "result[\"PERCENTAGE ERROR\"] = ( abs(result[\"ACTUAL AQI\"] - result[\"PREDICTED AQI\"] ) / result[\"ACTUAL AQI\"] ) * 100\n",
        "result.head(15)"
      ],
      "metadata": {
        "id": "7649MWw14I_z",
        "outputId": "a0d77fc4-2993-4ebb-db41-e4e41411f075",
        "colab": {
          "base_uri": "https://localhost:8080/",
          "height": 520
        }
      },
      "execution_count": null,
      "outputs": [
        {
          "output_type": "execute_result",
          "data": {
            "text/plain": [
              "    ACTUAL AQI  PREDICTED AQI  DIFFERENCE  PERCENTAGE ERROR\n",
              "0    35.342200      25.347903    9.994297         28.278649\n",
              "1    75.170000      38.144850   37.025150         49.255222\n",
              "2    33.388000      39.803497   -6.415497         19.214979\n",
              "3    43.733566      29.819327   13.914239         31.815926\n",
              "4    53.709000      37.547807   16.161193         30.090288\n",
              "5    67.366000      73.598008   -6.232008          9.250969\n",
              "6    55.102000      45.712790    9.389210         17.039691\n",
              "7    21.141000      24.522594   -3.381594         15.995431\n",
              "8    33.940600      37.461926   -3.521326         10.374966\n",
              "9    63.174000      31.733731   31.440269         49.767735\n",
              "10   14.861000      24.262986   -9.401986         63.266173\n",
              "11   87.937000      78.634413    9.302587         10.578695\n",
              "12   18.927000      29.103706  -10.176706         53.768194\n",
              "13   23.327000      24.739023   -1.412023          6.053169\n",
              "14   36.012100      34.154740    1.857360          5.157601"
            ],
            "text/html": [
              "\n",
              "  <div id=\"df-bc7bbd39-99f5-4f26-ab1e-dd0e43890cb6\">\n",
              "    <div class=\"colab-df-container\">\n",
              "      <div>\n",
              "<style scoped>\n",
              "    .dataframe tbody tr th:only-of-type {\n",
              "        vertical-align: middle;\n",
              "    }\n",
              "\n",
              "    .dataframe tbody tr th {\n",
              "        vertical-align: top;\n",
              "    }\n",
              "\n",
              "    .dataframe thead th {\n",
              "        text-align: right;\n",
              "    }\n",
              "</style>\n",
              "<table border=\"1\" class=\"dataframe\">\n",
              "  <thead>\n",
              "    <tr style=\"text-align: right;\">\n",
              "      <th></th>\n",
              "      <th>ACTUAL AQI</th>\n",
              "      <th>PREDICTED AQI</th>\n",
              "      <th>DIFFERENCE</th>\n",
              "      <th>PERCENTAGE ERROR</th>\n",
              "    </tr>\n",
              "  </thead>\n",
              "  <tbody>\n",
              "    <tr>\n",
              "      <th>0</th>\n",
              "      <td>35.342200</td>\n",
              "      <td>25.347903</td>\n",
              "      <td>9.994297</td>\n",
              "      <td>28.278649</td>\n",
              "    </tr>\n",
              "    <tr>\n",
              "      <th>1</th>\n",
              "      <td>75.170000</td>\n",
              "      <td>38.144850</td>\n",
              "      <td>37.025150</td>\n",
              "      <td>49.255222</td>\n",
              "    </tr>\n",
              "    <tr>\n",
              "      <th>2</th>\n",
              "      <td>33.388000</td>\n",
              "      <td>39.803497</td>\n",
              "      <td>-6.415497</td>\n",
              "      <td>19.214979</td>\n",
              "    </tr>\n",
              "    <tr>\n",
              "      <th>3</th>\n",
              "      <td>43.733566</td>\n",
              "      <td>29.819327</td>\n",
              "      <td>13.914239</td>\n",
              "      <td>31.815926</td>\n",
              "    </tr>\n",
              "    <tr>\n",
              "      <th>4</th>\n",
              "      <td>53.709000</td>\n",
              "      <td>37.547807</td>\n",
              "      <td>16.161193</td>\n",
              "      <td>30.090288</td>\n",
              "    </tr>\n",
              "    <tr>\n",
              "      <th>5</th>\n",
              "      <td>67.366000</td>\n",
              "      <td>73.598008</td>\n",
              "      <td>-6.232008</td>\n",
              "      <td>9.250969</td>\n",
              "    </tr>\n",
              "    <tr>\n",
              "      <th>6</th>\n",
              "      <td>55.102000</td>\n",
              "      <td>45.712790</td>\n",
              "      <td>9.389210</td>\n",
              "      <td>17.039691</td>\n",
              "    </tr>\n",
              "    <tr>\n",
              "      <th>7</th>\n",
              "      <td>21.141000</td>\n",
              "      <td>24.522594</td>\n",
              "      <td>-3.381594</td>\n",
              "      <td>15.995431</td>\n",
              "    </tr>\n",
              "    <tr>\n",
              "      <th>8</th>\n",
              "      <td>33.940600</td>\n",
              "      <td>37.461926</td>\n",
              "      <td>-3.521326</td>\n",
              "      <td>10.374966</td>\n",
              "    </tr>\n",
              "    <tr>\n",
              "      <th>9</th>\n",
              "      <td>63.174000</td>\n",
              "      <td>31.733731</td>\n",
              "      <td>31.440269</td>\n",
              "      <td>49.767735</td>\n",
              "    </tr>\n",
              "    <tr>\n",
              "      <th>10</th>\n",
              "      <td>14.861000</td>\n",
              "      <td>24.262986</td>\n",
              "      <td>-9.401986</td>\n",
              "      <td>63.266173</td>\n",
              "    </tr>\n",
              "    <tr>\n",
              "      <th>11</th>\n",
              "      <td>87.937000</td>\n",
              "      <td>78.634413</td>\n",
              "      <td>9.302587</td>\n",
              "      <td>10.578695</td>\n",
              "    </tr>\n",
              "    <tr>\n",
              "      <th>12</th>\n",
              "      <td>18.927000</td>\n",
              "      <td>29.103706</td>\n",
              "      <td>-10.176706</td>\n",
              "      <td>53.768194</td>\n",
              "    </tr>\n",
              "    <tr>\n",
              "      <th>13</th>\n",
              "      <td>23.327000</td>\n",
              "      <td>24.739023</td>\n",
              "      <td>-1.412023</td>\n",
              "      <td>6.053169</td>\n",
              "    </tr>\n",
              "    <tr>\n",
              "      <th>14</th>\n",
              "      <td>36.012100</td>\n",
              "      <td>34.154740</td>\n",
              "      <td>1.857360</td>\n",
              "      <td>5.157601</td>\n",
              "    </tr>\n",
              "  </tbody>\n",
              "</table>\n",
              "</div>\n",
              "      <button class=\"colab-df-convert\" onclick=\"convertToInteractive('df-bc7bbd39-99f5-4f26-ab1e-dd0e43890cb6')\"\n",
              "              title=\"Convert this dataframe to an interactive table.\"\n",
              "              style=\"display:none;\">\n",
              "        \n",
              "  <svg xmlns=\"http://www.w3.org/2000/svg\" height=\"24px\"viewBox=\"0 0 24 24\"\n",
              "       width=\"24px\">\n",
              "    <path d=\"M0 0h24v24H0V0z\" fill=\"none\"/>\n",
              "    <path d=\"M18.56 5.44l.94 2.06.94-2.06 2.06-.94-2.06-.94-.94-2.06-.94 2.06-2.06.94zm-11 1L8.5 8.5l.94-2.06 2.06-.94-2.06-.94L8.5 2.5l-.94 2.06-2.06.94zm10 10l.94 2.06.94-2.06 2.06-.94-2.06-.94-.94-2.06-.94 2.06-2.06.94z\"/><path d=\"M17.41 7.96l-1.37-1.37c-.4-.4-.92-.59-1.43-.59-.52 0-1.04.2-1.43.59L10.3 9.45l-7.72 7.72c-.78.78-.78 2.05 0 2.83L4 21.41c.39.39.9.59 1.41.59.51 0 1.02-.2 1.41-.59l7.78-7.78 2.81-2.81c.8-.78.8-2.07 0-2.86zM5.41 20L4 18.59l7.72-7.72 1.47 1.35L5.41 20z\"/>\n",
              "  </svg>\n",
              "      </button>\n",
              "      \n",
              "  <style>\n",
              "    .colab-df-container {\n",
              "      display:flex;\n",
              "      flex-wrap:wrap;\n",
              "      gap: 12px;\n",
              "    }\n",
              "\n",
              "    .colab-df-convert {\n",
              "      background-color: #E8F0FE;\n",
              "      border: none;\n",
              "      border-radius: 50%;\n",
              "      cursor: pointer;\n",
              "      display: none;\n",
              "      fill: #1967D2;\n",
              "      height: 32px;\n",
              "      padding: 0 0 0 0;\n",
              "      width: 32px;\n",
              "    }\n",
              "\n",
              "    .colab-df-convert:hover {\n",
              "      background-color: #E2EBFA;\n",
              "      box-shadow: 0px 1px 2px rgba(60, 64, 67, 0.3), 0px 1px 3px 1px rgba(60, 64, 67, 0.15);\n",
              "      fill: #174EA6;\n",
              "    }\n",
              "\n",
              "    [theme=dark] .colab-df-convert {\n",
              "      background-color: #3B4455;\n",
              "      fill: #D2E3FC;\n",
              "    }\n",
              "\n",
              "    [theme=dark] .colab-df-convert:hover {\n",
              "      background-color: #434B5C;\n",
              "      box-shadow: 0px 1px 3px 1px rgba(0, 0, 0, 0.15);\n",
              "      filter: drop-shadow(0px 1px 2px rgba(0, 0, 0, 0.3));\n",
              "      fill: #FFFFFF;\n",
              "    }\n",
              "  </style>\n",
              "\n",
              "      <script>\n",
              "        const buttonEl =\n",
              "          document.querySelector('#df-bc7bbd39-99f5-4f26-ab1e-dd0e43890cb6 button.colab-df-convert');\n",
              "        buttonEl.style.display =\n",
              "          google.colab.kernel.accessAllowed ? 'block' : 'none';\n",
              "\n",
              "        async function convertToInteractive(key) {\n",
              "          const element = document.querySelector('#df-bc7bbd39-99f5-4f26-ab1e-dd0e43890cb6');\n",
              "          const dataTable =\n",
              "            await google.colab.kernel.invokeFunction('convertToInteractive',\n",
              "                                                     [key], {});\n",
              "          if (!dataTable) return;\n",
              "\n",
              "          const docLinkHtml = 'Like what you see? Visit the ' +\n",
              "            '<a target=\"_blank\" href=https://colab.research.google.com/notebooks/data_table.ipynb>data table notebook</a>'\n",
              "            + ' to learn more about interactive tables.';\n",
              "          element.innerHTML = '';\n",
              "          dataTable['output_type'] = 'display_data';\n",
              "          await google.colab.output.renderOutput(dataTable, element);\n",
              "          const docLink = document.createElement('div');\n",
              "          docLink.innerHTML = docLinkHtml;\n",
              "          element.appendChild(docLink);\n",
              "        }\n",
              "      </script>\n",
              "    </div>\n",
              "  </div>\n",
              "  "
            ]
          },
          "metadata": {},
          "execution_count": 25
        }
      ]
    },
    {
      "cell_type": "markdown",
      "source": [
        "###Withour hyperparameter tunning RF"
      ],
      "metadata": {
        "id": "IW4-U08p35qh"
      }
    },
    {
      "cell_type": "code",
      "source": [
        "\n",
        "\n",
        "from sklearn.feature_selection import SelectKBest\n",
        "from sklearn.feature_selection import mutual_info_regression\n",
        "\n",
        "fs = SelectKBest(score_func=mutual_info_regression, k='all')\n",
        "fs.fit(x_train, y_train)\n",
        "x_train_fs = fs.transform(x_train)\n",
        "x_test_fs = fs.transform(x_test)\n",
        "\n"
      ],
      "metadata": {
        "id": "drknQoYN3ynU"
      },
      "execution_count": null,
      "outputs": []
    },
    {
      "cell_type": "code",
      "source": [
        "from sklearn.ensemble import RandomForestRegressor\n",
        "regressor = RandomForestRegressor()\n",
        "regressor.fit(x_train_fs,y_train)"
      ],
      "metadata": {
        "colab": {
          "base_uri": "https://localhost:8080/"
        },
        "id": "2PUNIK3K38xu",
        "outputId": "37a4f90f-e7ef-49fb-c6be-11429a146708"
      },
      "execution_count": null,
      "outputs": [
        {
          "output_type": "execute_result",
          "data": {
            "text/plain": [
              "RandomForestRegressor()"
            ]
          },
          "metadata": {},
          "execution_count": 14
        }
      ]
    },
    {
      "cell_type": "code",
      "source": [
        "\n",
        "\n",
        "y_prediction =  regressor.predict(x_test_fs)\n",
        "y_prediction \n",
        "\n"
      ],
      "metadata": {
        "colab": {
          "base_uri": "https://localhost:8080/"
        },
        "id": "B6oU4f2k4QU1",
        "outputId": "1d71e994-7054-4eab-cdee-95e28a88e5d1"
      },
      "execution_count": null,
      "outputs": [
        {
          "output_type": "execute_result",
          "data": {
            "text/plain": [
              "array([-0.87685051, -0.23667709,  0.03929299, -0.55583403, -0.2374794 ,\n",
              "        1.16553561, -0.29358767, -0.97975819, -0.18114896, -0.51711968,\n",
              "       -0.91108291,  1.16308427, -0.40985601, -0.91983952, -0.31568458,\n",
              "       -0.85202298, -1.40961339,  1.01245889,  0.76073221, -0.15916003,\n",
              "       -0.54010738,  1.3509829 ,  0.97098035, -1.2245906 , -1.1460948 ,\n",
              "       -0.80147102, -0.22065047,  1.02391992, -1.42138852, -0.27413875,\n",
              "        1.26711599,  0.33442088,  1.20657847,  0.90546494,  1.23967207,\n",
              "       -0.17265458,  0.24563306,  0.39164052,  0.86981904,  0.12730002,\n",
              "       -1.0110635 ,  0.81072433,  0.85122689,  1.16056024, -1.45661695,\n",
              "        0.99031187,  0.80732748, -1.01946258, -0.32339101,  0.76286712,\n",
              "       -0.73097058,  0.15930549, -0.92189376,  0.6118556 ,  0.42429676,\n",
              "       -1.13883385, -1.32073473,  0.83582434, -0.76372699,  0.08839649,\n",
              "        0.79475298, -0.24143607, -1.66093924, -0.94921844, -0.73083843,\n",
              "       -0.73752168, -1.18765452,  0.31690692, -0.8823431 ,  0.42655003,\n",
              "        1.2295701 ,  0.91481792, -0.77432077,  0.04346546,  0.40189814,\n",
              "       -0.24745606, -0.00789012, -0.64405734, -0.78290657, -0.53052333,\n",
              "        0.31518875, -0.46053341, -0.52046148, -0.0170973 ,  1.38123497,\n",
              "       -1.13318351,  0.13896522, -0.01370104, -1.08207428, -0.20561866,\n",
              "       -1.42787925,  1.0441462 ,  0.25431982,  0.06800626,  0.53179583,\n",
              "        0.68946938, -1.11231712, -0.51146436, -0.95380529,  0.37996174,\n",
              "       -0.43467575,  1.04520393, -1.34156255,  0.68539162,  0.99856275,\n",
              "        0.43753278,  0.94558417, -0.49613882, -0.01862161, -0.08881578,\n",
              "        0.12674059, -0.47985997, -0.13004847,  1.11235844, -0.29415039,\n",
              "        0.28005816, -0.97577878, -1.15211048,  0.31710107,  1.19951864,\n",
              "       -0.74306159, -0.74526819,  0.57495714, -1.33739025,  0.3930467 ,\n",
              "        0.33243681, -0.95264606,  1.21530968, -1.2718741 ,  0.97988263,\n",
              "        0.33373321, -1.32981095, -0.72358423, -1.21685081,  0.87600486,\n",
              "        0.35984776,  0.40272697,  0.49817699, -0.41972562, -1.62733792,\n",
              "        0.77521232,  0.55740763, -0.44517965, -1.27162547, -0.56469062,\n",
              "        1.14832429,  1.22781275, -0.80320143,  0.76533246, -1.54206836,\n",
              "        0.84654564,  0.1152528 , -1.46209339,  0.51610896,  0.10949722,\n",
              "       -0.25145169, -0.30526239,  0.04531419, -1.75892429,  0.95619604,\n",
              "       -0.71661412,  0.9621253 , -0.10198009,  0.60215887, -0.48789129,\n",
              "        0.47020222,  0.87946451, -0.73126535,  1.37313911,  0.11397884,\n",
              "       -0.7751492 ,  1.10222686, -1.41816567, -1.1300245 ,  0.40814546,\n",
              "        0.83381678,  0.88083931,  0.87610299, -0.9635777 , -1.14022986,\n",
              "       -0.52377166, -1.07035671,  0.13392778,  0.73629238,  0.56951492,\n",
              "        0.67325632, -1.43801176,  1.22336374, -0.53552998, -1.29118448,\n",
              "       -1.39045863, -0.59597535, -1.13316888,  1.06532537, -1.27919199,\n",
              "        0.63506851, -0.6344481 , -0.034189  , -0.94267839, -0.24543696,\n",
              "        0.42005874,  1.27433688, -0.48905873,  0.23292581,  0.41515436,\n",
              "       -1.60876341,  0.69690067, -0.10089724, -0.08977026, -1.09072687,\n",
              "        0.49496499,  0.53233893,  0.66298878,  0.89522937,  0.76417767,\n",
              "       -1.34580809, -0.56197308,  1.2237352 ,  1.20337547, -0.35202165,\n",
              "        1.13823193, -0.83049804, -0.71737788,  1.47944743, -0.00683521,\n",
              "       -0.51894106,  0.05639149,  0.71146395, -0.78055942, -0.45386128,\n",
              "        0.93557407, -0.25690871, -0.26135799,  0.01979028,  0.5897139 ,\n",
              "       -0.13305749, -0.879352  ,  0.97199305,  0.85422529,  1.04478852,\n",
              "       -1.00441729, -0.87214808, -1.33463642,  0.73676655,  0.89146743,\n",
              "       -0.23946515, -0.78515624, -0.6639049 ,  0.30336221, -1.51546398,\n",
              "       -1.23999507, -1.01015996,  0.33864264,  0.91238988, -0.14125534,\n",
              "        1.14983471, -0.84641025, -0.51626979, -0.65537076,  0.04879934,\n",
              "        0.76536964,  0.59422802, -1.00396858, -1.02303233, -0.62012071,\n",
              "       -0.22162796,  0.68006996,  0.84127524, -0.65159578, -0.44720334,\n",
              "       -1.29454711, -0.90103369,  1.04875236, -0.10533747, -0.57823376,\n",
              "        0.26185623,  0.66231721, -0.03071711,  0.64446584, -0.85882934,\n",
              "        0.50797339,  0.86226659,  0.77728963, -1.3632345 , -1.49567902,\n",
              "       -0.47990867,  0.46588629,  1.39925885,  0.54311556, -0.10685606,\n",
              "       -0.10870714,  1.08002299, -0.50307709])"
            ]
          },
          "metadata": {},
          "execution_count": 15
        }
      ]
    },
    {
      "cell_type": "code",
      "source": [
        "from sklearn.metrics import r2_score\n",
        "from sklearn.metrics import mean_squared_error\n",
        "from sklearn.metrics import mean_absolute_error\n",
        "score = r2_score(y_test,y_prediction)\n",
        "mean_error = mean_squared_error(y_test,y_prediction)\n",
        "mae = mean_absolute_error(y_test,y_prediction)\n",
        "print(\"R2 SCORE is\", score)\n",
        "print(\"mean_sqrd_error is \", mean_error)\n",
        "print(\"Root mean squared error of is\",np.sqrt(mean_error))\n",
        "print(\"Mean Absolute error is\", mae)"
      ],
      "metadata": {
        "colab": {
          "base_uri": "https://localhost:8080/"
        },
        "id": "Cy7nO8L64TvA",
        "outputId": "52897a9d-2486-4568-bcdb-660763f7da4c"
      },
      "execution_count": null,
      "outputs": [
        {
          "output_type": "stream",
          "name": "stdout",
          "text": [
            "R2 SCORE is 0.6320078728470314\n",
            "mean_sqrd_error is  0.3485628964193602\n",
            "Root mean squared error of is 0.5903921547745703\n",
            "Mean Absolute error is 0.4546710398713125\n"
          ]
        }
      ]
    },
    {
      "cell_type": "code",
      "source": [
        "y_test = pt_y.inverse_transform(y_test)\n",
        "y_test[:5]"
      ],
      "metadata": {
        "colab": {
          "base_uri": "https://localhost:8080/"
        },
        "id": "HwXB2X9T4Y1a",
        "outputId": "05538a24-59be-400e-fbc2-c48a35abd683"
      },
      "execution_count": null,
      "outputs": [
        {
          "output_type": "execute_result",
          "data": {
            "text/plain": [
              "array([[35.34219999],\n",
              "       [75.17      ],\n",
              "       [33.38800008],\n",
              "       [43.73356647],\n",
              "       [53.709     ]])"
            ]
          },
          "metadata": {},
          "execution_count": 18
        }
      ]
    },
    {
      "cell_type": "code",
      "source": [
        "y_prediction=y_prediction.reshape(-1,1)\n",
        "y_prediction = pt_y.inverse_transform(y_prediction)\n",
        "y_prediction[:5]"
      ],
      "metadata": {
        "colab": {
          "base_uri": "https://localhost:8080/"
        },
        "id": "4lCUEjka4qFH",
        "outputId": "bd82820d-335b-4ee7-b99e-03f3d83f3895"
      },
      "execution_count": null,
      "outputs": [
        {
          "output_type": "execute_result",
          "data": {
            "text/plain": [
              "array([[25.08218385],\n",
              "       [35.79244755],\n",
              "       [41.6504707 ],\n",
              "       [30.00046025],\n",
              "       [35.77662935]])"
            ]
          },
          "metadata": {},
          "execution_count": 19
        }
      ]
    },
    {
      "cell_type": "code",
      "source": [
        "df1 = pd.DataFrame({'Actual': y_test[100:120].flatten(), 'Predicted': y_prediction[100:120].flatten()})\n",
        "df1.plot(kind='line')\n",
        "plt.grid(which='major', linestyle='-', linewidth='0.5', color='green')\n",
        "plt.grid(which='minor', linestyle=':', linewidth='0.5', color='black')\n",
        "plt.show()"
      ],
      "metadata": {
        "colab": {
          "base_uri": "https://localhost:8080/",
          "height": 483
        },
        "id": "t9i7gins4xY7",
        "outputId": "3ba302c4-8f99-4885-f4b1-957e01523d5f"
      },
      "execution_count": null,
      "outputs": [
        {
          "output_type": "display_data",
          "data": {
            "text/plain": [
              "<Figure size 1080x576 with 1 Axes>"
            ],
            "image/png": "[encoded data removed]"
          },
          "metadata": {
            "needs_background": "light"
          }
        }
      ]
    },
    {
      "cell_type": "code",
      "source": [
        "result = pd.DataFrame()\n",
        "result[\"ACTUAL AQI\"] = y_test.flatten()\n",
        "result[\"PREDICTED AQI\"] = y_prediction\n",
        "result[\"DIFFERENCE\"] = result[\"ACTUAL AQI\"] - result[\"PREDICTED AQI\"]\n",
        "result[\"PERCENTAGE ERROR\"] = ( abs(result[\"ACTUAL AQI\"] - result[\"PREDICTED AQI\"] ) / result[\"ACTUAL AQI\"] ) * 100\n",
        "result.head(15)"
      ],
      "metadata": {
        "colab": {
          "base_uri": "https://localhost:8080/",
          "height": 520
        },
        "id": "OCPMayVk40kK",
        "outputId": "e961e2d5-4fb9-4b79-98a8-44ff0d88fddd"
      },
      "execution_count": null,
      "outputs": [
        {
          "output_type": "execute_result",
          "data": {
            "text/plain": [
              "    ACTUAL AQI  PREDICTED AQI  DIFFERENCE  PERCENTAGE ERROR\n",
              "0    35.342200      25.082184   10.260016         29.030497\n",
              "1    75.170000      35.792448   39.377552         52.384665\n",
              "2    33.388000      41.650471   -8.262471         24.746827\n",
              "3    43.733566      30.000460   13.733106         31.401752\n",
              "4    53.709000      35.776629   17.932371         33.388018\n",
              "5    67.366000      76.672540   -9.306540         13.814892\n",
              "6    55.102000      34.686849   20.415151         37.049747\n",
              "7    21.141000      23.674644   -2.533644         11.984505\n",
              "8    33.940600      36.903668   -2.963068          8.730157\n",
              "9    63.174000      30.652092   32.521908         51.479894\n",
              "10   14.861000      24.605406   -9.744406         65.570324\n",
              "11   87.937000      76.571730   11.365270         12.924332\n",
              "12   18.927000      32.528793  -13.601793         71.864496\n",
              "13   23.327000      24.484831   -1.157831          4.963481\n",
              "14   36.012100      34.266445    1.745655          4.847412"
            ],
            "text/html": [
              "\n",
              "  <div id=\"df-aac3e654-d6b8-466e-8953-238663c0e62b\">\n",
              "    <div class=\"colab-df-container\">\n",
              "      <div>\n",
              "<style scoped>\n",
              "    .dataframe tbody tr th:only-of-type {\n",
              "        vertical-align: middle;\n",
              "    }\n",
              "\n",
              "    .dataframe tbody tr th {\n",
              "        vertical-align: top;\n",
              "    }\n",
              "\n",
              "    .dataframe thead th {\n",
              "        text-align: right;\n",
              "    }\n",
              "</style>\n",
              "<table border=\"1\" class=\"dataframe\">\n",
              "  <thead>\n",
              "    <tr style=\"text-align: right;\">\n",
              "      <th></th>\n",
              "      <th>ACTUAL AQI</th>\n",
              "      <th>PREDICTED AQI</th>\n",
              "      <th>DIFFERENCE</th>\n",
              "      <th>PERCENTAGE ERROR</th>\n",
              "    </tr>\n",
              "  </thead>\n",
              "  <tbody>\n",
              "    <tr>\n",
              "      <th>0</th>\n",
              "      <td>35.342200</td>\n",
              "      <td>25.082184</td>\n",
              "      <td>10.260016</td>\n",
              "      <td>29.030497</td>\n",
              "    </tr>\n",
              "    <tr>\n",
              "      <th>1</th>\n",
              "      <td>75.170000</td>\n",
              "      <td>35.792448</td>\n",
              "      <td>39.377552</td>\n",
              "      <td>52.384665</td>\n",
              "    </tr>\n",
              "    <tr>\n",
              "      <th>2</th>\n",
              "      <td>33.388000</td>\n",
              "      <td>41.650471</td>\n",
              "      <td>-8.262471</td>\n",
              "      <td>24.746827</td>\n",
              "    </tr>\n",
              "    <tr>\n",
              "      <th>3</th>\n",
              "      <td>43.733566</td>\n",
              "      <td>30.000460</td>\n",
              "      <td>13.733106</td>\n",
              "      <td>31.401752</td>\n",
              "    </tr>\n",
              "    <tr>\n",
              "      <th>4</th>\n",
              "      <td>53.709000</td>\n",
              "      <td>35.776629</td>\n",
              "      <td>17.932371</td>\n",
              "      <td>33.388018</td>\n",
              "    </tr>\n",
              "    <tr>\n",
              "      <th>5</th>\n",
              "      <td>67.366000</td>\n",
              "      <td>76.672540</td>\n",
              "      <td>-9.306540</td>\n",
              "      <td>13.814892</td>\n",
              "    </tr>\n",
              "    <tr>\n",
              "      <th>6</th>\n",
              "      <td>55.102000</td>\n",
              "      <td>34.686849</td>\n",
              "      <td>20.415151</td>\n",
              "      <td>37.049747</td>\n",
              "    </tr>\n",
              "    <tr>\n",
              "      <th>7</th>\n",
              "      <td>21.141000</td>\n",
              "      <td>23.674644</td>\n",
              "      <td>-2.533644</td>\n",
              "      <td>11.984505</td>\n",
              "    </tr>\n",
              "    <tr>\n",
              "      <th>8</th>\n",
              "      <td>33.940600</td>\n",
              "      <td>36.903668</td>\n",
              "      <td>-2.963068</td>\n",
              "      <td>8.730157</td>\n",
              "    </tr>\n",
              "    <tr>\n",
              "      <th>9</th>\n",
              "      <td>63.174000</td>\n",
              "      <td>30.652092</td>\n",
              "      <td>32.521908</td>\n",
              "      <td>51.479894</td>\n",
              "    </tr>\n",
              "    <tr>\n",
              "      <th>10</th>\n",
              "      <td>14.861000</td>\n",
              "      <td>24.605406</td>\n",
              "      <td>-9.744406</td>\n",
              "      <td>65.570324</td>\n",
              "    </tr>\n",
              "    <tr>\n",
              "      <th>11</th>\n",
              "      <td>87.937000</td>\n",
              "      <td>76.571730</td>\n",
              "      <td>11.365270</td>\n",
              "      <td>12.924332</td>\n",
              "    </tr>\n",
              "    <tr>\n",
              "      <th>12</th>\n",
              "      <td>18.927000</td>\n",
              "      <td>32.528793</td>\n",
              "      <td>-13.601793</td>\n",
              "      <td>71.864496</td>\n",
              "    </tr>\n",
              "    <tr>\n",
              "      <th>13</th>\n",
              "      <td>23.327000</td>\n",
              "      <td>24.484831</td>\n",
              "      <td>-1.157831</td>\n",
              "      <td>4.963481</td>\n",
              "    </tr>\n",
              "    <tr>\n",
              "      <th>14</th>\n",
              "      <td>36.012100</td>\n",
              "      <td>34.266445</td>\n",
              "      <td>1.745655</td>\n",
              "      <td>4.847412</td>\n",
              "    </tr>\n",
              "  </tbody>\n",
              "</table>\n",
              "</div>\n",
              "      <button class=\"colab-df-convert\" onclick=\"convertToInteractive('df-aac3e654-d6b8-466e-8953-238663c0e62b')\"\n",
              "              title=\"Convert this dataframe to an interactive table.\"\n",
              "              style=\"display:none;\">\n",
              "        \n",
              "  <svg xmlns=\"http://www.w3.org/2000/svg\" height=\"24px\"viewBox=\"0 0 24 24\"\n",
              "       width=\"24px\">\n",
              "    <path d=\"M0 0h24v24H0V0z\" fill=\"none\"/>\n",
              "    <path d=\"M18.56 5.44l.94 2.06.94-2.06 2.06-.94-2.06-.94-.94-2.06-.94 2.06-2.06.94zm-11 1L8.5 8.5l.94-2.06 2.06-.94-2.06-.94L8.5 2.5l-.94 2.06-2.06.94zm10 10l.94 2.06.94-2.06 2.06-.94-2.06-.94-.94-2.06-.94 2.06-2.06.94z\"/><path d=\"M17.41 7.96l-1.37-1.37c-.4-.4-.92-.59-1.43-.59-.52 0-1.04.2-1.43.59L10.3 9.45l-7.72 7.72c-.78.78-.78 2.05 0 2.83L4 21.41c.39.39.9.59 1.41.59.51 0 1.02-.2 1.41-.59l7.78-7.78 2.81-2.81c.8-.78.8-2.07 0-2.86zM5.41 20L4 18.59l7.72-7.72 1.47 1.35L5.41 20z\"/>\n",
              "  </svg>\n",
              "      </button>\n",
              "      \n",
              "  <style>\n",
              "    .colab-df-container {\n",
              "      display:flex;\n",
              "      flex-wrap:wrap;\n",
              "      gap: 12px;\n",
              "    }\n",
              "\n",
              "    .colab-df-convert {\n",
              "      background-color: #E8F0FE;\n",
              "      border: none;\n",
              "      border-radius: 50%;\n",
              "      cursor: pointer;\n",
              "      display: none;\n",
              "      fill: #1967D2;\n",
              "      height: 32px;\n",
              "      padding: 0 0 0 0;\n",
              "      width: 32px;\n",
              "    }\n",
              "\n",
              "    .colab-df-convert:hover {\n",
              "      background-color: #E2EBFA;\n",
              "      box-shadow: 0px 1px 2px rgba(60, 64, 67, 0.3), 0px 1px 3px 1px rgba(60, 64, 67, 0.15);\n",
              "      fill: #174EA6;\n",
              "    }\n",
              "\n",
              "    [theme=dark] .colab-df-convert {\n",
              "      background-color: #3B4455;\n",
              "      fill: #D2E3FC;\n",
              "    }\n",
              "\n",
              "    [theme=dark] .colab-df-convert:hover {\n",
              "      background-color: #434B5C;\n",
              "      box-shadow: 0px 1px 3px 1px rgba(0, 0, 0, 0.15);\n",
              "      filter: drop-shadow(0px 1px 2px rgba(0, 0, 0, 0.3));\n",
              "      fill: #FFFFFF;\n",
              "    }\n",
              "  </style>\n",
              "\n",
              "      <script>\n",
              "        const buttonEl =\n",
              "          document.querySelector('#df-aac3e654-d6b8-466e-8953-238663c0e62b button.colab-df-convert');\n",
              "        buttonEl.style.display =\n",
              "          google.colab.kernel.accessAllowed ? 'block' : 'none';\n",
              "\n",
              "        async function convertToInteractive(key) {\n",
              "          const element = document.querySelector('#df-aac3e654-d6b8-466e-8953-238663c0e62b');\n",
              "          const dataTable =\n",
              "            await google.colab.kernel.invokeFunction('convertToInteractive',\n",
              "                                                     [key], {});\n",
              "          if (!dataTable) return;\n",
              "\n",
              "          const docLinkHtml = 'Like what you see? Visit the ' +\n",
              "            '<a target=\"_blank\" href=https://colab.research.google.com/notebooks/data_table.ipynb>data table notebook</a>'\n",
              "            + ' to learn more about interactive tables.';\n",
              "          element.innerHTML = '';\n",
              "          dataTable['output_type'] = 'display_data';\n",
              "          await google.colab.output.renderOutput(dataTable, element);\n",
              "          const docLink = document.createElement('div');\n",
              "          docLink.innerHTML = docLinkHtml;\n",
              "          element.appendChild(docLink);\n",
              "        }\n",
              "      </script>\n",
              "    </div>\n",
              "  </div>\n",
              "  "
            ]
          },
          "metadata": {},
          "execution_count": 21
        }
      ]
    },
    {
      "cell_type": "markdown",
      "source": [
        "###Gradient boosting"
      ],
      "metadata": {
        "id": "dHUlHpKU5Y3y"
      }
    },
    {
      "cell_type": "code",
      "source": [
        "from sklearn.ensemble import GradientBoostingRegressor\n",
        "regressor = GradientBoostingRegressor()\n",
        "regressor.fit(x_train,y_train)"
      ],
      "metadata": {
        "colab": {
          "base_uri": "https://localhost:8080/"
        },
        "id": "55xdBsmO5bR5",
        "outputId": "fb913e11-c2f8-42a0-c73d-dbb327f6584b"
      },
      "execution_count": null,
      "outputs": [
        {
          "output_type": "execute_result",
          "data": {
            "text/plain": [
              "GradientBoostingRegressor()"
            ]
          },
          "metadata": {},
          "execution_count": 9
        }
      ]
    },
    {
      "cell_type": "code",
      "source": [
        "\n",
        "\n",
        "y_prediction =  regressor.predict(x_test)\n",
        "y_prediction \n",
        "\n"
      ],
      "metadata": {
        "colab": {
          "base_uri": "https://localhost:8080/"
        },
        "id": "Ri65xFiEOe1K",
        "outputId": "fdf47455-718d-4ea6-af31-c48c07e60210"
      },
      "execution_count": null,
      "outputs": [
        {
          "output_type": "execute_result",
          "data": {
            "text/plain": [
              "array([-6.66695207e-01,  3.47243199e-02, -1.58262795e-02, -7.24428659e-01,\n",
              "        3.47870395e-02,  1.10477868e+00, -2.15114931e-01, -7.33924763e-01,\n",
              "       -3.98116781e-02, -4.40934203e-01, -9.50482604e-01,  1.15550263e+00,\n",
              "       -9.69203256e-01, -8.60251625e-01, -4.68492035e-01, -9.16822025e-01,\n",
              "       -1.16107337e+00,  8.11310952e-01,  5.06357507e-01, -2.45642056e-02,\n",
              "       -4.62155990e-01,  1.10497141e+00,  7.38712060e-01, -1.08844249e+00,\n",
              "       -1.32934859e+00, -6.84587717e-01, -5.57474637e-01,  8.78002204e-01,\n",
              "       -1.38386061e+00, -1.21751297e-02,  1.02321977e+00,  2.74630751e-01,\n",
              "        1.01811583e+00,  1.14041288e+00,  9.10499880e-01, -4.74113202e-01,\n",
              "        5.46261260e-01,  5.92703987e-01,  5.28400942e-01,  4.67001910e-01,\n",
              "       -8.04295221e-01,  7.47687906e-01,  8.00831124e-01,  1.07799761e+00,\n",
              "       -1.33517574e+00,  1.12634288e+00,  8.14557454e-01, -1.04445120e+00,\n",
              "       -5.24452909e-01,  7.72447385e-01, -5.60232166e-01,  1.30434657e-01,\n",
              "       -7.94816030e-02,  7.34370709e-01,  5.59713868e-01, -1.24446381e+00,\n",
              "       -1.32492146e+00,  6.44498470e-01, -6.47092760e-01,  5.08711683e-02,\n",
              "        7.42206900e-01,  1.90098563e-01, -1.41432799e+00, -9.79985374e-01,\n",
              "       -6.27674007e-01, -2.88506225e-01, -1.46837985e+00,  2.40984264e-01,\n",
              "       -9.18243163e-01,  4.06890120e-01,  1.09413482e+00,  1.08168126e+00,\n",
              "       -4.12061486e-01, -2.43557676e-02,  3.29001540e-01, -2.17605859e-01,\n",
              "        4.65167989e-02, -6.11345816e-01, -5.31877963e-01, -7.46248240e-01,\n",
              "        5.92781372e-01, -4.93176304e-01, -5.99378031e-01, -4.72056849e-04,\n",
              "        2.45521310e-01, -1.32040718e+00,  1.56339242e-01, -2.02800331e-01,\n",
              "       -1.01538875e+00, -1.46382474e-01, -1.34027441e+00,  1.21715396e+00,\n",
              "        3.84722553e-01, -1.28653776e-01,  4.17998142e-01,  6.84180801e-01,\n",
              "       -8.57345129e-01,  3.74612019e-02, -1.15555107e+00,  5.80428324e-01,\n",
              "       -3.81779273e-01,  1.08898524e+00, -1.20825686e+00,  8.47678158e-02,\n",
              "        1.10649457e+00,  4.71209569e-01,  1.07425283e+00, -3.07141373e-01,\n",
              "        1.00932512e-01, -1.45013873e-01,  4.77846151e-01, -6.11249748e-01,\n",
              "       -2.29555965e-01,  9.90275559e-01, -6.00443665e-01,  2.08681428e-01,\n",
              "       -1.21782039e+00, -1.11447190e+00,  1.63176850e-01,  9.48469245e-01,\n",
              "       -6.52006508e-01, -6.84159032e-01,  5.56604286e-01, -1.30888296e+00,\n",
              "        1.86912823e-01,  3.41074149e-01, -8.57166950e-01,  1.17299585e+00,\n",
              "       -1.34299493e+00,  8.30564896e-01,  5.05344126e-01, -1.42895932e+00,\n",
              "       -5.79959354e-01, -1.11637672e+00,  8.58415935e-01,  1.77076881e-01,\n",
              "        2.46825051e-01,  6.83936214e-01, -6.61211522e-01, -1.48567579e+00,\n",
              "        6.10958453e-01,  6.48498338e-01, -3.96569449e-01, -1.17033202e+00,\n",
              "       -4.04860646e-01,  1.07401919e+00,  1.12071247e+00, -9.86938362e-01,\n",
              "        6.24296874e-01, -1.63691202e+00,  6.73000891e-01,  3.10069567e-01,\n",
              "       -1.36487591e+00,  6.94692420e-01,  4.06937953e-02, -4.24191654e-02,\n",
              "       -3.23679894e-01,  1.96718906e-01, -1.50194180e+00,  8.71937381e-01,\n",
              "       -1.13404962e+00,  8.79588374e-01, -5.76805968e-01,  3.74731633e-01,\n",
              "       -6.56207594e-01,  1.89557922e-01,  7.39716545e-01, -1.01501305e+00,\n",
              "        1.23090558e+00,  1.98239175e-01, -6.03954502e-01,  8.65719603e-01,\n",
              "       -1.32945986e+00, -1.16809735e+00,  4.18665412e-01,  9.68319107e-01,\n",
              "        7.45078335e-01,  6.31432339e-01, -9.95786603e-01, -1.24860469e+00,\n",
              "       -3.45284561e-01, -1.06301611e+00,  2.20052591e-01,  8.71015551e-01,\n",
              "        5.99304553e-01,  6.39623645e-01, -1.68201281e+00,  1.13245123e+00,\n",
              "       -3.86291742e-01, -1.24379974e+00, -1.29478599e+00, -8.01258773e-01,\n",
              "       -1.17164799e+00,  1.11082646e+00, -1.30683757e+00,  8.43644217e-01,\n",
              "       -5.59996098e-01,  1.73240864e-02, -1.10745489e+00,  2.54322019e-01,\n",
              "        4.71990659e-01,  1.09841655e+00, -9.95949760e-01,  9.02411032e-02,\n",
              "        7.07821753e-01, -1.50061600e+00,  5.18346894e-01, -3.42685259e-03,\n",
              "        3.82374955e-02, -6.74912348e-01,  5.82796737e-01,  4.97373584e-01,\n",
              "        7.45620206e-01,  7.56733892e-01,  6.34851049e-01, -1.26480945e+00,\n",
              "       -3.98519639e-01,  8.59501225e-01,  8.53644069e-01, -8.82450799e-02,\n",
              "        8.94822040e-01, -7.63577853e-01, -5.29019080e-01,  6.79108487e-01,\n",
              "       -7.96689916e-01, -4.33830325e-01,  1.35157550e-01,  5.45879280e-01,\n",
              "       -5.10761876e-01, -2.96476845e-01,  6.60578663e-01, -2.74750029e-01,\n",
              "       -6.16441381e-02,  3.76814256e-02,  6.28781073e-01, -1.37928686e-01,\n",
              "       -9.20005901e-01,  1.07528564e+00,  7.64947171e-01,  7.54436716e-01,\n",
              "       -9.55192104e-01, -3.67765178e-01, -1.39142905e+00,  8.91824803e-01,\n",
              "        8.63028516e-01, -3.31031137e-01, -4.65438437e-01,  1.34062174e-01,\n",
              "        4.28364941e-01, -1.57086991e+00, -1.10779048e+00, -9.50338848e-01,\n",
              "        1.03207959e-01,  8.19821584e-01, -1.92142749e-01,  1.14679296e+00,\n",
              "       -5.58082439e-01, -1.03080286e-01, -9.68970986e-01,  1.43195525e-01,\n",
              "        8.68459971e-01,  9.75372089e-01, -9.36164530e-01, -7.40560738e-01,\n",
              "       -3.81965330e-01, -2.64325915e-01,  4.18074276e-01,  7.36366816e-01,\n",
              "       -6.11086970e-01, -4.14568342e-01, -1.61785046e+00, -5.78199543e-01,\n",
              "        8.56138613e-01, -1.90873597e-01, -7.63934429e-01,  2.89387251e-01,\n",
              "        9.50530181e-01, -1.94924450e-01,  6.40686770e-01, -6.46707278e-01,\n",
              "        5.33008660e-01,  1.08168126e+00,  5.18796569e-01, -1.29977220e+00,\n",
              "       -1.36042611e+00, -4.52362923e-01,  5.79978105e-01,  1.41276354e+00,\n",
              "        4.79868901e-01, -4.53287016e-01, -1.00505433e-01,  8.83014940e-01,\n",
              "       -3.33604658e-01])"
            ]
          },
          "metadata": {},
          "execution_count": 10
        }
      ]
    },
    {
      "cell_type": "code",
      "source": [
        "from sklearn.metrics import r2_score\n",
        "from sklearn.metrics import mean_squared_error\n",
        "from sklearn.metrics import mean_absolute_error\n",
        "score = r2_score(y_test,y_prediction)\n",
        "mean_error = mean_squared_error(y_test,y_prediction)\n",
        "mae = mean_absolute_error(y_test,y_prediction)\n",
        "print(\"R2 SCORE is\", score)\n",
        "print(\"mean_sqrd_error is \", mean_error)\n",
        "print(\"Root mean squared error of is\",np.sqrt(mean_error))\n",
        "print(\"Mean Absolute error is\", mae)"
      ],
      "metadata": {
        "colab": {
          "base_uri": "https://localhost:8080/"
        },
        "id": "_R5N5a1JOolo",
        "outputId": "872cf49b-f098-4259-a034-cab14d2d1571"
      },
      "execution_count": null,
      "outputs": [
        {
          "output_type": "stream",
          "name": "stdout",
          "text": [
            "R2 SCORE is 0.6171825138880721\n",
            "mean_sqrd_error is  0.36260550678488984\n",
            "Root mean squared error of is 0.6021673411809128\n",
            "Mean Absolute error is 0.4710189080338373\n"
          ]
        }
      ]
    },
    {
      "cell_type": "code",
      "source": [
        "y_test = pt_y.inverse_transform(y_test)\n",
        "y_test[:5]"
      ],
      "metadata": {
        "colab": {
          "base_uri": "https://localhost:8080/"
        },
        "id": "UJltLRntOtRc",
        "outputId": "132d2d1a-f301-495e-8e48-8a420915a383"
      },
      "execution_count": null,
      "outputs": [
        {
          "output_type": "execute_result",
          "data": {
            "text/plain": [
              "array([[35.34219999],\n",
              "       [75.17      ],\n",
              "       [33.38800008],\n",
              "       [43.73356647],\n",
              "       [53.709     ]])"
            ]
          },
          "metadata": {},
          "execution_count": 13
        }
      ]
    },
    {
      "cell_type": "code",
      "source": [
        "y_prediction=y_prediction.reshape(-1,1)\n",
        "y_prediction = pt_y.inverse_transform(y_prediction)\n",
        "y_prediction[:5]"
      ],
      "metadata": {
        "colab": {
          "base_uri": "https://localhost:8080/"
        },
        "id": "f5PljAAcOwr2",
        "outputId": "62a4bba0-6642-4687-d38a-c69552320da5"
      },
      "execution_count": null,
      "outputs": [
        {
          "output_type": "execute_result",
          "data": {
            "text/plain": [
              "array([[28.2066487 ],\n",
              "       [41.54639569],\n",
              "       [40.41140274],\n",
              "       [27.31335251],\n",
              "       [41.54782276]])"
            ]
          },
          "metadata": {},
          "execution_count": 15
        }
      ]
    },
    {
      "cell_type": "code",
      "source": [
        "df1 = pd.DataFrame({'Actual': y_test[100:120].flatten(), 'Predicted': y_prediction[100:120].flatten()})\n",
        "df1.plot(kind='line')\n",
        "plt.grid(which='major', linestyle='-', linewidth='0.5', color='green')\n",
        "plt.grid(which='minor', linestyle=':', linewidth='0.5', color='black')\n",
        "plt.show()"
      ],
      "metadata": {
        "colab": {
          "base_uri": "https://localhost:8080/",
          "height": 265
        },
        "id": "pQVHum-TP2UY",
        "outputId": "63702961-bb43-49fb-8862-d13cef89609c"
      },
      "execution_count": null,
      "outputs": [
        {
          "output_type": "display_data",
          "data": {
            "text/plain": [
              "<Figure size 432x288 with 1 Axes>"
            ],
            "image/png": "[encoded data removed]"
          },
          "metadata": {
            "needs_background": "light"
          }
        }
      ]
    },
    {
      "cell_type": "code",
      "source": [
        "\n",
        "\n",
        "result = pd.DataFrame()\n",
        "result[\"ACTUAL AQI\"] = y_test.flatten()\n",
        "result[\"PREDICTED AQI\"] = y_prediction\n",
        "result[\"DIFFERNCE\"] = result[\"ACTUAL AQI\"] - result[\"PREDICTED AQI\"]\n",
        "result[\"PERCENTAGE ERROR\"] = ( abs(result[\"ACTUAL AQI\"] - result[\"PREDICTED AQI\"] ) / result[\"ACTUAL AQI\"] ) * 100\n",
        "result.head(15)\n",
        "\n"
      ],
      "metadata": {
        "colab": {
          "base_uri": "https://localhost:8080/",
          "height": 520
        },
        "id": "c9h1bKkRP6AR",
        "outputId": "3dadaf1d-c622-4760-c746-47fcf24ac331"
      },
      "execution_count": null,
      "outputs": [
        {
          "output_type": "execute_result",
          "data": {
            "text/plain": [
              "    ACTUAL AQI  PREDICTED AQI  DIFFERNCE  PERCENTAGE ERROR\n",
              "0    35.342200      28.206649   7.135551         20.189890\n",
              "1    75.170000      41.546396  33.623604         44.730084\n",
              "2    33.388000      40.411403  -7.023403         21.035709\n",
              "3    43.733566      27.313353  16.420214         37.546021\n",
              "4    53.709000      41.547823  12.161177         22.642718\n",
              "5    67.366000      74.211553  -6.845553         10.161733\n",
              "6    55.102000      36.220084  18.881916         34.267206\n",
              "7    21.141000      27.169020  -6.028020         28.513411\n",
              "8    33.940600      39.883347  -5.942747         17.509257\n",
              "9    63.174000      31.974052  31.199948         49.387323\n",
              "10   14.861000      24.067274  -9.206274         61.949220\n",
              "11   87.937000      76.260754  11.676246         13.277967\n",
              "12   18.927000      23.815499  -4.888499         25.828176\n",
              "13   23.327000      25.316504  -1.989504          8.528759\n",
              "14   36.012100      31.489714   4.522386         12.557962"
            ],
            "text/html": [
              "\n",
              "  <div id=\"df-8ffe83b0-ee62-4f8b-8062-3f90f3356aa9\">\n",
              "    <div class=\"colab-df-container\">\n",
              "      <div>\n",
              "<style scoped>\n",
              "    .dataframe tbody tr th:only-of-type {\n",
              "        vertical-align: middle;\n",
              "    }\n",
              "\n",
              "    .dataframe tbody tr th {\n",
              "        vertical-align: top;\n",
              "    }\n",
              "\n",
              "    .dataframe thead th {\n",
              "        text-align: right;\n",
              "    }\n",
              "</style>\n",
              "<table border=\"1\" class=\"dataframe\">\n",
              "  <thead>\n",
              "    <tr style=\"text-align: right;\">\n",
              "      <th></th>\n",
              "      <th>ACTUAL AQI</th>\n",
              "      <th>PREDICTED AQI</th>\n",
              "      <th>DIFFERNCE</th>\n",
              "      <th>PERCENTAGE ERROR</th>\n",
              "    </tr>\n",
              "  </thead>\n",
              "  <tbody>\n",
              "    <tr>\n",
              "      <th>0</th>\n",
              "      <td>35.342200</td>\n",
              "      <td>28.206649</td>\n",
              "      <td>7.135551</td>\n",
              "      <td>20.189890</td>\n",
              "    </tr>\n",
              "    <tr>\n",
              "      <th>1</th>\n",
              "      <td>75.170000</td>\n",
              "      <td>41.546396</td>\n",
              "      <td>33.623604</td>\n",
              "      <td>44.730084</td>\n",
              "    </tr>\n",
              "    <tr>\n",
              "      <th>2</th>\n",
              "      <td>33.388000</td>\n",
              "      <td>40.411403</td>\n",
              "      <td>-7.023403</td>\n",
              "      <td>21.035709</td>\n",
              "    </tr>\n",
              "    <tr>\n",
              "      <th>3</th>\n",
              "      <td>43.733566</td>\n",
              "      <td>27.313353</td>\n",
              "      <td>16.420214</td>\n",
              "      <td>37.546021</td>\n",
              "    </tr>\n",
              "    <tr>\n",
              "      <th>4</th>\n",
              "      <td>53.709000</td>\n",
              "      <td>41.547823</td>\n",
              "      <td>12.161177</td>\n",
              "      <td>22.642718</td>\n",
              "    </tr>\n",
              "    <tr>\n",
              "      <th>5</th>\n",
              "      <td>67.366000</td>\n",
              "      <td>74.211553</td>\n",
              "      <td>-6.845553</td>\n",
              "      <td>10.161733</td>\n",
              "    </tr>\n",
              "    <tr>\n",
              "      <th>6</th>\n",
              "      <td>55.102000</td>\n",
              "      <td>36.220084</td>\n",
              "      <td>18.881916</td>\n",
              "      <td>34.267206</td>\n",
              "    </tr>\n",
              "    <tr>\n",
              "      <th>7</th>\n",
              "      <td>21.141000</td>\n",
              "      <td>27.169020</td>\n",
              "      <td>-6.028020</td>\n",
              "      <td>28.513411</td>\n",
              "    </tr>\n",
              "    <tr>\n",
              "      <th>8</th>\n",
              "      <td>33.940600</td>\n",
              "      <td>39.883347</td>\n",
              "      <td>-5.942747</td>\n",
              "      <td>17.509257</td>\n",
              "    </tr>\n",
              "    <tr>\n",
              "      <th>9</th>\n",
              "      <td>63.174000</td>\n",
              "      <td>31.974052</td>\n",
              "      <td>31.199948</td>\n",
              "      <td>49.387323</td>\n",
              "    </tr>\n",
              "    <tr>\n",
              "      <th>10</th>\n",
              "      <td>14.861000</td>\n",
              "      <td>24.067274</td>\n",
              "      <td>-9.206274</td>\n",
              "      <td>61.949220</td>\n",
              "    </tr>\n",
              "    <tr>\n",
              "      <th>11</th>\n",
              "      <td>87.937000</td>\n",
              "      <td>76.260754</td>\n",
              "      <td>11.676246</td>\n",
              "      <td>13.277967</td>\n",
              "    </tr>\n",
              "    <tr>\n",
              "      <th>12</th>\n",
              "      <td>18.927000</td>\n",
              "      <td>23.815499</td>\n",
              "      <td>-4.888499</td>\n",
              "      <td>25.828176</td>\n",
              "    </tr>\n",
              "    <tr>\n",
              "      <th>13</th>\n",
              "      <td>23.327000</td>\n",
              "      <td>25.316504</td>\n",
              "      <td>-1.989504</td>\n",
              "      <td>8.528759</td>\n",
              "    </tr>\n",
              "    <tr>\n",
              "      <th>14</th>\n",
              "      <td>36.012100</td>\n",
              "      <td>31.489714</td>\n",
              "      <td>4.522386</td>\n",
              "      <td>12.557962</td>\n",
              "    </tr>\n",
              "  </tbody>\n",
              "</table>\n",
              "</div>\n",
              "      <button class=\"colab-df-convert\" onclick=\"convertToInteractive('df-8ffe83b0-ee62-4f8b-8062-3f90f3356aa9')\"\n",
              "              title=\"Convert this dataframe to an interactive table.\"\n",
              "              style=\"display:none;\">\n",
              "        \n",
              "  <svg xmlns=\"http://www.w3.org/2000/svg\" height=\"24px\"viewBox=\"0 0 24 24\"\n",
              "       width=\"24px\">\n",
              "    <path d=\"M0 0h24v24H0V0z\" fill=\"none\"/>\n",
              "    <path d=\"M18.56 5.44l.94 2.06.94-2.06 2.06-.94-2.06-.94-.94-2.06-.94 2.06-2.06.94zm-11 1L8.5 8.5l.94-2.06 2.06-.94-2.06-.94L8.5 2.5l-.94 2.06-2.06.94zm10 10l.94 2.06.94-2.06 2.06-.94-2.06-.94-.94-2.06-.94 2.06-2.06.94z\"/><path d=\"M17.41 7.96l-1.37-1.37c-.4-.4-.92-.59-1.43-.59-.52 0-1.04.2-1.43.59L10.3 9.45l-7.72 7.72c-.78.78-.78 2.05 0 2.83L4 21.41c.39.39.9.59 1.41.59.51 0 1.02-.2 1.41-.59l7.78-7.78 2.81-2.81c.8-.78.8-2.07 0-2.86zM5.41 20L4 18.59l7.72-7.72 1.47 1.35L5.41 20z\"/>\n",
              "  </svg>\n",
              "      </button>\n",
              "      \n",
              "  <style>\n",
              "    .colab-df-container {\n",
              "      display:flex;\n",
              "      flex-wrap:wrap;\n",
              "      gap: 12px;\n",
              "    }\n",
              "\n",
              "    .colab-df-convert {\n",
              "      background-color: #E8F0FE;\n",
              "      border: none;\n",
              "      border-radius: 50%;\n",
              "      cursor: pointer;\n",
              "      display: none;\n",
              "      fill: #1967D2;\n",
              "      height: 32px;\n",
              "      padding: 0 0 0 0;\n",
              "      width: 32px;\n",
              "    }\n",
              "\n",
              "    .colab-df-convert:hover {\n",
              "      background-color: #E2EBFA;\n",
              "      box-shadow: 0px 1px 2px rgba(60, 64, 67, 0.3), 0px 1px 3px 1px rgba(60, 64, 67, 0.15);\n",
              "      fill: #174EA6;\n",
              "    }\n",
              "\n",
              "    [theme=dark] .colab-df-convert {\n",
              "      background-color: #3B4455;\n",
              "      fill: #D2E3FC;\n",
              "    }\n",
              "\n",
              "    [theme=dark] .colab-df-convert:hover {\n",
              "      background-color: #434B5C;\n",
              "      box-shadow: 0px 1px 3px 1px rgba(0, 0, 0, 0.15);\n",
              "      filter: drop-shadow(0px 1px 2px rgba(0, 0, 0, 0.3));\n",
              "      fill: #FFFFFF;\n",
              "    }\n",
              "  </style>\n",
              "\n",
              "      <script>\n",
              "        const buttonEl =\n",
              "          document.querySelector('#df-8ffe83b0-ee62-4f8b-8062-3f90f3356aa9 button.colab-df-convert');\n",
              "        buttonEl.style.display =\n",
              "          google.colab.kernel.accessAllowed ? 'block' : 'none';\n",
              "\n",
              "        async function convertToInteractive(key) {\n",
              "          const element = document.querySelector('#df-8ffe83b0-ee62-4f8b-8062-3f90f3356aa9');\n",
              "          const dataTable =\n",
              "            await google.colab.kernel.invokeFunction('convertToInteractive',\n",
              "                                                     [key], {});\n",
              "          if (!dataTable) return;\n",
              "\n",
              "          const docLinkHtml = 'Like what you see? Visit the ' +\n",
              "            '<a target=\"_blank\" href=https://colab.research.google.com/notebooks/data_table.ipynb>data table notebook</a>'\n",
              "            + ' to learn more about interactive tables.';\n",
              "          element.innerHTML = '';\n",
              "          dataTable['output_type'] = 'display_data';\n",
              "          await google.colab.output.renderOutput(dataTable, element);\n",
              "          const docLink = document.createElement('div');\n",
              "          docLink.innerHTML = docLinkHtml;\n",
              "          element.appendChild(docLink);\n",
              "        }\n",
              "      </script>\n",
              "    </div>\n",
              "  </div>\n",
              "  "
            ]
          },
          "metadata": {},
          "execution_count": 17
        }
      ]
    },
    {
      "cell_type": "markdown",
      "source": [
        "##Statistical method"
      ],
      "metadata": {
        "id": "CSpscCRoeUgj"
      }
    },
    {
      "cell_type": "markdown",
      "source": [
        "###Base model- ARIMA"
      ],
      "metadata": {
        "id": "V9MS-EFTeaQg"
      }
    },
    {
      "cell_type": "code",
      "source": [
        "# Import library ACF and PACF :\n",
        "from statsmodels.graphics.tsaplots import plot_acf,plot_pacf\n",
        "\n",
        "# PLot :\n",
        "fig = plt.figure(figsize=(20,20))\n",
        "ax1 = fig.add_subplot(211)\n",
        "\n",
        "fig = sm.graphics.tsa.plot_acf(pm25.PM25,lags=40,ax=ax1)\n",
        "\n",
        "ax2 = fig.add_subplot(212)\n",
        "fig = sm.graphics.tsa.plot_pacf(pm25.PM25,lags=40,ax=ax2)\n",
        "plt.show()"
      ],
      "metadata": {
        "colab": {
          "base_uri": "https://localhost:8080/",
          "height": 1000
        },
        "id": "bvV24UHOetiP",
        "outputId": "16a260d2-31ff-478a-99f1-c42de6bd6cc4"
      },
      "execution_count": null,
      "outputs": [
        {
          "output_type": "display_data",
          "data": {
            "text/plain": [
              "<Figure size 1440x1440 with 2 Axes>"
            ],
            "image/png": "[encoded data removed]"
          },
          "metadata": {
            "needs_background": "light"
          }
        }
      ]
    },
    {
      "cell_type": "code",
      "source": [
        "#change the datetime variable into the datatype\n",
        "pm25['Date']= pm25['Date'].apply(pd.to_datetime)"
      ],
      "metadata": {
        "id": "s1gbqTvPfWCu"
      },
      "execution_count": null,
      "outputs": []
    },
    {
      "cell_type": "code",
      "source": [
        "daily=pm25.set_index('Date')"
      ],
      "metadata": {
        "id": "Y1UpBBjqp3AI"
      },
      "execution_count": null,
      "outputs": []
    },
    {
      "cell_type": "code",
      "source": [
        "daily"
      ],
      "metadata": {
        "colab": {
          "base_uri": "https://localhost:8080/",
          "height": 455
        },
        "id": "KXGm_wlbqNr1",
        "outputId": "4a2d6c51-efd7-4b3f-a1a5-73c3c5564ba9"
      },
      "execution_count": null,
      "outputs": [
        {
          "output_type": "execute_result",
          "data": {
            "text/plain": [
              "              T2M  PRECTOTCORR     PS   RH2M  WS10M   WD10M     PM25\n",
              "Date                                                                \n",
              "2016-01-01  23.26         0.00  98.55  35.38   1.84  144.25   66.650\n",
              "2016-02-01  23.38         0.00  98.53  33.19   1.52  137.00   66.650\n",
              "2016-03-01  21.19         0.00  98.45  32.56   2.90   62.69   66.650\n",
              "2016-04-01  20.94         0.00  98.51  35.06   2.67   86.00   66.650\n",
              "2016-05-01  21.66         0.00  98.41  30.44   1.73  108.44   66.650\n",
              "...           ...          ...    ...    ...    ...     ...      ...\n",
              "2019-12-27  15.15         0.07  98.29  59.81   4.29   21.38   21.313\n",
              "2019-12-28  11.83         0.00  98.43  57.94   3.41   68.00   21.824\n",
              "2019-12-29  12.38         0.00  98.43  58.62   2.76   64.56   39.326\n",
              "2019-12-30  14.22         0.10  98.35  66.81   2.78   75.00   35.001\n",
              "2019-12-31  14.62         6.46  98.41  82.44   3.73   83.00  259.640\n",
              "\n",
              "[1461 rows x 7 columns]"
            ],
            "text/html": [
              "\n",
              "  <div id=\"df-14d0f2b7-4261-486c-9282-3595df47a588\">\n",
              "    <div class=\"colab-df-container\">\n",
              "      <div>\n",
              "<style scoped>\n",
              "    .dataframe tbody tr th:only-of-type {\n",
              "        vertical-align: middle;\n",
              "    }\n",
              "\n",
              "    .dataframe tbody tr th {\n",
              "        vertical-align: top;\n",
              "    }\n",
              "\n",
              "    .dataframe thead th {\n",
              "        text-align: right;\n",
              "    }\n",
              "</style>\n",
              "<table border=\"1\" class=\"dataframe\">\n",
              "  <thead>\n",
              "    <tr style=\"text-align: right;\">\n",
              "      <th></th>\n",
              "      <th>T2M</th>\n",
              "      <th>PRECTOTCORR</th>\n",
              "      <th>PS</th>\n",
              "      <th>RH2M</th>\n",
              "      <th>WS10M</th>\n",
              "      <th>WD10M</th>\n",
              "      <th>PM25</th>\n",
              "    </tr>\n",
              "    <tr>\n",
              "      <th>Date</th>\n",
              "      <th></th>\n",
              "      <th></th>\n",
              "      <th></th>\n",
              "      <th></th>\n",
              "      <th></th>\n",
              "      <th></th>\n",
              "      <th></th>\n",
              "    </tr>\n",
              "  </thead>\n",
              "  <tbody>\n",
              "    <tr>\n",
              "      <th>2016-01-01</th>\n",
              "      <td>23.26</td>\n",
              "      <td>0.00</td>\n",
              "      <td>98.55</td>\n",
              "      <td>35.38</td>\n",
              "      <td>1.84</td>\n",
              "      <td>144.25</td>\n",
              "      <td>66.650</td>\n",
              "    </tr>\n",
              "    <tr>\n",
              "      <th>2016-02-01</th>\n",
              "      <td>23.38</td>\n",
              "      <td>0.00</td>\n",
              "      <td>98.53</td>\n",
              "      <td>33.19</td>\n",
              "      <td>1.52</td>\n",
              "      <td>137.00</td>\n",
              "      <td>66.650</td>\n",
              "    </tr>\n",
              "    <tr>\n",
              "      <th>2016-03-01</th>\n",
              "      <td>21.19</td>\n",
              "      <td>0.00</td>\n",
              "      <td>98.45</td>\n",
              "      <td>32.56</td>\n",
              "      <td>2.90</td>\n",
              "      <td>62.69</td>\n",
              "      <td>66.650</td>\n",
              "    </tr>\n",
              "    <tr>\n",
              "      <th>2016-04-01</th>\n",
              "      <td>20.94</td>\n",
              "      <td>0.00</td>\n",
              "      <td>98.51</td>\n",
              "      <td>35.06</td>\n",
              "      <td>2.67</td>\n",
              "      <td>86.00</td>\n",
              "      <td>66.650</td>\n",
              "    </tr>\n",
              "    <tr>\n",
              "      <th>2016-05-01</th>\n",
              "      <td>21.66</td>\n",
              "      <td>0.00</td>\n",
              "      <td>98.41</td>\n",
              "      <td>30.44</td>\n",
              "      <td>1.73</td>\n",
              "      <td>108.44</td>\n",
              "      <td>66.650</td>\n",
              "    </tr>\n",
              "    <tr>\n",
              "      <th>...</th>\n",
              "      <td>...</td>\n",
              "      <td>...</td>\n",
              "      <td>...</td>\n",
              "      <td>...</td>\n",
              "      <td>...</td>\n",
              "      <td>...</td>\n",
              "      <td>...</td>\n",
              "    </tr>\n",
              "    <tr>\n",
              "      <th>2019-12-27</th>\n",
              "      <td>15.15</td>\n",
              "      <td>0.07</td>\n",
              "      <td>98.29</td>\n",
              "      <td>59.81</td>\n",
              "      <td>4.29</td>\n",
              "      <td>21.38</td>\n",
              "      <td>21.313</td>\n",
              "    </tr>\n",
              "    <tr>\n",
              "      <th>2019-12-28</th>\n",
              "      <td>11.83</td>\n",
              "      <td>0.00</td>\n",
              "      <td>98.43</td>\n",
              "      <td>57.94</td>\n",
              "      <td>3.41</td>\n",
              "      <td>68.00</td>\n",
              "      <td>21.824</td>\n",
              "    </tr>\n",
              "    <tr>\n",
              "      <th>2019-12-29</th>\n",
              "      <td>12.38</td>\n",
              "      <td>0.00</td>\n",
              "      <td>98.43</td>\n",
              "      <td>58.62</td>\n",
              "      <td>2.76</td>\n",
              "      <td>64.56</td>\n",
              "      <td>39.326</td>\n",
              "    </tr>\n",
              "    <tr>\n",
              "      <th>2019-12-30</th>\n",
              "      <td>14.22</td>\n",
              "      <td>0.10</td>\n",
              "      <td>98.35</td>\n",
              "      <td>66.81</td>\n",
              "      <td>2.78</td>\n",
              "      <td>75.00</td>\n",
              "      <td>35.001</td>\n",
              "    </tr>\n",
              "    <tr>\n",
              "      <th>2019-12-31</th>\n",
              "      <td>14.62</td>\n",
              "      <td>6.46</td>\n",
              "      <td>98.41</td>\n",
              "      <td>82.44</td>\n",
              "      <td>3.73</td>\n",
              "      <td>83.00</td>\n",
              "      <td>259.640</td>\n",
              "    </tr>\n",
              "  </tbody>\n",
              "</table>\n",
              "<p>1461 rows × 7 columns</p>\n",
              "</div>\n",
              "      <button class=\"colab-df-convert\" onclick=\"convertToInteractive('df-14d0f2b7-4261-486c-9282-3595df47a588')\"\n",
              "              title=\"Convert this dataframe to an interactive table.\"\n",
              "              style=\"display:none;\">\n",
              "        \n",
              "  <svg xmlns=\"http://www.w3.org/2000/svg\" height=\"24px\"viewBox=\"0 0 24 24\"\n",
              "       width=\"24px\">\n",
              "    <path d=\"M0 0h24v24H0V0z\" fill=\"none\"/>\n",
              "    <path d=\"M18.56 5.44l.94 2.06.94-2.06 2.06-.94-2.06-.94-.94-2.06-.94 2.06-2.06.94zm-11 1L8.5 8.5l.94-2.06 2.06-.94-2.06-.94L8.5 2.5l-.94 2.06-2.06.94zm10 10l.94 2.06.94-2.06 2.06-.94-2.06-.94-.94-2.06-.94 2.06-2.06.94z\"/><path d=\"M17.41 7.96l-1.37-1.37c-.4-.4-.92-.59-1.43-.59-.52 0-1.04.2-1.43.59L10.3 9.45l-7.72 7.72c-.78.78-.78 2.05 0 2.83L4 21.41c.39.39.9.59 1.41.59.51 0 1.02-.2 1.41-.59l7.78-7.78 2.81-2.81c.8-.78.8-2.07 0-2.86zM5.41 20L4 18.59l7.72-7.72 1.47 1.35L5.41 20z\"/>\n",
              "  </svg>\n",
              "      </button>\n",
              "      \n",
              "  <style>\n",
              "    .colab-df-container {\n",
              "      display:flex;\n",
              "      flex-wrap:wrap;\n",
              "      gap: 12px;\n",
              "    }\n",
              "\n",
              "    .colab-df-convert {\n",
              "      background-color: #E8F0FE;\n",
              "      border: none;\n",
              "      border-radius: 50%;\n",
              "      cursor: pointer;\n",
              "      display: none;\n",
              "      fill: #1967D2;\n",
              "      height: 32px;\n",
              "      padding: 0 0 0 0;\n",
              "      width: 32px;\n",
              "    }\n",
              "\n",
              "    .colab-df-convert:hover {\n",
              "      background-color: #E2EBFA;\n",
              "      box-shadow: 0px 1px 2px rgba(60, 64, 67, 0.3), 0px 1px 3px 1px rgba(60, 64, 67, 0.15);\n",
              "      fill: #174EA6;\n",
              "    }\n",
              "\n",
              "    [theme=dark] .colab-df-convert {\n",
              "      background-color: #3B4455;\n",
              "      fill: #D2E3FC;\n",
              "    }\n",
              "\n",
              "    [theme=dark] .colab-df-convert:hover {\n",
              "      background-color: #434B5C;\n",
              "      box-shadow: 0px 1px 3px 1px rgba(0, 0, 0, 0.15);\n",
              "      filter: drop-shadow(0px 1px 2px rgba(0, 0, 0, 0.3));\n",
              "      fill: #FFFFFF;\n",
              "    }\n",
              "  </style>\n",
              "\n",
              "      <script>\n",
              "        const buttonEl =\n",
              "          document.querySelector('#df-14d0f2b7-4261-486c-9282-3595df47a588 button.colab-df-convert');\n",
              "        buttonEl.style.display =\n",
              "          google.colab.kernel.accessAllowed ? 'block' : 'none';\n",
              "\n",
              "        async function convertToInteractive(key) {\n",
              "          const element = document.querySelector('#df-14d0f2b7-4261-486c-9282-3595df47a588');\n",
              "          const dataTable =\n",
              "            await google.colab.kernel.invokeFunction('convertToInteractive',\n",
              "                                                     [key], {});\n",
              "          if (!dataTable) return;\n",
              "\n",
              "          const docLinkHtml = 'Like what you see? Visit the ' +\n",
              "            '<a target=\"_blank\" href=https://colab.research.google.com/notebooks/data_table.ipynb>data table notebook</a>'\n",
              "            + ' to learn more about interactive tables.';\n",
              "          element.innerHTML = '';\n",
              "          dataTable['output_type'] = 'display_data';\n",
              "          await google.colab.output.renderOutput(dataTable, element);\n",
              "          const docLink = document.createElement('div');\n",
              "          docLink.innerHTML = docLinkHtml;\n",
              "          element.appendChild(docLink);\n",
              "        }\n",
              "      </script>\n",
              "    </div>\n",
              "  </div>\n",
              "  "
            ]
          },
          "metadata": {},
          "execution_count": 5
        }
      ]
    },
    {
      "cell_type": "code",
      "source": [
        "### Testing For Stationarity\n",
        "\n",
        "from statsmodels.tsa.stattools import adfuller\n",
        "test_result=adfuller(pm25['PM25'])"
      ],
      "metadata": {
        "id": "7nVhqJLZieXo"
      },
      "execution_count": null,
      "outputs": []
    },
    {
      "cell_type": "code",
      "source": [
        "#Ho: It is non stationary\n",
        "#H1: It is stationary\n",
        "\n",
        "def adfuller_test(PM25):\n",
        "    result=adfuller(PM25)\n",
        "    labels = ['ADF Test Statistic','p-value','#Lags Used','Number of Observations Used']\n",
        "    for value,label in zip(result,labels):\n",
        "        print(label+' : '+str(value) )\n",
        "    if result[1] <= 0.05:\n",
        "        print(\"strong evidence against the null hypothesis(Ho), reject the null hypothesis. Data has no unit root and is stationary\")\n",
        "    else:\n",
        "        print(\"weak evidence against null hypothesis, time series has a unit root, indicating it is non-stationary \")\n",
        "    "
      ],
      "metadata": {
        "id": "xwCy_HjjlwJQ"
      },
      "execution_count": null,
      "outputs": []
    },
    {
      "cell_type": "code",
      "source": [
        "adfuller_test(pm25['PM25'])"
      ],
      "metadata": {
        "id": "zzFhEyufl7IR",
        "outputId": "93b9940e-5135-4ebf-d422-a1960ee81412",
        "colab": {
          "base_uri": "https://localhost:8080/"
        }
      },
      "execution_count": null,
      "outputs": [
        {
          "output_type": "stream",
          "name": "stdout",
          "text": [
            "ADF Test Statistic : -3.868905638230602\n",
            "p-value : 0.0022759829045469046\n",
            "#Lags Used : 13\n",
            "Number of Observations Used : 1447\n",
            "strong evidence against the null hypothesis(Ho), reject the null hypothesis. Data has no unit root and is stationary\n"
          ]
        }
      ]
    },
    {
      "cell_type": "code",
      "source": [
        "#creating Train test split\n",
        "train=daily[:int(0.8*(len(daily)))]\n",
        "print('Train shape', train.shape)\n",
        "\n",
        "valid=daily[int(0.8*(len(daily))):]\n",
        "print('Test shape', valid.shape)"
      ],
      "metadata": {
        "colab": {
          "base_uri": "https://localhost:8080/"
        },
        "id": "5Bn6FOulv4uk",
        "outputId": "3a6dbfaa-c8c9-4c2b-ae5d-3fa0a7bfc85c"
      },
      "execution_count": null,
      "outputs": [
        {
          "output_type": "stream",
          "name": "stdout",
          "text": [
            "Train shape (1168, 7)\n",
            "Test shape (293, 7)\n"
          ]
        }
      ]
    },
    {
      "cell_type": "code",
      "source": [
        "from statsmodels.tsa.arima_model import ARIMA\n",
        "model = ARIMA(daily.PM25,  order=(1,1,1)) \n",
        "model_fit=model.fit()\n",
        "model_fit.summary()"
      ],
      "metadata": {
        "colab": {
          "base_uri": "https://localhost:8080/",
          "height": 340
        },
        "id": "jF22NoV2oXWz",
        "outputId": "8062b524-16f7-49de-fa57-b50c0c92be42"
      },
      "execution_count": null,
      "outputs": [
        {
          "output_type": "execute_result",
          "data": {
            "text/plain": [
              "<class 'statsmodels.iolib.summary.Summary'>\n",
              "\"\"\"\n",
              "                             ARIMA Model Results                              \n",
              "==============================================================================\n",
              "Dep. Variable:                 D.PM25   No. Observations:                 1460\n",
              "Model:                 ARIMA(1, 1, 1)   Log Likelihood               -6997.625\n",
              "Method:                       css-mle   S.D. of innovations             29.178\n",
              "Date:                Thu, 12 May 2022   AIC                          14003.250\n",
              "Time:                        05:07:49   BIC                          14024.394\n",
              "Sample:                             1   HQIC                         14011.137\n",
              "                                                                              \n",
              "================================================================================\n",
              "                   coef    std err          z      P>|z|      [0.025      0.975]\n",
              "--------------------------------------------------------------------------------\n",
              "const           -0.0034      0.082     -0.042      0.966      -0.163       0.156\n",
              "ar.L1.D.PM25     0.0854      0.030      2.840      0.005       0.026       0.144\n",
              "ma.L1.D.PM25    -0.9030      0.013    -69.485      0.000      -0.928      -0.877\n",
              "                                    Roots                                    \n",
              "=============================================================================\n",
              "                  Real          Imaginary           Modulus         Frequency\n",
              "-----------------------------------------------------------------------------\n",
              "AR.1           11.7032           +0.0000j           11.7032            0.0000\n",
              "MA.1            1.1075           +0.0000j            1.1075            0.0000\n",
              "-----------------------------------------------------------------------------\n",
              "\"\"\""
            ],
            "text/html": [
              "<table class=\"simpletable\">\n",
              "<caption>ARIMA Model Results</caption>\n",
              "<tr>\n",
              "  <th>Dep. Variable:</th>      <td>D.PM25</td>      <th>  No. Observations:  </th>   <td>1460</td>   \n",
              "</tr>\n",
              "<tr>\n",
              "  <th>Model:</th>          <td>ARIMA(1, 1, 1)</td>  <th>  Log Likelihood     </th> <td>-6997.625</td>\n",
              "</tr>\n",
              "<tr>\n",
              "  <th>Method:</th>             <td>css-mle</td>     <th>  S.D. of innovations</th>  <td>29.178</td>  \n",
              "</tr>\n",
              "<tr>\n",
              "  <th>Date:</th>          <td>Thu, 12 May 2022</td> <th>  AIC                </th> <td>14003.250</td>\n",
              "</tr>\n",
              "<tr>\n",
              "  <th>Time:</th>              <td>05:07:49</td>     <th>  BIC                </th> <td>14024.394</td>\n",
              "</tr>\n",
              "<tr>\n",
              "  <th>Sample:</th>                <td>1</td>        <th>  HQIC               </th> <td>14011.137</td>\n",
              "</tr>\n",
              "<tr>\n",
              "  <th></th>                       <td> </td>        <th>                     </th>     <td> </td>    \n",
              "</tr>\n",
              "</table>\n",
              "<table class=\"simpletable\">\n",
              "<tr>\n",
              "        <td></td>          <th>coef</th>     <th>std err</th>      <th>z</th>      <th>P>|z|</th>  <th>[0.025</th>    <th>0.975]</th>  \n",
              "</tr>\n",
              "<tr>\n",
              "  <th>const</th>        <td>   -0.0034</td> <td>    0.082</td> <td>   -0.042</td> <td> 0.966</td> <td>   -0.163</td> <td>    0.156</td>\n",
              "</tr>\n",
              "<tr>\n",
              "  <th>ar.L1.D.PM25</th> <td>    0.0854</td> <td>    0.030</td> <td>    2.840</td> <td> 0.005</td> <td>    0.026</td> <td>    0.144</td>\n",
              "</tr>\n",
              "<tr>\n",
              "  <th>ma.L1.D.PM25</th> <td>   -0.9030</td> <td>    0.013</td> <td>  -69.485</td> <td> 0.000</td> <td>   -0.928</td> <td>   -0.877</td>\n",
              "</tr>\n",
              "</table>\n",
              "<table class=\"simpletable\">\n",
              "<caption>Roots</caption>\n",
              "<tr>\n",
              "    <td></td>   <th>            Real</th>  <th>         Imaginary</th> <th>         Modulus</th>  <th>        Frequency</th>\n",
              "</tr>\n",
              "<tr>\n",
              "  <th>AR.1</th> <td>          11.7032</td> <td>          +0.0000j</td> <td>          11.7032</td> <td>           0.0000</td>\n",
              "</tr>\n",
              "<tr>\n",
              "  <th>MA.1</th> <td>           1.1075</td> <td>          +0.0000j</td> <td>           1.1075</td> <td>           0.0000</td>\n",
              "</tr>\n",
              "</table>"
            ]
          },
          "metadata": {},
          "execution_count": 8
        }
      ]
    },
    {
      "cell_type": "code",
      "source": [
        "pip install pmdarima"
      ],
      "metadata": {
        "colab": {
          "base_uri": "https://localhost:8080/",
          "height": 593
        },
        "id": "foOn5e5mrNwz",
        "outputId": "2024df02-55cd-4f16-de98-047b0227d4fc"
      },
      "execution_count": null,
      "outputs": [
        {
          "output_type": "stream",
          "name": "stdout",
          "text": [
            "Collecting pmdarima\n",
            "  Downloading pmdarima-1.8.5-cp37-cp37m-manylinux_2_17_x86_64.manylinux2014_x86_64.manylinux_2_24_x86_64.whl (1.4 MB)\n",
            "\u001b[K     |████████████████████████████████| 1.4 MB 5.1 MB/s \n",
            "\u001b[?25hRequirement already satisfied: urllib3 in /usr/local/lib/python3.7/dist-packages (from pmdarima) (1.24.3)\n",
            "Requirement already satisfied: Cython!=0.29.18,>=0.29 in /usr/local/lib/python3.7/dist-packages (from pmdarima) (0.29.28)\n",
            "Collecting statsmodels!=0.12.0,>=0.11\n",
            "  Downloading statsmodels-0.13.2-cp37-cp37m-manylinux_2_17_x86_64.manylinux2014_x86_64.whl (9.8 MB)\n",
            "\u001b[K     |████████████████████████████████| 9.8 MB 37.0 MB/s \n",
            "\u001b[?25hRequirement already satisfied: numpy>=1.19.3 in /usr/local/lib/python3.7/dist-packages (from pmdarima) (1.21.6)\n",
            "Requirement already satisfied: scipy>=1.3.2 in /usr/local/lib/python3.7/dist-packages (from pmdarima) (1.4.1)\n",
            "Requirement already satisfied: pandas>=0.19 in /usr/local/lib/python3.7/dist-packages (from pmdarima) (1.3.5)\n",
            "Requirement already satisfied: scikit-learn>=0.22 in /usr/local/lib/python3.7/dist-packages (from pmdarima) (1.0.2)\n",
            "Requirement already satisfied: setuptools!=50.0.0,>=38.6.0 in /usr/local/lib/python3.7/dist-packages (from pmdarima) (57.4.0)\n",
            "Requirement already satisfied: joblib>=0.11 in /usr/local/lib/python3.7/dist-packages (from pmdarima) (1.1.0)\n",
            "Requirement already satisfied: python-dateutil>=2.7.3 in /usr/local/lib/python3.7/dist-packages (from pandas>=0.19->pmdarima) (2.8.2)\n",
            "Requirement already satisfied: pytz>=2017.3 in /usr/local/lib/python3.7/dist-packages (from pandas>=0.19->pmdarima) (2022.1)\n",
            "Requirement already satisfied: six>=1.5 in /usr/local/lib/python3.7/dist-packages (from python-dateutil>=2.7.3->pandas>=0.19->pmdarima) (1.15.0)\n",
            "Requirement already satisfied: threadpoolctl>=2.0.0 in /usr/local/lib/python3.7/dist-packages (from scikit-learn>=0.22->pmdarima) (3.1.0)\n",
            "Requirement already satisfied: packaging>=21.3 in /usr/local/lib/python3.7/dist-packages (from statsmodels!=0.12.0,>=0.11->pmdarima) (21.3)\n",
            "Requirement already satisfied: patsy>=0.5.2 in /usr/local/lib/python3.7/dist-packages (from statsmodels!=0.12.0,>=0.11->pmdarima) (0.5.2)\n",
            "Requirement already satisfied: pyparsing!=3.0.5,>=2.0.2 in /usr/local/lib/python3.7/dist-packages (from packaging>=21.3->statsmodels!=0.12.0,>=0.11->pmdarima) (3.0.8)\n",
            "Installing collected packages: statsmodels, pmdarima\n",
            "  Attempting uninstall: statsmodels\n",
            "    Found existing installation: statsmodels 0.10.2\n",
            "    Uninstalling statsmodels-0.10.2:\n",
            "      Successfully uninstalled statsmodels-0.10.2\n",
            "Successfully installed pmdarima-1.8.5 statsmodels-0.13.2\n"
          ]
        },
        {
          "output_type": "display_data",
          "data": {
            "application/vnd.colab-display-data+json": {
              "pip_warning": {
                "packages": [
                  "statsmodels"
                ]
              }
            }
          },
          "metadata": {}
        }
      ]
    },
    {
      "cell_type": "code",
      "source": [
        "\n",
        "\n",
        "# Import the library:\n",
        "from pmdarima import auto_arima\n",
        "\n",
        "stepwise_fit = auto_arima(daily.PM25, trace = True, suppress_warnings = True, seasonal = False)\n",
        "\n",
        "stepwise_fit.summary()\n",
        "\n"
      ],
      "metadata": {
        "colab": {
          "base_uri": "https://localhost:8080/",
          "height": 942
        },
        "id": "daoSWCOcqhxr",
        "outputId": "94bd3e97-c593-43d0-b87e-3027b0798f34"
      },
      "execution_count": null,
      "outputs": [
        {
          "output_type": "stream",
          "name": "stdout",
          "text": [
            "Performing stepwise search to minimize aic\n",
            " ARIMA(2,0,2)(0,0,0)[0]             : AIC=14014.132, Time=2.83 sec\n",
            " ARIMA(0,0,0)(0,0,0)[0]             : AIC=16025.287, Time=0.09 sec\n",
            " ARIMA(1,0,0)(0,0,0)[0]             : AIC=14586.803, Time=0.07 sec\n",
            " ARIMA(0,0,1)(0,0,0)[0]             : AIC=15339.986, Time=0.34 sec\n",
            " ARIMA(1,0,2)(0,0,0)[0]             : AIC=14013.658, Time=1.48 sec\n",
            " ARIMA(0,0,2)(0,0,0)[0]             : AIC=15008.399, Time=0.55 sec\n",
            " ARIMA(1,0,1)(0,0,0)[0]             : AIC=14018.904, Time=0.54 sec\n",
            " ARIMA(1,0,3)(0,0,0)[0]             : AIC=14015.249, Time=0.75 sec\n",
            " ARIMA(0,0,3)(0,0,0)[0]             : AIC=14844.052, Time=0.76 sec\n",
            " ARIMA(2,0,1)(0,0,0)[0]             : AIC=14013.145, Time=0.96 sec\n",
            " ARIMA(2,0,0)(0,0,0)[0]             : AIC=14330.695, Time=0.26 sec\n",
            " ARIMA(3,0,1)(0,0,0)[0]             : AIC=14014.056, Time=1.46 sec\n",
            " ARIMA(3,0,0)(0,0,0)[0]             : AIC=14230.466, Time=0.41 sec\n",
            " ARIMA(3,0,2)(0,0,0)[0]             : AIC=14015.721, Time=2.24 sec\n",
            " ARIMA(2,0,1)(0,0,0)[0] intercept   : AIC=14005.281, Time=5.18 sec\n",
            " ARIMA(1,0,1)(0,0,0)[0] intercept   : AIC=14009.800, Time=2.50 sec\n",
            " ARIMA(2,0,0)(0,0,0)[0] intercept   : AIC=14163.046, Time=1.07 sec\n",
            " ARIMA(3,0,1)(0,0,0)[0] intercept   : AIC=14006.482, Time=5.92 sec\n",
            " ARIMA(2,0,2)(0,0,0)[0] intercept   : AIC=inf, Time=5.41 sec\n",
            " ARIMA(1,0,0)(0,0,0)[0] intercept   : AIC=14253.838, Time=0.23 sec\n",
            " ARIMA(1,0,2)(0,0,0)[0] intercept   : AIC=14005.667, Time=3.32 sec\n",
            " ARIMA(3,0,0)(0,0,0)[0] intercept   : AIC=14122.527, Time=0.66 sec\n",
            " ARIMA(3,0,2)(0,0,0)[0] intercept   : AIC=inf, Time=7.23 sec\n",
            "\n",
            "Best model:  ARIMA(2,0,1)(0,0,0)[0] intercept\n",
            "Total fit time: 44.361 seconds\n"
          ]
        },
        {
          "output_type": "execute_result",
          "data": {
            "text/plain": [
              "<class 'statsmodels.iolib.summary.Summary'>\n",
              "\"\"\"\n",
              "                           Statespace Model Results                           \n",
              "==============================================================================\n",
              "Dep. Variable:                      y   No. Observations:                 1461\n",
              "Model:               SARIMAX(2, 0, 1)   Log Likelihood               -6997.641\n",
              "Date:                Thu, 12 May 2022   AIC                          14005.281\n",
              "Time:                        05:11:40   BIC                          14031.715\n",
              "Sample:                             0   HQIC                         14015.142\n",
              "                               - 1461                                         \n",
              "Covariance Type:                  opg                                         \n",
              "==============================================================================\n",
              "                 coef    std err          z      P>|z|      [0.025      0.975]\n",
              "------------------------------------------------------------------------------\n",
              "intercept      0.5983      0.653      0.916      0.360      -0.682       1.879\n",
              "ar.L1          1.0652      0.022     48.606      0.000       1.022       1.108\n",
              "ar.L2         -0.0777      0.014     -5.514      0.000      -0.105      -0.050\n",
              "ma.L1         -0.8895      0.020    -44.206      0.000      -0.929      -0.850\n",
              "sigma2       846.1046      3.568    237.146      0.000     839.112     853.098\n",
              "===================================================================================\n",
              "Ljung-Box (Q):                       22.39   Jarque-Bera (JB):          36779235.58\n",
              "Prob(Q):                              0.99   Prob(JB):                         0.00\n",
              "Heteroskedasticity (H):               7.40   Skew:                            24.28\n",
              "Prob(H) (two-sided):                  0.00   Kurtosis:                       778.77\n",
              "===================================================================================\n",
              "\n",
              "Warnings:\n",
              "[1] Covariance matrix calculated using the outer product of gradients (complex-step).\n",
              "\"\"\""
            ],
            "text/html": [
              "<table class=\"simpletable\">\n",
              "<caption>Statespace Model Results</caption>\n",
              "<tr>\n",
              "  <th>Dep. Variable:</th>           <td>y</td>        <th>  No. Observations:  </th>   <td>1461</td>   \n",
              "</tr>\n",
              "<tr>\n",
              "  <th>Model:</th>           <td>SARIMAX(2, 0, 1)</td> <th>  Log Likelihood     </th> <td>-6997.641</td>\n",
              "</tr>\n",
              "<tr>\n",
              "  <th>Date:</th>            <td>Thu, 12 May 2022</td> <th>  AIC                </th> <td>14005.281</td>\n",
              "</tr>\n",
              "<tr>\n",
              "  <th>Time:</th>                <td>05:11:40</td>     <th>  BIC                </th> <td>14031.715</td>\n",
              "</tr>\n",
              "<tr>\n",
              "  <th>Sample:</th>                  <td>0</td>        <th>  HQIC               </th> <td>14015.142</td>\n",
              "</tr>\n",
              "<tr>\n",
              "  <th></th>                      <td> - 1461</td>     <th>                     </th>     <td> </td>    \n",
              "</tr>\n",
              "<tr>\n",
              "  <th>Covariance Type:</th>        <td>opg</td>       <th>                     </th>     <td> </td>    \n",
              "</tr>\n",
              "</table>\n",
              "<table class=\"simpletable\">\n",
              "<tr>\n",
              "      <td></td>         <th>coef</th>     <th>std err</th>      <th>z</th>      <th>P>|z|</th>  <th>[0.025</th>    <th>0.975]</th>  \n",
              "</tr>\n",
              "<tr>\n",
              "  <th>intercept</th> <td>    0.5983</td> <td>    0.653</td> <td>    0.916</td> <td> 0.360</td> <td>   -0.682</td> <td>    1.879</td>\n",
              "</tr>\n",
              "<tr>\n",
              "  <th>ar.L1</th>     <td>    1.0652</td> <td>    0.022</td> <td>   48.606</td> <td> 0.000</td> <td>    1.022</td> <td>    1.108</td>\n",
              "</tr>\n",
              "<tr>\n",
              "  <th>ar.L2</th>     <td>   -0.0777</td> <td>    0.014</td> <td>   -5.514</td> <td> 0.000</td> <td>   -0.105</td> <td>   -0.050</td>\n",
              "</tr>\n",
              "<tr>\n",
              "  <th>ma.L1</th>     <td>   -0.8895</td> <td>    0.020</td> <td>  -44.206</td> <td> 0.000</td> <td>   -0.929</td> <td>   -0.850</td>\n",
              "</tr>\n",
              "<tr>\n",
              "  <th>sigma2</th>    <td>  846.1046</td> <td>    3.568</td> <td>  237.146</td> <td> 0.000</td> <td>  839.112</td> <td>  853.098</td>\n",
              "</tr>\n",
              "</table>\n",
              "<table class=\"simpletable\">\n",
              "<tr>\n",
              "  <th>Ljung-Box (Q):</th>          <td>22.39</td> <th>  Jarque-Bera (JB):  </th> <td>36779235.58</td>\n",
              "</tr>\n",
              "<tr>\n",
              "  <th>Prob(Q):</th>                <td>0.99</td>  <th>  Prob(JB):          </th>    <td>0.00</td>    \n",
              "</tr>\n",
              "<tr>\n",
              "  <th>Heteroskedasticity (H):</th> <td>7.40</td>  <th>  Skew:              </th>    <td>24.28</td>   \n",
              "</tr>\n",
              "<tr>\n",
              "  <th>Prob(H) (two-sided):</th>    <td>0.00</td>  <th>  Kurtosis:          </th>   <td>778.77</td>   \n",
              "</tr>\n",
              "</table><br/><br/>Warnings:<br/>[1] Covariance matrix calculated using the outer product of gradients (complex-step)."
            ]
          },
          "metadata": {},
          "execution_count": 12
        }
      ]
    },
    {
      "cell_type": "code",
      "source": [
        "\n",
        "\n",
        "mod_week = sm.tsa.statespace.SARIMAX(train.PM25,\n",
        "                                order=(2, 0, 1),\n",
        "                                seasonal_order=(2, 0, 1, 365),\n",
        "                                enforce_stationarity=True,\n",
        "                                enforce_invertibility=False)\n",
        "result_week = mod_week.fit()\n",
        "result_week.summary()\n",
        "\n"
      ],
      "metadata": {
        "id": "cEbECacorCYa"
      },
      "execution_count": null,
      "outputs": []
    },
    {
      "cell_type": "code",
      "source": [
        "# Defining Function for Accuracy metrics\n",
        "def forecast_accuracy(forecast, actual):\n",
        "    from sklearn.metrics import mean_squared_error, mean_absolute_error\n",
        "    mape = np.mean(np.abs((actual - forecast)/actual))*100  # MAPE\n",
        "    rmse = np.sqrt(mean_squared_error(actual,forecast))  # RMSE\n",
        "    return({'mape':mape, 'rmse':rmse})"
      ],
      "metadata": {
        "id": "cbOJxg3Y2aoR"
      },
      "execution_count": null,
      "outputs": []
    },
    {
      "cell_type": "code",
      "source": [
        "# Calculate Accuracy Metrics\n",
        "pred_uc_week = result_week.get_forecast(steps=100)\n",
        "forecast_accuracy(pred_uc_week.predicted_mean[:len(valid.PM25)], valid.PM25)"
      ],
      "metadata": {
        "id": "C4-bw52AxugU"
      },
      "execution_count": null,
      "outputs": []
    },
    {
      "cell_type": "code",
      "source": [
        " x=pm25.iloc[:,:-1]\n",
        "y=pm25.iloc[:,-1]"
      ],
      "metadata": {
        "id": "TdsCIr4nr22e"
      },
      "execution_count": null,
      "outputs": []
    },
    {
      "cell_type": "markdown",
      "source": [
        "###multivariate analysis"
      ],
      "metadata": {
        "id": "_FUCPIdVxga1"
      }
    },
    {
      "cell_type": "code",
      "source": [
        "from statsmodels.tsa.vector_ar.var_model import VAR\n",
        "\n",
        "# Fitting the VAR model\n",
        "VAR_model_week=VAR(endog=train)\n",
        "VAR_model_week_fit=VAR_model_week.fit()\n",
        "\n",
        "# Predicting on Validation set\n",
        "predict_week=VAR_model_week_fit.forecast(VAR_model_week_fit.y,steps=len(valid))\n",
        "\n",
        "pred_week=pd.DataFrame(predict_week,columns=df.columns,index=range(0,len(predict_week)))"
      ],
      "metadata": {
        "id": "dN8br6w8xQv-"
      },
      "execution_count": null,
      "outputs": []
    },
    {
      "cell_type": "code",
      "source": [
        ""
      ],
      "metadata": {
        "id": "CF5REjz_xbvj"
      },
      "execution_count": null,
      "outputs": []
    },
    {
      "cell_type": "code",
      "source": [
        "!python --version"
      ],
      "metadata": {
        "colab": {
          "base_uri": "https://localhost:8080/"
        },
        "id": "ACo9aoj2yX7F",
        "outputId": "134a4515-963e-4061-e1fb-45bba8bc16c2"
      },
      "execution_count": null,
      "outputs": [
        {
          "output_type": "stream",
          "name": "stdout",
          "text": [
            "Python 3.7.13\n"
          ]
        }
      ]
    },
    {
      "cell_type": "code",
      "source": [
        ""
      ],
      "metadata": {
        "id": "QQfzQQ--yeuD"
      },
      "execution_count": null,
      "outputs": []
    }
  ]
}